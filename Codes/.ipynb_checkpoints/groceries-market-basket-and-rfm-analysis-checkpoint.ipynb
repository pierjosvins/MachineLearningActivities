{
 "cells": [
  {
   "cell_type": "markdown",
   "metadata": {
    "papermill": {
     "duration": 0.052321,
     "end_time": "2022-02-17T21:27:08.930769",
     "exception": false,
     "start_time": "2022-02-17T21:27:08.878448",
     "status": "completed"
    },
    "tags": []
   },
   "source": [
    "# <center> Groceries Market Basket and RFM Analysis"
   ]
  },
  {
   "cell_type": "code",
   "execution_count": 1,
   "metadata": {
    "_cell_guid": "b1076dfc-b9ad-4769-8c92-a6c4dae69d19",
    "_kg_hide-input": true,
    "_kg_hide-output": true,
    "_uuid": "8f2839f25d086af736a60e9eeb907d3b93b6e0e5",
    "execution": {
     "iopub.execute_input": "2022-02-17T21:27:09.044187Z",
     "iopub.status.busy": "2022-02-17T21:27:09.037874Z",
     "iopub.status.idle": "2022-02-17T21:27:24.571508Z",
     "shell.execute_reply": "2022-02-17T21:27:24.572077Z",
     "shell.execute_reply.started": "2022-02-17T21:23:52.12568Z"
    },
    "papermill": {
     "duration": 15.592776,
     "end_time": "2022-02-17T21:27:24.572457",
     "exception": false,
     "start_time": "2022-02-17T21:27:08.979681",
     "status": "completed"
    },
    "tags": []
   },
   "outputs": [
    {
     "name": "stdout",
     "output_type": "stream",
     "text": [
      "/kaggle/input/groceries-dataset/Groceries_dataset.csv\n",
      "Collecting apriori\r\n",
      "  Downloading apriori-1.0.0.tar.gz (1.8 kB)\r\n",
      "Building wheels for collected packages: apriori\r\n",
      "  Building wheel for apriori (setup.py) ... \u001b[?25l-\b \b\\\b \bdone\r\n",
      "\u001b[?25h  Created wheel for apriori: filename=apriori-1.0.0-py3-none-any.whl size=2477 sha256=c1919a890427a27523e991b1ace69d37e0f43456a661602481b103ea86377641\r\n",
      "  Stored in directory: /root/.cache/pip/wheels/07/e9/8c/7b459f4d6c59bf4227af9985c66c66623b6cfe81e6327002c5\r\n",
      "Successfully built apriori\r\n",
      "Installing collected packages: apriori\r\n",
      "Successfully installed apriori-1.0.0\r\n",
      "\u001b[33mWARNING: Running pip as the 'root' user can result in broken permissions and conflicting behaviour with the system package manager. It is recommended to use a virtual environment instead: https://pip.pypa.io/warnings/venv\u001b[0m\r\n"
     ]
    }
   ],
   "source": [
    "import os\n",
    "import plotly.express as px\n",
    "import numpy as np\n",
    "import pandas as pd\n",
    "import plotly.graph_objects as go\n",
    "import matplotlib.pyplot as plt\n",
    "import seaborn as sns\n",
    "import operator as op\n",
    "from mlxtend.frequent_patterns import apriori\n",
    "from mlxtend.frequent_patterns import association_rules\n",
    "\n",
    "for dirname, _, filenames in os.walk('/kaggle/input'):\n",
    "    for filename in filenames:\n",
    "        print(os.path.join(dirname, filename))\n",
    "!pip install apriori"
   ]
  },
  {
   "cell_type": "markdown",
   "metadata": {
    "papermill": {
     "duration": 0.050652,
     "end_time": "2022-02-17T21:27:24.673396",
     "exception": false,
     "start_time": "2022-02-17T21:27:24.622744",
     "status": "completed"
    },
    "tags": []
   },
   "source": [
    "# Dataset Exploration"
   ]
  },
  {
   "cell_type": "code",
   "execution_count": 2,
   "metadata": {
    "execution": {
     "iopub.execute_input": "2022-02-17T21:27:24.779574Z",
     "iopub.status.busy": "2022-02-17T21:27:24.778816Z",
     "iopub.status.idle": "2022-02-17T21:27:24.854334Z",
     "shell.execute_reply": "2022-02-17T21:27:24.853778Z",
     "shell.execute_reply.started": "2022-02-17T21:24:07.418807Z"
    },
    "papermill": {
     "duration": 0.13102,
     "end_time": "2022-02-17T21:27:24.854495",
     "exception": false,
     "start_time": "2022-02-17T21:27:24.723475",
     "status": "completed"
    },
    "tags": []
   },
   "outputs": [
    {
     "data": {
      "text/html": [
       "<div>\n",
       "<style scoped>\n",
       "    .dataframe tbody tr th:only-of-type {\n",
       "        vertical-align: middle;\n",
       "    }\n",
       "\n",
       "    .dataframe tbody tr th {\n",
       "        vertical-align: top;\n",
       "    }\n",
       "\n",
       "    .dataframe thead th {\n",
       "        text-align: right;\n",
       "    }\n",
       "</style>\n",
       "<table border=\"1\" class=\"dataframe\">\n",
       "  <thead>\n",
       "    <tr style=\"text-align: right;\">\n",
       "      <th></th>\n",
       "      <th>Member_number</th>\n",
       "      <th>Date</th>\n",
       "      <th>itemDescription</th>\n",
       "    </tr>\n",
       "  </thead>\n",
       "  <tbody>\n",
       "    <tr>\n",
       "      <th>0</th>\n",
       "      <td>1808</td>\n",
       "      <td>21-07-2015</td>\n",
       "      <td>tropical fruit</td>\n",
       "    </tr>\n",
       "    <tr>\n",
       "      <th>1</th>\n",
       "      <td>2552</td>\n",
       "      <td>05-01-2015</td>\n",
       "      <td>whole milk</td>\n",
       "    </tr>\n",
       "    <tr>\n",
       "      <th>2</th>\n",
       "      <td>2300</td>\n",
       "      <td>19-09-2015</td>\n",
       "      <td>pip fruit</td>\n",
       "    </tr>\n",
       "    <tr>\n",
       "      <th>3</th>\n",
       "      <td>1187</td>\n",
       "      <td>12-12-2015</td>\n",
       "      <td>other vegetables</td>\n",
       "    </tr>\n",
       "    <tr>\n",
       "      <th>4</th>\n",
       "      <td>3037</td>\n",
       "      <td>01-02-2015</td>\n",
       "      <td>whole milk</td>\n",
       "    </tr>\n",
       "  </tbody>\n",
       "</table>\n",
       "</div>"
      ],
      "text/plain": [
       "   Member_number        Date   itemDescription\n",
       "0           1808  21-07-2015    tropical fruit\n",
       "1           2552  05-01-2015        whole milk\n",
       "2           2300  19-09-2015         pip fruit\n",
       "3           1187  12-12-2015  other vegetables\n",
       "4           3037  01-02-2015        whole milk"
      ]
     },
     "execution_count": 2,
     "metadata": {},
     "output_type": "execute_result"
    }
   ],
   "source": [
    "# Loading dataset\n",
    "data = pd.read_csv('../input/groceries-dataset/Groceries_dataset.csv')\n",
    "data.head()"
   ]
  },
  {
   "cell_type": "markdown",
   "metadata": {
    "papermill": {
     "duration": 0.050338,
     "end_time": "2022-02-17T21:27:24.955407",
     "exception": false,
     "start_time": "2022-02-17T21:27:24.905069",
     "status": "completed"
    },
    "tags": []
   },
   "source": [
    "**As you can see from the first 5 rows of the dataset, we have 3 different columns: Member_number is a number that is unique for each customer. Date represents the date of the transaction, and finally itemDescription represents the corresponding product bought for this date.**"
   ]
  },
  {
   "cell_type": "code",
   "execution_count": 3,
   "metadata": {
    "execution": {
     "iopub.execute_input": "2022-02-17T21:27:25.137458Z",
     "iopub.status.busy": "2022-02-17T21:27:25.136368Z",
     "iopub.status.idle": "2022-02-17T21:27:25.160268Z",
     "shell.execute_reply": "2022-02-17T21:27:25.159340Z",
     "shell.execute_reply.started": "2022-02-17T21:24:07.517277Z"
    },
    "papermill": {
     "duration": 0.154897,
     "end_time": "2022-02-17T21:27:25.160476",
     "exception": false,
     "start_time": "2022-02-17T21:27:25.005579",
     "status": "completed"
    },
    "tags": []
   },
   "outputs": [
    {
     "name": "stdout",
     "output_type": "stream",
     "text": [
      "<class 'pandas.core.frame.DataFrame'>\n",
      "RangeIndex: 38765 entries, 0 to 38764\n",
      "Data columns (total 3 columns):\n",
      " #   Column           Non-Null Count  Dtype \n",
      "---  ------           --------------  ----- \n",
      " 0   Member_number    38765 non-null  int64 \n",
      " 1   Date             38765 non-null  object\n",
      " 2   itemDescription  38765 non-null  object\n",
      "dtypes: int64(1), object(2)\n",
      "memory usage: 908.7+ KB\n"
     ]
    }
   ],
   "source": [
    "# To check the data types of the columns, I use info() function. According to result below, Member_number and Date columns are not in correct datatype.\n",
    "#For the following steps, I will change them into correct form.\n",
    "data.info()"
   ]
  },
  {
   "cell_type": "code",
   "execution_count": 4,
   "metadata": {
    "execution": {
     "iopub.execute_input": "2022-02-17T21:27:25.274194Z",
     "iopub.status.busy": "2022-02-17T21:27:25.273165Z",
     "iopub.status.idle": "2022-02-17T21:27:25.277508Z",
     "shell.execute_reply": "2022-02-17T21:27:25.278035Z",
     "shell.execute_reply.started": "2022-02-17T21:24:07.554231Z"
    },
    "papermill": {
     "duration": 0.06605,
     "end_time": "2022-02-17T21:27:25.278237",
     "exception": false,
     "start_time": "2022-02-17T21:27:25.212187",
     "status": "completed"
    },
    "tags": []
   },
   "outputs": [
    {
     "data": {
      "text/html": [
       "<div>\n",
       "<style scoped>\n",
       "    .dataframe tbody tr th:only-of-type {\n",
       "        vertical-align: middle;\n",
       "    }\n",
       "\n",
       "    .dataframe tbody tr th {\n",
       "        vertical-align: top;\n",
       "    }\n",
       "\n",
       "    .dataframe thead th {\n",
       "        text-align: right;\n",
       "    }\n",
       "</style>\n",
       "<table border=\"1\" class=\"dataframe\">\n",
       "  <thead>\n",
       "    <tr style=\"text-align: right;\">\n",
       "      <th></th>\n",
       "      <th>memberID</th>\n",
       "      <th>Date</th>\n",
       "      <th>itemName</th>\n",
       "    </tr>\n",
       "  </thead>\n",
       "  <tbody>\n",
       "    <tr>\n",
       "      <th>0</th>\n",
       "      <td>1808</td>\n",
       "      <td>21-07-2015</td>\n",
       "      <td>tropical fruit</td>\n",
       "    </tr>\n",
       "    <tr>\n",
       "      <th>1</th>\n",
       "      <td>2552</td>\n",
       "      <td>05-01-2015</td>\n",
       "      <td>whole milk</td>\n",
       "    </tr>\n",
       "    <tr>\n",
       "      <th>2</th>\n",
       "      <td>2300</td>\n",
       "      <td>19-09-2015</td>\n",
       "      <td>pip fruit</td>\n",
       "    </tr>\n",
       "    <tr>\n",
       "      <th>3</th>\n",
       "      <td>1187</td>\n",
       "      <td>12-12-2015</td>\n",
       "      <td>other vegetables</td>\n",
       "    </tr>\n",
       "    <tr>\n",
       "      <th>4</th>\n",
       "      <td>3037</td>\n",
       "      <td>01-02-2015</td>\n",
       "      <td>whole milk</td>\n",
       "    </tr>\n",
       "  </tbody>\n",
       "</table>\n",
       "</div>"
      ],
      "text/plain": [
       "   memberID        Date          itemName\n",
       "0      1808  21-07-2015    tropical fruit\n",
       "1      2552  05-01-2015        whole milk\n",
       "2      2300  19-09-2015         pip fruit\n",
       "3      1187  12-12-2015  other vegetables\n",
       "4      3037  01-02-2015        whole milk"
      ]
     },
     "execution_count": 4,
     "metadata": {},
     "output_type": "execute_result"
    }
   ],
   "source": [
    "# Renaming the columns, because it would be easier to understand what that means.\n",
    "data.columns = ['memberID', 'Date', 'itemName']\n",
    "data.head()"
   ]
  },
  {
   "cell_type": "code",
   "execution_count": 5,
   "metadata": {
    "execution": {
     "iopub.execute_input": "2022-02-17T21:27:25.385190Z",
     "iopub.status.busy": "2022-02-17T21:27:25.384166Z",
     "iopub.status.idle": "2022-02-17T21:27:25.401211Z",
     "shell.execute_reply": "2022-02-17T21:27:25.401794Z",
     "shell.execute_reply.started": "2022-02-17T21:24:07.568216Z"
    },
    "papermill": {
     "duration": 0.072733,
     "end_time": "2022-02-17T21:27:25.401978",
     "exception": false,
     "start_time": "2022-02-17T21:27:25.329245",
     "status": "completed"
    },
    "tags": []
   },
   "outputs": [
    {
     "data": {
      "text/plain": [
       "memberID    0\n",
       "Date        0\n",
       "itemName    0\n",
       "dtype: int64"
      ]
     },
     "execution_count": 5,
     "metadata": {},
     "output_type": "execute_result"
    }
   ],
   "source": [
    "# Checking for the missing values\n",
    "nan_values = data.isna().sum()\n",
    "nan_values"
   ]
  },
  {
   "cell_type": "markdown",
   "metadata": {
    "papermill": {
     "duration": 0.053816,
     "end_time": "2022-02-17T21:27:25.508007",
     "exception": false,
     "start_time": "2022-02-17T21:27:25.454191",
     "status": "completed"
    },
    "tags": []
   },
   "source": [
    "**According to result above, there is no missing values for all columns.**"
   ]
  },
  {
   "cell_type": "code",
   "execution_count": 6,
   "metadata": {
    "execution": {
     "iopub.execute_input": "2022-02-17T21:27:25.623966Z",
     "iopub.status.busy": "2022-02-17T21:27:25.623217Z",
     "iopub.status.idle": "2022-02-17T21:27:25.706481Z",
     "shell.execute_reply": "2022-02-17T21:27:25.707004Z",
     "shell.execute_reply.started": "2022-02-17T21:24:07.588563Z"
    },
    "papermill": {
     "duration": 0.145015,
     "end_time": "2022-02-17T21:27:25.707259",
     "exception": false,
     "start_time": "2022-02-17T21:27:25.562244",
     "status": "completed"
    },
    "tags": []
   },
   "outputs": [
    {
     "name": "stdout",
     "output_type": "stream",
     "text": [
      "<class 'pandas.core.frame.DataFrame'>\n",
      "RangeIndex: 38765 entries, 0 to 38764\n",
      "Data columns (total 3 columns):\n",
      " #   Column    Non-Null Count  Dtype         \n",
      "---  ------    --------------  -----         \n",
      " 0   memberID  38765 non-null  object        \n",
      " 1   Date      38765 non-null  datetime64[ns]\n",
      " 2   itemName  38765 non-null  object        \n",
      "dtypes: datetime64[ns](1), object(2)\n",
      "memory usage: 908.7+ KB\n"
     ]
    }
   ],
   "source": [
    "# Converting Date column into correct datatype which is datetime\n",
    "data.Date = pd.to_datetime(data.Date)\n",
    "data.memberID = data['memberID'].astype('str')\n",
    "data.info()  # They are in correct datatype now"
   ]
  },
  {
   "cell_type": "markdown",
   "metadata": {
    "papermill": {
     "duration": 0.056112,
     "end_time": "2022-02-17T21:27:25.818392",
     "exception": false,
     "start_time": "2022-02-17T21:27:25.762280",
     "status": "completed"
    },
    "tags": []
   },
   "source": [
    "# Data Visualization"
   ]
  },
  {
   "cell_type": "markdown",
   "metadata": {
    "papermill": {
     "duration": 0.052835,
     "end_time": "2022-02-17T21:27:25.924365",
     "exception": false,
     "start_time": "2022-02-17T21:27:25.871530",
     "status": "completed"
    },
    "tags": []
   },
   "source": [
    "# Number of Sales Weekly\n"
   ]
  },
  {
   "cell_type": "code",
   "execution_count": 7,
   "metadata": {
    "_kg_hide-input": true,
    "execution": {
     "iopub.execute_input": "2022-02-17T21:27:26.040882Z",
     "iopub.status.busy": "2022-02-17T21:27:26.037649Z",
     "iopub.status.idle": "2022-02-17T21:27:27.284558Z",
     "shell.execute_reply": "2022-02-17T21:27:27.285140Z",
     "shell.execute_reply.started": "2022-02-17T21:24:07.676285Z"
    },
    "papermill": {
     "duration": 1.307185,
     "end_time": "2022-02-17T21:27:27.285334",
     "exception": false,
     "start_time": "2022-02-17T21:27:25.978149",
     "status": "completed"
    },
    "tags": []
   },
   "outputs": [
    {
     "data": {
      "text/html": [
       "        <script type=\"text/javascript\">\n",
       "        window.PlotlyConfig = {MathJaxConfig: 'local'};\n",
       "        if (window.MathJax) {MathJax.Hub.Config({SVG: {font: \"STIX-Web\"}});}\n",
       "        if (typeof require !== 'undefined') {\n",
       "        require.undef(\"plotly\");\n",
       "        requirejs.config({\n",
       "            paths: {\n",
       "                'plotly': ['https://cdn.plot.ly/plotly-2.4.2.min']\n",
       "            }\n",
       "        });\n",
       "        require(['plotly'], function(Plotly) {\n",
       "            window._Plotly = Plotly;\n",
       "        });\n",
       "        }\n",
       "        </script>\n",
       "        "
      ]
     },
     "metadata": {},
     "output_type": "display_data"
    },
    {
     "data": {
      "text/html": [
       "<div>                            <div id=\"861d7a4e-34c8-4f00-b507-9ed01db487cc\" class=\"plotly-graph-div\" style=\"height:525px; width:100%;\"></div>            <script type=\"text/javascript\">                require([\"plotly\"], function(Plotly) {                    window.PLOTLYENV=window.PLOTLYENV || {};                                    if (document.getElementById(\"861d7a4e-34c8-4f00-b507-9ed01db487cc\")) {                    Plotly.newPlot(                        \"861d7a4e-34c8-4f00-b507-9ed01db487cc\",                        [{\"hovertemplate\":\"Date=%{x}<br>Number of Sales=%{y}<extra></extra>\",\"legendgroup\":\"\",\"line\":{\"color\":\"#636efa\",\"dash\":\"solid\"},\"marker\":{\"symbol\":\"circle\"},\"mode\":\"lines\",\"name\":\"\",\"orientation\":\"v\",\"showlegend\":false,\"type\":\"scatter\",\"x\":[\"2014-01-05T00:00:00\",\"2014-01-12T00:00:00\",\"2014-01-19T00:00:00\",\"2014-01-26T00:00:00\",\"2014-02-02T00:00:00\",\"2014-02-09T00:00:00\",\"2014-02-16T00:00:00\",\"2014-02-23T00:00:00\",\"2014-03-02T00:00:00\",\"2014-03-09T00:00:00\",\"2014-03-16T00:00:00\",\"2014-03-23T00:00:00\",\"2014-03-30T00:00:00\",\"2014-04-06T00:00:00\",\"2014-04-13T00:00:00\",\"2014-04-20T00:00:00\",\"2014-04-27T00:00:00\",\"2014-05-04T00:00:00\",\"2014-05-11T00:00:00\",\"2014-05-18T00:00:00\",\"2014-05-25T00:00:00\",\"2014-06-01T00:00:00\",\"2014-06-08T00:00:00\",\"2014-06-15T00:00:00\",\"2014-06-22T00:00:00\",\"2014-06-29T00:00:00\",\"2014-07-06T00:00:00\",\"2014-07-13T00:00:00\",\"2014-07-20T00:00:00\",\"2014-07-27T00:00:00\",\"2014-08-03T00:00:00\",\"2014-08-10T00:00:00\",\"2014-08-17T00:00:00\",\"2014-08-24T00:00:00\",\"2014-08-31T00:00:00\",\"2014-09-07T00:00:00\",\"2014-09-14T00:00:00\",\"2014-09-21T00:00:00\",\"2014-09-28T00:00:00\",\"2014-10-05T00:00:00\",\"2014-10-12T00:00:00\",\"2014-10-19T00:00:00\",\"2014-10-26T00:00:00\",\"2014-11-02T00:00:00\",\"2014-11-09T00:00:00\",\"2014-11-16T00:00:00\",\"2014-11-23T00:00:00\",\"2014-11-30T00:00:00\",\"2014-12-07T00:00:00\",\"2014-12-14T00:00:00\",\"2014-12-21T00:00:00\",\"2014-12-28T00:00:00\",\"2015-01-04T00:00:00\",\"2015-01-11T00:00:00\",\"2015-01-18T00:00:00\",\"2015-01-25T00:00:00\",\"2015-02-01T00:00:00\",\"2015-02-08T00:00:00\",\"2015-02-15T00:00:00\",\"2015-02-22T00:00:00\",\"2015-03-01T00:00:00\",\"2015-03-08T00:00:00\",\"2015-03-15T00:00:00\",\"2015-03-22T00:00:00\",\"2015-03-29T00:00:00\",\"2015-04-05T00:00:00\",\"2015-04-12T00:00:00\",\"2015-04-19T00:00:00\",\"2015-04-26T00:00:00\",\"2015-05-03T00:00:00\",\"2015-05-10T00:00:00\",\"2015-05-17T00:00:00\",\"2015-05-24T00:00:00\",\"2015-05-31T00:00:00\",\"2015-06-07T00:00:00\",\"2015-06-14T00:00:00\",\"2015-06-21T00:00:00\",\"2015-06-28T00:00:00\",\"2015-07-05T00:00:00\",\"2015-07-12T00:00:00\",\"2015-07-19T00:00:00\",\"2015-07-26T00:00:00\",\"2015-08-02T00:00:00\",\"2015-08-09T00:00:00\",\"2015-08-16T00:00:00\",\"2015-08-23T00:00:00\",\"2015-08-30T00:00:00\",\"2015-09-06T00:00:00\",\"2015-09-13T00:00:00\",\"2015-09-20T00:00:00\",\"2015-09-27T00:00:00\",\"2015-10-04T00:00:00\",\"2015-10-11T00:00:00\",\"2015-10-18T00:00:00\",\"2015-10-25T00:00:00\",\"2015-11-01T00:00:00\",\"2015-11-08T00:00:00\",\"2015-11-15T00:00:00\",\"2015-11-22T00:00:00\",\"2015-11-29T00:00:00\",\"2015-12-06T00:00:00\",\"2015-12-13T00:00:00\",\"2015-12-20T00:00:00\",\"2015-12-27T00:00:00\",\"2016-01-03T00:00:00\"],\"xaxis\":\"x\",\"y\":[272,311,320,331,369,441,357,362,395,379,328,289,342,359,328,374,363,316,371,341,347,438,356,355,362,346,348,407,334,371,350,353,363,317,361,311,312,312,331,251,404,355,336,389,349,378,339,334,369,346,346,365,362,354,404,444,394,383,356,336,449,410,455,351,397,350,408,382,372,456,343,405,400,365,393,424,440,421,377,337,336,401,399,494,439,479,412,371,375,339,354,434,439,360,346,363,371,442,370,475,390,356,360,341,168],\"yaxis\":\"y\"}],                        {\"legend\":{\"tracegroupgap\":0},\"margin\":{\"t\":60},\"template\":{\"data\":{\"bar\":[{\"error_x\":{\"color\":\"#2a3f5f\"},\"error_y\":{\"color\":\"#2a3f5f\"},\"marker\":{\"line\":{\"color\":\"#E5ECF6\",\"width\":0.5},\"pattern\":{\"fillmode\":\"overlay\",\"size\":10,\"solidity\":0.2}},\"type\":\"bar\"}],\"barpolar\":[{\"marker\":{\"line\":{\"color\":\"#E5ECF6\",\"width\":0.5},\"pattern\":{\"fillmode\":\"overlay\",\"size\":10,\"solidity\":0.2}},\"type\":\"barpolar\"}],\"carpet\":[{\"aaxis\":{\"endlinecolor\":\"#2a3f5f\",\"gridcolor\":\"white\",\"linecolor\":\"white\",\"minorgridcolor\":\"white\",\"startlinecolor\":\"#2a3f5f\"},\"baxis\":{\"endlinecolor\":\"#2a3f5f\",\"gridcolor\":\"white\",\"linecolor\":\"white\",\"minorgridcolor\":\"white\",\"startlinecolor\":\"#2a3f5f\"},\"type\":\"carpet\"}],\"choropleth\":[{\"colorbar\":{\"outlinewidth\":0,\"ticks\":\"\"},\"type\":\"choropleth\"}],\"contour\":[{\"colorbar\":{\"outlinewidth\":0,\"ticks\":\"\"},\"colorscale\":[[0.0,\"#0d0887\"],[0.1111111111111111,\"#46039f\"],[0.2222222222222222,\"#7201a8\"],[0.3333333333333333,\"#9c179e\"],[0.4444444444444444,\"#bd3786\"],[0.5555555555555556,\"#d8576b\"],[0.6666666666666666,\"#ed7953\"],[0.7777777777777778,\"#fb9f3a\"],[0.8888888888888888,\"#fdca26\"],[1.0,\"#f0f921\"]],\"type\":\"contour\"}],\"contourcarpet\":[{\"colorbar\":{\"outlinewidth\":0,\"ticks\":\"\"},\"type\":\"contourcarpet\"}],\"heatmap\":[{\"colorbar\":{\"outlinewidth\":0,\"ticks\":\"\"},\"colorscale\":[[0.0,\"#0d0887\"],[0.1111111111111111,\"#46039f\"],[0.2222222222222222,\"#7201a8\"],[0.3333333333333333,\"#9c179e\"],[0.4444444444444444,\"#bd3786\"],[0.5555555555555556,\"#d8576b\"],[0.6666666666666666,\"#ed7953\"],[0.7777777777777778,\"#fb9f3a\"],[0.8888888888888888,\"#fdca26\"],[1.0,\"#f0f921\"]],\"type\":\"heatmap\"}],\"heatmapgl\":[{\"colorbar\":{\"outlinewidth\":0,\"ticks\":\"\"},\"colorscale\":[[0.0,\"#0d0887\"],[0.1111111111111111,\"#46039f\"],[0.2222222222222222,\"#7201a8\"],[0.3333333333333333,\"#9c179e\"],[0.4444444444444444,\"#bd3786\"],[0.5555555555555556,\"#d8576b\"],[0.6666666666666666,\"#ed7953\"],[0.7777777777777778,\"#fb9f3a\"],[0.8888888888888888,\"#fdca26\"],[1.0,\"#f0f921\"]],\"type\":\"heatmapgl\"}],\"histogram\":[{\"marker\":{\"pattern\":{\"fillmode\":\"overlay\",\"size\":10,\"solidity\":0.2}},\"type\":\"histogram\"}],\"histogram2d\":[{\"colorbar\":{\"outlinewidth\":0,\"ticks\":\"\"},\"colorscale\":[[0.0,\"#0d0887\"],[0.1111111111111111,\"#46039f\"],[0.2222222222222222,\"#7201a8\"],[0.3333333333333333,\"#9c179e\"],[0.4444444444444444,\"#bd3786\"],[0.5555555555555556,\"#d8576b\"],[0.6666666666666666,\"#ed7953\"],[0.7777777777777778,\"#fb9f3a\"],[0.8888888888888888,\"#fdca26\"],[1.0,\"#f0f921\"]],\"type\":\"histogram2d\"}],\"histogram2dcontour\":[{\"colorbar\":{\"outlinewidth\":0,\"ticks\":\"\"},\"colorscale\":[[0.0,\"#0d0887\"],[0.1111111111111111,\"#46039f\"],[0.2222222222222222,\"#7201a8\"],[0.3333333333333333,\"#9c179e\"],[0.4444444444444444,\"#bd3786\"],[0.5555555555555556,\"#d8576b\"],[0.6666666666666666,\"#ed7953\"],[0.7777777777777778,\"#fb9f3a\"],[0.8888888888888888,\"#fdca26\"],[1.0,\"#f0f921\"]],\"type\":\"histogram2dcontour\"}],\"mesh3d\":[{\"colorbar\":{\"outlinewidth\":0,\"ticks\":\"\"},\"type\":\"mesh3d\"}],\"parcoords\":[{\"line\":{\"colorbar\":{\"outlinewidth\":0,\"ticks\":\"\"}},\"type\":\"parcoords\"}],\"pie\":[{\"automargin\":true,\"type\":\"pie\"}],\"scatter\":[{\"marker\":{\"colorbar\":{\"outlinewidth\":0,\"ticks\":\"\"}},\"type\":\"scatter\"}],\"scatter3d\":[{\"line\":{\"colorbar\":{\"outlinewidth\":0,\"ticks\":\"\"}},\"marker\":{\"colorbar\":{\"outlinewidth\":0,\"ticks\":\"\"}},\"type\":\"scatter3d\"}],\"scattercarpet\":[{\"marker\":{\"colorbar\":{\"outlinewidth\":0,\"ticks\":\"\"}},\"type\":\"scattercarpet\"}],\"scattergeo\":[{\"marker\":{\"colorbar\":{\"outlinewidth\":0,\"ticks\":\"\"}},\"type\":\"scattergeo\"}],\"scattergl\":[{\"marker\":{\"colorbar\":{\"outlinewidth\":0,\"ticks\":\"\"}},\"type\":\"scattergl\"}],\"scattermapbox\":[{\"marker\":{\"colorbar\":{\"outlinewidth\":0,\"ticks\":\"\"}},\"type\":\"scattermapbox\"}],\"scatterpolar\":[{\"marker\":{\"colorbar\":{\"outlinewidth\":0,\"ticks\":\"\"}},\"type\":\"scatterpolar\"}],\"scatterpolargl\":[{\"marker\":{\"colorbar\":{\"outlinewidth\":0,\"ticks\":\"\"}},\"type\":\"scatterpolargl\"}],\"scatterternary\":[{\"marker\":{\"colorbar\":{\"outlinewidth\":0,\"ticks\":\"\"}},\"type\":\"scatterternary\"}],\"surface\":[{\"colorbar\":{\"outlinewidth\":0,\"ticks\":\"\"},\"colorscale\":[[0.0,\"#0d0887\"],[0.1111111111111111,\"#46039f\"],[0.2222222222222222,\"#7201a8\"],[0.3333333333333333,\"#9c179e\"],[0.4444444444444444,\"#bd3786\"],[0.5555555555555556,\"#d8576b\"],[0.6666666666666666,\"#ed7953\"],[0.7777777777777778,\"#fb9f3a\"],[0.8888888888888888,\"#fdca26\"],[1.0,\"#f0f921\"]],\"type\":\"surface\"}],\"table\":[{\"cells\":{\"fill\":{\"color\":\"#EBF0F8\"},\"line\":{\"color\":\"white\"}},\"header\":{\"fill\":{\"color\":\"#C8D4E3\"},\"line\":{\"color\":\"white\"}},\"type\":\"table\"}]},\"layout\":{\"annotationdefaults\":{\"arrowcolor\":\"#2a3f5f\",\"arrowhead\":0,\"arrowwidth\":1},\"autotypenumbers\":\"strict\",\"coloraxis\":{\"colorbar\":{\"outlinewidth\":0,\"ticks\":\"\"}},\"colorscale\":{\"diverging\":[[0,\"#8e0152\"],[0.1,\"#c51b7d\"],[0.2,\"#de77ae\"],[0.3,\"#f1b6da\"],[0.4,\"#fde0ef\"],[0.5,\"#f7f7f7\"],[0.6,\"#e6f5d0\"],[0.7,\"#b8e186\"],[0.8,\"#7fbc41\"],[0.9,\"#4d9221\"],[1,\"#276419\"]],\"sequential\":[[0.0,\"#0d0887\"],[0.1111111111111111,\"#46039f\"],[0.2222222222222222,\"#7201a8\"],[0.3333333333333333,\"#9c179e\"],[0.4444444444444444,\"#bd3786\"],[0.5555555555555556,\"#d8576b\"],[0.6666666666666666,\"#ed7953\"],[0.7777777777777778,\"#fb9f3a\"],[0.8888888888888888,\"#fdca26\"],[1.0,\"#f0f921\"]],\"sequentialminus\":[[0.0,\"#0d0887\"],[0.1111111111111111,\"#46039f\"],[0.2222222222222222,\"#7201a8\"],[0.3333333333333333,\"#9c179e\"],[0.4444444444444444,\"#bd3786\"],[0.5555555555555556,\"#d8576b\"],[0.6666666666666666,\"#ed7953\"],[0.7777777777777778,\"#fb9f3a\"],[0.8888888888888888,\"#fdca26\"],[1.0,\"#f0f921\"]]},\"colorway\":[\"#636efa\",\"#EF553B\",\"#00cc96\",\"#ab63fa\",\"#FFA15A\",\"#19d3f3\",\"#FF6692\",\"#B6E880\",\"#FF97FF\",\"#FECB52\"],\"font\":{\"color\":\"#2a3f5f\"},\"geo\":{\"bgcolor\":\"white\",\"lakecolor\":\"white\",\"landcolor\":\"#E5ECF6\",\"showlakes\":true,\"showland\":true,\"subunitcolor\":\"white\"},\"hoverlabel\":{\"align\":\"left\"},\"hovermode\":\"closest\",\"mapbox\":{\"style\":\"light\"},\"paper_bgcolor\":\"white\",\"plot_bgcolor\":\"#E5ECF6\",\"polar\":{\"angularaxis\":{\"gridcolor\":\"white\",\"linecolor\":\"white\",\"ticks\":\"\"},\"bgcolor\":\"#E5ECF6\",\"radialaxis\":{\"gridcolor\":\"white\",\"linecolor\":\"white\",\"ticks\":\"\"}},\"scene\":{\"xaxis\":{\"backgroundcolor\":\"#E5ECF6\",\"gridcolor\":\"white\",\"gridwidth\":2,\"linecolor\":\"white\",\"showbackground\":true,\"ticks\":\"\",\"zerolinecolor\":\"white\"},\"yaxis\":{\"backgroundcolor\":\"#E5ECF6\",\"gridcolor\":\"white\",\"gridwidth\":2,\"linecolor\":\"white\",\"showbackground\":true,\"ticks\":\"\",\"zerolinecolor\":\"white\"},\"zaxis\":{\"backgroundcolor\":\"#E5ECF6\",\"gridcolor\":\"white\",\"gridwidth\":2,\"linecolor\":\"white\",\"showbackground\":true,\"ticks\":\"\",\"zerolinecolor\":\"white\"}},\"shapedefaults\":{\"line\":{\"color\":\"#2a3f5f\"}},\"ternary\":{\"aaxis\":{\"gridcolor\":\"white\",\"linecolor\":\"white\",\"ticks\":\"\"},\"baxis\":{\"gridcolor\":\"white\",\"linecolor\":\"white\",\"ticks\":\"\"},\"bgcolor\":\"#E5ECF6\",\"caxis\":{\"gridcolor\":\"white\",\"linecolor\":\"white\",\"ticks\":\"\"}},\"title\":{\"x\":0.05},\"xaxis\":{\"automargin\":true,\"gridcolor\":\"white\",\"linecolor\":\"white\",\"ticks\":\"\",\"title\":{\"standoff\":15},\"zerolinecolor\":\"white\",\"zerolinewidth\":2},\"yaxis\":{\"automargin\":true,\"gridcolor\":\"white\",\"linecolor\":\"white\",\"ticks\":\"\",\"title\":{\"standoff\":15},\"zerolinecolor\":\"white\",\"zerolinewidth\":2}}},\"title\":{\"font\":{\"size\":18},\"text\":\"Number of Sales Weekly\",\"x\":0.5},\"xaxis\":{\"anchor\":\"y\",\"domain\":[0.0,1.0],\"title\":{\"text\":\"Date\"}},\"yaxis\":{\"anchor\":\"x\",\"domain\":[0.0,1.0],\"title\":{\"text\":\"Number of Sales\"}}},                        {\"responsive\": true}                    ).then(function(){\n",
       "                            \n",
       "var gd = document.getElementById('861d7a4e-34c8-4f00-b507-9ed01db487cc');\n",
       "var x = new MutationObserver(function (mutations, observer) {{\n",
       "        var display = window.getComputedStyle(gd).display;\n",
       "        if (!display || display === 'none') {{\n",
       "            console.log([gd, 'removed!']);\n",
       "            Plotly.purge(gd);\n",
       "            observer.disconnect();\n",
       "        }}\n",
       "}});\n",
       "\n",
       "// Listen for the removal of the full notebook cells\n",
       "var notebookContainer = gd.closest('#notebook-container');\n",
       "if (notebookContainer) {{\n",
       "    x.observe(notebookContainer, {childList: true});\n",
       "}}\n",
       "\n",
       "// Listen for the clearing of the current output cell\n",
       "var outputEl = gd.closest('.output');\n",
       "if (outputEl) {{\n",
       "    x.observe(outputEl, {childList: true});\n",
       "}}\n",
       "\n",
       "                        })                };                });            </script>        </div>"
      ]
     },
     "metadata": {},
     "output_type": "display_data"
    }
   ],
   "source": [
    "Sales_weekly = data.resample('w', on='Date').size()\n",
    "fig = px.line(data, x=Sales_weekly.index, y=Sales_weekly,\n",
    "              labels={'y': 'Number of Sales',\n",
    "                     'x': 'Date'})\n",
    "fig.update_layout(title_text='Number of Sales Weekly',\n",
    "                  title_x=0.5, title_font=dict(size=18)) \n",
    "fig.show()"
   ]
  },
  {
   "cell_type": "markdown",
   "metadata": {
    "papermill": {
     "duration": 0.053178,
     "end_time": "2022-02-17T21:27:27.393511",
     "exception": false,
     "start_time": "2022-02-17T21:27:27.340333",
     "status": "completed"
    },
    "tags": []
   },
   "source": [
    "# Number of Customers Weekly"
   ]
  },
  {
   "cell_type": "code",
   "execution_count": 8,
   "metadata": {
    "_kg_hide-input": true,
    "execution": {
     "iopub.execute_input": "2022-02-17T21:27:27.507373Z",
     "iopub.status.busy": "2022-02-17T21:27:27.503798Z",
     "iopub.status.idle": "2022-02-17T21:27:27.616384Z",
     "shell.execute_reply": "2022-02-17T21:27:27.615634Z",
     "shell.execute_reply.started": "2022-02-17T21:24:08.887542Z"
    },
    "papermill": {
     "duration": 0.169738,
     "end_time": "2022-02-17T21:27:27.616539",
     "exception": false,
     "start_time": "2022-02-17T21:27:27.446801",
     "status": "completed"
    },
    "tags": []
   },
   "outputs": [
    {
     "data": {
      "text/html": [
       "<div>                            <div id=\"420fd155-546d-49d3-8d48-a41535a14730\" class=\"plotly-graph-div\" style=\"height:525px; width:100%;\"></div>            <script type=\"text/javascript\">                require([\"plotly\"], function(Plotly) {                    window.PLOTLYENV=window.PLOTLYENV || {};                                    if (document.getElementById(\"420fd155-546d-49d3-8d48-a41535a14730\")) {                    Plotly.newPlot(                        \"420fd155-546d-49d3-8d48-a41535a14730\",                        [{\"hovertemplate\":\"Date=%{x}<br>Number of Customers=%{y}<extra></extra>\",\"legendgroup\":\"\",\"line\":{\"color\":\"#636efa\",\"dash\":\"solid\"},\"marker\":{\"symbol\":\"circle\"},\"mode\":\"lines\",\"name\":\"\",\"orientation\":\"v\",\"showlegend\":false,\"type\":\"scatter\",\"x\":[\"2014-01-05T00:00:00\",\"2014-01-12T00:00:00\",\"2014-01-19T00:00:00\",\"2014-01-26T00:00:00\",\"2014-02-02T00:00:00\",\"2014-02-09T00:00:00\",\"2014-02-16T00:00:00\",\"2014-02-23T00:00:00\",\"2014-03-02T00:00:00\",\"2014-03-09T00:00:00\",\"2014-03-16T00:00:00\",\"2014-03-23T00:00:00\",\"2014-03-30T00:00:00\",\"2014-04-06T00:00:00\",\"2014-04-13T00:00:00\",\"2014-04-20T00:00:00\",\"2014-04-27T00:00:00\",\"2014-05-04T00:00:00\",\"2014-05-11T00:00:00\",\"2014-05-18T00:00:00\",\"2014-05-25T00:00:00\",\"2014-06-01T00:00:00\",\"2014-06-08T00:00:00\",\"2014-06-15T00:00:00\",\"2014-06-22T00:00:00\",\"2014-06-29T00:00:00\",\"2014-07-06T00:00:00\",\"2014-07-13T00:00:00\",\"2014-07-20T00:00:00\",\"2014-07-27T00:00:00\",\"2014-08-03T00:00:00\",\"2014-08-10T00:00:00\",\"2014-08-17T00:00:00\",\"2014-08-24T00:00:00\",\"2014-08-31T00:00:00\",\"2014-09-07T00:00:00\",\"2014-09-14T00:00:00\",\"2014-09-21T00:00:00\",\"2014-09-28T00:00:00\",\"2014-10-05T00:00:00\",\"2014-10-12T00:00:00\",\"2014-10-19T00:00:00\",\"2014-10-26T00:00:00\",\"2014-11-02T00:00:00\",\"2014-11-09T00:00:00\",\"2014-11-16T00:00:00\",\"2014-11-23T00:00:00\",\"2014-11-30T00:00:00\",\"2014-12-07T00:00:00\",\"2014-12-14T00:00:00\",\"2014-12-21T00:00:00\",\"2014-12-28T00:00:00\",\"2015-01-04T00:00:00\",\"2015-01-11T00:00:00\",\"2015-01-18T00:00:00\",\"2015-01-25T00:00:00\",\"2015-02-01T00:00:00\",\"2015-02-08T00:00:00\",\"2015-02-15T00:00:00\",\"2015-02-22T00:00:00\",\"2015-03-01T00:00:00\",\"2015-03-08T00:00:00\",\"2015-03-15T00:00:00\",\"2015-03-22T00:00:00\",\"2015-03-29T00:00:00\",\"2015-04-05T00:00:00\",\"2015-04-12T00:00:00\",\"2015-04-19T00:00:00\",\"2015-04-26T00:00:00\",\"2015-05-03T00:00:00\",\"2015-05-10T00:00:00\",\"2015-05-17T00:00:00\",\"2015-05-24T00:00:00\",\"2015-05-31T00:00:00\",\"2015-06-07T00:00:00\",\"2015-06-14T00:00:00\",\"2015-06-21T00:00:00\",\"2015-06-28T00:00:00\",\"2015-07-05T00:00:00\",\"2015-07-12T00:00:00\",\"2015-07-19T00:00:00\",\"2015-07-26T00:00:00\",\"2015-08-02T00:00:00\",\"2015-08-09T00:00:00\",\"2015-08-16T00:00:00\",\"2015-08-23T00:00:00\",\"2015-08-30T00:00:00\",\"2015-09-06T00:00:00\",\"2015-09-13T00:00:00\",\"2015-09-20T00:00:00\",\"2015-09-27T00:00:00\",\"2015-10-04T00:00:00\",\"2015-10-11T00:00:00\",\"2015-10-18T00:00:00\",\"2015-10-25T00:00:00\",\"2015-11-01T00:00:00\",\"2015-11-08T00:00:00\",\"2015-11-15T00:00:00\",\"2015-11-22T00:00:00\",\"2015-11-29T00:00:00\",\"2015-12-06T00:00:00\",\"2015-12-13T00:00:00\",\"2015-12-20T00:00:00\",\"2015-12-27T00:00:00\",\"2016-01-03T00:00:00\"],\"xaxis\":\"x\",\"y\":[121,132,139,146,160,185,151,155,170,166,141,127,140,150,143,161,157,131,154,145,154,186,143,157,150,148,143,176,143,158,152,145,153,141,158,135,132,137,143,113,174,157,147,173,153,165,149,144,153,147,156,150,127,117,135,150,141,136,122,116,150,124,150,126,127,119,146,122,123,149,110,134,140,123,136,132,148,137,129,128,114,134,137,163,147,152,138,118,124,114,126,152,135,129,115,125,134,136,130,158,123,115,129,116,60],\"yaxis\":\"y\"}],                        {\"legend\":{\"tracegroupgap\":0},\"margin\":{\"t\":60},\"template\":{\"data\":{\"bar\":[{\"error_x\":{\"color\":\"#2a3f5f\"},\"error_y\":{\"color\":\"#2a3f5f\"},\"marker\":{\"line\":{\"color\":\"#E5ECF6\",\"width\":0.5},\"pattern\":{\"fillmode\":\"overlay\",\"size\":10,\"solidity\":0.2}},\"type\":\"bar\"}],\"barpolar\":[{\"marker\":{\"line\":{\"color\":\"#E5ECF6\",\"width\":0.5},\"pattern\":{\"fillmode\":\"overlay\",\"size\":10,\"solidity\":0.2}},\"type\":\"barpolar\"}],\"carpet\":[{\"aaxis\":{\"endlinecolor\":\"#2a3f5f\",\"gridcolor\":\"white\",\"linecolor\":\"white\",\"minorgridcolor\":\"white\",\"startlinecolor\":\"#2a3f5f\"},\"baxis\":{\"endlinecolor\":\"#2a3f5f\",\"gridcolor\":\"white\",\"linecolor\":\"white\",\"minorgridcolor\":\"white\",\"startlinecolor\":\"#2a3f5f\"},\"type\":\"carpet\"}],\"choropleth\":[{\"colorbar\":{\"outlinewidth\":0,\"ticks\":\"\"},\"type\":\"choropleth\"}],\"contour\":[{\"colorbar\":{\"outlinewidth\":0,\"ticks\":\"\"},\"colorscale\":[[0.0,\"#0d0887\"],[0.1111111111111111,\"#46039f\"],[0.2222222222222222,\"#7201a8\"],[0.3333333333333333,\"#9c179e\"],[0.4444444444444444,\"#bd3786\"],[0.5555555555555556,\"#d8576b\"],[0.6666666666666666,\"#ed7953\"],[0.7777777777777778,\"#fb9f3a\"],[0.8888888888888888,\"#fdca26\"],[1.0,\"#f0f921\"]],\"type\":\"contour\"}],\"contourcarpet\":[{\"colorbar\":{\"outlinewidth\":0,\"ticks\":\"\"},\"type\":\"contourcarpet\"}],\"heatmap\":[{\"colorbar\":{\"outlinewidth\":0,\"ticks\":\"\"},\"colorscale\":[[0.0,\"#0d0887\"],[0.1111111111111111,\"#46039f\"],[0.2222222222222222,\"#7201a8\"],[0.3333333333333333,\"#9c179e\"],[0.4444444444444444,\"#bd3786\"],[0.5555555555555556,\"#d8576b\"],[0.6666666666666666,\"#ed7953\"],[0.7777777777777778,\"#fb9f3a\"],[0.8888888888888888,\"#fdca26\"],[1.0,\"#f0f921\"]],\"type\":\"heatmap\"}],\"heatmapgl\":[{\"colorbar\":{\"outlinewidth\":0,\"ticks\":\"\"},\"colorscale\":[[0.0,\"#0d0887\"],[0.1111111111111111,\"#46039f\"],[0.2222222222222222,\"#7201a8\"],[0.3333333333333333,\"#9c179e\"],[0.4444444444444444,\"#bd3786\"],[0.5555555555555556,\"#d8576b\"],[0.6666666666666666,\"#ed7953\"],[0.7777777777777778,\"#fb9f3a\"],[0.8888888888888888,\"#fdca26\"],[1.0,\"#f0f921\"]],\"type\":\"heatmapgl\"}],\"histogram\":[{\"marker\":{\"pattern\":{\"fillmode\":\"overlay\",\"size\":10,\"solidity\":0.2}},\"type\":\"histogram\"}],\"histogram2d\":[{\"colorbar\":{\"outlinewidth\":0,\"ticks\":\"\"},\"colorscale\":[[0.0,\"#0d0887\"],[0.1111111111111111,\"#46039f\"],[0.2222222222222222,\"#7201a8\"],[0.3333333333333333,\"#9c179e\"],[0.4444444444444444,\"#bd3786\"],[0.5555555555555556,\"#d8576b\"],[0.6666666666666666,\"#ed7953\"],[0.7777777777777778,\"#fb9f3a\"],[0.8888888888888888,\"#fdca26\"],[1.0,\"#f0f921\"]],\"type\":\"histogram2d\"}],\"histogram2dcontour\":[{\"colorbar\":{\"outlinewidth\":0,\"ticks\":\"\"},\"colorscale\":[[0.0,\"#0d0887\"],[0.1111111111111111,\"#46039f\"],[0.2222222222222222,\"#7201a8\"],[0.3333333333333333,\"#9c179e\"],[0.4444444444444444,\"#bd3786\"],[0.5555555555555556,\"#d8576b\"],[0.6666666666666666,\"#ed7953\"],[0.7777777777777778,\"#fb9f3a\"],[0.8888888888888888,\"#fdca26\"],[1.0,\"#f0f921\"]],\"type\":\"histogram2dcontour\"}],\"mesh3d\":[{\"colorbar\":{\"outlinewidth\":0,\"ticks\":\"\"},\"type\":\"mesh3d\"}],\"parcoords\":[{\"line\":{\"colorbar\":{\"outlinewidth\":0,\"ticks\":\"\"}},\"type\":\"parcoords\"}],\"pie\":[{\"automargin\":true,\"type\":\"pie\"}],\"scatter\":[{\"marker\":{\"colorbar\":{\"outlinewidth\":0,\"ticks\":\"\"}},\"type\":\"scatter\"}],\"scatter3d\":[{\"line\":{\"colorbar\":{\"outlinewidth\":0,\"ticks\":\"\"}},\"marker\":{\"colorbar\":{\"outlinewidth\":0,\"ticks\":\"\"}},\"type\":\"scatter3d\"}],\"scattercarpet\":[{\"marker\":{\"colorbar\":{\"outlinewidth\":0,\"ticks\":\"\"}},\"type\":\"scattercarpet\"}],\"scattergeo\":[{\"marker\":{\"colorbar\":{\"outlinewidth\":0,\"ticks\":\"\"}},\"type\":\"scattergeo\"}],\"scattergl\":[{\"marker\":{\"colorbar\":{\"outlinewidth\":0,\"ticks\":\"\"}},\"type\":\"scattergl\"}],\"scattermapbox\":[{\"marker\":{\"colorbar\":{\"outlinewidth\":0,\"ticks\":\"\"}},\"type\":\"scattermapbox\"}],\"scatterpolar\":[{\"marker\":{\"colorbar\":{\"outlinewidth\":0,\"ticks\":\"\"}},\"type\":\"scatterpolar\"}],\"scatterpolargl\":[{\"marker\":{\"colorbar\":{\"outlinewidth\":0,\"ticks\":\"\"}},\"type\":\"scatterpolargl\"}],\"scatterternary\":[{\"marker\":{\"colorbar\":{\"outlinewidth\":0,\"ticks\":\"\"}},\"type\":\"scatterternary\"}],\"surface\":[{\"colorbar\":{\"outlinewidth\":0,\"ticks\":\"\"},\"colorscale\":[[0.0,\"#0d0887\"],[0.1111111111111111,\"#46039f\"],[0.2222222222222222,\"#7201a8\"],[0.3333333333333333,\"#9c179e\"],[0.4444444444444444,\"#bd3786\"],[0.5555555555555556,\"#d8576b\"],[0.6666666666666666,\"#ed7953\"],[0.7777777777777778,\"#fb9f3a\"],[0.8888888888888888,\"#fdca26\"],[1.0,\"#f0f921\"]],\"type\":\"surface\"}],\"table\":[{\"cells\":{\"fill\":{\"color\":\"#EBF0F8\"},\"line\":{\"color\":\"white\"}},\"header\":{\"fill\":{\"color\":\"#C8D4E3\"},\"line\":{\"color\":\"white\"}},\"type\":\"table\"}]},\"layout\":{\"annotationdefaults\":{\"arrowcolor\":\"#2a3f5f\",\"arrowhead\":0,\"arrowwidth\":1},\"autotypenumbers\":\"strict\",\"coloraxis\":{\"colorbar\":{\"outlinewidth\":0,\"ticks\":\"\"}},\"colorscale\":{\"diverging\":[[0,\"#8e0152\"],[0.1,\"#c51b7d\"],[0.2,\"#de77ae\"],[0.3,\"#f1b6da\"],[0.4,\"#fde0ef\"],[0.5,\"#f7f7f7\"],[0.6,\"#e6f5d0\"],[0.7,\"#b8e186\"],[0.8,\"#7fbc41\"],[0.9,\"#4d9221\"],[1,\"#276419\"]],\"sequential\":[[0.0,\"#0d0887\"],[0.1111111111111111,\"#46039f\"],[0.2222222222222222,\"#7201a8\"],[0.3333333333333333,\"#9c179e\"],[0.4444444444444444,\"#bd3786\"],[0.5555555555555556,\"#d8576b\"],[0.6666666666666666,\"#ed7953\"],[0.7777777777777778,\"#fb9f3a\"],[0.8888888888888888,\"#fdca26\"],[1.0,\"#f0f921\"]],\"sequentialminus\":[[0.0,\"#0d0887\"],[0.1111111111111111,\"#46039f\"],[0.2222222222222222,\"#7201a8\"],[0.3333333333333333,\"#9c179e\"],[0.4444444444444444,\"#bd3786\"],[0.5555555555555556,\"#d8576b\"],[0.6666666666666666,\"#ed7953\"],[0.7777777777777778,\"#fb9f3a\"],[0.8888888888888888,\"#fdca26\"],[1.0,\"#f0f921\"]]},\"colorway\":[\"#636efa\",\"#EF553B\",\"#00cc96\",\"#ab63fa\",\"#FFA15A\",\"#19d3f3\",\"#FF6692\",\"#B6E880\",\"#FF97FF\",\"#FECB52\"],\"font\":{\"color\":\"#2a3f5f\"},\"geo\":{\"bgcolor\":\"white\",\"lakecolor\":\"white\",\"landcolor\":\"#E5ECF6\",\"showlakes\":true,\"showland\":true,\"subunitcolor\":\"white\"},\"hoverlabel\":{\"align\":\"left\"},\"hovermode\":\"closest\",\"mapbox\":{\"style\":\"light\"},\"paper_bgcolor\":\"white\",\"plot_bgcolor\":\"#E5ECF6\",\"polar\":{\"angularaxis\":{\"gridcolor\":\"white\",\"linecolor\":\"white\",\"ticks\":\"\"},\"bgcolor\":\"#E5ECF6\",\"radialaxis\":{\"gridcolor\":\"white\",\"linecolor\":\"white\",\"ticks\":\"\"}},\"scene\":{\"xaxis\":{\"backgroundcolor\":\"#E5ECF6\",\"gridcolor\":\"white\",\"gridwidth\":2,\"linecolor\":\"white\",\"showbackground\":true,\"ticks\":\"\",\"zerolinecolor\":\"white\"},\"yaxis\":{\"backgroundcolor\":\"#E5ECF6\",\"gridcolor\":\"white\",\"gridwidth\":2,\"linecolor\":\"white\",\"showbackground\":true,\"ticks\":\"\",\"zerolinecolor\":\"white\"},\"zaxis\":{\"backgroundcolor\":\"#E5ECF6\",\"gridcolor\":\"white\",\"gridwidth\":2,\"linecolor\":\"white\",\"showbackground\":true,\"ticks\":\"\",\"zerolinecolor\":\"white\"}},\"shapedefaults\":{\"line\":{\"color\":\"#2a3f5f\"}},\"ternary\":{\"aaxis\":{\"gridcolor\":\"white\",\"linecolor\":\"white\",\"ticks\":\"\"},\"baxis\":{\"gridcolor\":\"white\",\"linecolor\":\"white\",\"ticks\":\"\"},\"bgcolor\":\"#E5ECF6\",\"caxis\":{\"gridcolor\":\"white\",\"linecolor\":\"white\",\"ticks\":\"\"}},\"title\":{\"x\":0.05},\"xaxis\":{\"automargin\":true,\"gridcolor\":\"white\",\"linecolor\":\"white\",\"ticks\":\"\",\"title\":{\"standoff\":15},\"zerolinecolor\":\"white\",\"zerolinewidth\":2},\"yaxis\":{\"automargin\":true,\"gridcolor\":\"white\",\"linecolor\":\"white\",\"ticks\":\"\",\"title\":{\"standoff\":15},\"zerolinecolor\":\"white\",\"zerolinewidth\":2}}},\"title\":{\"font\":{\"size\":18},\"text\":\"Number of Customers Weekly\",\"x\":0.5},\"xaxis\":{\"anchor\":\"y\",\"domain\":[0.0,1.0],\"title\":{\"text\":\"Date\"}},\"yaxis\":{\"anchor\":\"x\",\"domain\":[0.0,1.0],\"title\":{\"text\":\"Number of Customers\"}}},                        {\"responsive\": true}                    ).then(function(){\n",
       "                            \n",
       "var gd = document.getElementById('420fd155-546d-49d3-8d48-a41535a14730');\n",
       "var x = new MutationObserver(function (mutations, observer) {{\n",
       "        var display = window.getComputedStyle(gd).display;\n",
       "        if (!display || display === 'none') {{\n",
       "            console.log([gd, 'removed!']);\n",
       "            Plotly.purge(gd);\n",
       "            observer.disconnect();\n",
       "        }}\n",
       "}});\n",
       "\n",
       "// Listen for the removal of the full notebook cells\n",
       "var notebookContainer = gd.closest('#notebook-container');\n",
       "if (notebookContainer) {{\n",
       "    x.observe(notebookContainer, {childList: true});\n",
       "}}\n",
       "\n",
       "// Listen for the clearing of the current output cell\n",
       "var outputEl = gd.closest('.output');\n",
       "if (outputEl) {{\n",
       "    x.observe(outputEl, {childList: true});\n",
       "}}\n",
       "\n",
       "                        })                };                });            </script>        </div>"
      ]
     },
     "metadata": {},
     "output_type": "display_data"
    }
   ],
   "source": [
    "Unique_customer_weekly = data.resample('w', on='Date').memberID.nunique()\n",
    "fig = px.line(Unique_customer_weekly, x=Unique_customer_weekly.index, y=Unique_customer_weekly,\n",
    "              labels={'y': 'Number of Customers'})\n",
    "fig.update_layout(title_text='Number of Customers Weekly',\n",
    "                  title_x=0.5, title_font=dict(size=18))\n",
    "fig.show()"
   ]
  },
  {
   "cell_type": "markdown",
   "metadata": {
    "papermill": {
     "duration": 0.055125,
     "end_time": "2022-02-17T21:27:27.728191",
     "exception": false,
     "start_time": "2022-02-17T21:27:27.673066",
     "status": "completed"
    },
    "tags": []
   },
   "source": [
    "# Sales per Customer Weekly"
   ]
  },
  {
   "cell_type": "code",
   "execution_count": 9,
   "metadata": {
    "_kg_hide-input": true,
    "execution": {
     "iopub.execute_input": "2022-02-17T21:27:27.856319Z",
     "iopub.status.busy": "2022-02-17T21:27:27.855504Z",
     "iopub.status.idle": "2022-02-17T21:27:27.919274Z",
     "shell.execute_reply": "2022-02-17T21:27:27.919800Z",
     "shell.execute_reply.started": "2022-02-17T21:24:08.999299Z"
    },
    "papermill": {
     "duration": 0.137215,
     "end_time": "2022-02-17T21:27:27.919990",
     "exception": false,
     "start_time": "2022-02-17T21:27:27.782775",
     "status": "completed"
    },
    "tags": []
   },
   "outputs": [
    {
     "data": {
      "text/html": [
       "<div>                            <div id=\"48a3baae-ce07-4af0-b9c1-0b81bc06f51b\" class=\"plotly-graph-div\" style=\"height:525px; width:100%;\"></div>            <script type=\"text/javascript\">                require([\"plotly\"], function(Plotly) {                    window.PLOTLYENV=window.PLOTLYENV || {};                                    if (document.getElementById(\"48a3baae-ce07-4af0-b9c1-0b81bc06f51b\")) {                    Plotly.newPlot(                        \"48a3baae-ce07-4af0-b9c1-0b81bc06f51b\",                        [{\"hovertemplate\":\"Date=%{x}<br>Sales per Customer Ratio=%{y}<extra></extra>\",\"legendgroup\":\"\",\"line\":{\"color\":\"#636efa\",\"dash\":\"solid\"},\"marker\":{\"symbol\":\"circle\"},\"mode\":\"lines\",\"name\":\"\",\"orientation\":\"v\",\"showlegend\":false,\"type\":\"scatter\",\"x\":[\"2014-01-05T00:00:00\",\"2014-01-12T00:00:00\",\"2014-01-19T00:00:00\",\"2014-01-26T00:00:00\",\"2014-02-02T00:00:00\",\"2014-02-09T00:00:00\",\"2014-02-16T00:00:00\",\"2014-02-23T00:00:00\",\"2014-03-02T00:00:00\",\"2014-03-09T00:00:00\",\"2014-03-16T00:00:00\",\"2014-03-23T00:00:00\",\"2014-03-30T00:00:00\",\"2014-04-06T00:00:00\",\"2014-04-13T00:00:00\",\"2014-04-20T00:00:00\",\"2014-04-27T00:00:00\",\"2014-05-04T00:00:00\",\"2014-05-11T00:00:00\",\"2014-05-18T00:00:00\",\"2014-05-25T00:00:00\",\"2014-06-01T00:00:00\",\"2014-06-08T00:00:00\",\"2014-06-15T00:00:00\",\"2014-06-22T00:00:00\",\"2014-06-29T00:00:00\",\"2014-07-06T00:00:00\",\"2014-07-13T00:00:00\",\"2014-07-20T00:00:00\",\"2014-07-27T00:00:00\",\"2014-08-03T00:00:00\",\"2014-08-10T00:00:00\",\"2014-08-17T00:00:00\",\"2014-08-24T00:00:00\",\"2014-08-31T00:00:00\",\"2014-09-07T00:00:00\",\"2014-09-14T00:00:00\",\"2014-09-21T00:00:00\",\"2014-09-28T00:00:00\",\"2014-10-05T00:00:00\",\"2014-10-12T00:00:00\",\"2014-10-19T00:00:00\",\"2014-10-26T00:00:00\",\"2014-11-02T00:00:00\",\"2014-11-09T00:00:00\",\"2014-11-16T00:00:00\",\"2014-11-23T00:00:00\",\"2014-11-30T00:00:00\",\"2014-12-07T00:00:00\",\"2014-12-14T00:00:00\",\"2014-12-21T00:00:00\",\"2014-12-28T00:00:00\",\"2015-01-04T00:00:00\",\"2015-01-11T00:00:00\",\"2015-01-18T00:00:00\",\"2015-01-25T00:00:00\",\"2015-02-01T00:00:00\",\"2015-02-08T00:00:00\",\"2015-02-15T00:00:00\",\"2015-02-22T00:00:00\",\"2015-03-01T00:00:00\",\"2015-03-08T00:00:00\",\"2015-03-15T00:00:00\",\"2015-03-22T00:00:00\",\"2015-03-29T00:00:00\",\"2015-04-05T00:00:00\",\"2015-04-12T00:00:00\",\"2015-04-19T00:00:00\",\"2015-04-26T00:00:00\",\"2015-05-03T00:00:00\",\"2015-05-10T00:00:00\",\"2015-05-17T00:00:00\",\"2015-05-24T00:00:00\",\"2015-05-31T00:00:00\",\"2015-06-07T00:00:00\",\"2015-06-14T00:00:00\",\"2015-06-21T00:00:00\",\"2015-06-28T00:00:00\",\"2015-07-05T00:00:00\",\"2015-07-12T00:00:00\",\"2015-07-19T00:00:00\",\"2015-07-26T00:00:00\",\"2015-08-02T00:00:00\",\"2015-08-09T00:00:00\",\"2015-08-16T00:00:00\",\"2015-08-23T00:00:00\",\"2015-08-30T00:00:00\",\"2015-09-06T00:00:00\",\"2015-09-13T00:00:00\",\"2015-09-20T00:00:00\",\"2015-09-27T00:00:00\",\"2015-10-04T00:00:00\",\"2015-10-11T00:00:00\",\"2015-10-18T00:00:00\",\"2015-10-25T00:00:00\",\"2015-11-01T00:00:00\",\"2015-11-08T00:00:00\",\"2015-11-15T00:00:00\",\"2015-11-22T00:00:00\",\"2015-11-29T00:00:00\",\"2015-12-06T00:00:00\",\"2015-12-13T00:00:00\",\"2015-12-20T00:00:00\",\"2015-12-27T00:00:00\",\"2016-01-03T00:00:00\"],\"xaxis\":\"x\",\"y\":[2.2479338842975207,2.356060606060606,2.302158273381295,2.267123287671233,2.30625,2.383783783783784,2.3642384105960264,2.335483870967742,2.323529411764706,2.283132530120482,2.326241134751773,2.2755905511811023,2.442857142857143,2.3933333333333335,2.2937062937062938,2.3229813664596275,2.3121019108280256,2.4122137404580153,2.409090909090909,2.3517241379310345,2.2532467532467533,2.3548387096774195,2.4895104895104896,2.261146496815287,2.4133333333333336,2.3378378378378377,2.4335664335664338,2.3125,2.335664335664336,2.348101265822785,2.3026315789473686,2.43448275862069,2.372549019607843,2.24822695035461,2.2848101265822787,2.303703703703704,2.3636363636363638,2.2773722627737225,2.3146853146853146,2.2212389380530975,2.32183908045977,2.261146496815287,2.2857142857142856,2.2485549132947975,2.281045751633987,2.290909090909091,2.2751677852348995,2.3194444444444446,2.411764705882353,2.3537414965986394,2.217948717948718,2.433333333333333,2.8503937007874014,3.0256410256410255,2.9925925925925925,2.96,2.7943262411347516,2.8161764705882355,2.918032786885246,2.896551724137931,2.993333333333333,3.306451612903226,3.033333333333333,2.7857142857142856,3.125984251968504,2.9411764705882355,2.7945205479452055,3.1311475409836067,3.024390243902439,3.0604026845637584,3.118181818181818,3.0223880597014925,2.857142857142857,2.967479674796748,2.889705882352941,3.212121212121212,2.972972972972973,3.072992700729927,2.9224806201550386,2.6328125,2.9473684210526314,2.9925373134328357,2.9124087591240877,3.0306748466257667,2.9863945578231292,3.151315789473684,2.9855072463768115,3.1440677966101696,3.024193548387097,2.973684210526316,2.8095238095238093,2.8552631578947367,3.251851851851852,2.7906976744186047,3.008695652173913,2.904,2.7686567164179103,3.25,2.8461538461538463,3.0063291139240507,3.1707317073170733,3.0956521739130434,2.7906976744186047,2.939655172413793,2.8],\"yaxis\":\"y\"}],                        {\"legend\":{\"tracegroupgap\":0},\"margin\":{\"t\":60},\"template\":{\"data\":{\"bar\":[{\"error_x\":{\"color\":\"#2a3f5f\"},\"error_y\":{\"color\":\"#2a3f5f\"},\"marker\":{\"line\":{\"color\":\"#E5ECF6\",\"width\":0.5},\"pattern\":{\"fillmode\":\"overlay\",\"size\":10,\"solidity\":0.2}},\"type\":\"bar\"}],\"barpolar\":[{\"marker\":{\"line\":{\"color\":\"#E5ECF6\",\"width\":0.5},\"pattern\":{\"fillmode\":\"overlay\",\"size\":10,\"solidity\":0.2}},\"type\":\"barpolar\"}],\"carpet\":[{\"aaxis\":{\"endlinecolor\":\"#2a3f5f\",\"gridcolor\":\"white\",\"linecolor\":\"white\",\"minorgridcolor\":\"white\",\"startlinecolor\":\"#2a3f5f\"},\"baxis\":{\"endlinecolor\":\"#2a3f5f\",\"gridcolor\":\"white\",\"linecolor\":\"white\",\"minorgridcolor\":\"white\",\"startlinecolor\":\"#2a3f5f\"},\"type\":\"carpet\"}],\"choropleth\":[{\"colorbar\":{\"outlinewidth\":0,\"ticks\":\"\"},\"type\":\"choropleth\"}],\"contour\":[{\"colorbar\":{\"outlinewidth\":0,\"ticks\":\"\"},\"colorscale\":[[0.0,\"#0d0887\"],[0.1111111111111111,\"#46039f\"],[0.2222222222222222,\"#7201a8\"],[0.3333333333333333,\"#9c179e\"],[0.4444444444444444,\"#bd3786\"],[0.5555555555555556,\"#d8576b\"],[0.6666666666666666,\"#ed7953\"],[0.7777777777777778,\"#fb9f3a\"],[0.8888888888888888,\"#fdca26\"],[1.0,\"#f0f921\"]],\"type\":\"contour\"}],\"contourcarpet\":[{\"colorbar\":{\"outlinewidth\":0,\"ticks\":\"\"},\"type\":\"contourcarpet\"}],\"heatmap\":[{\"colorbar\":{\"outlinewidth\":0,\"ticks\":\"\"},\"colorscale\":[[0.0,\"#0d0887\"],[0.1111111111111111,\"#46039f\"],[0.2222222222222222,\"#7201a8\"],[0.3333333333333333,\"#9c179e\"],[0.4444444444444444,\"#bd3786\"],[0.5555555555555556,\"#d8576b\"],[0.6666666666666666,\"#ed7953\"],[0.7777777777777778,\"#fb9f3a\"],[0.8888888888888888,\"#fdca26\"],[1.0,\"#f0f921\"]],\"type\":\"heatmap\"}],\"heatmapgl\":[{\"colorbar\":{\"outlinewidth\":0,\"ticks\":\"\"},\"colorscale\":[[0.0,\"#0d0887\"],[0.1111111111111111,\"#46039f\"],[0.2222222222222222,\"#7201a8\"],[0.3333333333333333,\"#9c179e\"],[0.4444444444444444,\"#bd3786\"],[0.5555555555555556,\"#d8576b\"],[0.6666666666666666,\"#ed7953\"],[0.7777777777777778,\"#fb9f3a\"],[0.8888888888888888,\"#fdca26\"],[1.0,\"#f0f921\"]],\"type\":\"heatmapgl\"}],\"histogram\":[{\"marker\":{\"pattern\":{\"fillmode\":\"overlay\",\"size\":10,\"solidity\":0.2}},\"type\":\"histogram\"}],\"histogram2d\":[{\"colorbar\":{\"outlinewidth\":0,\"ticks\":\"\"},\"colorscale\":[[0.0,\"#0d0887\"],[0.1111111111111111,\"#46039f\"],[0.2222222222222222,\"#7201a8\"],[0.3333333333333333,\"#9c179e\"],[0.4444444444444444,\"#bd3786\"],[0.5555555555555556,\"#d8576b\"],[0.6666666666666666,\"#ed7953\"],[0.7777777777777778,\"#fb9f3a\"],[0.8888888888888888,\"#fdca26\"],[1.0,\"#f0f921\"]],\"type\":\"histogram2d\"}],\"histogram2dcontour\":[{\"colorbar\":{\"outlinewidth\":0,\"ticks\":\"\"},\"colorscale\":[[0.0,\"#0d0887\"],[0.1111111111111111,\"#46039f\"],[0.2222222222222222,\"#7201a8\"],[0.3333333333333333,\"#9c179e\"],[0.4444444444444444,\"#bd3786\"],[0.5555555555555556,\"#d8576b\"],[0.6666666666666666,\"#ed7953\"],[0.7777777777777778,\"#fb9f3a\"],[0.8888888888888888,\"#fdca26\"],[1.0,\"#f0f921\"]],\"type\":\"histogram2dcontour\"}],\"mesh3d\":[{\"colorbar\":{\"outlinewidth\":0,\"ticks\":\"\"},\"type\":\"mesh3d\"}],\"parcoords\":[{\"line\":{\"colorbar\":{\"outlinewidth\":0,\"ticks\":\"\"}},\"type\":\"parcoords\"}],\"pie\":[{\"automargin\":true,\"type\":\"pie\"}],\"scatter\":[{\"marker\":{\"colorbar\":{\"outlinewidth\":0,\"ticks\":\"\"}},\"type\":\"scatter\"}],\"scatter3d\":[{\"line\":{\"colorbar\":{\"outlinewidth\":0,\"ticks\":\"\"}},\"marker\":{\"colorbar\":{\"outlinewidth\":0,\"ticks\":\"\"}},\"type\":\"scatter3d\"}],\"scattercarpet\":[{\"marker\":{\"colorbar\":{\"outlinewidth\":0,\"ticks\":\"\"}},\"type\":\"scattercarpet\"}],\"scattergeo\":[{\"marker\":{\"colorbar\":{\"outlinewidth\":0,\"ticks\":\"\"}},\"type\":\"scattergeo\"}],\"scattergl\":[{\"marker\":{\"colorbar\":{\"outlinewidth\":0,\"ticks\":\"\"}},\"type\":\"scattergl\"}],\"scattermapbox\":[{\"marker\":{\"colorbar\":{\"outlinewidth\":0,\"ticks\":\"\"}},\"type\":\"scattermapbox\"}],\"scatterpolar\":[{\"marker\":{\"colorbar\":{\"outlinewidth\":0,\"ticks\":\"\"}},\"type\":\"scatterpolar\"}],\"scatterpolargl\":[{\"marker\":{\"colorbar\":{\"outlinewidth\":0,\"ticks\":\"\"}},\"type\":\"scatterpolargl\"}],\"scatterternary\":[{\"marker\":{\"colorbar\":{\"outlinewidth\":0,\"ticks\":\"\"}},\"type\":\"scatterternary\"}],\"surface\":[{\"colorbar\":{\"outlinewidth\":0,\"ticks\":\"\"},\"colorscale\":[[0.0,\"#0d0887\"],[0.1111111111111111,\"#46039f\"],[0.2222222222222222,\"#7201a8\"],[0.3333333333333333,\"#9c179e\"],[0.4444444444444444,\"#bd3786\"],[0.5555555555555556,\"#d8576b\"],[0.6666666666666666,\"#ed7953\"],[0.7777777777777778,\"#fb9f3a\"],[0.8888888888888888,\"#fdca26\"],[1.0,\"#f0f921\"]],\"type\":\"surface\"}],\"table\":[{\"cells\":{\"fill\":{\"color\":\"#EBF0F8\"},\"line\":{\"color\":\"white\"}},\"header\":{\"fill\":{\"color\":\"#C8D4E3\"},\"line\":{\"color\":\"white\"}},\"type\":\"table\"}]},\"layout\":{\"annotationdefaults\":{\"arrowcolor\":\"#2a3f5f\",\"arrowhead\":0,\"arrowwidth\":1},\"autotypenumbers\":\"strict\",\"coloraxis\":{\"colorbar\":{\"outlinewidth\":0,\"ticks\":\"\"}},\"colorscale\":{\"diverging\":[[0,\"#8e0152\"],[0.1,\"#c51b7d\"],[0.2,\"#de77ae\"],[0.3,\"#f1b6da\"],[0.4,\"#fde0ef\"],[0.5,\"#f7f7f7\"],[0.6,\"#e6f5d0\"],[0.7,\"#b8e186\"],[0.8,\"#7fbc41\"],[0.9,\"#4d9221\"],[1,\"#276419\"]],\"sequential\":[[0.0,\"#0d0887\"],[0.1111111111111111,\"#46039f\"],[0.2222222222222222,\"#7201a8\"],[0.3333333333333333,\"#9c179e\"],[0.4444444444444444,\"#bd3786\"],[0.5555555555555556,\"#d8576b\"],[0.6666666666666666,\"#ed7953\"],[0.7777777777777778,\"#fb9f3a\"],[0.8888888888888888,\"#fdca26\"],[1.0,\"#f0f921\"]],\"sequentialminus\":[[0.0,\"#0d0887\"],[0.1111111111111111,\"#46039f\"],[0.2222222222222222,\"#7201a8\"],[0.3333333333333333,\"#9c179e\"],[0.4444444444444444,\"#bd3786\"],[0.5555555555555556,\"#d8576b\"],[0.6666666666666666,\"#ed7953\"],[0.7777777777777778,\"#fb9f3a\"],[0.8888888888888888,\"#fdca26\"],[1.0,\"#f0f921\"]]},\"colorway\":[\"#636efa\",\"#EF553B\",\"#00cc96\",\"#ab63fa\",\"#FFA15A\",\"#19d3f3\",\"#FF6692\",\"#B6E880\",\"#FF97FF\",\"#FECB52\"],\"font\":{\"color\":\"#2a3f5f\"},\"geo\":{\"bgcolor\":\"white\",\"lakecolor\":\"white\",\"landcolor\":\"#E5ECF6\",\"showlakes\":true,\"showland\":true,\"subunitcolor\":\"white\"},\"hoverlabel\":{\"align\":\"left\"},\"hovermode\":\"closest\",\"mapbox\":{\"style\":\"light\"},\"paper_bgcolor\":\"white\",\"plot_bgcolor\":\"#E5ECF6\",\"polar\":{\"angularaxis\":{\"gridcolor\":\"white\",\"linecolor\":\"white\",\"ticks\":\"\"},\"bgcolor\":\"#E5ECF6\",\"radialaxis\":{\"gridcolor\":\"white\",\"linecolor\":\"white\",\"ticks\":\"\"}},\"scene\":{\"xaxis\":{\"backgroundcolor\":\"#E5ECF6\",\"gridcolor\":\"white\",\"gridwidth\":2,\"linecolor\":\"white\",\"showbackground\":true,\"ticks\":\"\",\"zerolinecolor\":\"white\"},\"yaxis\":{\"backgroundcolor\":\"#E5ECF6\",\"gridcolor\":\"white\",\"gridwidth\":2,\"linecolor\":\"white\",\"showbackground\":true,\"ticks\":\"\",\"zerolinecolor\":\"white\"},\"zaxis\":{\"backgroundcolor\":\"#E5ECF6\",\"gridcolor\":\"white\",\"gridwidth\":2,\"linecolor\":\"white\",\"showbackground\":true,\"ticks\":\"\",\"zerolinecolor\":\"white\"}},\"shapedefaults\":{\"line\":{\"color\":\"#2a3f5f\"}},\"ternary\":{\"aaxis\":{\"gridcolor\":\"white\",\"linecolor\":\"white\",\"ticks\":\"\"},\"baxis\":{\"gridcolor\":\"white\",\"linecolor\":\"white\",\"ticks\":\"\"},\"bgcolor\":\"#E5ECF6\",\"caxis\":{\"gridcolor\":\"white\",\"linecolor\":\"white\",\"ticks\":\"\"}},\"title\":{\"x\":0.05},\"xaxis\":{\"automargin\":true,\"gridcolor\":\"white\",\"linecolor\":\"white\",\"ticks\":\"\",\"title\":{\"standoff\":15},\"zerolinecolor\":\"white\",\"zerolinewidth\":2},\"yaxis\":{\"automargin\":true,\"gridcolor\":\"white\",\"linecolor\":\"white\",\"ticks\":\"\",\"title\":{\"standoff\":15},\"zerolinecolor\":\"white\",\"zerolinewidth\":2}}},\"title\":{\"font\":{\"size\":18},\"text\":\"Sales per Customer Weekly\",\"x\":0.5},\"xaxis\":{\"anchor\":\"y\",\"domain\":[0.0,1.0],\"title\":{\"text\":\"Date\"}},\"yaxis\":{\"anchor\":\"x\",\"domain\":[0.0,1.0],\"rangemode\":\"tozero\",\"title\":{\"text\":\"Sales per Customer Ratio\"}}},                        {\"responsive\": true}                    ).then(function(){\n",
       "                            \n",
       "var gd = document.getElementById('48a3baae-ce07-4af0-b9c1-0b81bc06f51b');\n",
       "var x = new MutationObserver(function (mutations, observer) {{\n",
       "        var display = window.getComputedStyle(gd).display;\n",
       "        if (!display || display === 'none') {{\n",
       "            console.log([gd, 'removed!']);\n",
       "            Plotly.purge(gd);\n",
       "            observer.disconnect();\n",
       "        }}\n",
       "}});\n",
       "\n",
       "// Listen for the removal of the full notebook cells\n",
       "var notebookContainer = gd.closest('#notebook-container');\n",
       "if (notebookContainer) {{\n",
       "    x.observe(notebookContainer, {childList: true});\n",
       "}}\n",
       "\n",
       "// Listen for the clearing of the current output cell\n",
       "var outputEl = gd.closest('.output');\n",
       "if (outputEl) {{\n",
       "    x.observe(outputEl, {childList: true});\n",
       "}}\n",
       "\n",
       "                        })                };                });            </script>        </div>"
      ]
     },
     "metadata": {},
     "output_type": "display_data"
    }
   ],
   "source": [
    "Sales_per_Customer = Sales_weekly / Unique_customer_weekly\n",
    "fig = px.line(Sales_per_Customer, x=Sales_per_Customer.index, y=Sales_per_Customer,\n",
    "              labels={'y': 'Sales per Customer Ratio'})\n",
    "fig.update_layout(title_text='Sales per Customer Weekly',\n",
    "                  title_x=0.5, title_font=dict(size=18))\n",
    "fig.update_yaxes(rangemode=\"tozero\")\n",
    "fig.show()"
   ]
  },
  {
   "cell_type": "markdown",
   "metadata": {
    "papermill": {
     "duration": 0.056992,
     "end_time": "2022-02-17T21:27:28.033837",
     "exception": false,
     "start_time": "2022-02-17T21:27:27.976845",
     "status": "completed"
    },
    "tags": []
   },
   "source": [
    "**Sales per Customer ratio is almost constant until the end of December 2014 with the number of 2.2. Fortunately, after this week this parameter increases to approximately 3 sales per customer value. And it keeps going until the end of the date range. It has a maximum of 3.3 sales per customer in at first week of March 2015. The reason for that might be the constant number of sales weekly but decreasing number of customers for these date range. You can easily see the decrease in the number of customers weekly after March 2015 from the \"Number of Customers Weekly\" graph.**"
   ]
  },
  {
   "cell_type": "markdown",
   "metadata": {
    "papermill": {
     "duration": 0.056198,
     "end_time": "2022-02-17T21:27:28.147953",
     "exception": false,
     "start_time": "2022-02-17T21:27:28.091755",
     "status": "completed"
    },
    "tags": []
   },
   "source": [
    "# Frequency of the Items Sold"
   ]
  },
  {
   "cell_type": "code",
   "execution_count": 10,
   "metadata": {
    "_kg_hide-input": true,
    "execution": {
     "iopub.execute_input": "2022-02-17T21:27:28.272093Z",
     "iopub.status.busy": "2022-02-17T21:27:28.269761Z",
     "iopub.status.idle": "2022-02-17T21:27:28.382052Z",
     "shell.execute_reply": "2022-02-17T21:27:28.382576Z",
     "shell.execute_reply.started": "2022-02-17T21:24:09.084233Z"
    },
    "papermill": {
     "duration": 0.178457,
     "end_time": "2022-02-17T21:27:28.382849",
     "exception": false,
     "start_time": "2022-02-17T21:27:28.204392",
     "status": "completed"
    },
    "tags": []
   },
   "outputs": [
    {
     "data": {
      "text/html": [
       "<div>                            <div id=\"bd9464c6-e28a-4e14-be89-51d80ea59bf5\" class=\"plotly-graph-div\" style=\"height:525px; width:100%;\"></div>            <script type=\"text/javascript\">                require([\"plotly\"], function(Plotly) {                    window.PLOTLYENV=window.PLOTLYENV || {};                                    if (document.getElementById(\"bd9464c6-e28a-4e14-be89-51d80ea59bf5\")) {                    Plotly.newPlot(                        \"bd9464c6-e28a-4e14-be89-51d80ea59bf5\",                        [{\"branchvalues\":\"total\",\"domain\":{\"x\":[0.0,1.0],\"y\":[0.0,1.0]},\"hovertemplate\":\"labels=%{label}<br>count=%{value}<br>parent=%{parent}<br>id=%{id}<extra></extra>\",\"ids\":[\"Instant food products\",\"UHT-milk\",\"abrasive cleaner\",\"artif. sweetener\",\"baby cosmetics\",\"bags\",\"baking powder\",\"bathroom cleaner\",\"beef\",\"berries\",\"beverages\",\"bottled beer\",\"bottled water\",\"brandy\",\"brown bread\",\"butter\",\"butter milk\",\"cake bar\",\"candles\",\"candy\",\"canned beer\",\"canned fish\",\"canned fruit\",\"canned vegetables\",\"cat food\",\"cereals\",\"chewing gum\",\"chicken\",\"chocolate\",\"chocolate marshmallow\",\"citrus fruit\",\"cleaner\",\"cling film/bags\",\"cocoa drinks\",\"coffee\",\"condensed milk\",\"cooking chocolate\",\"cookware\",\"cream\",\"cream cheese \",\"curd\",\"curd cheese\",\"decalcifier\",\"dental care\",\"dessert\",\"detergent\",\"dish cleaner\",\"dishes\",\"dog food\",\"domestic eggs\",\"female sanitary products\",\"finished products\",\"fish\",\"flour\",\"flower (seeds)\",\"flower soil/fertilizer\",\"frankfurter\",\"frozen chicken\",\"frozen dessert\",\"frozen fish\",\"frozen fruits\",\"frozen meals\",\"frozen potato products\",\"frozen vegetables\",\"fruit/vegetable juice\",\"grapes\",\"hair spray\",\"ham\",\"hamburger meat\",\"hard cheese\",\"herbs\",\"honey\",\"house keeping products\",\"hygiene articles\",\"ice cream\",\"instant coffee\",\"jam\",\"ketchup\",\"kitchen towels\",\"kitchen utensil\",\"light bulbs\",\"liqueur\",\"liquor\",\"liquor (appetizer)\",\"liver loaf\",\"long life bakery product\",\"make up remover\",\"male cosmetics\",\"margarine\",\"mayonnaise\",\"meat\",\"meat spreads\",\"misc. beverages\",\"mustard\",\"napkins\",\"newspapers\",\"nut snack\",\"nuts/prunes\",\"oil\",\"onions\",\"organic products\",\"organic sausage\",\"other vegetables\",\"packaged fruit/vegetables\",\"pasta\",\"pastry\",\"pet care\",\"photo/film\",\"pickled vegetables\",\"pip fruit\",\"popcorn\",\"pork\",\"pot plants\",\"potato products\",\"preservation products\",\"processed cheese\",\"prosecco\",\"pudding powder\",\"ready soups\",\"red/blush wine\",\"rice\",\"roll products \",\"rolls/buns\",\"root vegetables\",\"rubbing alcohol\",\"rum\",\"salad dressing\",\"salt\",\"salty snack\",\"sauces\",\"sausage\",\"seasonal products\",\"semi-finished bread\",\"shopping bags\",\"skin care\",\"sliced cheese\",\"snack products\",\"soap\",\"soda\",\"soft cheese\",\"softener\",\"soups\",\"sparkling wine\",\"specialty bar\",\"specialty cheese\",\"specialty chocolate\",\"specialty fat\",\"specialty vegetables\",\"spices\",\"spread cheese\",\"sugar\",\"sweet spreads\",\"syrup\",\"tea\",\"tidbits\",\"toilet cleaner\",\"tropical fruit\",\"turkey\",\"vinegar\",\"waffles\",\"whipped/sour cream\",\"whisky\",\"white bread\",\"white wine\",\"whole milk\",\"yogurt\",\"zwieback\"],\"labels\":[\"Instant food products\",\"UHT-milk\",\"abrasive cleaner\",\"artif. sweetener\",\"baby cosmetics\",\"bags\",\"baking powder\",\"bathroom cleaner\",\"beef\",\"berries\",\"beverages\",\"bottled beer\",\"bottled water\",\"brandy\",\"brown bread\",\"butter\",\"butter milk\",\"cake bar\",\"candles\",\"candy\",\"canned beer\",\"canned fish\",\"canned fruit\",\"canned vegetables\",\"cat food\",\"cereals\",\"chewing gum\",\"chicken\",\"chocolate\",\"chocolate marshmallow\",\"citrus fruit\",\"cleaner\",\"cling film/bags\",\"cocoa drinks\",\"coffee\",\"condensed milk\",\"cooking chocolate\",\"cookware\",\"cream\",\"cream cheese \",\"curd\",\"curd cheese\",\"decalcifier\",\"dental care\",\"dessert\",\"detergent\",\"dish cleaner\",\"dishes\",\"dog food\",\"domestic eggs\",\"female sanitary products\",\"finished products\",\"fish\",\"flour\",\"flower (seeds)\",\"flower soil/fertilizer\",\"frankfurter\",\"frozen chicken\",\"frozen dessert\",\"frozen fish\",\"frozen fruits\",\"frozen meals\",\"frozen potato products\",\"frozen vegetables\",\"fruit/vegetable juice\",\"grapes\",\"hair spray\",\"ham\",\"hamburger meat\",\"hard cheese\",\"herbs\",\"honey\",\"house keeping products\",\"hygiene articles\",\"ice cream\",\"instant coffee\",\"jam\",\"ketchup\",\"kitchen towels\",\"kitchen utensil\",\"light bulbs\",\"liqueur\",\"liquor\",\"liquor (appetizer)\",\"liver loaf\",\"long life bakery product\",\"make up remover\",\"male cosmetics\",\"margarine\",\"mayonnaise\",\"meat\",\"meat spreads\",\"misc. beverages\",\"mustard\",\"napkins\",\"newspapers\",\"nut snack\",\"nuts/prunes\",\"oil\",\"onions\",\"organic products\",\"organic sausage\",\"other vegetables\",\"packaged fruit/vegetables\",\"pasta\",\"pastry\",\"pet care\",\"photo/film\",\"pickled vegetables\",\"pip fruit\",\"popcorn\",\"pork\",\"pot plants\",\"potato products\",\"preservation products\",\"processed cheese\",\"prosecco\",\"pudding powder\",\"ready soups\",\"red/blush wine\",\"rice\",\"roll products \",\"rolls/buns\",\"root vegetables\",\"rubbing alcohol\",\"rum\",\"salad dressing\",\"salt\",\"salty snack\",\"sauces\",\"sausage\",\"seasonal products\",\"semi-finished bread\",\"shopping bags\",\"skin care\",\"sliced cheese\",\"snack products\",\"soap\",\"soda\",\"soft cheese\",\"softener\",\"soups\",\"sparkling wine\",\"specialty bar\",\"specialty cheese\",\"specialty chocolate\",\"specialty fat\",\"specialty vegetables\",\"spices\",\"spread cheese\",\"sugar\",\"sweet spreads\",\"syrup\",\"tea\",\"tidbits\",\"toilet cleaner\",\"tropical fruit\",\"turkey\",\"vinegar\",\"waffles\",\"whipped/sour cream\",\"whisky\",\"white bread\",\"white wine\",\"whole milk\",\"yogurt\",\"zwieback\"],\"name\":\"\",\"parents\":[\"\",\"\",\"\",\"\",\"\",\"\",\"\",\"\",\"\",\"\",\"\",\"\",\"\",\"\",\"\",\"\",\"\",\"\",\"\",\"\",\"\",\"\",\"\",\"\",\"\",\"\",\"\",\"\",\"\",\"\",\"\",\"\",\"\",\"\",\"\",\"\",\"\",\"\",\"\",\"\",\"\",\"\",\"\",\"\",\"\",\"\",\"\",\"\",\"\",\"\",\"\",\"\",\"\",\"\",\"\",\"\",\"\",\"\",\"\",\"\",\"\",\"\",\"\",\"\",\"\",\"\",\"\",\"\",\"\",\"\",\"\",\"\",\"\",\"\",\"\",\"\",\"\",\"\",\"\",\"\",\"\",\"\",\"\",\"\",\"\",\"\",\"\",\"\",\"\",\"\",\"\",\"\",\"\",\"\",\"\",\"\",\"\",\"\",\"\",\"\",\"\",\"\",\"\",\"\",\"\",\"\",\"\",\"\",\"\",\"\",\"\",\"\",\"\",\"\",\"\",\"\",\"\",\"\",\"\",\"\",\"\",\"\",\"\",\"\",\"\",\"\",\"\",\"\",\"\",\"\",\"\",\"\",\"\",\"\",\"\",\"\",\"\",\"\",\"\",\"\",\"\",\"\",\"\",\"\",\"\",\"\",\"\",\"\",\"\",\"\",\"\",\"\",\"\",\"\",\"\",\"\",\"\",\"\",\"\",\"\",\"\",\"\",\"\",\"\",\"\",\"\",\"\"],\"textinfo\":\"label+value\",\"type\":\"treemap\",\"values\":[60,323,22,29,3,4,122,17,516,327,251,687,933,38,571,534,263,93,66,219,717,116,21,82,177,42,181,422,357,60,812,31,74,16,476,98,15,17,12,358,514,46,9,33,356,130,73,135,67,566,40,64,29,146,70,16,580,5,92,102,11,252,72,425,518,220,9,256,327,220,159,13,45,208,227,61,34,32,30,1,29,9,103,67,50,269,5,37,491,75,254,35,238,92,335,596,22,33,225,305,10,22,1898,128,121,785,85,79,134,744,48,566,118,23,1,152,19,17,15,157,49,82,1716,1071,5,32,6,89,283,44,924,106,142,731,20,212,27,20,1514,152,41,48,46,210,72,240,29,11,40,100,265,69,21,27,22,5,1032,80,51,280,662,8,362,176,2502,1334,60]}],                        {\"legend\":{\"tracegroupgap\":0},\"margin\":{\"t\":60},\"template\":{\"data\":{\"bar\":[{\"error_x\":{\"color\":\"#2a3f5f\"},\"error_y\":{\"color\":\"#2a3f5f\"},\"marker\":{\"line\":{\"color\":\"#E5ECF6\",\"width\":0.5},\"pattern\":{\"fillmode\":\"overlay\",\"size\":10,\"solidity\":0.2}},\"type\":\"bar\"}],\"barpolar\":[{\"marker\":{\"line\":{\"color\":\"#E5ECF6\",\"width\":0.5},\"pattern\":{\"fillmode\":\"overlay\",\"size\":10,\"solidity\":0.2}},\"type\":\"barpolar\"}],\"carpet\":[{\"aaxis\":{\"endlinecolor\":\"#2a3f5f\",\"gridcolor\":\"white\",\"linecolor\":\"white\",\"minorgridcolor\":\"white\",\"startlinecolor\":\"#2a3f5f\"},\"baxis\":{\"endlinecolor\":\"#2a3f5f\",\"gridcolor\":\"white\",\"linecolor\":\"white\",\"minorgridcolor\":\"white\",\"startlinecolor\":\"#2a3f5f\"},\"type\":\"carpet\"}],\"choropleth\":[{\"colorbar\":{\"outlinewidth\":0,\"ticks\":\"\"},\"type\":\"choropleth\"}],\"contour\":[{\"colorbar\":{\"outlinewidth\":0,\"ticks\":\"\"},\"colorscale\":[[0.0,\"#0d0887\"],[0.1111111111111111,\"#46039f\"],[0.2222222222222222,\"#7201a8\"],[0.3333333333333333,\"#9c179e\"],[0.4444444444444444,\"#bd3786\"],[0.5555555555555556,\"#d8576b\"],[0.6666666666666666,\"#ed7953\"],[0.7777777777777778,\"#fb9f3a\"],[0.8888888888888888,\"#fdca26\"],[1.0,\"#f0f921\"]],\"type\":\"contour\"}],\"contourcarpet\":[{\"colorbar\":{\"outlinewidth\":0,\"ticks\":\"\"},\"type\":\"contourcarpet\"}],\"heatmap\":[{\"colorbar\":{\"outlinewidth\":0,\"ticks\":\"\"},\"colorscale\":[[0.0,\"#0d0887\"],[0.1111111111111111,\"#46039f\"],[0.2222222222222222,\"#7201a8\"],[0.3333333333333333,\"#9c179e\"],[0.4444444444444444,\"#bd3786\"],[0.5555555555555556,\"#d8576b\"],[0.6666666666666666,\"#ed7953\"],[0.7777777777777778,\"#fb9f3a\"],[0.8888888888888888,\"#fdca26\"],[1.0,\"#f0f921\"]],\"type\":\"heatmap\"}],\"heatmapgl\":[{\"colorbar\":{\"outlinewidth\":0,\"ticks\":\"\"},\"colorscale\":[[0.0,\"#0d0887\"],[0.1111111111111111,\"#46039f\"],[0.2222222222222222,\"#7201a8\"],[0.3333333333333333,\"#9c179e\"],[0.4444444444444444,\"#bd3786\"],[0.5555555555555556,\"#d8576b\"],[0.6666666666666666,\"#ed7953\"],[0.7777777777777778,\"#fb9f3a\"],[0.8888888888888888,\"#fdca26\"],[1.0,\"#f0f921\"]],\"type\":\"heatmapgl\"}],\"histogram\":[{\"marker\":{\"pattern\":{\"fillmode\":\"overlay\",\"size\":10,\"solidity\":0.2}},\"type\":\"histogram\"}],\"histogram2d\":[{\"colorbar\":{\"outlinewidth\":0,\"ticks\":\"\"},\"colorscale\":[[0.0,\"#0d0887\"],[0.1111111111111111,\"#46039f\"],[0.2222222222222222,\"#7201a8\"],[0.3333333333333333,\"#9c179e\"],[0.4444444444444444,\"#bd3786\"],[0.5555555555555556,\"#d8576b\"],[0.6666666666666666,\"#ed7953\"],[0.7777777777777778,\"#fb9f3a\"],[0.8888888888888888,\"#fdca26\"],[1.0,\"#f0f921\"]],\"type\":\"histogram2d\"}],\"histogram2dcontour\":[{\"colorbar\":{\"outlinewidth\":0,\"ticks\":\"\"},\"colorscale\":[[0.0,\"#0d0887\"],[0.1111111111111111,\"#46039f\"],[0.2222222222222222,\"#7201a8\"],[0.3333333333333333,\"#9c179e\"],[0.4444444444444444,\"#bd3786\"],[0.5555555555555556,\"#d8576b\"],[0.6666666666666666,\"#ed7953\"],[0.7777777777777778,\"#fb9f3a\"],[0.8888888888888888,\"#fdca26\"],[1.0,\"#f0f921\"]],\"type\":\"histogram2dcontour\"}],\"mesh3d\":[{\"colorbar\":{\"outlinewidth\":0,\"ticks\":\"\"},\"type\":\"mesh3d\"}],\"parcoords\":[{\"line\":{\"colorbar\":{\"outlinewidth\":0,\"ticks\":\"\"}},\"type\":\"parcoords\"}],\"pie\":[{\"automargin\":true,\"type\":\"pie\"}],\"scatter\":[{\"marker\":{\"colorbar\":{\"outlinewidth\":0,\"ticks\":\"\"}},\"type\":\"scatter\"}],\"scatter3d\":[{\"line\":{\"colorbar\":{\"outlinewidth\":0,\"ticks\":\"\"}},\"marker\":{\"colorbar\":{\"outlinewidth\":0,\"ticks\":\"\"}},\"type\":\"scatter3d\"}],\"scattercarpet\":[{\"marker\":{\"colorbar\":{\"outlinewidth\":0,\"ticks\":\"\"}},\"type\":\"scattercarpet\"}],\"scattergeo\":[{\"marker\":{\"colorbar\":{\"outlinewidth\":0,\"ticks\":\"\"}},\"type\":\"scattergeo\"}],\"scattergl\":[{\"marker\":{\"colorbar\":{\"outlinewidth\":0,\"ticks\":\"\"}},\"type\":\"scattergl\"}],\"scattermapbox\":[{\"marker\":{\"colorbar\":{\"outlinewidth\":0,\"ticks\":\"\"}},\"type\":\"scattermapbox\"}],\"scatterpolar\":[{\"marker\":{\"colorbar\":{\"outlinewidth\":0,\"ticks\":\"\"}},\"type\":\"scatterpolar\"}],\"scatterpolargl\":[{\"marker\":{\"colorbar\":{\"outlinewidth\":0,\"ticks\":\"\"}},\"type\":\"scatterpolargl\"}],\"scatterternary\":[{\"marker\":{\"colorbar\":{\"outlinewidth\":0,\"ticks\":\"\"}},\"type\":\"scatterternary\"}],\"surface\":[{\"colorbar\":{\"outlinewidth\":0,\"ticks\":\"\"},\"colorscale\":[[0.0,\"#0d0887\"],[0.1111111111111111,\"#46039f\"],[0.2222222222222222,\"#7201a8\"],[0.3333333333333333,\"#9c179e\"],[0.4444444444444444,\"#bd3786\"],[0.5555555555555556,\"#d8576b\"],[0.6666666666666666,\"#ed7953\"],[0.7777777777777778,\"#fb9f3a\"],[0.8888888888888888,\"#fdca26\"],[1.0,\"#f0f921\"]],\"type\":\"surface\"}],\"table\":[{\"cells\":{\"fill\":{\"color\":\"#EBF0F8\"},\"line\":{\"color\":\"white\"}},\"header\":{\"fill\":{\"color\":\"#C8D4E3\"},\"line\":{\"color\":\"white\"}},\"type\":\"table\"}]},\"layout\":{\"annotationdefaults\":{\"arrowcolor\":\"#2a3f5f\",\"arrowhead\":0,\"arrowwidth\":1},\"autotypenumbers\":\"strict\",\"coloraxis\":{\"colorbar\":{\"outlinewidth\":0,\"ticks\":\"\"}},\"colorscale\":{\"diverging\":[[0,\"#8e0152\"],[0.1,\"#c51b7d\"],[0.2,\"#de77ae\"],[0.3,\"#f1b6da\"],[0.4,\"#fde0ef\"],[0.5,\"#f7f7f7\"],[0.6,\"#e6f5d0\"],[0.7,\"#b8e186\"],[0.8,\"#7fbc41\"],[0.9,\"#4d9221\"],[1,\"#276419\"]],\"sequential\":[[0.0,\"#0d0887\"],[0.1111111111111111,\"#46039f\"],[0.2222222222222222,\"#7201a8\"],[0.3333333333333333,\"#9c179e\"],[0.4444444444444444,\"#bd3786\"],[0.5555555555555556,\"#d8576b\"],[0.6666666666666666,\"#ed7953\"],[0.7777777777777778,\"#fb9f3a\"],[0.8888888888888888,\"#fdca26\"],[1.0,\"#f0f921\"]],\"sequentialminus\":[[0.0,\"#0d0887\"],[0.1111111111111111,\"#46039f\"],[0.2222222222222222,\"#7201a8\"],[0.3333333333333333,\"#9c179e\"],[0.4444444444444444,\"#bd3786\"],[0.5555555555555556,\"#d8576b\"],[0.6666666666666666,\"#ed7953\"],[0.7777777777777778,\"#fb9f3a\"],[0.8888888888888888,\"#fdca26\"],[1.0,\"#f0f921\"]]},\"colorway\":[\"#636efa\",\"#EF553B\",\"#00cc96\",\"#ab63fa\",\"#FFA15A\",\"#19d3f3\",\"#FF6692\",\"#B6E880\",\"#FF97FF\",\"#FECB52\"],\"font\":{\"color\":\"#2a3f5f\"},\"geo\":{\"bgcolor\":\"white\",\"lakecolor\":\"white\",\"landcolor\":\"#E5ECF6\",\"showlakes\":true,\"showland\":true,\"subunitcolor\":\"white\"},\"hoverlabel\":{\"align\":\"left\"},\"hovermode\":\"closest\",\"mapbox\":{\"style\":\"light\"},\"paper_bgcolor\":\"white\",\"plot_bgcolor\":\"#E5ECF6\",\"polar\":{\"angularaxis\":{\"gridcolor\":\"white\",\"linecolor\":\"white\",\"ticks\":\"\"},\"bgcolor\":\"#E5ECF6\",\"radialaxis\":{\"gridcolor\":\"white\",\"linecolor\":\"white\",\"ticks\":\"\"}},\"scene\":{\"xaxis\":{\"backgroundcolor\":\"#E5ECF6\",\"gridcolor\":\"white\",\"gridwidth\":2,\"linecolor\":\"white\",\"showbackground\":true,\"ticks\":\"\",\"zerolinecolor\":\"white\"},\"yaxis\":{\"backgroundcolor\":\"#E5ECF6\",\"gridcolor\":\"white\",\"gridwidth\":2,\"linecolor\":\"white\",\"showbackground\":true,\"ticks\":\"\",\"zerolinecolor\":\"white\"},\"zaxis\":{\"backgroundcolor\":\"#E5ECF6\",\"gridcolor\":\"white\",\"gridwidth\":2,\"linecolor\":\"white\",\"showbackground\":true,\"ticks\":\"\",\"zerolinecolor\":\"white\"}},\"shapedefaults\":{\"line\":{\"color\":\"#2a3f5f\"}},\"ternary\":{\"aaxis\":{\"gridcolor\":\"white\",\"linecolor\":\"white\",\"ticks\":\"\"},\"baxis\":{\"gridcolor\":\"white\",\"linecolor\":\"white\",\"ticks\":\"\"},\"bgcolor\":\"#E5ECF6\",\"caxis\":{\"gridcolor\":\"white\",\"linecolor\":\"white\",\"ticks\":\"\"}},\"title\":{\"x\":0.05},\"xaxis\":{\"automargin\":true,\"gridcolor\":\"white\",\"linecolor\":\"white\",\"ticks\":\"\",\"title\":{\"standoff\":15},\"zerolinecolor\":\"white\",\"zerolinewidth\":2},\"yaxis\":{\"automargin\":true,\"gridcolor\":\"white\",\"linecolor\":\"white\",\"ticks\":\"\",\"title\":{\"standoff\":15},\"zerolinecolor\":\"white\",\"zerolinewidth\":2}}},\"title\":{\"font\":{\"size\":18},\"text\":\"Frequency of the Items Sold\",\"x\":0.5}},                        {\"responsive\": true}                    ).then(function(){\n",
       "                            \n",
       "var gd = document.getElementById('bd9464c6-e28a-4e14-be89-51d80ea59bf5');\n",
       "var x = new MutationObserver(function (mutations, observer) {{\n",
       "        var display = window.getComputedStyle(gd).display;\n",
       "        if (!display || display === 'none') {{\n",
       "            console.log([gd, 'removed!']);\n",
       "            Plotly.purge(gd);\n",
       "            observer.disconnect();\n",
       "        }}\n",
       "}});\n",
       "\n",
       "// Listen for the removal of the full notebook cells\n",
       "var notebookContainer = gd.closest('#notebook-container');\n",
       "if (notebookContainer) {{\n",
       "    x.observe(notebookContainer, {childList: true});\n",
       "}}\n",
       "\n",
       "// Listen for the clearing of the current output cell\n",
       "var outputEl = gd.closest('.output');\n",
       "if (outputEl) {{\n",
       "    x.observe(outputEl, {childList: true});\n",
       "}}\n",
       "\n",
       "                        })                };                });            </script>        </div>"
      ]
     },
     "metadata": {},
     "output_type": "display_data"
    }
   ],
   "source": [
    "Frequency_of_items = data.groupby(pd.Grouper(key='itemName')).size().reset_index(name='count')\n",
    "fig = px.treemap(Frequency_of_items, path=['itemName'], values='count')\n",
    "fig.update_layout(title_text='Frequency of the Items Sold',\n",
    "                  title_x=0.5, title_font=dict(size=18)\n",
    "                  )\n",
    "fig.update_traces(textinfo=\"label+value\")\n",
    "fig.show()"
   ]
  },
  {
   "cell_type": "markdown",
   "metadata": {
    "papermill": {
     "duration": 0.057623,
     "end_time": "2022-02-17T21:27:28.500519",
     "exception": false,
     "start_time": "2022-02-17T21:27:28.442896",
     "status": "completed"
    },
    "tags": []
   },
   "source": [
    "**Whole milk, vegetables and rolls/buns are top 3 products that sold for this groceries.**"
   ]
  },
  {
   "cell_type": "markdown",
   "metadata": {
    "papermill": {
     "duration": 0.056719,
     "end_time": "2022-02-17T21:27:28.615906",
     "exception": false,
     "start_time": "2022-02-17T21:27:28.559187",
     "status": "completed"
    },
    "tags": []
   },
   "source": [
    "# Top Customers regarding Number of Items bought"
   ]
  },
  {
   "cell_type": "code",
   "execution_count": 11,
   "metadata": {
    "_kg_hide-input": true,
    "execution": {
     "iopub.execute_input": "2022-02-17T21:27:28.742158Z",
     "iopub.status.busy": "2022-02-17T21:27:28.741288Z",
     "iopub.status.idle": "2022-02-17T21:27:28.851660Z",
     "shell.execute_reply": "2022-02-17T21:27:28.852252Z",
     "shell.execute_reply.started": "2022-02-17T21:24:09.204273Z"
    },
    "papermill": {
     "duration": 0.178159,
     "end_time": "2022-02-17T21:27:28.852465",
     "exception": false,
     "start_time": "2022-02-17T21:27:28.674306",
     "status": "completed"
    },
    "tags": []
   },
   "outputs": [
    {
     "data": {
      "text/html": [
       "<div>                            <div id=\"10a22759-d4b5-46b8-83f1-0a56d1886c7c\" class=\"plotly-graph-div\" style=\"height:525px; width:100%;\"></div>            <script type=\"text/javascript\">                require([\"plotly\"], function(Plotly) {                    window.PLOTLYENV=window.PLOTLYENV || {};                                    if (document.getElementById(\"10a22759-d4b5-46b8-83f1-0a56d1886c7c\")) {                    Plotly.newPlot(                        \"10a22759-d4b5-46b8-83f1-0a56d1886c7c\",                        [{\"alignmentgroup\":\"True\",\"hovertemplate\":\"memberID=%{x}<br>Number of Items Bought=%{marker.color}<extra></extra>\",\"legendgroup\":\"\",\"marker\":{\"color\":[36,33,33,33,31,31,31,31,30,29,29,29,29,28,28,28,28,28,27,27,27,27,27,27,27],\"coloraxis\":\"coloraxis\",\"line\":{\"color\":\"#000000\",\"width\":1},\"pattern\":{\"shape\":\"\"}},\"name\":\"\",\"offsetgroup\":\"\",\"orientation\":\"v\",\"showlegend\":false,\"textposition\":\"auto\",\"type\":\"bar\",\"x\":[\"3180\",\"3737\",\"3050\",\"2051\",\"2625\",\"3915\",\"2433\",\"2271\",\"3872\",\"3289\",\"4875\",\"2851\",\"2394\",\"4338\",\"1379\",\"3308\",\"4831\",\"2524\",\"1052\",\"2193\",\"1410\",\"4272\",\"3752\",\"1998\",\"2517\"],\"xaxis\":\"x\",\"y\":[36,33,33,33,31,31,31,31,30,29,29,29,29,28,28,28,28,28,27,27,27,27,27,27,27],\"yaxis\":\"y\"}],                        {\"barmode\":\"relative\",\"coloraxis\":{\"colorbar\":{\"title\":{\"text\":\"Number of Items Bought\"}},\"colorscale\":[[0.0,\"#0d0887\"],[0.1111111111111111,\"#46039f\"],[0.2222222222222222,\"#7201a8\"],[0.3333333333333333,\"#9c179e\"],[0.4444444444444444,\"#bd3786\"],[0.5555555555555556,\"#d8576b\"],[0.6666666666666666,\"#ed7953\"],[0.7777777777777778,\"#fb9f3a\"],[0.8888888888888888,\"#fdca26\"],[1.0,\"#f0f921\"]]},\"legend\":{\"tracegroupgap\":0},\"margin\":{\"t\":60},\"template\":{\"data\":{\"bar\":[{\"error_x\":{\"color\":\"#2a3f5f\"},\"error_y\":{\"color\":\"#2a3f5f\"},\"marker\":{\"line\":{\"color\":\"#E5ECF6\",\"width\":0.5},\"pattern\":{\"fillmode\":\"overlay\",\"size\":10,\"solidity\":0.2}},\"type\":\"bar\"}],\"barpolar\":[{\"marker\":{\"line\":{\"color\":\"#E5ECF6\",\"width\":0.5},\"pattern\":{\"fillmode\":\"overlay\",\"size\":10,\"solidity\":0.2}},\"type\":\"barpolar\"}],\"carpet\":[{\"aaxis\":{\"endlinecolor\":\"#2a3f5f\",\"gridcolor\":\"white\",\"linecolor\":\"white\",\"minorgridcolor\":\"white\",\"startlinecolor\":\"#2a3f5f\"},\"baxis\":{\"endlinecolor\":\"#2a3f5f\",\"gridcolor\":\"white\",\"linecolor\":\"white\",\"minorgridcolor\":\"white\",\"startlinecolor\":\"#2a3f5f\"},\"type\":\"carpet\"}],\"choropleth\":[{\"colorbar\":{\"outlinewidth\":0,\"ticks\":\"\"},\"type\":\"choropleth\"}],\"contour\":[{\"colorbar\":{\"outlinewidth\":0,\"ticks\":\"\"},\"colorscale\":[[0.0,\"#0d0887\"],[0.1111111111111111,\"#46039f\"],[0.2222222222222222,\"#7201a8\"],[0.3333333333333333,\"#9c179e\"],[0.4444444444444444,\"#bd3786\"],[0.5555555555555556,\"#d8576b\"],[0.6666666666666666,\"#ed7953\"],[0.7777777777777778,\"#fb9f3a\"],[0.8888888888888888,\"#fdca26\"],[1.0,\"#f0f921\"]],\"type\":\"contour\"}],\"contourcarpet\":[{\"colorbar\":{\"outlinewidth\":0,\"ticks\":\"\"},\"type\":\"contourcarpet\"}],\"heatmap\":[{\"colorbar\":{\"outlinewidth\":0,\"ticks\":\"\"},\"colorscale\":[[0.0,\"#0d0887\"],[0.1111111111111111,\"#46039f\"],[0.2222222222222222,\"#7201a8\"],[0.3333333333333333,\"#9c179e\"],[0.4444444444444444,\"#bd3786\"],[0.5555555555555556,\"#d8576b\"],[0.6666666666666666,\"#ed7953\"],[0.7777777777777778,\"#fb9f3a\"],[0.8888888888888888,\"#fdca26\"],[1.0,\"#f0f921\"]],\"type\":\"heatmap\"}],\"heatmapgl\":[{\"colorbar\":{\"outlinewidth\":0,\"ticks\":\"\"},\"colorscale\":[[0.0,\"#0d0887\"],[0.1111111111111111,\"#46039f\"],[0.2222222222222222,\"#7201a8\"],[0.3333333333333333,\"#9c179e\"],[0.4444444444444444,\"#bd3786\"],[0.5555555555555556,\"#d8576b\"],[0.6666666666666666,\"#ed7953\"],[0.7777777777777778,\"#fb9f3a\"],[0.8888888888888888,\"#fdca26\"],[1.0,\"#f0f921\"]],\"type\":\"heatmapgl\"}],\"histogram\":[{\"marker\":{\"pattern\":{\"fillmode\":\"overlay\",\"size\":10,\"solidity\":0.2}},\"type\":\"histogram\"}],\"histogram2d\":[{\"colorbar\":{\"outlinewidth\":0,\"ticks\":\"\"},\"colorscale\":[[0.0,\"#0d0887\"],[0.1111111111111111,\"#46039f\"],[0.2222222222222222,\"#7201a8\"],[0.3333333333333333,\"#9c179e\"],[0.4444444444444444,\"#bd3786\"],[0.5555555555555556,\"#d8576b\"],[0.6666666666666666,\"#ed7953\"],[0.7777777777777778,\"#fb9f3a\"],[0.8888888888888888,\"#fdca26\"],[1.0,\"#f0f921\"]],\"type\":\"histogram2d\"}],\"histogram2dcontour\":[{\"colorbar\":{\"outlinewidth\":0,\"ticks\":\"\"},\"colorscale\":[[0.0,\"#0d0887\"],[0.1111111111111111,\"#46039f\"],[0.2222222222222222,\"#7201a8\"],[0.3333333333333333,\"#9c179e\"],[0.4444444444444444,\"#bd3786\"],[0.5555555555555556,\"#d8576b\"],[0.6666666666666666,\"#ed7953\"],[0.7777777777777778,\"#fb9f3a\"],[0.8888888888888888,\"#fdca26\"],[1.0,\"#f0f921\"]],\"type\":\"histogram2dcontour\"}],\"mesh3d\":[{\"colorbar\":{\"outlinewidth\":0,\"ticks\":\"\"},\"type\":\"mesh3d\"}],\"parcoords\":[{\"line\":{\"colorbar\":{\"outlinewidth\":0,\"ticks\":\"\"}},\"type\":\"parcoords\"}],\"pie\":[{\"automargin\":true,\"type\":\"pie\"}],\"scatter\":[{\"marker\":{\"colorbar\":{\"outlinewidth\":0,\"ticks\":\"\"}},\"type\":\"scatter\"}],\"scatter3d\":[{\"line\":{\"colorbar\":{\"outlinewidth\":0,\"ticks\":\"\"}},\"marker\":{\"colorbar\":{\"outlinewidth\":0,\"ticks\":\"\"}},\"type\":\"scatter3d\"}],\"scattercarpet\":[{\"marker\":{\"colorbar\":{\"outlinewidth\":0,\"ticks\":\"\"}},\"type\":\"scattercarpet\"}],\"scattergeo\":[{\"marker\":{\"colorbar\":{\"outlinewidth\":0,\"ticks\":\"\"}},\"type\":\"scattergeo\"}],\"scattergl\":[{\"marker\":{\"colorbar\":{\"outlinewidth\":0,\"ticks\":\"\"}},\"type\":\"scattergl\"}],\"scattermapbox\":[{\"marker\":{\"colorbar\":{\"outlinewidth\":0,\"ticks\":\"\"}},\"type\":\"scattermapbox\"}],\"scatterpolar\":[{\"marker\":{\"colorbar\":{\"outlinewidth\":0,\"ticks\":\"\"}},\"type\":\"scatterpolar\"}],\"scatterpolargl\":[{\"marker\":{\"colorbar\":{\"outlinewidth\":0,\"ticks\":\"\"}},\"type\":\"scatterpolargl\"}],\"scatterternary\":[{\"marker\":{\"colorbar\":{\"outlinewidth\":0,\"ticks\":\"\"}},\"type\":\"scatterternary\"}],\"surface\":[{\"colorbar\":{\"outlinewidth\":0,\"ticks\":\"\"},\"colorscale\":[[0.0,\"#0d0887\"],[0.1111111111111111,\"#46039f\"],[0.2222222222222222,\"#7201a8\"],[0.3333333333333333,\"#9c179e\"],[0.4444444444444444,\"#bd3786\"],[0.5555555555555556,\"#d8576b\"],[0.6666666666666666,\"#ed7953\"],[0.7777777777777778,\"#fb9f3a\"],[0.8888888888888888,\"#fdca26\"],[1.0,\"#f0f921\"]],\"type\":\"surface\"}],\"table\":[{\"cells\":{\"fill\":{\"color\":\"#EBF0F8\"},\"line\":{\"color\":\"white\"}},\"header\":{\"fill\":{\"color\":\"#C8D4E3\"},\"line\":{\"color\":\"white\"}},\"type\":\"table\"}]},\"layout\":{\"annotationdefaults\":{\"arrowcolor\":\"#2a3f5f\",\"arrowhead\":0,\"arrowwidth\":1},\"autotypenumbers\":\"strict\",\"coloraxis\":{\"colorbar\":{\"outlinewidth\":0,\"ticks\":\"\"}},\"colorscale\":{\"diverging\":[[0,\"#8e0152\"],[0.1,\"#c51b7d\"],[0.2,\"#de77ae\"],[0.3,\"#f1b6da\"],[0.4,\"#fde0ef\"],[0.5,\"#f7f7f7\"],[0.6,\"#e6f5d0\"],[0.7,\"#b8e186\"],[0.8,\"#7fbc41\"],[0.9,\"#4d9221\"],[1,\"#276419\"]],\"sequential\":[[0.0,\"#0d0887\"],[0.1111111111111111,\"#46039f\"],[0.2222222222222222,\"#7201a8\"],[0.3333333333333333,\"#9c179e\"],[0.4444444444444444,\"#bd3786\"],[0.5555555555555556,\"#d8576b\"],[0.6666666666666666,\"#ed7953\"],[0.7777777777777778,\"#fb9f3a\"],[0.8888888888888888,\"#fdca26\"],[1.0,\"#f0f921\"]],\"sequentialminus\":[[0.0,\"#0d0887\"],[0.1111111111111111,\"#46039f\"],[0.2222222222222222,\"#7201a8\"],[0.3333333333333333,\"#9c179e\"],[0.4444444444444444,\"#bd3786\"],[0.5555555555555556,\"#d8576b\"],[0.6666666666666666,\"#ed7953\"],[0.7777777777777778,\"#fb9f3a\"],[0.8888888888888888,\"#fdca26\"],[1.0,\"#f0f921\"]]},\"colorway\":[\"#636efa\",\"#EF553B\",\"#00cc96\",\"#ab63fa\",\"#FFA15A\",\"#19d3f3\",\"#FF6692\",\"#B6E880\",\"#FF97FF\",\"#FECB52\"],\"font\":{\"color\":\"#2a3f5f\"},\"geo\":{\"bgcolor\":\"white\",\"lakecolor\":\"white\",\"landcolor\":\"#E5ECF6\",\"showlakes\":true,\"showland\":true,\"subunitcolor\":\"white\"},\"hoverlabel\":{\"align\":\"left\"},\"hovermode\":\"closest\",\"mapbox\":{\"style\":\"light\"},\"paper_bgcolor\":\"white\",\"plot_bgcolor\":\"#E5ECF6\",\"polar\":{\"angularaxis\":{\"gridcolor\":\"white\",\"linecolor\":\"white\",\"ticks\":\"\"},\"bgcolor\":\"#E5ECF6\",\"radialaxis\":{\"gridcolor\":\"white\",\"linecolor\":\"white\",\"ticks\":\"\"}},\"scene\":{\"xaxis\":{\"backgroundcolor\":\"#E5ECF6\",\"gridcolor\":\"white\",\"gridwidth\":2,\"linecolor\":\"white\",\"showbackground\":true,\"ticks\":\"\",\"zerolinecolor\":\"white\"},\"yaxis\":{\"backgroundcolor\":\"#E5ECF6\",\"gridcolor\":\"white\",\"gridwidth\":2,\"linecolor\":\"white\",\"showbackground\":true,\"ticks\":\"\",\"zerolinecolor\":\"white\"},\"zaxis\":{\"backgroundcolor\":\"#E5ECF6\",\"gridcolor\":\"white\",\"gridwidth\":2,\"linecolor\":\"white\",\"showbackground\":true,\"ticks\":\"\",\"zerolinecolor\":\"white\"}},\"shapedefaults\":{\"line\":{\"color\":\"#2a3f5f\"}},\"ternary\":{\"aaxis\":{\"gridcolor\":\"white\",\"linecolor\":\"white\",\"ticks\":\"\"},\"baxis\":{\"gridcolor\":\"white\",\"linecolor\":\"white\",\"ticks\":\"\"},\"bgcolor\":\"#E5ECF6\",\"caxis\":{\"gridcolor\":\"white\",\"linecolor\":\"white\",\"ticks\":\"\"}},\"title\":{\"x\":0.05},\"xaxis\":{\"automargin\":true,\"gridcolor\":\"white\",\"linecolor\":\"white\",\"ticks\":\"\",\"title\":{\"standoff\":15},\"zerolinecolor\":\"white\",\"zerolinewidth\":2},\"yaxis\":{\"automargin\":true,\"gridcolor\":\"white\",\"linecolor\":\"white\",\"ticks\":\"\",\"title\":{\"standoff\":15},\"zerolinecolor\":\"white\",\"zerolinewidth\":2}}},\"title\":{\"font\":{\"size\":18},\"text\":\"Top 20 Customers regarding Number of Items Bought\",\"x\":0.5},\"xaxis\":{\"anchor\":\"y\",\"domain\":[0.0,1.0],\"title\":{\"text\":\"memberID\"}},\"yaxis\":{\"anchor\":\"x\",\"domain\":[0.0,1.0],\"title\":{\"text\":\"Number of Items Bought\"}}},                        {\"responsive\": true}                    ).then(function(){\n",
       "                            \n",
       "var gd = document.getElementById('10a22759-d4b5-46b8-83f1-0a56d1886c7c');\n",
       "var x = new MutationObserver(function (mutations, observer) {{\n",
       "        var display = window.getComputedStyle(gd).display;\n",
       "        if (!display || display === 'none') {{\n",
       "            console.log([gd, 'removed!']);\n",
       "            Plotly.purge(gd);\n",
       "            observer.disconnect();\n",
       "        }}\n",
       "}});\n",
       "\n",
       "// Listen for the removal of the full notebook cells\n",
       "var notebookContainer = gd.closest('#notebook-container');\n",
       "if (notebookContainer) {{\n",
       "    x.observe(notebookContainer, {childList: true});\n",
       "}}\n",
       "\n",
       "// Listen for the clearing of the current output cell\n",
       "var outputEl = gd.closest('.output');\n",
       "if (outputEl) {{\n",
       "    x.observe(outputEl, {childList: true});\n",
       "}}\n",
       "\n",
       "                        })                };                });            </script>        </div>"
      ]
     },
     "metadata": {},
     "output_type": "display_data"
    }
   ],
   "source": [
    "user_item = data.groupby(pd.Grouper(key='memberID')).size().reset_index(name='count') \\\n",
    "    .sort_values(by='count', ascending=False)\n",
    "fig = px.bar(user_item.head(25), x='memberID', y='count',\n",
    "             labels={'y': 'Number of Sales',\n",
    "                     'count': 'Number of Items Bought'},\n",
    "             color='count')\n",
    "fig.update_layout(title_text='Top 20 Customers regarding Number of Items Bought',\n",
    "                  title_x=0.5, title_font=dict(size=18))\n",
    "fig.update_traces(marker=dict(line=dict(color='#000000', width=1)))\n",
    "fig.show()"
   ]
  },
  {
   "cell_type": "markdown",
   "metadata": {
    "papermill": {
     "duration": 0.058318,
     "end_time": "2022-02-17T21:27:28.968000",
     "exception": false,
     "start_time": "2022-02-17T21:27:28.909682",
     "status": "completed"
    },
    "tags": []
   },
   "source": [
    "**Customer 3180 looks like our the best customer :)**"
   ]
  },
  {
   "cell_type": "markdown",
   "metadata": {
    "papermill": {
     "duration": 0.064963,
     "end_time": "2022-02-17T21:27:29.094158",
     "exception": false,
     "start_time": "2022-02-17T21:27:29.029195",
     "status": "completed"
    },
    "tags": []
   },
   "source": [
    "# Number of Sales per Discrete Week Days\n"
   ]
  },
  {
   "cell_type": "code",
   "execution_count": 12,
   "metadata": {
    "_kg_hide-input": true,
    "execution": {
     "iopub.execute_input": "2022-02-17T21:27:29.216192Z",
     "iopub.status.busy": "2022-02-17T21:27:29.215217Z",
     "iopub.status.idle": "2022-02-17T21:27:29.587411Z",
     "shell.execute_reply": "2022-02-17T21:27:29.587976Z",
     "shell.execute_reply.started": "2022-02-17T21:24:09.321936Z"
    },
    "papermill": {
     "duration": 0.433172,
     "end_time": "2022-02-17T21:27:29.588168",
     "exception": false,
     "start_time": "2022-02-17T21:27:29.154996",
     "status": "completed"
    },
    "tags": []
   },
   "outputs": [
    {
     "data": {
      "text/html": [
       "<div>                            <div id=\"e85d6a2a-3741-49c4-a144-70c7f96edaaf\" class=\"plotly-graph-div\" style=\"height:525px; width:100%;\"></div>            <script type=\"text/javascript\">                require([\"plotly\"], function(Plotly) {                    window.PLOTLYENV=window.PLOTLYENV || {};                                    if (document.getElementById(\"e85d6a2a-3741-49c4-a144-70c7f96edaaf\")) {                    Plotly.newPlot(                        \"e85d6a2a-3741-49c4-a144-70c7f96edaaf\",                        [{\"alignmentgroup\":\"True\",\"hovertemplate\":\"Week Days=%{x}<br>Number of Sales=%{y}<br>color=%{marker.color}<extra></extra>\",\"legendgroup\":\"\",\"marker\":{\"color\":[5504,5299,5397,5624,5754,5524,5663],\"coloraxis\":\"coloraxis\",\"line\":{\"color\":\"#000000\",\"width\":1},\"pattern\":{\"shape\":\"\"}},\"name\":\"\",\"offsetgroup\":\"\",\"orientation\":\"v\",\"showlegend\":false,\"textposition\":\"auto\",\"type\":\"bar\",\"x\":[\"Friday\",\"Monday\",\"Saturday\",\"Sunday\",\"Thursday\",\"Tuesday\",\"Wednesday\"],\"xaxis\":\"x\",\"y\":[5504,5299,5397,5624,5754,5524,5663],\"yaxis\":\"y\"}],                        {\"barmode\":\"relative\",\"coloraxis\":{\"colorbar\":{\"title\":{\"text\":\"color\"}},\"colorscale\":[[0.0,\"#0d0887\"],[0.1111111111111111,\"#46039f\"],[0.2222222222222222,\"#7201a8\"],[0.3333333333333333,\"#9c179e\"],[0.4444444444444444,\"#bd3786\"],[0.5555555555555556,\"#d8576b\"],[0.6666666666666666,\"#ed7953\"],[0.7777777777777778,\"#fb9f3a\"],[0.8888888888888888,\"#fdca26\"],[1.0,\"#f0f921\"]]},\"legend\":{\"tracegroupgap\":0},\"margin\":{\"t\":60},\"template\":{\"data\":{\"bar\":[{\"error_x\":{\"color\":\"#2a3f5f\"},\"error_y\":{\"color\":\"#2a3f5f\"},\"marker\":{\"line\":{\"color\":\"#E5ECF6\",\"width\":0.5},\"pattern\":{\"fillmode\":\"overlay\",\"size\":10,\"solidity\":0.2}},\"type\":\"bar\"}],\"barpolar\":[{\"marker\":{\"line\":{\"color\":\"#E5ECF6\",\"width\":0.5},\"pattern\":{\"fillmode\":\"overlay\",\"size\":10,\"solidity\":0.2}},\"type\":\"barpolar\"}],\"carpet\":[{\"aaxis\":{\"endlinecolor\":\"#2a3f5f\",\"gridcolor\":\"white\",\"linecolor\":\"white\",\"minorgridcolor\":\"white\",\"startlinecolor\":\"#2a3f5f\"},\"baxis\":{\"endlinecolor\":\"#2a3f5f\",\"gridcolor\":\"white\",\"linecolor\":\"white\",\"minorgridcolor\":\"white\",\"startlinecolor\":\"#2a3f5f\"},\"type\":\"carpet\"}],\"choropleth\":[{\"colorbar\":{\"outlinewidth\":0,\"ticks\":\"\"},\"type\":\"choropleth\"}],\"contour\":[{\"colorbar\":{\"outlinewidth\":0,\"ticks\":\"\"},\"colorscale\":[[0.0,\"#0d0887\"],[0.1111111111111111,\"#46039f\"],[0.2222222222222222,\"#7201a8\"],[0.3333333333333333,\"#9c179e\"],[0.4444444444444444,\"#bd3786\"],[0.5555555555555556,\"#d8576b\"],[0.6666666666666666,\"#ed7953\"],[0.7777777777777778,\"#fb9f3a\"],[0.8888888888888888,\"#fdca26\"],[1.0,\"#f0f921\"]],\"type\":\"contour\"}],\"contourcarpet\":[{\"colorbar\":{\"outlinewidth\":0,\"ticks\":\"\"},\"type\":\"contourcarpet\"}],\"heatmap\":[{\"colorbar\":{\"outlinewidth\":0,\"ticks\":\"\"},\"colorscale\":[[0.0,\"#0d0887\"],[0.1111111111111111,\"#46039f\"],[0.2222222222222222,\"#7201a8\"],[0.3333333333333333,\"#9c179e\"],[0.4444444444444444,\"#bd3786\"],[0.5555555555555556,\"#d8576b\"],[0.6666666666666666,\"#ed7953\"],[0.7777777777777778,\"#fb9f3a\"],[0.8888888888888888,\"#fdca26\"],[1.0,\"#f0f921\"]],\"type\":\"heatmap\"}],\"heatmapgl\":[{\"colorbar\":{\"outlinewidth\":0,\"ticks\":\"\"},\"colorscale\":[[0.0,\"#0d0887\"],[0.1111111111111111,\"#46039f\"],[0.2222222222222222,\"#7201a8\"],[0.3333333333333333,\"#9c179e\"],[0.4444444444444444,\"#bd3786\"],[0.5555555555555556,\"#d8576b\"],[0.6666666666666666,\"#ed7953\"],[0.7777777777777778,\"#fb9f3a\"],[0.8888888888888888,\"#fdca26\"],[1.0,\"#f0f921\"]],\"type\":\"heatmapgl\"}],\"histogram\":[{\"marker\":{\"pattern\":{\"fillmode\":\"overlay\",\"size\":10,\"solidity\":0.2}},\"type\":\"histogram\"}],\"histogram2d\":[{\"colorbar\":{\"outlinewidth\":0,\"ticks\":\"\"},\"colorscale\":[[0.0,\"#0d0887\"],[0.1111111111111111,\"#46039f\"],[0.2222222222222222,\"#7201a8\"],[0.3333333333333333,\"#9c179e\"],[0.4444444444444444,\"#bd3786\"],[0.5555555555555556,\"#d8576b\"],[0.6666666666666666,\"#ed7953\"],[0.7777777777777778,\"#fb9f3a\"],[0.8888888888888888,\"#fdca26\"],[1.0,\"#f0f921\"]],\"type\":\"histogram2d\"}],\"histogram2dcontour\":[{\"colorbar\":{\"outlinewidth\":0,\"ticks\":\"\"},\"colorscale\":[[0.0,\"#0d0887\"],[0.1111111111111111,\"#46039f\"],[0.2222222222222222,\"#7201a8\"],[0.3333333333333333,\"#9c179e\"],[0.4444444444444444,\"#bd3786\"],[0.5555555555555556,\"#d8576b\"],[0.6666666666666666,\"#ed7953\"],[0.7777777777777778,\"#fb9f3a\"],[0.8888888888888888,\"#fdca26\"],[1.0,\"#f0f921\"]],\"type\":\"histogram2dcontour\"}],\"mesh3d\":[{\"colorbar\":{\"outlinewidth\":0,\"ticks\":\"\"},\"type\":\"mesh3d\"}],\"parcoords\":[{\"line\":{\"colorbar\":{\"outlinewidth\":0,\"ticks\":\"\"}},\"type\":\"parcoords\"}],\"pie\":[{\"automargin\":true,\"type\":\"pie\"}],\"scatter\":[{\"marker\":{\"colorbar\":{\"outlinewidth\":0,\"ticks\":\"\"}},\"type\":\"scatter\"}],\"scatter3d\":[{\"line\":{\"colorbar\":{\"outlinewidth\":0,\"ticks\":\"\"}},\"marker\":{\"colorbar\":{\"outlinewidth\":0,\"ticks\":\"\"}},\"type\":\"scatter3d\"}],\"scattercarpet\":[{\"marker\":{\"colorbar\":{\"outlinewidth\":0,\"ticks\":\"\"}},\"type\":\"scattercarpet\"}],\"scattergeo\":[{\"marker\":{\"colorbar\":{\"outlinewidth\":0,\"ticks\":\"\"}},\"type\":\"scattergeo\"}],\"scattergl\":[{\"marker\":{\"colorbar\":{\"outlinewidth\":0,\"ticks\":\"\"}},\"type\":\"scattergl\"}],\"scattermapbox\":[{\"marker\":{\"colorbar\":{\"outlinewidth\":0,\"ticks\":\"\"}},\"type\":\"scattermapbox\"}],\"scatterpolar\":[{\"marker\":{\"colorbar\":{\"outlinewidth\":0,\"ticks\":\"\"}},\"type\":\"scatterpolar\"}],\"scatterpolargl\":[{\"marker\":{\"colorbar\":{\"outlinewidth\":0,\"ticks\":\"\"}},\"type\":\"scatterpolargl\"}],\"scatterternary\":[{\"marker\":{\"colorbar\":{\"outlinewidth\":0,\"ticks\":\"\"}},\"type\":\"scatterternary\"}],\"surface\":[{\"colorbar\":{\"outlinewidth\":0,\"ticks\":\"\"},\"colorscale\":[[0.0,\"#0d0887\"],[0.1111111111111111,\"#46039f\"],[0.2222222222222222,\"#7201a8\"],[0.3333333333333333,\"#9c179e\"],[0.4444444444444444,\"#bd3786\"],[0.5555555555555556,\"#d8576b\"],[0.6666666666666666,\"#ed7953\"],[0.7777777777777778,\"#fb9f3a\"],[0.8888888888888888,\"#fdca26\"],[1.0,\"#f0f921\"]],\"type\":\"surface\"}],\"table\":[{\"cells\":{\"fill\":{\"color\":\"#EBF0F8\"},\"line\":{\"color\":\"white\"}},\"header\":{\"fill\":{\"color\":\"#C8D4E3\"},\"line\":{\"color\":\"white\"}},\"type\":\"table\"}]},\"layout\":{\"annotationdefaults\":{\"arrowcolor\":\"#2a3f5f\",\"arrowhead\":0,\"arrowwidth\":1},\"autotypenumbers\":\"strict\",\"coloraxis\":{\"colorbar\":{\"outlinewidth\":0,\"ticks\":\"\"}},\"colorscale\":{\"diverging\":[[0,\"#8e0152\"],[0.1,\"#c51b7d\"],[0.2,\"#de77ae\"],[0.3,\"#f1b6da\"],[0.4,\"#fde0ef\"],[0.5,\"#f7f7f7\"],[0.6,\"#e6f5d0\"],[0.7,\"#b8e186\"],[0.8,\"#7fbc41\"],[0.9,\"#4d9221\"],[1,\"#276419\"]],\"sequential\":[[0.0,\"#0d0887\"],[0.1111111111111111,\"#46039f\"],[0.2222222222222222,\"#7201a8\"],[0.3333333333333333,\"#9c179e\"],[0.4444444444444444,\"#bd3786\"],[0.5555555555555556,\"#d8576b\"],[0.6666666666666666,\"#ed7953\"],[0.7777777777777778,\"#fb9f3a\"],[0.8888888888888888,\"#fdca26\"],[1.0,\"#f0f921\"]],\"sequentialminus\":[[0.0,\"#0d0887\"],[0.1111111111111111,\"#46039f\"],[0.2222222222222222,\"#7201a8\"],[0.3333333333333333,\"#9c179e\"],[0.4444444444444444,\"#bd3786\"],[0.5555555555555556,\"#d8576b\"],[0.6666666666666666,\"#ed7953\"],[0.7777777777777778,\"#fb9f3a\"],[0.8888888888888888,\"#fdca26\"],[1.0,\"#f0f921\"]]},\"colorway\":[\"#636efa\",\"#EF553B\",\"#00cc96\",\"#ab63fa\",\"#FFA15A\",\"#19d3f3\",\"#FF6692\",\"#B6E880\",\"#FF97FF\",\"#FECB52\"],\"font\":{\"color\":\"#2a3f5f\"},\"geo\":{\"bgcolor\":\"white\",\"lakecolor\":\"white\",\"landcolor\":\"#E5ECF6\",\"showlakes\":true,\"showland\":true,\"subunitcolor\":\"white\"},\"hoverlabel\":{\"align\":\"left\"},\"hovermode\":\"closest\",\"mapbox\":{\"style\":\"light\"},\"paper_bgcolor\":\"white\",\"plot_bgcolor\":\"#E5ECF6\",\"polar\":{\"angularaxis\":{\"gridcolor\":\"white\",\"linecolor\":\"white\",\"ticks\":\"\"},\"bgcolor\":\"#E5ECF6\",\"radialaxis\":{\"gridcolor\":\"white\",\"linecolor\":\"white\",\"ticks\":\"\"}},\"scene\":{\"xaxis\":{\"backgroundcolor\":\"#E5ECF6\",\"gridcolor\":\"white\",\"gridwidth\":2,\"linecolor\":\"white\",\"showbackground\":true,\"ticks\":\"\",\"zerolinecolor\":\"white\"},\"yaxis\":{\"backgroundcolor\":\"#E5ECF6\",\"gridcolor\":\"white\",\"gridwidth\":2,\"linecolor\":\"white\",\"showbackground\":true,\"ticks\":\"\",\"zerolinecolor\":\"white\"},\"zaxis\":{\"backgroundcolor\":\"#E5ECF6\",\"gridcolor\":\"white\",\"gridwidth\":2,\"linecolor\":\"white\",\"showbackground\":true,\"ticks\":\"\",\"zerolinecolor\":\"white\"}},\"shapedefaults\":{\"line\":{\"color\":\"#2a3f5f\"}},\"ternary\":{\"aaxis\":{\"gridcolor\":\"white\",\"linecolor\":\"white\",\"ticks\":\"\"},\"baxis\":{\"gridcolor\":\"white\",\"linecolor\":\"white\",\"ticks\":\"\"},\"bgcolor\":\"#E5ECF6\",\"caxis\":{\"gridcolor\":\"white\",\"linecolor\":\"white\",\"ticks\":\"\"}},\"title\":{\"x\":0.05},\"xaxis\":{\"automargin\":true,\"gridcolor\":\"white\",\"linecolor\":\"white\",\"ticks\":\"\",\"title\":{\"standoff\":15},\"zerolinecolor\":\"white\",\"zerolinewidth\":2},\"yaxis\":{\"automargin\":true,\"gridcolor\":\"white\",\"linecolor\":\"white\",\"ticks\":\"\",\"title\":{\"standoff\":15},\"zerolinecolor\":\"white\",\"zerolinewidth\":2}}},\"title\":{\"font\":{\"size\":18},\"text\":\"Number of Sales per Discrete Week Days\",\"x\":0.5},\"xaxis\":{\"anchor\":\"y\",\"domain\":[0.0,1.0],\"title\":{\"text\":\"Week Days\"}},\"yaxis\":{\"anchor\":\"x\",\"domain\":[0.0,1.0],\"title\":{\"text\":\"Number of Sales\"}}},                        {\"responsive\": true}                    ).then(function(){\n",
       "                            \n",
       "var gd = document.getElementById('e85d6a2a-3741-49c4-a144-70c7f96edaaf');\n",
       "var x = new MutationObserver(function (mutations, observer) {{\n",
       "        var display = window.getComputedStyle(gd).display;\n",
       "        if (!display || display === 'none') {{\n",
       "            console.log([gd, 'removed!']);\n",
       "            Plotly.purge(gd);\n",
       "            observer.disconnect();\n",
       "        }}\n",
       "}});\n",
       "\n",
       "// Listen for the removal of the full notebook cells\n",
       "var notebookContainer = gd.closest('#notebook-container');\n",
       "if (notebookContainer) {{\n",
       "    x.observe(notebookContainer, {childList: true});\n",
       "}}\n",
       "\n",
       "// Listen for the clearing of the current output cell\n",
       "var outputEl = gd.closest('.output');\n",
       "if (outputEl) {{\n",
       "    x.observe(outputEl, {childList: true});\n",
       "}}\n",
       "\n",
       "                        })                };                });            </script>        </div>"
      ]
     },
     "metadata": {},
     "output_type": "display_data"
    }
   ],
   "source": [
    "day = data.groupby(data['Date'].dt.strftime('%A'))['itemName'].count()\n",
    "fig = px.bar(day, x=day.index, y=day, color=day,\n",
    "             labels={'y': 'Number of Sales',\n",
    "                     'Date': 'Week Days'})\n",
    "fig.update_layout(title_text='Number of Sales per Discrete Week Days',\n",
    "                  title_x=0.5, title_font=dict(size=18))\n",
    "fig.update_traces(marker=dict(line=dict(color='#000000', width=1)))\n",
    "fig.show()"
   ]
  },
  {
   "cell_type": "markdown",
   "metadata": {
    "papermill": {
     "duration": 0.05656,
     "end_time": "2022-02-17T21:27:29.702710",
     "exception": false,
     "start_time": "2022-02-17T21:27:29.646150",
     "status": "completed"
    },
    "tags": []
   },
   "source": [
    "**According to the graph above, there are more sales on Thursdays. Sunday and Wednesday are the following days for the most sales made.**"
   ]
  },
  {
   "cell_type": "markdown",
   "metadata": {
    "papermill": {
     "duration": 0.056284,
     "end_time": "2022-02-17T21:27:29.816956",
     "exception": false,
     "start_time": "2022-02-17T21:27:29.760672",
     "status": "completed"
    },
    "tags": []
   },
   "source": [
    "# Number of Sales per Discrete Months\n"
   ]
  },
  {
   "cell_type": "code",
   "execution_count": 13,
   "metadata": {
    "_kg_hide-input": true,
    "execution": {
     "iopub.execute_input": "2022-02-17T21:27:29.939815Z",
     "iopub.status.busy": "2022-02-17T21:27:29.939082Z",
     "iopub.status.idle": "2022-02-17T21:27:30.323454Z",
     "shell.execute_reply": "2022-02-17T21:27:30.322881Z",
     "shell.execute_reply.started": "2022-02-17T21:24:09.694537Z"
    },
    "papermill": {
     "duration": 0.449507,
     "end_time": "2022-02-17T21:27:30.323614",
     "exception": false,
     "start_time": "2022-02-17T21:27:29.874107",
     "status": "completed"
    },
    "tags": []
   },
   "outputs": [
    {
     "data": {
      "text/html": [
       "<div>                            <div id=\"bbe0457d-af94-4aed-aeca-28b5190b642a\" class=\"plotly-graph-div\" style=\"height:525px; width:100%;\"></div>            <script type=\"text/javascript\">                require([\"plotly\"], function(Plotly) {                    window.PLOTLYENV=window.PLOTLYENV || {};                                    if (document.getElementById(\"bbe0457d-af94-4aed-aeca-28b5190b642a\")) {                    Plotly.newPlot(                        \"bbe0457d-af94-4aed-aeca-28b5190b642a\",                        [{\"alignmentgroup\":\"True\",\"hovertemplate\":\"Months=%{x}<br>Number of Sales=%{y}<br>color=%{marker.color}<extra></extra>\",\"legendgroup\":\"\",\"marker\":{\"color\":[3333,3032,3283,3172,3335,3316,3268,3498,2963,3218,3273,3074],\"coloraxis\":\"coloraxis\",\"line\":{\"color\":\"#000000\",\"width\":1},\"pattern\":{\"shape\":\"\"}},\"name\":\"\",\"offsetgroup\":\"\",\"orientation\":\"v\",\"showlegend\":false,\"textposition\":\"auto\",\"type\":\"bar\",\"x\":[\"01\",\"02\",\"03\",\"04\",\"05\",\"06\",\"07\",\"08\",\"09\",\"10\",\"11\",\"12\"],\"xaxis\":\"x\",\"y\":[3333,3032,3283,3172,3335,3316,3268,3498,2963,3218,3273,3074],\"yaxis\":\"y\"}],                        {\"barmode\":\"relative\",\"coloraxis\":{\"colorbar\":{\"title\":{\"text\":\"color\"}},\"colorscale\":[[0.0,\"#0d0887\"],[0.1111111111111111,\"#46039f\"],[0.2222222222222222,\"#7201a8\"],[0.3333333333333333,\"#9c179e\"],[0.4444444444444444,\"#bd3786\"],[0.5555555555555556,\"#d8576b\"],[0.6666666666666666,\"#ed7953\"],[0.7777777777777778,\"#fb9f3a\"],[0.8888888888888888,\"#fdca26\"],[1.0,\"#f0f921\"]]},\"legend\":{\"tracegroupgap\":0},\"margin\":{\"t\":60},\"template\":{\"data\":{\"bar\":[{\"error_x\":{\"color\":\"#2a3f5f\"},\"error_y\":{\"color\":\"#2a3f5f\"},\"marker\":{\"line\":{\"color\":\"#E5ECF6\",\"width\":0.5},\"pattern\":{\"fillmode\":\"overlay\",\"size\":10,\"solidity\":0.2}},\"type\":\"bar\"}],\"barpolar\":[{\"marker\":{\"line\":{\"color\":\"#E5ECF6\",\"width\":0.5},\"pattern\":{\"fillmode\":\"overlay\",\"size\":10,\"solidity\":0.2}},\"type\":\"barpolar\"}],\"carpet\":[{\"aaxis\":{\"endlinecolor\":\"#2a3f5f\",\"gridcolor\":\"white\",\"linecolor\":\"white\",\"minorgridcolor\":\"white\",\"startlinecolor\":\"#2a3f5f\"},\"baxis\":{\"endlinecolor\":\"#2a3f5f\",\"gridcolor\":\"white\",\"linecolor\":\"white\",\"minorgridcolor\":\"white\",\"startlinecolor\":\"#2a3f5f\"},\"type\":\"carpet\"}],\"choropleth\":[{\"colorbar\":{\"outlinewidth\":0,\"ticks\":\"\"},\"type\":\"choropleth\"}],\"contour\":[{\"colorbar\":{\"outlinewidth\":0,\"ticks\":\"\"},\"colorscale\":[[0.0,\"#0d0887\"],[0.1111111111111111,\"#46039f\"],[0.2222222222222222,\"#7201a8\"],[0.3333333333333333,\"#9c179e\"],[0.4444444444444444,\"#bd3786\"],[0.5555555555555556,\"#d8576b\"],[0.6666666666666666,\"#ed7953\"],[0.7777777777777778,\"#fb9f3a\"],[0.8888888888888888,\"#fdca26\"],[1.0,\"#f0f921\"]],\"type\":\"contour\"}],\"contourcarpet\":[{\"colorbar\":{\"outlinewidth\":0,\"ticks\":\"\"},\"type\":\"contourcarpet\"}],\"heatmap\":[{\"colorbar\":{\"outlinewidth\":0,\"ticks\":\"\"},\"colorscale\":[[0.0,\"#0d0887\"],[0.1111111111111111,\"#46039f\"],[0.2222222222222222,\"#7201a8\"],[0.3333333333333333,\"#9c179e\"],[0.4444444444444444,\"#bd3786\"],[0.5555555555555556,\"#d8576b\"],[0.6666666666666666,\"#ed7953\"],[0.7777777777777778,\"#fb9f3a\"],[0.8888888888888888,\"#fdca26\"],[1.0,\"#f0f921\"]],\"type\":\"heatmap\"}],\"heatmapgl\":[{\"colorbar\":{\"outlinewidth\":0,\"ticks\":\"\"},\"colorscale\":[[0.0,\"#0d0887\"],[0.1111111111111111,\"#46039f\"],[0.2222222222222222,\"#7201a8\"],[0.3333333333333333,\"#9c179e\"],[0.4444444444444444,\"#bd3786\"],[0.5555555555555556,\"#d8576b\"],[0.6666666666666666,\"#ed7953\"],[0.7777777777777778,\"#fb9f3a\"],[0.8888888888888888,\"#fdca26\"],[1.0,\"#f0f921\"]],\"type\":\"heatmapgl\"}],\"histogram\":[{\"marker\":{\"pattern\":{\"fillmode\":\"overlay\",\"size\":10,\"solidity\":0.2}},\"type\":\"histogram\"}],\"histogram2d\":[{\"colorbar\":{\"outlinewidth\":0,\"ticks\":\"\"},\"colorscale\":[[0.0,\"#0d0887\"],[0.1111111111111111,\"#46039f\"],[0.2222222222222222,\"#7201a8\"],[0.3333333333333333,\"#9c179e\"],[0.4444444444444444,\"#bd3786\"],[0.5555555555555556,\"#d8576b\"],[0.6666666666666666,\"#ed7953\"],[0.7777777777777778,\"#fb9f3a\"],[0.8888888888888888,\"#fdca26\"],[1.0,\"#f0f921\"]],\"type\":\"histogram2d\"}],\"histogram2dcontour\":[{\"colorbar\":{\"outlinewidth\":0,\"ticks\":\"\"},\"colorscale\":[[0.0,\"#0d0887\"],[0.1111111111111111,\"#46039f\"],[0.2222222222222222,\"#7201a8\"],[0.3333333333333333,\"#9c179e\"],[0.4444444444444444,\"#bd3786\"],[0.5555555555555556,\"#d8576b\"],[0.6666666666666666,\"#ed7953\"],[0.7777777777777778,\"#fb9f3a\"],[0.8888888888888888,\"#fdca26\"],[1.0,\"#f0f921\"]],\"type\":\"histogram2dcontour\"}],\"mesh3d\":[{\"colorbar\":{\"outlinewidth\":0,\"ticks\":\"\"},\"type\":\"mesh3d\"}],\"parcoords\":[{\"line\":{\"colorbar\":{\"outlinewidth\":0,\"ticks\":\"\"}},\"type\":\"parcoords\"}],\"pie\":[{\"automargin\":true,\"type\":\"pie\"}],\"scatter\":[{\"marker\":{\"colorbar\":{\"outlinewidth\":0,\"ticks\":\"\"}},\"type\":\"scatter\"}],\"scatter3d\":[{\"line\":{\"colorbar\":{\"outlinewidth\":0,\"ticks\":\"\"}},\"marker\":{\"colorbar\":{\"outlinewidth\":0,\"ticks\":\"\"}},\"type\":\"scatter3d\"}],\"scattercarpet\":[{\"marker\":{\"colorbar\":{\"outlinewidth\":0,\"ticks\":\"\"}},\"type\":\"scattercarpet\"}],\"scattergeo\":[{\"marker\":{\"colorbar\":{\"outlinewidth\":0,\"ticks\":\"\"}},\"type\":\"scattergeo\"}],\"scattergl\":[{\"marker\":{\"colorbar\":{\"outlinewidth\":0,\"ticks\":\"\"}},\"type\":\"scattergl\"}],\"scattermapbox\":[{\"marker\":{\"colorbar\":{\"outlinewidth\":0,\"ticks\":\"\"}},\"type\":\"scattermapbox\"}],\"scatterpolar\":[{\"marker\":{\"colorbar\":{\"outlinewidth\":0,\"ticks\":\"\"}},\"type\":\"scatterpolar\"}],\"scatterpolargl\":[{\"marker\":{\"colorbar\":{\"outlinewidth\":0,\"ticks\":\"\"}},\"type\":\"scatterpolargl\"}],\"scatterternary\":[{\"marker\":{\"colorbar\":{\"outlinewidth\":0,\"ticks\":\"\"}},\"type\":\"scatterternary\"}],\"surface\":[{\"colorbar\":{\"outlinewidth\":0,\"ticks\":\"\"},\"colorscale\":[[0.0,\"#0d0887\"],[0.1111111111111111,\"#46039f\"],[0.2222222222222222,\"#7201a8\"],[0.3333333333333333,\"#9c179e\"],[0.4444444444444444,\"#bd3786\"],[0.5555555555555556,\"#d8576b\"],[0.6666666666666666,\"#ed7953\"],[0.7777777777777778,\"#fb9f3a\"],[0.8888888888888888,\"#fdca26\"],[1.0,\"#f0f921\"]],\"type\":\"surface\"}],\"table\":[{\"cells\":{\"fill\":{\"color\":\"#EBF0F8\"},\"line\":{\"color\":\"white\"}},\"header\":{\"fill\":{\"color\":\"#C8D4E3\"},\"line\":{\"color\":\"white\"}},\"type\":\"table\"}]},\"layout\":{\"annotationdefaults\":{\"arrowcolor\":\"#2a3f5f\",\"arrowhead\":0,\"arrowwidth\":1},\"autotypenumbers\":\"strict\",\"coloraxis\":{\"colorbar\":{\"outlinewidth\":0,\"ticks\":\"\"}},\"colorscale\":{\"diverging\":[[0,\"#8e0152\"],[0.1,\"#c51b7d\"],[0.2,\"#de77ae\"],[0.3,\"#f1b6da\"],[0.4,\"#fde0ef\"],[0.5,\"#f7f7f7\"],[0.6,\"#e6f5d0\"],[0.7,\"#b8e186\"],[0.8,\"#7fbc41\"],[0.9,\"#4d9221\"],[1,\"#276419\"]],\"sequential\":[[0.0,\"#0d0887\"],[0.1111111111111111,\"#46039f\"],[0.2222222222222222,\"#7201a8\"],[0.3333333333333333,\"#9c179e\"],[0.4444444444444444,\"#bd3786\"],[0.5555555555555556,\"#d8576b\"],[0.6666666666666666,\"#ed7953\"],[0.7777777777777778,\"#fb9f3a\"],[0.8888888888888888,\"#fdca26\"],[1.0,\"#f0f921\"]],\"sequentialminus\":[[0.0,\"#0d0887\"],[0.1111111111111111,\"#46039f\"],[0.2222222222222222,\"#7201a8\"],[0.3333333333333333,\"#9c179e\"],[0.4444444444444444,\"#bd3786\"],[0.5555555555555556,\"#d8576b\"],[0.6666666666666666,\"#ed7953\"],[0.7777777777777778,\"#fb9f3a\"],[0.8888888888888888,\"#fdca26\"],[1.0,\"#f0f921\"]]},\"colorway\":[\"#636efa\",\"#EF553B\",\"#00cc96\",\"#ab63fa\",\"#FFA15A\",\"#19d3f3\",\"#FF6692\",\"#B6E880\",\"#FF97FF\",\"#FECB52\"],\"font\":{\"color\":\"#2a3f5f\"},\"geo\":{\"bgcolor\":\"white\",\"lakecolor\":\"white\",\"landcolor\":\"#E5ECF6\",\"showlakes\":true,\"showland\":true,\"subunitcolor\":\"white\"},\"hoverlabel\":{\"align\":\"left\"},\"hovermode\":\"closest\",\"mapbox\":{\"style\":\"light\"},\"paper_bgcolor\":\"white\",\"plot_bgcolor\":\"#E5ECF6\",\"polar\":{\"angularaxis\":{\"gridcolor\":\"white\",\"linecolor\":\"white\",\"ticks\":\"\"},\"bgcolor\":\"#E5ECF6\",\"radialaxis\":{\"gridcolor\":\"white\",\"linecolor\":\"white\",\"ticks\":\"\"}},\"scene\":{\"xaxis\":{\"backgroundcolor\":\"#E5ECF6\",\"gridcolor\":\"white\",\"gridwidth\":2,\"linecolor\":\"white\",\"showbackground\":true,\"ticks\":\"\",\"zerolinecolor\":\"white\"},\"yaxis\":{\"backgroundcolor\":\"#E5ECF6\",\"gridcolor\":\"white\",\"gridwidth\":2,\"linecolor\":\"white\",\"showbackground\":true,\"ticks\":\"\",\"zerolinecolor\":\"white\"},\"zaxis\":{\"backgroundcolor\":\"#E5ECF6\",\"gridcolor\":\"white\",\"gridwidth\":2,\"linecolor\":\"white\",\"showbackground\":true,\"ticks\":\"\",\"zerolinecolor\":\"white\"}},\"shapedefaults\":{\"line\":{\"color\":\"#2a3f5f\"}},\"ternary\":{\"aaxis\":{\"gridcolor\":\"white\",\"linecolor\":\"white\",\"ticks\":\"\"},\"baxis\":{\"gridcolor\":\"white\",\"linecolor\":\"white\",\"ticks\":\"\"},\"bgcolor\":\"#E5ECF6\",\"caxis\":{\"gridcolor\":\"white\",\"linecolor\":\"white\",\"ticks\":\"\"}},\"title\":{\"x\":0.05},\"xaxis\":{\"automargin\":true,\"gridcolor\":\"white\",\"linecolor\":\"white\",\"ticks\":\"\",\"title\":{\"standoff\":15},\"zerolinecolor\":\"white\",\"zerolinewidth\":2},\"yaxis\":{\"automargin\":true,\"gridcolor\":\"white\",\"linecolor\":\"white\",\"ticks\":\"\",\"title\":{\"standoff\":15},\"zerolinecolor\":\"white\",\"zerolinewidth\":2}}},\"title\":{\"font\":{\"size\":18},\"text\":\"Number of Sales per Discrete Months\",\"x\":0.5},\"xaxis\":{\"anchor\":\"y\",\"domain\":[0.0,1.0],\"title\":{\"text\":\"Months\"}},\"yaxis\":{\"anchor\":\"x\",\"domain\":[0.0,1.0],\"title\":{\"text\":\"Number of Sales\"}}},                        {\"responsive\": true}                    ).then(function(){\n",
       "                            \n",
       "var gd = document.getElementById('bbe0457d-af94-4aed-aeca-28b5190b642a');\n",
       "var x = new MutationObserver(function (mutations, observer) {{\n",
       "        var display = window.getComputedStyle(gd).display;\n",
       "        if (!display || display === 'none') {{\n",
       "            console.log([gd, 'removed!']);\n",
       "            Plotly.purge(gd);\n",
       "            observer.disconnect();\n",
       "        }}\n",
       "}});\n",
       "\n",
       "// Listen for the removal of the full notebook cells\n",
       "var notebookContainer = gd.closest('#notebook-container');\n",
       "if (notebookContainer) {{\n",
       "    x.observe(notebookContainer, {childList: true});\n",
       "}}\n",
       "\n",
       "// Listen for the clearing of the current output cell\n",
       "var outputEl = gd.closest('.output');\n",
       "if (outputEl) {{\n",
       "    x.observe(outputEl, {childList: true});\n",
       "}}\n",
       "\n",
       "                        })                };                });            </script>        </div>"
      ]
     },
     "metadata": {},
     "output_type": "display_data"
    }
   ],
   "source": [
    "month = data.groupby(data['Date'].dt.strftime('%m'))['itemName'].count()\n",
    "fig = px.bar(month, x=month.index, y=month, color=month,\n",
    "             labels={'y': 'Number of Sales',\n",
    "                     'Date': 'Months'})\n",
    "fig.update_layout(title_text='Number of Sales per Discrete Months',\n",
    "                  title_x=0.5, title_font=dict(size=18))\n",
    "fig.update_traces(marker=dict(line=dict(color='#000000', width=1)))\n",
    "fig.show()"
   ]
  },
  {
   "cell_type": "markdown",
   "metadata": {
    "papermill": {
     "duration": 0.057927,
     "end_time": "2022-02-17T21:27:30.440165",
     "exception": false,
     "start_time": "2022-02-17T21:27:30.382238",
     "status": "completed"
    },
    "tags": []
   },
   "source": [
    "# Number of Sales per Discrete Month Days\n"
   ]
  },
  {
   "cell_type": "code",
   "execution_count": 14,
   "metadata": {
    "_kg_hide-input": true,
    "execution": {
     "iopub.execute_input": "2022-02-17T21:27:30.564316Z",
     "iopub.status.busy": "2022-02-17T21:27:30.563593Z",
     "iopub.status.idle": "2022-02-17T21:27:31.117826Z",
     "shell.execute_reply": "2022-02-17T21:27:31.117164Z",
     "shell.execute_reply.started": "2022-02-17T21:24:10.063741Z"
    },
    "papermill": {
     "duration": 0.619946,
     "end_time": "2022-02-17T21:27:31.118010",
     "exception": false,
     "start_time": "2022-02-17T21:27:30.498064",
     "status": "completed"
    },
    "tags": []
   },
   "outputs": [
    {
     "data": {
      "text/html": [
       "<div>                            <div id=\"6f8010b3-796f-4e9a-911a-83f487c301f5\" class=\"plotly-graph-div\" style=\"height:525px; width:100%;\"></div>            <script type=\"text/javascript\">                require([\"plotly\"], function(Plotly) {                    window.PLOTLYENV=window.PLOTLYENV || {};                                    if (document.getElementById(\"6f8010b3-796f-4e9a-911a-83f487c301f5\")) {                    Plotly.newPlot(                        \"6f8010b3-796f-4e9a-911a-83f487c301f5\",                        [{\"alignmentgroup\":\"True\",\"hovertemplate\":\"Month Days=%{x}<br>Number of Sales=%{y}<br>color=%{marker.color}<extra></extra>\",\"legendgroup\":\"\",\"marker\":{\"color\":[1250,1252,1243,1308,1290,1232,1277,1349,1271,1308,1297,1179,1341,1341,1245,1158,1181,1285,1272,1214,1354,1272,1277,1290,1229,1351,1327,1375,1124,1201,672],\"coloraxis\":\"coloraxis\",\"line\":{\"color\":\"#000000\",\"width\":1},\"pattern\":{\"shape\":\"\"}},\"name\":\"\",\"offsetgroup\":\"\",\"orientation\":\"v\",\"showlegend\":false,\"textposition\":\"auto\",\"type\":\"bar\",\"x\":[\"01\",\"02\",\"03\",\"04\",\"05\",\"06\",\"07\",\"08\",\"09\",\"10\",\"11\",\"12\",\"13\",\"14\",\"15\",\"16\",\"17\",\"18\",\"19\",\"20\",\"21\",\"22\",\"23\",\"24\",\"25\",\"26\",\"27\",\"28\",\"29\",\"30\",\"31\"],\"xaxis\":\"x\",\"y\":[1250,1252,1243,1308,1290,1232,1277,1349,1271,1308,1297,1179,1341,1341,1245,1158,1181,1285,1272,1214,1354,1272,1277,1290,1229,1351,1327,1375,1124,1201,672],\"yaxis\":\"y\"}],                        {\"barmode\":\"relative\",\"coloraxis\":{\"colorbar\":{\"title\":{\"text\":\"color\"}},\"colorscale\":[[0.0,\"#0d0887\"],[0.1111111111111111,\"#46039f\"],[0.2222222222222222,\"#7201a8\"],[0.3333333333333333,\"#9c179e\"],[0.4444444444444444,\"#bd3786\"],[0.5555555555555556,\"#d8576b\"],[0.6666666666666666,\"#ed7953\"],[0.7777777777777778,\"#fb9f3a\"],[0.8888888888888888,\"#fdca26\"],[1.0,\"#f0f921\"]]},\"legend\":{\"tracegroupgap\":0},\"margin\":{\"t\":60},\"template\":{\"data\":{\"bar\":[{\"error_x\":{\"color\":\"#2a3f5f\"},\"error_y\":{\"color\":\"#2a3f5f\"},\"marker\":{\"line\":{\"color\":\"#E5ECF6\",\"width\":0.5},\"pattern\":{\"fillmode\":\"overlay\",\"size\":10,\"solidity\":0.2}},\"type\":\"bar\"}],\"barpolar\":[{\"marker\":{\"line\":{\"color\":\"#E5ECF6\",\"width\":0.5},\"pattern\":{\"fillmode\":\"overlay\",\"size\":10,\"solidity\":0.2}},\"type\":\"barpolar\"}],\"carpet\":[{\"aaxis\":{\"endlinecolor\":\"#2a3f5f\",\"gridcolor\":\"white\",\"linecolor\":\"white\",\"minorgridcolor\":\"white\",\"startlinecolor\":\"#2a3f5f\"},\"baxis\":{\"endlinecolor\":\"#2a3f5f\",\"gridcolor\":\"white\",\"linecolor\":\"white\",\"minorgridcolor\":\"white\",\"startlinecolor\":\"#2a3f5f\"},\"type\":\"carpet\"}],\"choropleth\":[{\"colorbar\":{\"outlinewidth\":0,\"ticks\":\"\"},\"type\":\"choropleth\"}],\"contour\":[{\"colorbar\":{\"outlinewidth\":0,\"ticks\":\"\"},\"colorscale\":[[0.0,\"#0d0887\"],[0.1111111111111111,\"#46039f\"],[0.2222222222222222,\"#7201a8\"],[0.3333333333333333,\"#9c179e\"],[0.4444444444444444,\"#bd3786\"],[0.5555555555555556,\"#d8576b\"],[0.6666666666666666,\"#ed7953\"],[0.7777777777777778,\"#fb9f3a\"],[0.8888888888888888,\"#fdca26\"],[1.0,\"#f0f921\"]],\"type\":\"contour\"}],\"contourcarpet\":[{\"colorbar\":{\"outlinewidth\":0,\"ticks\":\"\"},\"type\":\"contourcarpet\"}],\"heatmap\":[{\"colorbar\":{\"outlinewidth\":0,\"ticks\":\"\"},\"colorscale\":[[0.0,\"#0d0887\"],[0.1111111111111111,\"#46039f\"],[0.2222222222222222,\"#7201a8\"],[0.3333333333333333,\"#9c179e\"],[0.4444444444444444,\"#bd3786\"],[0.5555555555555556,\"#d8576b\"],[0.6666666666666666,\"#ed7953\"],[0.7777777777777778,\"#fb9f3a\"],[0.8888888888888888,\"#fdca26\"],[1.0,\"#f0f921\"]],\"type\":\"heatmap\"}],\"heatmapgl\":[{\"colorbar\":{\"outlinewidth\":0,\"ticks\":\"\"},\"colorscale\":[[0.0,\"#0d0887\"],[0.1111111111111111,\"#46039f\"],[0.2222222222222222,\"#7201a8\"],[0.3333333333333333,\"#9c179e\"],[0.4444444444444444,\"#bd3786\"],[0.5555555555555556,\"#d8576b\"],[0.6666666666666666,\"#ed7953\"],[0.7777777777777778,\"#fb9f3a\"],[0.8888888888888888,\"#fdca26\"],[1.0,\"#f0f921\"]],\"type\":\"heatmapgl\"}],\"histogram\":[{\"marker\":{\"pattern\":{\"fillmode\":\"overlay\",\"size\":10,\"solidity\":0.2}},\"type\":\"histogram\"}],\"histogram2d\":[{\"colorbar\":{\"outlinewidth\":0,\"ticks\":\"\"},\"colorscale\":[[0.0,\"#0d0887\"],[0.1111111111111111,\"#46039f\"],[0.2222222222222222,\"#7201a8\"],[0.3333333333333333,\"#9c179e\"],[0.4444444444444444,\"#bd3786\"],[0.5555555555555556,\"#d8576b\"],[0.6666666666666666,\"#ed7953\"],[0.7777777777777778,\"#fb9f3a\"],[0.8888888888888888,\"#fdca26\"],[1.0,\"#f0f921\"]],\"type\":\"histogram2d\"}],\"histogram2dcontour\":[{\"colorbar\":{\"outlinewidth\":0,\"ticks\":\"\"},\"colorscale\":[[0.0,\"#0d0887\"],[0.1111111111111111,\"#46039f\"],[0.2222222222222222,\"#7201a8\"],[0.3333333333333333,\"#9c179e\"],[0.4444444444444444,\"#bd3786\"],[0.5555555555555556,\"#d8576b\"],[0.6666666666666666,\"#ed7953\"],[0.7777777777777778,\"#fb9f3a\"],[0.8888888888888888,\"#fdca26\"],[1.0,\"#f0f921\"]],\"type\":\"histogram2dcontour\"}],\"mesh3d\":[{\"colorbar\":{\"outlinewidth\":0,\"ticks\":\"\"},\"type\":\"mesh3d\"}],\"parcoords\":[{\"line\":{\"colorbar\":{\"outlinewidth\":0,\"ticks\":\"\"}},\"type\":\"parcoords\"}],\"pie\":[{\"automargin\":true,\"type\":\"pie\"}],\"scatter\":[{\"marker\":{\"colorbar\":{\"outlinewidth\":0,\"ticks\":\"\"}},\"type\":\"scatter\"}],\"scatter3d\":[{\"line\":{\"colorbar\":{\"outlinewidth\":0,\"ticks\":\"\"}},\"marker\":{\"colorbar\":{\"outlinewidth\":0,\"ticks\":\"\"}},\"type\":\"scatter3d\"}],\"scattercarpet\":[{\"marker\":{\"colorbar\":{\"outlinewidth\":0,\"ticks\":\"\"}},\"type\":\"scattercarpet\"}],\"scattergeo\":[{\"marker\":{\"colorbar\":{\"outlinewidth\":0,\"ticks\":\"\"}},\"type\":\"scattergeo\"}],\"scattergl\":[{\"marker\":{\"colorbar\":{\"outlinewidth\":0,\"ticks\":\"\"}},\"type\":\"scattergl\"}],\"scattermapbox\":[{\"marker\":{\"colorbar\":{\"outlinewidth\":0,\"ticks\":\"\"}},\"type\":\"scattermapbox\"}],\"scatterpolar\":[{\"marker\":{\"colorbar\":{\"outlinewidth\":0,\"ticks\":\"\"}},\"type\":\"scatterpolar\"}],\"scatterpolargl\":[{\"marker\":{\"colorbar\":{\"outlinewidth\":0,\"ticks\":\"\"}},\"type\":\"scatterpolargl\"}],\"scatterternary\":[{\"marker\":{\"colorbar\":{\"outlinewidth\":0,\"ticks\":\"\"}},\"type\":\"scatterternary\"}],\"surface\":[{\"colorbar\":{\"outlinewidth\":0,\"ticks\":\"\"},\"colorscale\":[[0.0,\"#0d0887\"],[0.1111111111111111,\"#46039f\"],[0.2222222222222222,\"#7201a8\"],[0.3333333333333333,\"#9c179e\"],[0.4444444444444444,\"#bd3786\"],[0.5555555555555556,\"#d8576b\"],[0.6666666666666666,\"#ed7953\"],[0.7777777777777778,\"#fb9f3a\"],[0.8888888888888888,\"#fdca26\"],[1.0,\"#f0f921\"]],\"type\":\"surface\"}],\"table\":[{\"cells\":{\"fill\":{\"color\":\"#EBF0F8\"},\"line\":{\"color\":\"white\"}},\"header\":{\"fill\":{\"color\":\"#C8D4E3\"},\"line\":{\"color\":\"white\"}},\"type\":\"table\"}]},\"layout\":{\"annotationdefaults\":{\"arrowcolor\":\"#2a3f5f\",\"arrowhead\":0,\"arrowwidth\":1},\"autotypenumbers\":\"strict\",\"coloraxis\":{\"colorbar\":{\"outlinewidth\":0,\"ticks\":\"\"}},\"colorscale\":{\"diverging\":[[0,\"#8e0152\"],[0.1,\"#c51b7d\"],[0.2,\"#de77ae\"],[0.3,\"#f1b6da\"],[0.4,\"#fde0ef\"],[0.5,\"#f7f7f7\"],[0.6,\"#e6f5d0\"],[0.7,\"#b8e186\"],[0.8,\"#7fbc41\"],[0.9,\"#4d9221\"],[1,\"#276419\"]],\"sequential\":[[0.0,\"#0d0887\"],[0.1111111111111111,\"#46039f\"],[0.2222222222222222,\"#7201a8\"],[0.3333333333333333,\"#9c179e\"],[0.4444444444444444,\"#bd3786\"],[0.5555555555555556,\"#d8576b\"],[0.6666666666666666,\"#ed7953\"],[0.7777777777777778,\"#fb9f3a\"],[0.8888888888888888,\"#fdca26\"],[1.0,\"#f0f921\"]],\"sequentialminus\":[[0.0,\"#0d0887\"],[0.1111111111111111,\"#46039f\"],[0.2222222222222222,\"#7201a8\"],[0.3333333333333333,\"#9c179e\"],[0.4444444444444444,\"#bd3786\"],[0.5555555555555556,\"#d8576b\"],[0.6666666666666666,\"#ed7953\"],[0.7777777777777778,\"#fb9f3a\"],[0.8888888888888888,\"#fdca26\"],[1.0,\"#f0f921\"]]},\"colorway\":[\"#636efa\",\"#EF553B\",\"#00cc96\",\"#ab63fa\",\"#FFA15A\",\"#19d3f3\",\"#FF6692\",\"#B6E880\",\"#FF97FF\",\"#FECB52\"],\"font\":{\"color\":\"#2a3f5f\"},\"geo\":{\"bgcolor\":\"white\",\"lakecolor\":\"white\",\"landcolor\":\"#E5ECF6\",\"showlakes\":true,\"showland\":true,\"subunitcolor\":\"white\"},\"hoverlabel\":{\"align\":\"left\"},\"hovermode\":\"closest\",\"mapbox\":{\"style\":\"light\"},\"paper_bgcolor\":\"white\",\"plot_bgcolor\":\"#E5ECF6\",\"polar\":{\"angularaxis\":{\"gridcolor\":\"white\",\"linecolor\":\"white\",\"ticks\":\"\"},\"bgcolor\":\"#E5ECF6\",\"radialaxis\":{\"gridcolor\":\"white\",\"linecolor\":\"white\",\"ticks\":\"\"}},\"scene\":{\"xaxis\":{\"backgroundcolor\":\"#E5ECF6\",\"gridcolor\":\"white\",\"gridwidth\":2,\"linecolor\":\"white\",\"showbackground\":true,\"ticks\":\"\",\"zerolinecolor\":\"white\"},\"yaxis\":{\"backgroundcolor\":\"#E5ECF6\",\"gridcolor\":\"white\",\"gridwidth\":2,\"linecolor\":\"white\",\"showbackground\":true,\"ticks\":\"\",\"zerolinecolor\":\"white\"},\"zaxis\":{\"backgroundcolor\":\"#E5ECF6\",\"gridcolor\":\"white\",\"gridwidth\":2,\"linecolor\":\"white\",\"showbackground\":true,\"ticks\":\"\",\"zerolinecolor\":\"white\"}},\"shapedefaults\":{\"line\":{\"color\":\"#2a3f5f\"}},\"ternary\":{\"aaxis\":{\"gridcolor\":\"white\",\"linecolor\":\"white\",\"ticks\":\"\"},\"baxis\":{\"gridcolor\":\"white\",\"linecolor\":\"white\",\"ticks\":\"\"},\"bgcolor\":\"#E5ECF6\",\"caxis\":{\"gridcolor\":\"white\",\"linecolor\":\"white\",\"ticks\":\"\"}},\"title\":{\"x\":0.05},\"xaxis\":{\"automargin\":true,\"gridcolor\":\"white\",\"linecolor\":\"white\",\"ticks\":\"\",\"title\":{\"standoff\":15},\"zerolinecolor\":\"white\",\"zerolinewidth\":2},\"yaxis\":{\"automargin\":true,\"gridcolor\":\"white\",\"linecolor\":\"white\",\"ticks\":\"\",\"title\":{\"standoff\":15},\"zerolinecolor\":\"white\",\"zerolinewidth\":2}}},\"title\":{\"font\":{\"size\":18},\"text\":\"Number of Sales per Discrete Month Days\",\"x\":0.5},\"xaxis\":{\"anchor\":\"y\",\"domain\":[0.0,1.0],\"title\":{\"text\":\"Month Days\"}},\"yaxis\":{\"anchor\":\"x\",\"domain\":[0.0,1.0],\"title\":{\"text\":\"Number of Sales\"}}},                        {\"responsive\": true}                    ).then(function(){\n",
       "                            \n",
       "var gd = document.getElementById('6f8010b3-796f-4e9a-911a-83f487c301f5');\n",
       "var x = new MutationObserver(function (mutations, observer) {{\n",
       "        var display = window.getComputedStyle(gd).display;\n",
       "        if (!display || display === 'none') {{\n",
       "            console.log([gd, 'removed!']);\n",
       "            Plotly.purge(gd);\n",
       "            observer.disconnect();\n",
       "        }}\n",
       "}});\n",
       "\n",
       "// Listen for the removal of the full notebook cells\n",
       "var notebookContainer = gd.closest('#notebook-container');\n",
       "if (notebookContainer) {{\n",
       "    x.observe(notebookContainer, {childList: true});\n",
       "}}\n",
       "\n",
       "// Listen for the clearing of the current output cell\n",
       "var outputEl = gd.closest('.output');\n",
       "if (outputEl) {{\n",
       "    x.observe(outputEl, {childList: true});\n",
       "}}\n",
       "\n",
       "                        })                };                });            </script>        </div>"
      ]
     },
     "metadata": {},
     "output_type": "display_data"
    }
   ],
   "source": [
    "month_day = data.groupby(data['Date'].dt.strftime('%d'))['itemName'].count()\n",
    "fig = px.bar(month_day, x=month_day.index, y=month_day, color=month_day,\n",
    "             labels={'y': 'Number of Sales',\n",
    "                     'Date': 'Month Days'})\n",
    "fig.update_layout(title_text='Number of Sales per Discrete Month Days',\n",
    "                  title_x=0.5, title_font=dict(size=18))\n",
    "fig.update_traces(marker=dict(line=dict(color='#000000', width=1)))\n",
    "fig.show()"
   ]
  },
  {
   "cell_type": "markdown",
   "metadata": {
    "papermill": {
     "duration": 0.059637,
     "end_time": "2022-02-17T21:27:31.239346",
     "exception": false,
     "start_time": "2022-02-17T21:27:31.179709",
     "status": "completed"
    },
    "tags": []
   },
   "source": [
    "**Approximately each Month Day has equal Number of Sales.**"
   ]
  },
  {
   "cell_type": "markdown",
   "metadata": {
    "papermill": {
     "duration": 0.060492,
     "end_time": "2022-02-17T21:27:31.359911",
     "exception": false,
     "start_time": "2022-02-17T21:27:31.299419",
     "status": "completed"
    },
    "tags": []
   },
   "source": [
    "# <center> Market Basket Analysis"
   ]
  },
  {
   "cell_type": "markdown",
   "metadata": {
    "papermill": {
     "duration": 0.057741,
     "end_time": "2022-02-17T21:27:31.476775",
     "exception": false,
     "start_time": "2022-02-17T21:27:31.419034",
     "status": "completed"
    },
    "tags": []
   },
   "source": [
    "**Market basket analysis is a data mining technique used by retailers to increase sales by better understanding customer purchasing patterns. It involves analyzing large data sets, such as purchase history, to reveal product groupings, as well as products that are likely to be purchased together [1].**"
   ]
  },
  {
   "cell_type": "markdown",
   "metadata": {
    "papermill": {
     "duration": 0.059612,
     "end_time": "2022-02-17T21:27:31.595820",
     "exception": false,
     "start_time": "2022-02-17T21:27:31.536208",
     "status": "completed"
    },
    "tags": []
   },
   "source": [
    "# Let's Create Baskets"
   ]
  },
  {
   "cell_type": "code",
   "execution_count": 15,
   "metadata": {
    "execution": {
     "iopub.execute_input": "2022-02-17T21:27:31.716584Z",
     "iopub.status.busy": "2022-02-17T21:27:31.715532Z",
     "iopub.status.idle": "2022-02-17T21:27:31.803623Z",
     "shell.execute_reply": "2022-02-17T21:27:31.804320Z",
     "shell.execute_reply.started": "2022-02-17T21:24:10.432862Z"
    },
    "papermill": {
     "duration": 0.14986,
     "end_time": "2022-02-17T21:27:31.804506",
     "exception": false,
     "start_time": "2022-02-17T21:27:31.654646",
     "status": "completed"
    },
    "tags": []
   },
   "outputs": [
    {
     "data": {
      "text/html": [
       "<div>\n",
       "<style scoped>\n",
       "    .dataframe tbody tr th:only-of-type {\n",
       "        vertical-align: middle;\n",
       "    }\n",
       "\n",
       "    .dataframe tbody tr th {\n",
       "        vertical-align: top;\n",
       "    }\n",
       "\n",
       "    .dataframe thead th {\n",
       "        text-align: right;\n",
       "    }\n",
       "</style>\n",
       "<table border=\"1\" class=\"dataframe\">\n",
       "  <thead>\n",
       "    <tr style=\"text-align: right;\">\n",
       "      <th>itemName</th>\n",
       "      <th>memberID</th>\n",
       "      <th>Instant food products</th>\n",
       "      <th>UHT-milk</th>\n",
       "      <th>abrasive cleaner</th>\n",
       "      <th>artif. sweetener</th>\n",
       "      <th>baby cosmetics</th>\n",
       "      <th>bags</th>\n",
       "      <th>baking powder</th>\n",
       "      <th>bathroom cleaner</th>\n",
       "      <th>beef</th>\n",
       "      <th>...</th>\n",
       "      <th>turkey</th>\n",
       "      <th>vinegar</th>\n",
       "      <th>waffles</th>\n",
       "      <th>whipped/sour cream</th>\n",
       "      <th>whisky</th>\n",
       "      <th>white bread</th>\n",
       "      <th>white wine</th>\n",
       "      <th>whole milk</th>\n",
       "      <th>yogurt</th>\n",
       "      <th>zwieback</th>\n",
       "    </tr>\n",
       "  </thead>\n",
       "  <tbody>\n",
       "    <tr>\n",
       "      <th>0</th>\n",
       "      <td>1000</td>\n",
       "      <td>0.0</td>\n",
       "      <td>0.0</td>\n",
       "      <td>0.0</td>\n",
       "      <td>0.0</td>\n",
       "      <td>0.0</td>\n",
       "      <td>0.0</td>\n",
       "      <td>0.0</td>\n",
       "      <td>0.0</td>\n",
       "      <td>0.0</td>\n",
       "      <td>...</td>\n",
       "      <td>0.0</td>\n",
       "      <td>0.0</td>\n",
       "      <td>0.0</td>\n",
       "      <td>0.0</td>\n",
       "      <td>0.0</td>\n",
       "      <td>0.0</td>\n",
       "      <td>0.0</td>\n",
       "      <td>2.0</td>\n",
       "      <td>1.0</td>\n",
       "      <td>0.0</td>\n",
       "    </tr>\n",
       "    <tr>\n",
       "      <th>1</th>\n",
       "      <td>1001</td>\n",
       "      <td>0.0</td>\n",
       "      <td>0.0</td>\n",
       "      <td>0.0</td>\n",
       "      <td>0.0</td>\n",
       "      <td>0.0</td>\n",
       "      <td>0.0</td>\n",
       "      <td>0.0</td>\n",
       "      <td>0.0</td>\n",
       "      <td>1.0</td>\n",
       "      <td>...</td>\n",
       "      <td>0.0</td>\n",
       "      <td>0.0</td>\n",
       "      <td>0.0</td>\n",
       "      <td>1.0</td>\n",
       "      <td>0.0</td>\n",
       "      <td>1.0</td>\n",
       "      <td>0.0</td>\n",
       "      <td>2.0</td>\n",
       "      <td>0.0</td>\n",
       "      <td>0.0</td>\n",
       "    </tr>\n",
       "    <tr>\n",
       "      <th>2</th>\n",
       "      <td>1002</td>\n",
       "      <td>0.0</td>\n",
       "      <td>0.0</td>\n",
       "      <td>0.0</td>\n",
       "      <td>0.0</td>\n",
       "      <td>0.0</td>\n",
       "      <td>0.0</td>\n",
       "      <td>0.0</td>\n",
       "      <td>0.0</td>\n",
       "      <td>0.0</td>\n",
       "      <td>...</td>\n",
       "      <td>0.0</td>\n",
       "      <td>0.0</td>\n",
       "      <td>0.0</td>\n",
       "      <td>0.0</td>\n",
       "      <td>0.0</td>\n",
       "      <td>0.0</td>\n",
       "      <td>0.0</td>\n",
       "      <td>1.0</td>\n",
       "      <td>0.0</td>\n",
       "      <td>0.0</td>\n",
       "    </tr>\n",
       "    <tr>\n",
       "      <th>3</th>\n",
       "      <td>1003</td>\n",
       "      <td>0.0</td>\n",
       "      <td>0.0</td>\n",
       "      <td>0.0</td>\n",
       "      <td>0.0</td>\n",
       "      <td>0.0</td>\n",
       "      <td>0.0</td>\n",
       "      <td>0.0</td>\n",
       "      <td>0.0</td>\n",
       "      <td>0.0</td>\n",
       "      <td>...</td>\n",
       "      <td>0.0</td>\n",
       "      <td>0.0</td>\n",
       "      <td>0.0</td>\n",
       "      <td>0.0</td>\n",
       "      <td>0.0</td>\n",
       "      <td>0.0</td>\n",
       "      <td>0.0</td>\n",
       "      <td>0.0</td>\n",
       "      <td>0.0</td>\n",
       "      <td>0.0</td>\n",
       "    </tr>\n",
       "    <tr>\n",
       "      <th>4</th>\n",
       "      <td>1004</td>\n",
       "      <td>0.0</td>\n",
       "      <td>0.0</td>\n",
       "      <td>0.0</td>\n",
       "      <td>0.0</td>\n",
       "      <td>0.0</td>\n",
       "      <td>0.0</td>\n",
       "      <td>0.0</td>\n",
       "      <td>0.0</td>\n",
       "      <td>0.0</td>\n",
       "      <td>...</td>\n",
       "      <td>0.0</td>\n",
       "      <td>0.0</td>\n",
       "      <td>0.0</td>\n",
       "      <td>0.0</td>\n",
       "      <td>0.0</td>\n",
       "      <td>0.0</td>\n",
       "      <td>0.0</td>\n",
       "      <td>3.0</td>\n",
       "      <td>0.0</td>\n",
       "      <td>0.0</td>\n",
       "    </tr>\n",
       "  </tbody>\n",
       "</table>\n",
       "<p>5 rows × 168 columns</p>\n",
       "</div>"
      ],
      "text/plain": [
       "itemName memberID  Instant food products  UHT-milk  abrasive cleaner  \\\n",
       "0            1000                    0.0       0.0               0.0   \n",
       "1            1001                    0.0       0.0               0.0   \n",
       "2            1002                    0.0       0.0               0.0   \n",
       "3            1003                    0.0       0.0               0.0   \n",
       "4            1004                    0.0       0.0               0.0   \n",
       "\n",
       "itemName  artif. sweetener  baby cosmetics  bags  baking powder  \\\n",
       "0                      0.0             0.0   0.0            0.0   \n",
       "1                      0.0             0.0   0.0            0.0   \n",
       "2                      0.0             0.0   0.0            0.0   \n",
       "3                      0.0             0.0   0.0            0.0   \n",
       "4                      0.0             0.0   0.0            0.0   \n",
       "\n",
       "itemName  bathroom cleaner  beef  ...  turkey  vinegar  waffles  \\\n",
       "0                      0.0   0.0  ...     0.0      0.0      0.0   \n",
       "1                      0.0   1.0  ...     0.0      0.0      0.0   \n",
       "2                      0.0   0.0  ...     0.0      0.0      0.0   \n",
       "3                      0.0   0.0  ...     0.0      0.0      0.0   \n",
       "4                      0.0   0.0  ...     0.0      0.0      0.0   \n",
       "\n",
       "itemName  whipped/sour cream  whisky  white bread  white wine  whole milk  \\\n",
       "0                        0.0     0.0          0.0         0.0         2.0   \n",
       "1                        1.0     0.0          1.0         0.0         2.0   \n",
       "2                        0.0     0.0          0.0         0.0         1.0   \n",
       "3                        0.0     0.0          0.0         0.0         0.0   \n",
       "4                        0.0     0.0          0.0         0.0         3.0   \n",
       "\n",
       "itemName  yogurt  zwieback  \n",
       "0            1.0       0.0  \n",
       "1            0.0       0.0  \n",
       "2            0.0       0.0  \n",
       "3            0.0       0.0  \n",
       "4            0.0       0.0  \n",
       "\n",
       "[5 rows x 168 columns]"
      ]
     },
     "execution_count": 15,
     "metadata": {},
     "output_type": "execute_result"
    }
   ],
   "source": [
    "baskets = data.groupby(['memberID', 'itemName'])['itemName'].count().unstack().fillna(0).reset_index()\n",
    "baskets.head()"
   ]
  },
  {
   "cell_type": "markdown",
   "metadata": {
    "papermill": {
     "duration": 0.059025,
     "end_time": "2022-02-17T21:27:31.923071",
     "exception": false,
     "start_time": "2022-02-17T21:27:31.864046",
     "status": "completed"
    },
    "tags": []
   },
   "source": [
    "**According to the query above, we created the customers-items matrix. Each row represents the transactions of each customer, and each column represents the items bought. The numbers corresponding to the matrix represent the number of times that item is bought by the individual user.**"
   ]
  },
  {
   "cell_type": "code",
   "execution_count": 16,
   "metadata": {
    "execution": {
     "iopub.execute_input": "2022-02-17T21:27:32.044848Z",
     "iopub.status.busy": "2022-02-17T21:27:32.043797Z",
     "iopub.status.idle": "2022-02-17T21:27:32.053071Z",
     "shell.execute_reply": "2022-02-17T21:27:32.054009Z",
     "shell.execute_reply.started": "2022-02-17T21:24:10.520353Z"
    },
    "papermill": {
     "duration": 0.072626,
     "end_time": "2022-02-17T21:27:32.054242",
     "exception": false,
     "start_time": "2022-02-17T21:27:31.981616",
     "status": "completed"
    },
    "tags": []
   },
   "outputs": [
    {
     "data": {
      "text/plain": [
       "2502.0"
      ]
     },
     "execution_count": 16,
     "metadata": {},
     "output_type": "execute_result"
    }
   ],
   "source": [
    "# Let's check the most sold -item which is whole milk- has the same number of sales as we discussed above in the treemap.\n",
    "baskets['whole milk'].sum()\n",
    "\n",
    "# Yep it satisfies our results."
   ]
  },
  {
   "cell_type": "code",
   "execution_count": 17,
   "metadata": {
    "_kg_hide-input": true,
    "execution": {
     "iopub.execute_input": "2022-02-17T21:27:32.179890Z",
     "iopub.status.busy": "2022-02-17T21:27:32.178887Z",
     "iopub.status.idle": "2022-02-17T21:27:32.183208Z",
     "shell.execute_reply": "2022-02-17T21:27:32.183778Z",
     "shell.execute_reply.started": "2022-02-17T21:24:10.529366Z"
    },
    "papermill": {
     "duration": 0.067849,
     "end_time": "2022-02-17T21:27:32.183954",
     "exception": false,
     "start_time": "2022-02-17T21:27:32.116105",
     "status": "completed"
    },
    "tags": []
   },
   "outputs": [],
   "source": [
    "# Encoding the items that sold more than 1\n",
    "def one_hot_encoder(k):\n",
    "    if k <= 0:\n",
    "        return 0\n",
    "    if k >= 1:\n",
    "        return 1"
   ]
  },
  {
   "cell_type": "code",
   "execution_count": 18,
   "metadata": {
    "execution": {
     "iopub.execute_input": "2022-02-17T21:27:32.313463Z",
     "iopub.status.busy": "2022-02-17T21:27:32.312677Z",
     "iopub.status.idle": "2022-02-17T21:27:32.830615Z",
     "shell.execute_reply": "2022-02-17T21:27:32.831330Z",
     "shell.execute_reply.started": "2022-02-17T21:24:10.542223Z"
    },
    "papermill": {
     "duration": 0.584356,
     "end_time": "2022-02-17T21:27:32.831533",
     "exception": false,
     "start_time": "2022-02-17T21:27:32.247177",
     "status": "completed"
    },
    "tags": []
   },
   "outputs": [
    {
     "data": {
      "text/html": [
       "<div>\n",
       "<style scoped>\n",
       "    .dataframe tbody tr th:only-of-type {\n",
       "        vertical-align: middle;\n",
       "    }\n",
       "\n",
       "    .dataframe tbody tr th {\n",
       "        vertical-align: top;\n",
       "    }\n",
       "\n",
       "    .dataframe thead th {\n",
       "        text-align: right;\n",
       "    }\n",
       "</style>\n",
       "<table border=\"1\" class=\"dataframe\">\n",
       "  <thead>\n",
       "    <tr style=\"text-align: right;\">\n",
       "      <th>itemName</th>\n",
       "      <th>Instant food products</th>\n",
       "      <th>UHT-milk</th>\n",
       "      <th>abrasive cleaner</th>\n",
       "      <th>artif. sweetener</th>\n",
       "      <th>baby cosmetics</th>\n",
       "      <th>bags</th>\n",
       "      <th>baking powder</th>\n",
       "      <th>bathroom cleaner</th>\n",
       "      <th>beef</th>\n",
       "      <th>berries</th>\n",
       "      <th>...</th>\n",
       "      <th>turkey</th>\n",
       "      <th>vinegar</th>\n",
       "      <th>waffles</th>\n",
       "      <th>whipped/sour cream</th>\n",
       "      <th>whisky</th>\n",
       "      <th>white bread</th>\n",
       "      <th>white wine</th>\n",
       "      <th>whole milk</th>\n",
       "      <th>yogurt</th>\n",
       "      <th>zwieback</th>\n",
       "    </tr>\n",
       "  </thead>\n",
       "  <tbody>\n",
       "    <tr>\n",
       "      <th>0</th>\n",
       "      <td>0</td>\n",
       "      <td>0</td>\n",
       "      <td>0</td>\n",
       "      <td>0</td>\n",
       "      <td>0</td>\n",
       "      <td>0</td>\n",
       "      <td>0</td>\n",
       "      <td>0</td>\n",
       "      <td>0</td>\n",
       "      <td>0</td>\n",
       "      <td>...</td>\n",
       "      <td>0</td>\n",
       "      <td>0</td>\n",
       "      <td>0</td>\n",
       "      <td>0</td>\n",
       "      <td>0</td>\n",
       "      <td>0</td>\n",
       "      <td>0</td>\n",
       "      <td>1</td>\n",
       "      <td>1</td>\n",
       "      <td>0</td>\n",
       "    </tr>\n",
       "    <tr>\n",
       "      <th>1</th>\n",
       "      <td>0</td>\n",
       "      <td>0</td>\n",
       "      <td>0</td>\n",
       "      <td>0</td>\n",
       "      <td>0</td>\n",
       "      <td>0</td>\n",
       "      <td>0</td>\n",
       "      <td>0</td>\n",
       "      <td>1</td>\n",
       "      <td>0</td>\n",
       "      <td>...</td>\n",
       "      <td>0</td>\n",
       "      <td>0</td>\n",
       "      <td>0</td>\n",
       "      <td>1</td>\n",
       "      <td>0</td>\n",
       "      <td>1</td>\n",
       "      <td>0</td>\n",
       "      <td>1</td>\n",
       "      <td>0</td>\n",
       "      <td>0</td>\n",
       "    </tr>\n",
       "    <tr>\n",
       "      <th>2</th>\n",
       "      <td>0</td>\n",
       "      <td>0</td>\n",
       "      <td>0</td>\n",
       "      <td>0</td>\n",
       "      <td>0</td>\n",
       "      <td>0</td>\n",
       "      <td>0</td>\n",
       "      <td>0</td>\n",
       "      <td>0</td>\n",
       "      <td>0</td>\n",
       "      <td>...</td>\n",
       "      <td>0</td>\n",
       "      <td>0</td>\n",
       "      <td>0</td>\n",
       "      <td>0</td>\n",
       "      <td>0</td>\n",
       "      <td>0</td>\n",
       "      <td>0</td>\n",
       "      <td>1</td>\n",
       "      <td>0</td>\n",
       "      <td>0</td>\n",
       "    </tr>\n",
       "    <tr>\n",
       "      <th>3</th>\n",
       "      <td>0</td>\n",
       "      <td>0</td>\n",
       "      <td>0</td>\n",
       "      <td>0</td>\n",
       "      <td>0</td>\n",
       "      <td>0</td>\n",
       "      <td>0</td>\n",
       "      <td>0</td>\n",
       "      <td>0</td>\n",
       "      <td>0</td>\n",
       "      <td>...</td>\n",
       "      <td>0</td>\n",
       "      <td>0</td>\n",
       "      <td>0</td>\n",
       "      <td>0</td>\n",
       "      <td>0</td>\n",
       "      <td>0</td>\n",
       "      <td>0</td>\n",
       "      <td>0</td>\n",
       "      <td>0</td>\n",
       "      <td>0</td>\n",
       "    </tr>\n",
       "    <tr>\n",
       "      <th>4</th>\n",
       "      <td>0</td>\n",
       "      <td>0</td>\n",
       "      <td>0</td>\n",
       "      <td>0</td>\n",
       "      <td>0</td>\n",
       "      <td>0</td>\n",
       "      <td>0</td>\n",
       "      <td>0</td>\n",
       "      <td>0</td>\n",
       "      <td>0</td>\n",
       "      <td>...</td>\n",
       "      <td>0</td>\n",
       "      <td>0</td>\n",
       "      <td>0</td>\n",
       "      <td>0</td>\n",
       "      <td>0</td>\n",
       "      <td>0</td>\n",
       "      <td>0</td>\n",
       "      <td>1</td>\n",
       "      <td>0</td>\n",
       "      <td>0</td>\n",
       "    </tr>\n",
       "  </tbody>\n",
       "</table>\n",
       "<p>5 rows × 167 columns</p>\n",
       "</div>"
      ],
      "text/plain": [
       "itemName  Instant food products  UHT-milk  abrasive cleaner  artif. sweetener  \\\n",
       "0                             0         0                 0                 0   \n",
       "1                             0         0                 0                 0   \n",
       "2                             0         0                 0                 0   \n",
       "3                             0         0                 0                 0   \n",
       "4                             0         0                 0                 0   \n",
       "\n",
       "itemName  baby cosmetics  bags  baking powder  bathroom cleaner  beef  \\\n",
       "0                      0     0              0                 0     0   \n",
       "1                      0     0              0                 0     1   \n",
       "2                      0     0              0                 0     0   \n",
       "3                      0     0              0                 0     0   \n",
       "4                      0     0              0                 0     0   \n",
       "\n",
       "itemName  berries  ...  turkey  vinegar  waffles  whipped/sour cream  whisky  \\\n",
       "0               0  ...       0        0        0                   0       0   \n",
       "1               0  ...       0        0        0                   1       0   \n",
       "2               0  ...       0        0        0                   0       0   \n",
       "3               0  ...       0        0        0                   0       0   \n",
       "4               0  ...       0        0        0                   0       0   \n",
       "\n",
       "itemName  white bread  white wine  whole milk  yogurt  zwieback  \n",
       "0                   0           0           1       1         0  \n",
       "1                   1           0           1       0         0  \n",
       "2                   0           0           1       0         0  \n",
       "3                   0           0           0       0         0  \n",
       "4                   0           0           1       0         0  \n",
       "\n",
       "[5 rows x 167 columns]"
      ]
     },
     "execution_count": 18,
     "metadata": {},
     "output_type": "execute_result"
    }
   ],
   "source": [
    "baskets_final = baskets.iloc[:, 1:baskets.shape[1]].applymap(one_hot_encoder)\n",
    "baskets_final.head()"
   ]
  },
  {
   "cell_type": "markdown",
   "metadata": {
    "papermill": {
     "duration": 0.061348,
     "end_time": "2022-02-17T21:27:32.956501",
     "exception": false,
     "start_time": "2022-02-17T21:27:32.895153",
     "status": "completed"
    },
    "tags": []
   },
   "source": [
    "**Final form of our customer-item matrix.**"
   ]
  },
  {
   "cell_type": "code",
   "execution_count": 19,
   "metadata": {
    "execution": {
     "iopub.execute_input": "2022-02-17T21:27:33.084987Z",
     "iopub.status.busy": "2022-02-17T21:27:33.084250Z",
     "iopub.status.idle": "2022-02-17T21:27:33.423285Z",
     "shell.execute_reply": "2022-02-17T21:27:33.423759Z",
     "shell.execute_reply.started": "2022-02-17T21:24:11.088577Z"
    },
    "papermill": {
     "duration": 0.405025,
     "end_time": "2022-02-17T21:27:33.424067",
     "exception": false,
     "start_time": "2022-02-17T21:27:33.019042",
     "status": "completed"
    },
    "tags": []
   },
   "outputs": [
    {
     "data": {
      "text/html": [
       "<div>\n",
       "<style scoped>\n",
       "    .dataframe tbody tr th:only-of-type {\n",
       "        vertical-align: middle;\n",
       "    }\n",
       "\n",
       "    .dataframe tbody tr th {\n",
       "        vertical-align: top;\n",
       "    }\n",
       "\n",
       "    .dataframe thead th {\n",
       "        text-align: right;\n",
       "    }\n",
       "</style>\n",
       "<table border=\"1\" class=\"dataframe\">\n",
       "  <thead>\n",
       "    <tr style=\"text-align: right;\">\n",
       "      <th></th>\n",
       "      <th>support</th>\n",
       "      <th>itemsets</th>\n",
       "    </tr>\n",
       "  </thead>\n",
       "  <tbody>\n",
       "    <tr>\n",
       "      <th>161</th>\n",
       "      <td>0.025141</td>\n",
       "      <td>(butter, shopping bags)</td>\n",
       "    </tr>\n",
       "    <tr>\n",
       "      <th>69</th>\n",
       "      <td>0.025141</td>\n",
       "      <td>(spread cheese)</td>\n",
       "    </tr>\n",
       "    <tr>\n",
       "      <th>405</th>\n",
       "      <td>0.025141</td>\n",
       "      <td>(sliced cheese, whole milk)</td>\n",
       "    </tr>\n",
       "    <tr>\n",
       "      <th>412</th>\n",
       "      <td>0.025141</td>\n",
       "      <td>(specialty bar, whole milk)</td>\n",
       "    </tr>\n",
       "    <tr>\n",
       "      <th>85</th>\n",
       "      <td>0.025141</td>\n",
       "      <td>(beef, pip fruit)</td>\n",
       "    </tr>\n",
       "    <tr>\n",
       "      <th>248</th>\n",
       "      <td>0.025141</td>\n",
       "      <td>(shopping bags, domestic eggs)</td>\n",
       "    </tr>\n",
       "    <tr>\n",
       "      <th>467</th>\n",
       "      <td>0.025141</td>\n",
       "      <td>(tropical fruit, citrus fruit, whole milk)</td>\n",
       "    </tr>\n",
       "    <tr>\n",
       "      <th>480</th>\n",
       "      <td>0.025141</td>\n",
       "      <td>(yogurt, frankfurter, whole milk)</td>\n",
       "    </tr>\n",
       "    <tr>\n",
       "      <th>119</th>\n",
       "      <td>0.025141</td>\n",
       "      <td>(chocolate, bottled water)</td>\n",
       "    </tr>\n",
       "    <tr>\n",
       "      <th>239</th>\n",
       "      <td>0.025141</td>\n",
       "      <td>(dessert, root vegetables)</td>\n",
       "    </tr>\n",
       "    <tr>\n",
       "      <th>540</th>\n",
       "      <td>0.025141</td>\n",
       "      <td>(rolls/buns, shopping bags, yogurt)</td>\n",
       "    </tr>\n",
       "    <tr>\n",
       "      <th>559</th>\n",
       "      <td>0.025141</td>\n",
       "      <td>(tropical fruit, shopping bags, whole milk)</td>\n",
       "    </tr>\n",
       "    <tr>\n",
       "      <th>524</th>\n",
       "      <td>0.025141</td>\n",
       "      <td>(whole milk, pastry, root vegetables)</td>\n",
       "    </tr>\n",
       "    <tr>\n",
       "      <th>224</th>\n",
       "      <td>0.025398</td>\n",
       "      <td>(cream cheese , root vegetables)</td>\n",
       "    </tr>\n",
       "    <tr>\n",
       "      <th>217</th>\n",
       "      <td>0.025398</td>\n",
       "      <td>(coffee, sausage)</td>\n",
       "    </tr>\n",
       "    <tr>\n",
       "      <th>204</th>\n",
       "      <td>0.025398</td>\n",
       "      <td>(pork, citrus fruit)</td>\n",
       "    </tr>\n",
       "    <tr>\n",
       "      <th>302</th>\n",
       "      <td>0.025398</td>\n",
       "      <td>(margarine, tropical fruit)</td>\n",
       "    </tr>\n",
       "    <tr>\n",
       "      <th>167</th>\n",
       "      <td>0.025398</td>\n",
       "      <td>(rolls/buns, butter milk)</td>\n",
       "    </tr>\n",
       "    <tr>\n",
       "      <th>473</th>\n",
       "      <td>0.025398</td>\n",
       "      <td>(curd, yogurt, whole milk)</td>\n",
       "    </tr>\n",
       "    <tr>\n",
       "      <th>476</th>\n",
       "      <td>0.025654</td>\n",
       "      <td>(yogurt, whole milk, domestic eggs)</td>\n",
       "    </tr>\n",
       "    <tr>\n",
       "      <th>462</th>\n",
       "      <td>0.025654</td>\n",
       "      <td>(rolls/buns, citrus fruit, soda)</td>\n",
       "    </tr>\n",
       "    <tr>\n",
       "      <th>434</th>\n",
       "      <td>0.025654</td>\n",
       "      <td>(other vegetables, tropical fruit, bottled water)</td>\n",
       "    </tr>\n",
       "    <tr>\n",
       "      <th>186</th>\n",
       "      <td>0.025654</td>\n",
       "      <td>(chewing gum, whole milk)</td>\n",
       "    </tr>\n",
       "    <tr>\n",
       "      <th>88</th>\n",
       "      <td>0.025654</td>\n",
       "      <td>(beef, sausage)</td>\n",
       "    </tr>\n",
       "    <tr>\n",
       "      <th>171</th>\n",
       "      <td>0.025654</td>\n",
       "      <td>(canned beer, domestic eggs)</td>\n",
       "    </tr>\n",
       "  </tbody>\n",
       "</table>\n",
       "</div>"
      ],
      "text/plain": [
       "      support                                           itemsets\n",
       "161  0.025141                            (butter, shopping bags)\n",
       "69   0.025141                                    (spread cheese)\n",
       "405  0.025141                        (sliced cheese, whole milk)\n",
       "412  0.025141                        (specialty bar, whole milk)\n",
       "85   0.025141                                  (beef, pip fruit)\n",
       "248  0.025141                     (shopping bags, domestic eggs)\n",
       "467  0.025141         (tropical fruit, citrus fruit, whole milk)\n",
       "480  0.025141                  (yogurt, frankfurter, whole milk)\n",
       "119  0.025141                         (chocolate, bottled water)\n",
       "239  0.025141                         (dessert, root vegetables)\n",
       "540  0.025141                (rolls/buns, shopping bags, yogurt)\n",
       "559  0.025141        (tropical fruit, shopping bags, whole milk)\n",
       "524  0.025141              (whole milk, pastry, root vegetables)\n",
       "224  0.025398                   (cream cheese , root vegetables)\n",
       "217  0.025398                                  (coffee, sausage)\n",
       "204  0.025398                               (pork, citrus fruit)\n",
       "302  0.025398                        (margarine, tropical fruit)\n",
       "167  0.025398                          (rolls/buns, butter milk)\n",
       "473  0.025398                         (curd, yogurt, whole milk)\n",
       "476  0.025654                (yogurt, whole milk, domestic eggs)\n",
       "462  0.025654                   (rolls/buns, citrus fruit, soda)\n",
       "434  0.025654  (other vegetables, tropical fruit, bottled water)\n",
       "186  0.025654                          (chewing gum, whole milk)\n",
       "88   0.025654                                    (beef, sausage)\n",
       "171  0.025654                       (canned beer, domestic eggs)"
      ]
     },
     "execution_count": 19,
     "metadata": {},
     "output_type": "execute_result"
    }
   ],
   "source": [
    "# Finding the most frequent items sold together\n",
    "frequent_itemsets = apriori(baskets_final, min_support=0.025, use_colnames=True, max_len=3).sort_values(by='support')\n",
    "frequent_itemsets.head(25)"
   ]
  },
  {
   "cell_type": "markdown",
   "metadata": {
    "papermill": {
     "duration": 0.061584,
     "end_time": "2022-02-17T21:27:33.548693",
     "exception": false,
     "start_time": "2022-02-17T21:27:33.487109",
     "status": "completed"
    },
    "tags": []
   },
   "source": [
    "**As you can see from the results above, the most items that appeared together are butter and shopping bags, and spread cheese, and so on.**"
   ]
  },
  {
   "cell_type": "code",
   "execution_count": 20,
   "metadata": {
    "execution": {
     "iopub.execute_input": "2022-02-17T21:27:33.694526Z",
     "iopub.status.busy": "2022-02-17T21:27:33.693412Z",
     "iopub.status.idle": "2022-02-17T21:27:33.729170Z",
     "shell.execute_reply": "2022-02-17T21:27:33.728446Z",
     "shell.execute_reply.started": "2022-02-17T21:24:11.441795Z"
    },
    "papermill": {
     "duration": 0.118862,
     "end_time": "2022-02-17T21:27:33.729339",
     "exception": false,
     "start_time": "2022-02-17T21:27:33.610477",
     "status": "completed"
    },
    "tags": []
   },
   "outputs": [
    {
     "data": {
      "text/html": [
       "<div>\n",
       "<style scoped>\n",
       "    .dataframe tbody tr th:only-of-type {\n",
       "        vertical-align: middle;\n",
       "    }\n",
       "\n",
       "    .dataframe tbody tr th {\n",
       "        vertical-align: top;\n",
       "    }\n",
       "\n",
       "    .dataframe thead th {\n",
       "        text-align: right;\n",
       "    }\n",
       "</style>\n",
       "<table border=\"1\" class=\"dataframe\">\n",
       "  <thead>\n",
       "    <tr style=\"text-align: right;\">\n",
       "      <th></th>\n",
       "      <th>antecedents</th>\n",
       "      <th>consequents</th>\n",
       "      <th>support</th>\n",
       "      <th>confidence</th>\n",
       "      <th>lift</th>\n",
       "    </tr>\n",
       "  </thead>\n",
       "  <tbody>\n",
       "    <tr>\n",
       "      <th>874</th>\n",
       "      <td>(rolls/buns, yogurt)</td>\n",
       "      <td>(sausage)</td>\n",
       "      <td>0.035659</td>\n",
       "      <td>0.320276</td>\n",
       "      <td>1.554717</td>\n",
       "    </tr>\n",
       "    <tr>\n",
       "      <th>879</th>\n",
       "      <td>(sausage)</td>\n",
       "      <td>(rolls/buns, yogurt)</td>\n",
       "      <td>0.035659</td>\n",
       "      <td>0.173101</td>\n",
       "      <td>1.554717</td>\n",
       "    </tr>\n",
       "    <tr>\n",
       "      <th>456</th>\n",
       "      <td>(root vegetables, whole milk)</td>\n",
       "      <td>(shopping bags)</td>\n",
       "      <td>0.029246</td>\n",
       "      <td>0.258503</td>\n",
       "      <td>1.536046</td>\n",
       "    </tr>\n",
       "    <tr>\n",
       "      <th>457</th>\n",
       "      <td>(shopping bags)</td>\n",
       "      <td>(root vegetables, whole milk)</td>\n",
       "      <td>0.029246</td>\n",
       "      <td>0.173780</td>\n",
       "      <td>1.536046</td>\n",
       "    </tr>\n",
       "    <tr>\n",
       "      <th>875</th>\n",
       "      <td>(rolls/buns, sausage)</td>\n",
       "      <td>(yogurt)</td>\n",
       "      <td>0.035659</td>\n",
       "      <td>0.433022</td>\n",
       "      <td>1.530298</td>\n",
       "    </tr>\n",
       "    <tr>\n",
       "      <th>878</th>\n",
       "      <td>(yogurt)</td>\n",
       "      <td>(rolls/buns, sausage)</td>\n",
       "      <td>0.035659</td>\n",
       "      <td>0.126020</td>\n",
       "      <td>1.530298</td>\n",
       "    </tr>\n",
       "    <tr>\n",
       "      <th>947</th>\n",
       "      <td>(sausage)</td>\n",
       "      <td>(other vegetables, yogurt)</td>\n",
       "      <td>0.037199</td>\n",
       "      <td>0.180573</td>\n",
       "      <td>1.500795</td>\n",
       "    </tr>\n",
       "    <tr>\n",
       "      <th>942</th>\n",
       "      <td>(other vegetables, yogurt)</td>\n",
       "      <td>(sausage)</td>\n",
       "      <td>0.037199</td>\n",
       "      <td>0.309168</td>\n",
       "      <td>1.500795</td>\n",
       "    </tr>\n",
       "    <tr>\n",
       "      <th>629</th>\n",
       "      <td>(other vegetables, soda)</td>\n",
       "      <td>(shopping bags)</td>\n",
       "      <td>0.031042</td>\n",
       "      <td>0.250000</td>\n",
       "      <td>1.485518</td>\n",
       "    </tr>\n",
       "    <tr>\n",
       "      <th>632</th>\n",
       "      <td>(shopping bags)</td>\n",
       "      <td>(other vegetables, soda)</td>\n",
       "      <td>0.031042</td>\n",
       "      <td>0.184451</td>\n",
       "      <td>1.485518</td>\n",
       "    </tr>\n",
       "    <tr>\n",
       "      <th>1194</th>\n",
       "      <td>(sausage, whole milk)</td>\n",
       "      <td>(yogurt)</td>\n",
       "      <td>0.044895</td>\n",
       "      <td>0.419664</td>\n",
       "      <td>1.483093</td>\n",
       "    </tr>\n",
       "    <tr>\n",
       "      <th>1195</th>\n",
       "      <td>(yogurt)</td>\n",
       "      <td>(sausage, whole milk)</td>\n",
       "      <td>0.044895</td>\n",
       "      <td>0.158658</td>\n",
       "      <td>1.483093</td>\n",
       "    </tr>\n",
       "    <tr>\n",
       "      <th>320</th>\n",
       "      <td>(whole milk, root vegetables)</td>\n",
       "      <td>(canned beer)</td>\n",
       "      <td>0.027707</td>\n",
       "      <td>0.244898</td>\n",
       "      <td>1.482317</td>\n",
       "    </tr>\n",
       "    <tr>\n",
       "      <th>321</th>\n",
       "      <td>(canned beer)</td>\n",
       "      <td>(whole milk, root vegetables)</td>\n",
       "      <td>0.027707</td>\n",
       "      <td>0.167702</td>\n",
       "      <td>1.482317</td>\n",
       "    </tr>\n",
       "    <tr>\n",
       "      <th>884</th>\n",
       "      <td>(sausage)</td>\n",
       "      <td>(rolls/buns, soda)</td>\n",
       "      <td>0.035916</td>\n",
       "      <td>0.174346</td>\n",
       "      <td>1.455249</td>\n",
       "    </tr>\n",
       "    <tr>\n",
       "      <th>881</th>\n",
       "      <td>(rolls/buns, soda)</td>\n",
       "      <td>(sausage)</td>\n",
       "      <td>0.035916</td>\n",
       "      <td>0.299786</td>\n",
       "      <td>1.455249</td>\n",
       "    </tr>\n",
       "    <tr>\n",
       "      <th>200</th>\n",
       "      <td>(soda, whole milk)</td>\n",
       "      <td>(curd)</td>\n",
       "      <td>0.026424</td>\n",
       "      <td>0.174873</td>\n",
       "      <td>1.447248</td>\n",
       "    </tr>\n",
       "    <tr>\n",
       "      <th>201</th>\n",
       "      <td>(curd)</td>\n",
       "      <td>(soda, whole milk)</td>\n",
       "      <td>0.026424</td>\n",
       "      <td>0.218684</td>\n",
       "      <td>1.447248</td>\n",
       "    </tr>\n",
       "    <tr>\n",
       "      <th>1192</th>\n",
       "      <td>(yogurt, whole milk)</td>\n",
       "      <td>(sausage)</td>\n",
       "      <td>0.044895</td>\n",
       "      <td>0.298126</td>\n",
       "      <td>1.447192</td>\n",
       "    </tr>\n",
       "    <tr>\n",
       "      <th>1197</th>\n",
       "      <td>(sausage)</td>\n",
       "      <td>(yogurt, whole milk)</td>\n",
       "      <td>0.044895</td>\n",
       "      <td>0.217933</td>\n",
       "      <td>1.447192</td>\n",
       "    </tr>\n",
       "    <tr>\n",
       "      <th>903</th>\n",
       "      <td>(shopping bags)</td>\n",
       "      <td>(soda, whole milk)</td>\n",
       "      <td>0.036685</td>\n",
       "      <td>0.217988</td>\n",
       "      <td>1.442643</td>\n",
       "    </tr>\n",
       "    <tr>\n",
       "      <th>902</th>\n",
       "      <td>(soda, whole milk)</td>\n",
       "      <td>(shopping bags)</td>\n",
       "      <td>0.036685</td>\n",
       "      <td>0.242784</td>\n",
       "      <td>1.442643</td>\n",
       "    </tr>\n",
       "    <tr>\n",
       "      <th>245</th>\n",
       "      <td>(butter, whole milk)</td>\n",
       "      <td>(yogurt)</td>\n",
       "      <td>0.026937</td>\n",
       "      <td>0.406977</td>\n",
       "      <td>1.438255</td>\n",
       "    </tr>\n",
       "    <tr>\n",
       "      <th>248</th>\n",
       "      <td>(yogurt)</td>\n",
       "      <td>(butter, whole milk)</td>\n",
       "      <td>0.026937</td>\n",
       "      <td>0.095195</td>\n",
       "      <td>1.438255</td>\n",
       "    </tr>\n",
       "    <tr>\n",
       "      <th>943</th>\n",
       "      <td>(other vegetables, sausage)</td>\n",
       "      <td>(yogurt)</td>\n",
       "      <td>0.037199</td>\n",
       "      <td>0.400552</td>\n",
       "      <td>1.415552</td>\n",
       "    </tr>\n",
       "  </tbody>\n",
       "</table>\n",
       "</div>"
      ],
      "text/plain": [
       "                        antecedents                    consequents   support  \\\n",
       "874            (rolls/buns, yogurt)                      (sausage)  0.035659   \n",
       "879                       (sausage)           (rolls/buns, yogurt)  0.035659   \n",
       "456   (root vegetables, whole milk)                (shopping bags)  0.029246   \n",
       "457                 (shopping bags)  (root vegetables, whole milk)  0.029246   \n",
       "875           (rolls/buns, sausage)                       (yogurt)  0.035659   \n",
       "878                        (yogurt)          (rolls/buns, sausage)  0.035659   \n",
       "947                       (sausage)     (other vegetables, yogurt)  0.037199   \n",
       "942      (other vegetables, yogurt)                      (sausage)  0.037199   \n",
       "629        (other vegetables, soda)                (shopping bags)  0.031042   \n",
       "632                 (shopping bags)       (other vegetables, soda)  0.031042   \n",
       "1194          (sausage, whole milk)                       (yogurt)  0.044895   \n",
       "1195                       (yogurt)          (sausage, whole milk)  0.044895   \n",
       "320   (whole milk, root vegetables)                  (canned beer)  0.027707   \n",
       "321                   (canned beer)  (whole milk, root vegetables)  0.027707   \n",
       "884                       (sausage)             (rolls/buns, soda)  0.035916   \n",
       "881              (rolls/buns, soda)                      (sausage)  0.035916   \n",
       "200              (soda, whole milk)                         (curd)  0.026424   \n",
       "201                          (curd)             (soda, whole milk)  0.026424   \n",
       "1192           (yogurt, whole milk)                      (sausage)  0.044895   \n",
       "1197                      (sausage)           (yogurt, whole milk)  0.044895   \n",
       "903                 (shopping bags)             (soda, whole milk)  0.036685   \n",
       "902              (soda, whole milk)                (shopping bags)  0.036685   \n",
       "245            (butter, whole milk)                       (yogurt)  0.026937   \n",
       "248                        (yogurt)           (butter, whole milk)  0.026937   \n",
       "943     (other vegetables, sausage)                       (yogurt)  0.037199   \n",
       "\n",
       "      confidence      lift  \n",
       "874     0.320276  1.554717  \n",
       "879     0.173101  1.554717  \n",
       "456     0.258503  1.536046  \n",
       "457     0.173780  1.536046  \n",
       "875     0.433022  1.530298  \n",
       "878     0.126020  1.530298  \n",
       "947     0.180573  1.500795  \n",
       "942     0.309168  1.500795  \n",
       "629     0.250000  1.485518  \n",
       "632     0.184451  1.485518  \n",
       "1194    0.419664  1.483093  \n",
       "1195    0.158658  1.483093  \n",
       "320     0.244898  1.482317  \n",
       "321     0.167702  1.482317  \n",
       "884     0.174346  1.455249  \n",
       "881     0.299786  1.455249  \n",
       "200     0.174873  1.447248  \n",
       "201     0.218684  1.447248  \n",
       "1192    0.298126  1.447192  \n",
       "1197    0.217933  1.447192  \n",
       "903     0.217988  1.442643  \n",
       "902     0.242784  1.442643  \n",
       "245     0.406977  1.438255  \n",
       "248     0.095195  1.438255  \n",
       "943     0.400552  1.415552  "
      ]
     },
     "execution_count": 20,
     "metadata": {},
     "output_type": "execute_result"
    }
   ],
   "source": [
    "# Creating association rules for indicating astecedent and consequent items\n",
    "rules = association_rules(frequent_itemsets, metric=\"lift\", min_threshold=1).sort_values('lift', ascending=False)\n",
    "rules = rules[['antecedents', 'consequents', 'support', 'confidence', 'lift']]\n",
    "rules.head(25)"
   ]
  },
  {
   "cell_type": "markdown",
   "metadata": {
    "papermill": {
     "duration": 0.064055,
     "end_time": "2022-02-17T21:27:33.857579",
     "exception": false,
     "start_time": "2022-02-17T21:27:33.793524",
     "status": "completed"
    },
    "tags": []
   },
   "source": [
    "**As you can see from the result above:**\n",
    "\n",
    "**sausage --> yogurt, rolls/buns**\n",
    "\n",
    "**root vegetables, whole milk --> shopping bags**\n",
    "\n",
    "**rolls/buns, soda --> sausage**\n",
    "\n",
    "**butter, whole milk --> yogurt,**\n",
    "\n",
    "**and etc. have strong relationships.**"
   ]
  },
  {
   "cell_type": "markdown",
   "metadata": {
    "papermill": {
     "duration": 0.062947,
     "end_time": "2022-02-17T21:27:33.984676",
     "exception": false,
     "start_time": "2022-02-17T21:27:33.921729",
     "status": "completed"
    },
    "tags": []
   },
   "source": [
    "# <center> RFM Analysis"
   ]
  },
  {
   "cell_type": "markdown",
   "metadata": {
    "papermill": {
     "duration": 0.065235,
     "end_time": "2022-02-17T21:27:34.114688",
     "exception": false,
     "start_time": "2022-02-17T21:27:34.049453",
     "status": "completed"
    },
    "tags": []
   },
   "source": [
    "# Recency"
   ]
  },
  {
   "cell_type": "code",
   "execution_count": 21,
   "metadata": {
    "execution": {
     "iopub.execute_input": "2022-02-17T21:27:34.250123Z",
     "iopub.status.busy": "2022-02-17T21:27:34.249140Z",
     "iopub.status.idle": "2022-02-17T21:27:34.269705Z",
     "shell.execute_reply": "2022-02-17T21:27:34.270321Z",
     "shell.execute_reply.started": "2022-02-17T21:24:11.656018Z"
    },
    "papermill": {
     "duration": 0.092489,
     "end_time": "2022-02-17T21:27:34.270517",
     "exception": false,
     "start_time": "2022-02-17T21:27:34.178028",
     "status": "completed"
    },
    "tags": []
   },
   "outputs": [
    {
     "data": {
      "text/html": [
       "<div>\n",
       "<style scoped>\n",
       "    .dataframe tbody tr th:only-of-type {\n",
       "        vertical-align: middle;\n",
       "    }\n",
       "\n",
       "    .dataframe tbody tr th {\n",
       "        vertical-align: top;\n",
       "    }\n",
       "\n",
       "    .dataframe thead th {\n",
       "        text-align: right;\n",
       "    }\n",
       "</style>\n",
       "<table border=\"1\" class=\"dataframe\">\n",
       "  <thead>\n",
       "    <tr style=\"text-align: right;\">\n",
       "      <th></th>\n",
       "      <th>memberID</th>\n",
       "      <th>LastDate</th>\n",
       "    </tr>\n",
       "  </thead>\n",
       "  <tbody>\n",
       "    <tr>\n",
       "      <th>0</th>\n",
       "      <td>1000</td>\n",
       "      <td>2015-11-25</td>\n",
       "    </tr>\n",
       "    <tr>\n",
       "      <th>1</th>\n",
       "      <td>1001</td>\n",
       "      <td>2015-04-14</td>\n",
       "    </tr>\n",
       "    <tr>\n",
       "      <th>2</th>\n",
       "      <td>1002</td>\n",
       "      <td>2015-08-30</td>\n",
       "    </tr>\n",
       "    <tr>\n",
       "      <th>3</th>\n",
       "      <td>1003</td>\n",
       "      <td>2015-10-02</td>\n",
       "    </tr>\n",
       "    <tr>\n",
       "      <th>4</th>\n",
       "      <td>1004</td>\n",
       "      <td>2015-02-12</td>\n",
       "    </tr>\n",
       "  </tbody>\n",
       "</table>\n",
       "</div>"
      ],
      "text/plain": [
       "  memberID   LastDate\n",
       "0     1000 2015-11-25\n",
       "1     1001 2015-04-14\n",
       "2     1002 2015-08-30\n",
       "3     1003 2015-10-02\n",
       "4     1004 2015-02-12"
      ]
     },
     "execution_count": 21,
     "metadata": {},
     "output_type": "execute_result"
    }
   ],
   "source": [
    "# Lets Start with the calculate the Recency\n",
    "\n",
    "# Finding last purchase date of each customer\n",
    "Recency = data.groupby(by='memberID')['Date'].max().reset_index()\n",
    "Recency.columns = ['memberID', 'LastDate']\n",
    "Recency.head()"
   ]
  },
  {
   "cell_type": "code",
   "execution_count": 22,
   "metadata": {
    "execution": {
     "iopub.execute_input": "2022-02-17T21:27:34.406333Z",
     "iopub.status.busy": "2022-02-17T21:27:34.405601Z",
     "iopub.status.idle": "2022-02-17T21:27:34.412944Z",
     "shell.execute_reply": "2022-02-17T21:27:34.412193Z",
     "shell.execute_reply.started": "2022-02-17T21:24:11.685234Z"
    },
    "papermill": {
     "duration": 0.078202,
     "end_time": "2022-02-17T21:27:34.413104",
     "exception": false,
     "start_time": "2022-02-17T21:27:34.334902",
     "status": "completed"
    },
    "tags": []
   },
   "outputs": [
    {
     "data": {
      "text/plain": [
       "Timestamp('2015-12-30 00:00:00')"
      ]
     },
     "execution_count": 22,
     "metadata": {},
     "output_type": "execute_result"
    }
   ],
   "source": [
    "# Finding last date for our dataset\n",
    "last_date_dataset = Recency['LastDate'].max()\n",
    "last_date_dataset"
   ]
  },
  {
   "cell_type": "code",
   "execution_count": 23,
   "metadata": {
    "execution": {
     "iopub.execute_input": "2022-02-17T21:27:34.552994Z",
     "iopub.status.busy": "2022-02-17T21:27:34.551506Z",
     "iopub.status.idle": "2022-02-17T21:27:34.622300Z",
     "shell.execute_reply": "2022-02-17T21:27:34.622916Z",
     "shell.execute_reply.started": "2022-02-17T21:24:11.694774Z"
    },
    "papermill": {
     "duration": 0.146604,
     "end_time": "2022-02-17T21:27:34.623112",
     "exception": false,
     "start_time": "2022-02-17T21:27:34.476508",
     "status": "completed"
    },
    "tags": []
   },
   "outputs": [
    {
     "data": {
      "text/html": [
       "<div>\n",
       "<style scoped>\n",
       "    .dataframe tbody tr th:only-of-type {\n",
       "        vertical-align: middle;\n",
       "    }\n",
       "\n",
       "    .dataframe tbody tr th {\n",
       "        vertical-align: top;\n",
       "    }\n",
       "\n",
       "    .dataframe thead th {\n",
       "        text-align: right;\n",
       "    }\n",
       "</style>\n",
       "<table border=\"1\" class=\"dataframe\">\n",
       "  <thead>\n",
       "    <tr style=\"text-align: right;\">\n",
       "      <th></th>\n",
       "      <th>memberID</th>\n",
       "      <th>LastDate</th>\n",
       "      <th>Recency</th>\n",
       "    </tr>\n",
       "  </thead>\n",
       "  <tbody>\n",
       "    <tr>\n",
       "      <th>0</th>\n",
       "      <td>1000</td>\n",
       "      <td>2015-11-25</td>\n",
       "      <td>35</td>\n",
       "    </tr>\n",
       "    <tr>\n",
       "      <th>1</th>\n",
       "      <td>1001</td>\n",
       "      <td>2015-04-14</td>\n",
       "      <td>260</td>\n",
       "    </tr>\n",
       "    <tr>\n",
       "      <th>2</th>\n",
       "      <td>1002</td>\n",
       "      <td>2015-08-30</td>\n",
       "      <td>122</td>\n",
       "    </tr>\n",
       "    <tr>\n",
       "      <th>3</th>\n",
       "      <td>1003</td>\n",
       "      <td>2015-10-02</td>\n",
       "      <td>89</td>\n",
       "    </tr>\n",
       "    <tr>\n",
       "      <th>4</th>\n",
       "      <td>1004</td>\n",
       "      <td>2015-02-12</td>\n",
       "      <td>321</td>\n",
       "    </tr>\n",
       "  </tbody>\n",
       "</table>\n",
       "</div>"
      ],
      "text/plain": [
       "  memberID   LastDate  Recency\n",
       "0     1000 2015-11-25       35\n",
       "1     1001 2015-04-14      260\n",
       "2     1002 2015-08-30      122\n",
       "3     1003 2015-10-02       89\n",
       "4     1004 2015-02-12      321"
      ]
     },
     "execution_count": 23,
     "metadata": {},
     "output_type": "execute_result"
    }
   ],
   "source": [
    "# Calculating Recency by subtracting (last transaction date of dataset) and (last purchase date of each customer)\n",
    "Recency['Recency'] = Recency['LastDate'].apply(lambda x: (last_date_dataset - x).days)\n",
    "Recency.head()"
   ]
  },
  {
   "cell_type": "markdown",
   "metadata": {
    "papermill": {
     "duration": 0.062392,
     "end_time": "2022-02-17T21:27:34.748630",
     "exception": false,
     "start_time": "2022-02-17T21:27:34.686238",
     "status": "completed"
    },
    "tags": []
   },
   "source": [
    "# Recency Distribution of the Customers"
   ]
  },
  {
   "cell_type": "code",
   "execution_count": 24,
   "metadata": {
    "_kg_hide-input": true,
    "execution": {
     "iopub.execute_input": "2022-02-17T21:27:34.881524Z",
     "iopub.status.busy": "2022-02-17T21:27:34.880730Z",
     "iopub.status.idle": "2022-02-17T21:27:35.075066Z",
     "shell.execute_reply": "2022-02-17T21:27:35.074318Z",
     "shell.execute_reply.started": "2022-02-17T21:24:11.778628Z"
    },
    "papermill": {
     "duration": 0.263115,
     "end_time": "2022-02-17T21:27:35.075218",
     "exception": false,
     "start_time": "2022-02-17T21:27:34.812103",
     "status": "completed"
    },
    "tags": []
   },
   "outputs": [
    {
     "data": {
      "text/html": [
       "<div>                            <div id=\"243bfb4c-0316-4a6a-a950-40cf3b29f82e\" class=\"plotly-graph-div\" style=\"height:525px; width:100%;\"></div>            <script type=\"text/javascript\">                require([\"plotly\"], function(Plotly) {                    window.PLOTLYENV=window.PLOTLYENV || {};                                    if (document.getElementById(\"243bfb4c-0316-4a6a-a950-40cf3b29f82e\")) {                    Plotly.newPlot(                        \"243bfb4c-0316-4a6a-a950-40cf3b29f82e\",                        [{\"alignmentgroup\":\"True\",\"bingroup\":\"x\",\"hovertemplate\":\"Recency=%{x}<br>count=%{y}<extra></extra>\",\"legendgroup\":\"\",\"marker\":{\"color\":\"#636efa\",\"line\":{\"color\":\"#000000\",\"width\":1},\"opacity\":0.85,\"pattern\":{\"shape\":\"\"}},\"name\":\"\",\"offsetgroup\":\"\",\"orientation\":\"v\",\"showlegend\":false,\"type\":\"histogram\",\"x\":[35,260,122,89,321,485,199,162,98,152,109,41,323,273,269,91,91,221,444,78,69,542,185,83,133,216,227,53,291,76,129,198,596,143,709,14,16,213,34,329,28,90,66,35,189,113,73,235,269,20,64,114,70,219,108,511,80,419,235,103,341,158,47,389,148,357,132,452,460,68,146,75,41,24,21,63,112,230,210,596,211,621,137,2,138,30,597,70,111,277,143,61,155,96,19,139,27,367,186,388,64,222,208,153,209,40,40,117,236,27,342,31,220,5,272,54,655,9,19,494,25,227,76,237,374,103,99,279,420,84,62,95,309,345,187,380,200,249,76,173,21,409,94,18,219,104,164,65,209,3,108,629,74,199,40,291,205,16,275,1,664,317,58,380,19,239,69,58,85,135,77,45,416,493,44,31,24,197,128,248,18,120,632,54,144,120,19,231,93,33,38,333,39,95,401,161,56,291,229,46,14,414,88,152,107,90,346,127,315,1,663,1,410,97,30,466,224,19,512,310,285,41,64,343,139,40,215,55,117,361,121,260,222,16,516,400,97,366,511,15,415,507,34,57,193,255,460,123,470,478,33,479,223,388,420,20,92,490,594,437,21,249,521,269,449,56,37,68,109,82,22,58,42,47,552,162,22,124,458,141,99,210,67,65,373,160,37,382,156,299,630,182,92,143,135,220,40,191,291,360,403,28,119,5,600,126,279,522,95,90,345,261,72,244,3,218,110,113,281,221,84,31,244,99,177,73,88,5,417,32,42,61,182,353,265,162,147,106,104,17,661,307,667,119,31,102,143,87,1,580,14,23,203,77,152,224,31,236,168,515,185,55,188,86,88,50,183,211,20,170,39,210,92,310,11,34,152,578,301,315,330,131,254,491,220,20,161,9,259,444,415,215,442,228,300,305,2,154,160,155,141,313,44,381,220,367,130,103,548,179,140,175,131,443,111,97,145,34,346,181,13,163,266,464,397,250,361,137,32,139,201,121,111,1,626,543,603,286,217,44,337,35,404,69,287,40,120,128,165,189,9,462,6,180,110,255,132,111,489,419,496,58,323,154,13,126,40,28,229,39,268,38,186,125,23,16,482,32,180,264,0,335,222,92,120,613,81,63,110,149,135,60,25,30,64,370,191,45,0,66,283,101,19,59,32,336,356,48,428,307,369,371,277,205,431,34,0,106,196,415,345,193,172,84,298,243,362,30,94,34,175,308,74,304,256,634,287,230,52,485,162,223,278,578,266,209,295,593,158,55,422,68,16,41,56,483,483,285,220,100,343,28,273,289,190,563,175,139,145,37,57,182,422,357,78,424,137,285,397,144,341,56,169,242,330,78,109,123,91,49,195,49,385,47,13,218,270,202,127,70,293,140,89,325,62,132,313,28,322,8,33,315,56,41,146,222,138,15,113,119,35,102,27,81,514,190,458,246,535,599,124,10,306,31,551,13,288,171,93,40,61,390,198,30,157,141,24,49,360,31,259,29,131,133,38,173,513,262,50,109,46,140,444,571,188,132,304,134,391,439,80,467,131,147,3,521,272,264,43,161,96,61,227,350,312,20,138,115,2,252,223,38,391,325,223,417,110,57,82,232,76,125,140,112,429,4,165,137,15,5,40,118,190,146,570,123,116,448,213,404,10,18,47,93,648,77,378,149,273,150,280,209,131,104,633,98,7,307,95,341,113,343,3,45,57,343,67,218,0,41,282,322,74,175,50,259,53,373,63,23,207,81,176,95,9,89,60,10,54,242,601,137,69,104,301,137,411,363,94,152,24,25,27,115,206,12,162,429,443,98,77,717,40,122,485,131,82,12,179,223,302,33,353,39,376,178,281,194,348,120,43,23,38,191,143,114,280,111,367,86,310,33,47,58,31,257,186,188,57,53,508,213,157,110,65,82,249,26,522,22,235,58,94,73,141,276,651,228,112,381,128,102,89,154,197,456,33,502,106,76,96,218,48,5,321,110,87,119,217,602,40,59,116,402,379,339,414,67,97,31,70,88,256,73,164,85,90,61,327,130,134,268,175,44,154,92,134,119,49,99,201,43,664,75,229,104,84,45,111,25,435,205,489,137,74,147,61,42,105,441,91,121,242,140,532,127,56,49,69,37,118,205,320,716,333,298,17,120,15,146,0,487,266,433,64,90,58,419,103,327,67,300,95,77,29,210,39,76,60,16,113,34,76,143,112,356,69,124,145,57,24,86,2,226,128,129,112,71,37,131,99,140,37,70,50,11,7,276,122,190,25,137,68,127,46,41,29,161,121,527,412,411,476,10,145,265,307,155,319,50,7,490,255,227,99,173,97,41,180,14,136,131,10,14,173,185,46,100,15,141,36,47,268,539,157,3,99,33,131,342,223,22,177,89,11,77,32,195,10,344,262,178,75,164,253,342,37,172,137,252,118,117,119,60,72,202,24,543,92,339,354,436,78,10,86,57,71,343,36,33,52,63,154,308,572,136,202,42,123,172,165,54,173,617,179,572,188,612,41,58,52,125,376,53,95,339,89,614,271,258,0,149,188,28,243,18,193,19,164,221,92,160,381,290,414,175,62,356,166,203,462,194,36,196,27,73,35,70,89,155,330,52,468,210,144,498,10,258,377,190,366,55,50,319,136,32,50,66,89,91,59,84,111,571,448,692,57,222,93,186,94,180,74,148,153,163,96,31,63,492,345,34,43,321,326,257,182,12,2,27,118,177,214,8,216,74,208,87,6,66,303,119,118,17,101,73,238,106,276,229,123,213,288,215,76,190,142,162,340,12,56,229,437,562,61,56,263,326,29,96,91,49,101,52,40,228,33,243,225,59,346,83,400,59,64,55,346,57,14,39,14,213,204,29,87,280,11,86,2,389,361,136,80,102,6,700,389,357,93,111,27,447,1,281,183,229,315,35,10,146,348,86,505,148,683,368,134,258,31,140,311,168,507,32,15,668,160,173,86,140,589,23,373,376,214,13,13,104,337,48,166,579,212,239,181,497,159,121,98,15,117,315,295,37,66,55,54,134,49,74,21,122,296,495,146,109,216,258,259,52,28,227,234,332,232,422,406,47,131,186,15,257,38,408,391,190,151,28,211,11,204,32,76,67,88,112,39,547,292,17,633,144,233,659,130,94,38,22,393,458,313,126,151,131,184,344,64,18,3,103,92,26,45,313,60,146,213,674,29,25,427,143,2,1,145,152,458,52,9,80,273,655,382,129,99,12,264,151,4,164,3,81,115,292,29,230,139,347,357,119,80,153,268,673,351,101,36,708,63,22,226,35,114,133,8,12,55,175,85,155,184,570,38,201,112,181,150,138,30,3,0,3,168,92,145,251,15,322,161,152,18,298,214,201,16,509,28,70,44,75,52,72,122,485,151,372,113,74,172,77,156,45,241,386,36,139,335,42,178,36,5,128,7,70,243,163,7,124,68,22,429,34,133,411,1,25,93,333,526,99,167,128,166,217,304,48,292,370,66,34,148,43,16,46,279,249,291,65,178,2,28,14,444,96,443,223,341,137,49,38,14,69,48,550,28,487,338,405,102,126,70,366,213,56,188,580,228,222,107,371,16,459,166,81,134,42,478,60,686,201,318,94,98,33,252,54,51,468,446,19,252,361,360,141,588,186,49,84,32,38,416,4,171,35,243,14,223,75,140,416,359,597,70,101,261,16,197,717,97,245,156,23,79,590,82,137,7,32,379,52,309,185,52,59,164,375,107,38,59,71,111,111,135,36,182,116,541,340,32,45,392,148,100,42,44,28,24,316,132,77,108,51,134,290,151,82,697,24,87,552,83,412,178,244,608,395,15,32,97,80,56,329,161,275,358,4,369,56,102,326,51,81,83,225,148,215,122,694,191,107,303,81,143,328,211,37,14,41,156,23,59,12,320,2,30,133,337,363,152,168,126,262,579,63,182,595,179,481,3,50,59,115,274,47,23,280,116,296,211,0,404,67,21,27,74,21,130,22,192,446,380,430,346,122,574,298,239,87,0,58,489,44,55,82,50,8,38,401,12,439,171,1,630,60,727,11,191,212,322,138,4,111,1,102,80,60,28,10,154,16,223,354,98,37,45,36,278,105,146,408,150,112,131,256,493,58,10,27,144,392,292,230,623,7,120,79,66,10,102,168,112,27,61,87,565,2,194,575,24,20,2,41,383,347,10,344,248,326,405,18,291,138,337,450,36,56,449,24,144,104,69,145,376,290,147,155,169,336,267,30,519,200,582,48,183,50,398,4,422,41,48,62,303,58,434,282,602,285,209,55,120,146,152,188,297,73,95,362,193,362,164,173,167,194,645,81,8,35,273,238,207,321,26,199,11,44,248,582,52,542,399,211,74,93,0,337,223,382,4,67,327,44,35,113,247,55,188,51,309,215,59,623,77,212,22,317,110,239,388,315,95,0,169,257,495,6,139,512,89,23,3,686,479,138,138,191,101,131,49,24,352,93,186,11,125,334,45,155,372,72,340,106,115,213,381,12,238,461,178,31,23,310,59,32,415,84,3,243,92,279,42,174,79,242,15,31,267,5,117,134,137,532,156,382,237,89,146,2,332,367,30,33,194,117,200,146,347,261,76,140,121,355,88,683,463,87,467,22,53,270,368,244,74,94,6,292,185,78,130,83,265,165,210,13,262,444,226,391,420,44,645,184,525,7,225,195,427,389,91,1,185,7,60,380,117,599,686,435,122,522,315,658,22,5,177,157,611,128,255,253,58,44,393,220,136,44,546,6,118,704,417,96,36,142,87,464,325,449,573,333,208,24,207,366,91,33,246,132,14,199,293,439,361,158,119,37,219,438,69,284,72,17,27,175,40,330,35,201,37,39,0,333,300,145,239,726,147,6,58,33,46,175,147,48,52,34,40,2,7,91,256,376,8,162,28,285,419,266,77,184,236,570,291,18,431,30,338,175,350,274,12,430,136,2,117,185,576,33,363,101,221,697,40,55,125,351,194,373,26,4,130,193,72,151,153,320,224,318,145,54,531,240,109,66,346,170,173,229,3,192,95,65,183,425,396,399,170,66,191,326,41,23,7,331,248,4,215,325,108,116,87,155,135,150,218,305,158,249,222,339,30,189,1,185,68,63,149,328,6,148,504,21,182,184,29,43,391,5,50,19,128,31,244,244,21,312,157,158,333,311,288,600,279,85,135,140,15,191,86,360,91,55,238,232,388,586,77,141,138,31,73,29,146,276,523,46,161,578,1,107,66,376,671,118,1,19,673,6,125,212,547,488,351,343,49,426,412,393,31,185,303,86,135,46,9,172,17,133,230,313,57,23,271,93,56,623,171,261,68,280,233,48,62,194,338,98,68,217,45,15,292,132,306,25,521,327,136,380,66,246,289,86,258,517,270,130,85,452,278,331,3,127,9,26,20,68,513,244,33,460,31,6,121,229,14,13,42,82,475,139,236,36,187,45,97,545,153,474,6,46,86,264,20,211,179,127,16,185,531,329,281,178,264,518,38,39,161,7,431,9,42,114,54,331,267,42,99,36,274,269,162,156,388,31,99,50,22,137,56,332,45,43,123,382,253,17,48,65,17,110,166,98,110,395,319,126,92,134,108,560,123,218,495,49,305,635,23,361,340,241,652,53,50,88,30,38,32,54,28,377,159,197,86,160,442,91,163,102,326,92,367,0,35,186,624,16,264,52,448,324,48,114,301,147,147,594,25,228,0,36,5,196,98,13,162,220,146,15,234,120,55,16,82,51,13,254,17,259,39,34,10,429,334,226,240,414,676,20,18,470,320,94,234,246,139,419,257,526,179,195,117,2,178,390,439,419,571,721,59,159,386,419,1,79,17,230,8,207,396,142,3,309,101,323,18,144,302,327,192,166,75,103,21,14,317,57,92,95,192,442,33,163,40,214,98,26,382,12,89,378,50,216,22,139,267,67,30,541,7,36,77,20,85,139,126,123,8,68,154,223,28,73,44,13,114,605,295,122,18,255,247,197,93,174,408,187,296,65,130,145,10,333,542,55,80,214,23,13,216,267,602,291,34,466,218,225,19,31,156,499,31,586,235,32,33,18,0,205,590,39,130,208,140,126,110,309,78,118,227,363,131,367,332,93,53,189,210,143,38,95,132,186,80,24,141,207,173,306,351,374,94,33,13,64,165,672,292,80,674,98,303,149,199,388,55,97,317,20,63,280,518,175,34,347,207,83,265,445,150,68,76,7,192,468,124,65,134,150,178,55,47,346,162,106,12,366,13,26,451,304,96,444,28,702,612,91,198,84,73,77,166,591,55,201,25,16,473,155,164,77,74,104,102,336,279,42,380,296,86,360,267,286,118,210,263,278,91,239,176,42,200,18,176,174,133,356,284,152,37,529,295,59,155,188,179,72,234,179,76,42,462,17,372,59,38,163,259,17,564,82,129,56,6,10,395,31,203,55,194,197,66,84,119,12,129,212,284,151,51,264,108,191,119,86,560,124,337,62,280,132,109,95,153,23,149,543,388,278,326,551,41,152,89,118,445,80,666,304,264,41,200,198,360,25,61,90,89,37,376,229,64,26,70,6,101,104,422,365,59,37,19,241,687,0,146,85,194,306,101,258,160,105,105,5,92,112,303,68,42,133,438,593,663,391,315,686,187,121,20,16,44,192,124,7,86,596,12,7,225,169,1,489,228,287,45,90,253,50,43,124,56,425,152,343,57,247,25,145,429,8,73,83,207,47,29,218,1,145,3,301,75,13,343,126,8,366,210,147,356,206,336,253,283,208,645,24,0,178,48,116,398,19,89,55,540,75,41,300,156,76,138,320,82,243,222,266,46,101,298,71,346,502,294,92,410,126,98,264,307,2,91,508,275,1,184,32,120,337,252,244,68,157,24,215,127,45,25,128,32,247,139,175,222,359,52,6,28,48,353,68,16,112,199,438,19,99,202,276,466,156,32,420,52,4,24,34,678,19,43,545,202,56,119,105,117,182,126,322,195,156,326,97,297,273,4,2,22,97,8,214,461,89,157,204,463,36,53,299,142,55,438,335,239,198,47,210,49,539,25,349,15,348,66,63,497,51,3,86,14,122,55,269,114,65,287,1,555,77,315,75,311,398,124,668,519,175,470,179,129,115,183,246,12,59,75,39,273,3,163,201,147,201,132,256,132,188,59,11,197,166,11,35,589,18,58,63,464,109,130,60,268,200,697,476,108,431,9,87,138,137,481,131,48,189,44,317,51,55,18,152,58,249,360,150,376,207,199,91,51,35,589,702,201,73,190,419,77,1,21,205,47,142,548,109,65,91,151,65,126,64,158,138,270,10,149,5,319,159,2,602,179,106,306,555,16,155,245,248,59,643,478,65,48,21,46,13,243,77,56,248,123,433,148,82,36,357,20,20,81,65,50,405,5,393,287,9,208,336,180,56,291,131,1,24,348,39,352,81,54,97,310,235,53,357,6,313,139,45,20,127,393,192,153,22,467,234,38,310,269,354,294,91,47,664,99,43,143,89,285,13,344,279,32,36,412,146,24,186,110,48,476,476,101,446,161,217,314,254,349,20,161,10,50,341,337,7,226,264,7,308,437,673,75,74,207,333,129,162,311,44,96,219,100,428,7,31,131,56,110,32,437,161,224,359,212,275,153,402,37,129,7,4,144,296,649,12,23,320,177,137,70,366,132,38,198,73,7,305,415,174,79,301,318,262,89,389,417,30,137,33,158,68,84,379,41,708,468,199,62,205,14,341,177,58,62,146,147,38,11,265,257,52,137,173,31,240,184,9,263,531,59,171,430,163,294,423,106,226,63,4,55,128,73,78,86,21,75,31,223,441,232,108,10,32,118,71,256,346,68,182,117,346,153,110,155,74,200,125,114,90,72,240,25,298,560,567,186,145,0,88,82,156,130,240,62,7,30,79,104,263,387,62,31,301,47,310,66,93,460,586,141,84,498,200,140,28,190,175,148,170,42,616,28,15,126,343,109,68,229,15,35,172,164,125,244,227,67,427,136,401,14,197,57,642,389,145,33,179,6,12,31,44,549,673,91,135,229,75,87,230,415,403,96,31,293,27,127,1,152,316,107,447,381,192,148,475,472,274,5,137,169,369,84,86,43,621,218,307,72,29,362,188,50,168,233,444,578,60,349,76,13,80,125,51,227,98,404,125,19,98,147,174,375,20,64,134,42,78,134,51,66,150,186,244,141,436,131,222,37,58,207,483,116,104,381,336,122,401,361,87,24,2,28,198,14,222,28,321,145,39,204,148,399,270,658,118,23,360,162,102,137,627,84,96,45,267,63,6,73,128,15,318,100,41,58,141,3,103,29,410,313,311,143,61,63,94,237,92,292,101,594,369,376,60,167,641,66,128,67,102,38,136,69,51,108,395,22,246,51,137,637,163,36,64,153,85,267,39,119,6,266,448,365,3,78,36,148,132,93,137,59,217,266,28,705,152,10,59,101,160,32,89,470,559,45,198,33,50,294,372,26,293,88,247,63,47,321,333,11,238,13,140,231,310,20,428,303,77,227,168,10,131,104,372,359,304,155,318,86,411,108,229,0,46,408,131,62,328,211,548,45,432,247,7,25,312,193,100,20,416,155,60,90,699,75,338,384,320,303,107,120,120,361,7,83,67,400,157,27,634,319,258,140,566,35,91,253,224,65,35,182,356,26,103,307,579,337,27,312,13,98,54,377,405,72,134,156,504,269,40,306,60,329,290,87,36,77,131,319,37,155,204,325,263,42,586,134,252,36,69,81,85,435,405,590,53,183,133,687,276,366,30,50,339,98,47,218,144,227,211,581,530,147,53,132,711,250,492,90,356,382,248,4,336,182,10,194,16,373,193,119,150,654,36,3,77,4,89],\"xaxis\":\"x\",\"yaxis\":\"y\"},{\"alignmentgroup\":\"True\",\"hovertemplate\":\"Recency=%{x}<extra></extra>\",\"legendgroup\":\"\",\"marker\":{\"color\":\"#636efa\",\"line\":{\"color\":\"#000000\",\"width\":1}},\"name\":\"\",\"notched\":true,\"offsetgroup\":\"\",\"showlegend\":false,\"type\":\"box\",\"x\":[35,260,122,89,321,485,199,162,98,152,109,41,323,273,269,91,91,221,444,78,69,542,185,83,133,216,227,53,291,76,129,198,596,143,709,14,16,213,34,329,28,90,66,35,189,113,73,235,269,20,64,114,70,219,108,511,80,419,235,103,341,158,47,389,148,357,132,452,460,68,146,75,41,24,21,63,112,230,210,596,211,621,137,2,138,30,597,70,111,277,143,61,155,96,19,139,27,367,186,388,64,222,208,153,209,40,40,117,236,27,342,31,220,5,272,54,655,9,19,494,25,227,76,237,374,103,99,279,420,84,62,95,309,345,187,380,200,249,76,173,21,409,94,18,219,104,164,65,209,3,108,629,74,199,40,291,205,16,275,1,664,317,58,380,19,239,69,58,85,135,77,45,416,493,44,31,24,197,128,248,18,120,632,54,144,120,19,231,93,33,38,333,39,95,401,161,56,291,229,46,14,414,88,152,107,90,346,127,315,1,663,1,410,97,30,466,224,19,512,310,285,41,64,343,139,40,215,55,117,361,121,260,222,16,516,400,97,366,511,15,415,507,34,57,193,255,460,123,470,478,33,479,223,388,420,20,92,490,594,437,21,249,521,269,449,56,37,68,109,82,22,58,42,47,552,162,22,124,458,141,99,210,67,65,373,160,37,382,156,299,630,182,92,143,135,220,40,191,291,360,403,28,119,5,600,126,279,522,95,90,345,261,72,244,3,218,110,113,281,221,84,31,244,99,177,73,88,5,417,32,42,61,182,353,265,162,147,106,104,17,661,307,667,119,31,102,143,87,1,580,14,23,203,77,152,224,31,236,168,515,185,55,188,86,88,50,183,211,20,170,39,210,92,310,11,34,152,578,301,315,330,131,254,491,220,20,161,9,259,444,415,215,442,228,300,305,2,154,160,155,141,313,44,381,220,367,130,103,548,179,140,175,131,443,111,97,145,34,346,181,13,163,266,464,397,250,361,137,32,139,201,121,111,1,626,543,603,286,217,44,337,35,404,69,287,40,120,128,165,189,9,462,6,180,110,255,132,111,489,419,496,58,323,154,13,126,40,28,229,39,268,38,186,125,23,16,482,32,180,264,0,335,222,92,120,613,81,63,110,149,135,60,25,30,64,370,191,45,0,66,283,101,19,59,32,336,356,48,428,307,369,371,277,205,431,34,0,106,196,415,345,193,172,84,298,243,362,30,94,34,175,308,74,304,256,634,287,230,52,485,162,223,278,578,266,209,295,593,158,55,422,68,16,41,56,483,483,285,220,100,343,28,273,289,190,563,175,139,145,37,57,182,422,357,78,424,137,285,397,144,341,56,169,242,330,78,109,123,91,49,195,49,385,47,13,218,270,202,127,70,293,140,89,325,62,132,313,28,322,8,33,315,56,41,146,222,138,15,113,119,35,102,27,81,514,190,458,246,535,599,124,10,306,31,551,13,288,171,93,40,61,390,198,30,157,141,24,49,360,31,259,29,131,133,38,173,513,262,50,109,46,140,444,571,188,132,304,134,391,439,80,467,131,147,3,521,272,264,43,161,96,61,227,350,312,20,138,115,2,252,223,38,391,325,223,417,110,57,82,232,76,125,140,112,429,4,165,137,15,5,40,118,190,146,570,123,116,448,213,404,10,18,47,93,648,77,378,149,273,150,280,209,131,104,633,98,7,307,95,341,113,343,3,45,57,343,67,218,0,41,282,322,74,175,50,259,53,373,63,23,207,81,176,95,9,89,60,10,54,242,601,137,69,104,301,137,411,363,94,152,24,25,27,115,206,12,162,429,443,98,77,717,40,122,485,131,82,12,179,223,302,33,353,39,376,178,281,194,348,120,43,23,38,191,143,114,280,111,367,86,310,33,47,58,31,257,186,188,57,53,508,213,157,110,65,82,249,26,522,22,235,58,94,73,141,276,651,228,112,381,128,102,89,154,197,456,33,502,106,76,96,218,48,5,321,110,87,119,217,602,40,59,116,402,379,339,414,67,97,31,70,88,256,73,164,85,90,61,327,130,134,268,175,44,154,92,134,119,49,99,201,43,664,75,229,104,84,45,111,25,435,205,489,137,74,147,61,42,105,441,91,121,242,140,532,127,56,49,69,37,118,205,320,716,333,298,17,120,15,146,0,487,266,433,64,90,58,419,103,327,67,300,95,77,29,210,39,76,60,16,113,34,76,143,112,356,69,124,145,57,24,86,2,226,128,129,112,71,37,131,99,140,37,70,50,11,7,276,122,190,25,137,68,127,46,41,29,161,121,527,412,411,476,10,145,265,307,155,319,50,7,490,255,227,99,173,97,41,180,14,136,131,10,14,173,185,46,100,15,141,36,47,268,539,157,3,99,33,131,342,223,22,177,89,11,77,32,195,10,344,262,178,75,164,253,342,37,172,137,252,118,117,119,60,72,202,24,543,92,339,354,436,78,10,86,57,71,343,36,33,52,63,154,308,572,136,202,42,123,172,165,54,173,617,179,572,188,612,41,58,52,125,376,53,95,339,89,614,271,258,0,149,188,28,243,18,193,19,164,221,92,160,381,290,414,175,62,356,166,203,462,194,36,196,27,73,35,70,89,155,330,52,468,210,144,498,10,258,377,190,366,55,50,319,136,32,50,66,89,91,59,84,111,571,448,692,57,222,93,186,94,180,74,148,153,163,96,31,63,492,345,34,43,321,326,257,182,12,2,27,118,177,214,8,216,74,208,87,6,66,303,119,118,17,101,73,238,106,276,229,123,213,288,215,76,190,142,162,340,12,56,229,437,562,61,56,263,326,29,96,91,49,101,52,40,228,33,243,225,59,346,83,400,59,64,55,346,57,14,39,14,213,204,29,87,280,11,86,2,389,361,136,80,102,6,700,389,357,93,111,27,447,1,281,183,229,315,35,10,146,348,86,505,148,683,368,134,258,31,140,311,168,507,32,15,668,160,173,86,140,589,23,373,376,214,13,13,104,337,48,166,579,212,239,181,497,159,121,98,15,117,315,295,37,66,55,54,134,49,74,21,122,296,495,146,109,216,258,259,52,28,227,234,332,232,422,406,47,131,186,15,257,38,408,391,190,151,28,211,11,204,32,76,67,88,112,39,547,292,17,633,144,233,659,130,94,38,22,393,458,313,126,151,131,184,344,64,18,3,103,92,26,45,313,60,146,213,674,29,25,427,143,2,1,145,152,458,52,9,80,273,655,382,129,99,12,264,151,4,164,3,81,115,292,29,230,139,347,357,119,80,153,268,673,351,101,36,708,63,22,226,35,114,133,8,12,55,175,85,155,184,570,38,201,112,181,150,138,30,3,0,3,168,92,145,251,15,322,161,152,18,298,214,201,16,509,28,70,44,75,52,72,122,485,151,372,113,74,172,77,156,45,241,386,36,139,335,42,178,36,5,128,7,70,243,163,7,124,68,22,429,34,133,411,1,25,93,333,526,99,167,128,166,217,304,48,292,370,66,34,148,43,16,46,279,249,291,65,178,2,28,14,444,96,443,223,341,137,49,38,14,69,48,550,28,487,338,405,102,126,70,366,213,56,188,580,228,222,107,371,16,459,166,81,134,42,478,60,686,201,318,94,98,33,252,54,51,468,446,19,252,361,360,141,588,186,49,84,32,38,416,4,171,35,243,14,223,75,140,416,359,597,70,101,261,16,197,717,97,245,156,23,79,590,82,137,7,32,379,52,309,185,52,59,164,375,107,38,59,71,111,111,135,36,182,116,541,340,32,45,392,148,100,42,44,28,24,316,132,77,108,51,134,290,151,82,697,24,87,552,83,412,178,244,608,395,15,32,97,80,56,329,161,275,358,4,369,56,102,326,51,81,83,225,148,215,122,694,191,107,303,81,143,328,211,37,14,41,156,23,59,12,320,2,30,133,337,363,152,168,126,262,579,63,182,595,179,481,3,50,59,115,274,47,23,280,116,296,211,0,404,67,21,27,74,21,130,22,192,446,380,430,346,122,574,298,239,87,0,58,489,44,55,82,50,8,38,401,12,439,171,1,630,60,727,11,191,212,322,138,4,111,1,102,80,60,28,10,154,16,223,354,98,37,45,36,278,105,146,408,150,112,131,256,493,58,10,27,144,392,292,230,623,7,120,79,66,10,102,168,112,27,61,87,565,2,194,575,24,20,2,41,383,347,10,344,248,326,405,18,291,138,337,450,36,56,449,24,144,104,69,145,376,290,147,155,169,336,267,30,519,200,582,48,183,50,398,4,422,41,48,62,303,58,434,282,602,285,209,55,120,146,152,188,297,73,95,362,193,362,164,173,167,194,645,81,8,35,273,238,207,321,26,199,11,44,248,582,52,542,399,211,74,93,0,337,223,382,4,67,327,44,35,113,247,55,188,51,309,215,59,623,77,212,22,317,110,239,388,315,95,0,169,257,495,6,139,512,89,23,3,686,479,138,138,191,101,131,49,24,352,93,186,11,125,334,45,155,372,72,340,106,115,213,381,12,238,461,178,31,23,310,59,32,415,84,3,243,92,279,42,174,79,242,15,31,267,5,117,134,137,532,156,382,237,89,146,2,332,367,30,33,194,117,200,146,347,261,76,140,121,355,88,683,463,87,467,22,53,270,368,244,74,94,6,292,185,78,130,83,265,165,210,13,262,444,226,391,420,44,645,184,525,7,225,195,427,389,91,1,185,7,60,380,117,599,686,435,122,522,315,658,22,5,177,157,611,128,255,253,58,44,393,220,136,44,546,6,118,704,417,96,36,142,87,464,325,449,573,333,208,24,207,366,91,33,246,132,14,199,293,439,361,158,119,37,219,438,69,284,72,17,27,175,40,330,35,201,37,39,0,333,300,145,239,726,147,6,58,33,46,175,147,48,52,34,40,2,7,91,256,376,8,162,28,285,419,266,77,184,236,570,291,18,431,30,338,175,350,274,12,430,136,2,117,185,576,33,363,101,221,697,40,55,125,351,194,373,26,4,130,193,72,151,153,320,224,318,145,54,531,240,109,66,346,170,173,229,3,192,95,65,183,425,396,399,170,66,191,326,41,23,7,331,248,4,215,325,108,116,87,155,135,150,218,305,158,249,222,339,30,189,1,185,68,63,149,328,6,148,504,21,182,184,29,43,391,5,50,19,128,31,244,244,21,312,157,158,333,311,288,600,279,85,135,140,15,191,86,360,91,55,238,232,388,586,77,141,138,31,73,29,146,276,523,46,161,578,1,107,66,376,671,118,1,19,673,6,125,212,547,488,351,343,49,426,412,393,31,185,303,86,135,46,9,172,17,133,230,313,57,23,271,93,56,623,171,261,68,280,233,48,62,194,338,98,68,217,45,15,292,132,306,25,521,327,136,380,66,246,289,86,258,517,270,130,85,452,278,331,3,127,9,26,20,68,513,244,33,460,31,6,121,229,14,13,42,82,475,139,236,36,187,45,97,545,153,474,6,46,86,264,20,211,179,127,16,185,531,329,281,178,264,518,38,39,161,7,431,9,42,114,54,331,267,42,99,36,274,269,162,156,388,31,99,50,22,137,56,332,45,43,123,382,253,17,48,65,17,110,166,98,110,395,319,126,92,134,108,560,123,218,495,49,305,635,23,361,340,241,652,53,50,88,30,38,32,54,28,377,159,197,86,160,442,91,163,102,326,92,367,0,35,186,624,16,264,52,448,324,48,114,301,147,147,594,25,228,0,36,5,196,98,13,162,220,146,15,234,120,55,16,82,51,13,254,17,259,39,34,10,429,334,226,240,414,676,20,18,470,320,94,234,246,139,419,257,526,179,195,117,2,178,390,439,419,571,721,59,159,386,419,1,79,17,230,8,207,396,142,3,309,101,323,18,144,302,327,192,166,75,103,21,14,317,57,92,95,192,442,33,163,40,214,98,26,382,12,89,378,50,216,22,139,267,67,30,541,7,36,77,20,85,139,126,123,8,68,154,223,28,73,44,13,114,605,295,122,18,255,247,197,93,174,408,187,296,65,130,145,10,333,542,55,80,214,23,13,216,267,602,291,34,466,218,225,19,31,156,499,31,586,235,32,33,18,0,205,590,39,130,208,140,126,110,309,78,118,227,363,131,367,332,93,53,189,210,143,38,95,132,186,80,24,141,207,173,306,351,374,94,33,13,64,165,672,292,80,674,98,303,149,199,388,55,97,317,20,63,280,518,175,34,347,207,83,265,445,150,68,76,7,192,468,124,65,134,150,178,55,47,346,162,106,12,366,13,26,451,304,96,444,28,702,612,91,198,84,73,77,166,591,55,201,25,16,473,155,164,77,74,104,102,336,279,42,380,296,86,360,267,286,118,210,263,278,91,239,176,42,200,18,176,174,133,356,284,152,37,529,295,59,155,188,179,72,234,179,76,42,462,17,372,59,38,163,259,17,564,82,129,56,6,10,395,31,203,55,194,197,66,84,119,12,129,212,284,151,51,264,108,191,119,86,560,124,337,62,280,132,109,95,153,23,149,543,388,278,326,551,41,152,89,118,445,80,666,304,264,41,200,198,360,25,61,90,89,37,376,229,64,26,70,6,101,104,422,365,59,37,19,241,687,0,146,85,194,306,101,258,160,105,105,5,92,112,303,68,42,133,438,593,663,391,315,686,187,121,20,16,44,192,124,7,86,596,12,7,225,169,1,489,228,287,45,90,253,50,43,124,56,425,152,343,57,247,25,145,429,8,73,83,207,47,29,218,1,145,3,301,75,13,343,126,8,366,210,147,356,206,336,253,283,208,645,24,0,178,48,116,398,19,89,55,540,75,41,300,156,76,138,320,82,243,222,266,46,101,298,71,346,502,294,92,410,126,98,264,307,2,91,508,275,1,184,32,120,337,252,244,68,157,24,215,127,45,25,128,32,247,139,175,222,359,52,6,28,48,353,68,16,112,199,438,19,99,202,276,466,156,32,420,52,4,24,34,678,19,43,545,202,56,119,105,117,182,126,322,195,156,326,97,297,273,4,2,22,97,8,214,461,89,157,204,463,36,53,299,142,55,438,335,239,198,47,210,49,539,25,349,15,348,66,63,497,51,3,86,14,122,55,269,114,65,287,1,555,77,315,75,311,398,124,668,519,175,470,179,129,115,183,246,12,59,75,39,273,3,163,201,147,201,132,256,132,188,59,11,197,166,11,35,589,18,58,63,464,109,130,60,268,200,697,476,108,431,9,87,138,137,481,131,48,189,44,317,51,55,18,152,58,249,360,150,376,207,199,91,51,35,589,702,201,73,190,419,77,1,21,205,47,142,548,109,65,91,151,65,126,64,158,138,270,10,149,5,319,159,2,602,179,106,306,555,16,155,245,248,59,643,478,65,48,21,46,13,243,77,56,248,123,433,148,82,36,357,20,20,81,65,50,405,5,393,287,9,208,336,180,56,291,131,1,24,348,39,352,81,54,97,310,235,53,357,6,313,139,45,20,127,393,192,153,22,467,234,38,310,269,354,294,91,47,664,99,43,143,89,285,13,344,279,32,36,412,146,24,186,110,48,476,476,101,446,161,217,314,254,349,20,161,10,50,341,337,7,226,264,7,308,437,673,75,74,207,333,129,162,311,44,96,219,100,428,7,31,131,56,110,32,437,161,224,359,212,275,153,402,37,129,7,4,144,296,649,12,23,320,177,137,70,366,132,38,198,73,7,305,415,174,79,301,318,262,89,389,417,30,137,33,158,68,84,379,41,708,468,199,62,205,14,341,177,58,62,146,147,38,11,265,257,52,137,173,31,240,184,9,263,531,59,171,430,163,294,423,106,226,63,4,55,128,73,78,86,21,75,31,223,441,232,108,10,32,118,71,256,346,68,182,117,346,153,110,155,74,200,125,114,90,72,240,25,298,560,567,186,145,0,88,82,156,130,240,62,7,30,79,104,263,387,62,31,301,47,310,66,93,460,586,141,84,498,200,140,28,190,175,148,170,42,616,28,15,126,343,109,68,229,15,35,172,164,125,244,227,67,427,136,401,14,197,57,642,389,145,33,179,6,12,31,44,549,673,91,135,229,75,87,230,415,403,96,31,293,27,127,1,152,316,107,447,381,192,148,475,472,274,5,137,169,369,84,86,43,621,218,307,72,29,362,188,50,168,233,444,578,60,349,76,13,80,125,51,227,98,404,125,19,98,147,174,375,20,64,134,42,78,134,51,66,150,186,244,141,436,131,222,37,58,207,483,116,104,381,336,122,401,361,87,24,2,28,198,14,222,28,321,145,39,204,148,399,270,658,118,23,360,162,102,137,627,84,96,45,267,63,6,73,128,15,318,100,41,58,141,3,103,29,410,313,311,143,61,63,94,237,92,292,101,594,369,376,60,167,641,66,128,67,102,38,136,69,51,108,395,22,246,51,137,637,163,36,64,153,85,267,39,119,6,266,448,365,3,78,36,148,132,93,137,59,217,266,28,705,152,10,59,101,160,32,89,470,559,45,198,33,50,294,372,26,293,88,247,63,47,321,333,11,238,13,140,231,310,20,428,303,77,227,168,10,131,104,372,359,304,155,318,86,411,108,229,0,46,408,131,62,328,211,548,45,432,247,7,25,312,193,100,20,416,155,60,90,699,75,338,384,320,303,107,120,120,361,7,83,67,400,157,27,634,319,258,140,566,35,91,253,224,65,35,182,356,26,103,307,579,337,27,312,13,98,54,377,405,72,134,156,504,269,40,306,60,329,290,87,36,77,131,319,37,155,204,325,263,42,586,134,252,36,69,81,85,435,405,590,53,183,133,687,276,366,30,50,339,98,47,218,144,227,211,581,530,147,53,132,711,250,492,90,356,382,248,4,336,182,10,194,16,373,193,119,150,654,36,3,77,4,89],\"xaxis\":\"x2\",\"yaxis\":\"y2\"}],                        {\"barmode\":\"relative\",\"legend\":{\"tracegroupgap\":0},\"margin\":{\"t\":60},\"template\":{\"data\":{\"bar\":[{\"error_x\":{\"color\":\"#2a3f5f\"},\"error_y\":{\"color\":\"#2a3f5f\"},\"marker\":{\"line\":{\"color\":\"#E5ECF6\",\"width\":0.5},\"pattern\":{\"fillmode\":\"overlay\",\"size\":10,\"solidity\":0.2}},\"type\":\"bar\"}],\"barpolar\":[{\"marker\":{\"line\":{\"color\":\"#E5ECF6\",\"width\":0.5},\"pattern\":{\"fillmode\":\"overlay\",\"size\":10,\"solidity\":0.2}},\"type\":\"barpolar\"}],\"carpet\":[{\"aaxis\":{\"endlinecolor\":\"#2a3f5f\",\"gridcolor\":\"white\",\"linecolor\":\"white\",\"minorgridcolor\":\"white\",\"startlinecolor\":\"#2a3f5f\"},\"baxis\":{\"endlinecolor\":\"#2a3f5f\",\"gridcolor\":\"white\",\"linecolor\":\"white\",\"minorgridcolor\":\"white\",\"startlinecolor\":\"#2a3f5f\"},\"type\":\"carpet\"}],\"choropleth\":[{\"colorbar\":{\"outlinewidth\":0,\"ticks\":\"\"},\"type\":\"choropleth\"}],\"contour\":[{\"colorbar\":{\"outlinewidth\":0,\"ticks\":\"\"},\"colorscale\":[[0.0,\"#0d0887\"],[0.1111111111111111,\"#46039f\"],[0.2222222222222222,\"#7201a8\"],[0.3333333333333333,\"#9c179e\"],[0.4444444444444444,\"#bd3786\"],[0.5555555555555556,\"#d8576b\"],[0.6666666666666666,\"#ed7953\"],[0.7777777777777778,\"#fb9f3a\"],[0.8888888888888888,\"#fdca26\"],[1.0,\"#f0f921\"]],\"type\":\"contour\"}],\"contourcarpet\":[{\"colorbar\":{\"outlinewidth\":0,\"ticks\":\"\"},\"type\":\"contourcarpet\"}],\"heatmap\":[{\"colorbar\":{\"outlinewidth\":0,\"ticks\":\"\"},\"colorscale\":[[0.0,\"#0d0887\"],[0.1111111111111111,\"#46039f\"],[0.2222222222222222,\"#7201a8\"],[0.3333333333333333,\"#9c179e\"],[0.4444444444444444,\"#bd3786\"],[0.5555555555555556,\"#d8576b\"],[0.6666666666666666,\"#ed7953\"],[0.7777777777777778,\"#fb9f3a\"],[0.8888888888888888,\"#fdca26\"],[1.0,\"#f0f921\"]],\"type\":\"heatmap\"}],\"heatmapgl\":[{\"colorbar\":{\"outlinewidth\":0,\"ticks\":\"\"},\"colorscale\":[[0.0,\"#0d0887\"],[0.1111111111111111,\"#46039f\"],[0.2222222222222222,\"#7201a8\"],[0.3333333333333333,\"#9c179e\"],[0.4444444444444444,\"#bd3786\"],[0.5555555555555556,\"#d8576b\"],[0.6666666666666666,\"#ed7953\"],[0.7777777777777778,\"#fb9f3a\"],[0.8888888888888888,\"#fdca26\"],[1.0,\"#f0f921\"]],\"type\":\"heatmapgl\"}],\"histogram\":[{\"marker\":{\"pattern\":{\"fillmode\":\"overlay\",\"size\":10,\"solidity\":0.2}},\"type\":\"histogram\"}],\"histogram2d\":[{\"colorbar\":{\"outlinewidth\":0,\"ticks\":\"\"},\"colorscale\":[[0.0,\"#0d0887\"],[0.1111111111111111,\"#46039f\"],[0.2222222222222222,\"#7201a8\"],[0.3333333333333333,\"#9c179e\"],[0.4444444444444444,\"#bd3786\"],[0.5555555555555556,\"#d8576b\"],[0.6666666666666666,\"#ed7953\"],[0.7777777777777778,\"#fb9f3a\"],[0.8888888888888888,\"#fdca26\"],[1.0,\"#f0f921\"]],\"type\":\"histogram2d\"}],\"histogram2dcontour\":[{\"colorbar\":{\"outlinewidth\":0,\"ticks\":\"\"},\"colorscale\":[[0.0,\"#0d0887\"],[0.1111111111111111,\"#46039f\"],[0.2222222222222222,\"#7201a8\"],[0.3333333333333333,\"#9c179e\"],[0.4444444444444444,\"#bd3786\"],[0.5555555555555556,\"#d8576b\"],[0.6666666666666666,\"#ed7953\"],[0.7777777777777778,\"#fb9f3a\"],[0.8888888888888888,\"#fdca26\"],[1.0,\"#f0f921\"]],\"type\":\"histogram2dcontour\"}],\"mesh3d\":[{\"colorbar\":{\"outlinewidth\":0,\"ticks\":\"\"},\"type\":\"mesh3d\"}],\"parcoords\":[{\"line\":{\"colorbar\":{\"outlinewidth\":0,\"ticks\":\"\"}},\"type\":\"parcoords\"}],\"pie\":[{\"automargin\":true,\"type\":\"pie\"}],\"scatter\":[{\"marker\":{\"colorbar\":{\"outlinewidth\":0,\"ticks\":\"\"}},\"type\":\"scatter\"}],\"scatter3d\":[{\"line\":{\"colorbar\":{\"outlinewidth\":0,\"ticks\":\"\"}},\"marker\":{\"colorbar\":{\"outlinewidth\":0,\"ticks\":\"\"}},\"type\":\"scatter3d\"}],\"scattercarpet\":[{\"marker\":{\"colorbar\":{\"outlinewidth\":0,\"ticks\":\"\"}},\"type\":\"scattercarpet\"}],\"scattergeo\":[{\"marker\":{\"colorbar\":{\"outlinewidth\":0,\"ticks\":\"\"}},\"type\":\"scattergeo\"}],\"scattergl\":[{\"marker\":{\"colorbar\":{\"outlinewidth\":0,\"ticks\":\"\"}},\"type\":\"scattergl\"}],\"scattermapbox\":[{\"marker\":{\"colorbar\":{\"outlinewidth\":0,\"ticks\":\"\"}},\"type\":\"scattermapbox\"}],\"scatterpolar\":[{\"marker\":{\"colorbar\":{\"outlinewidth\":0,\"ticks\":\"\"}},\"type\":\"scatterpolar\"}],\"scatterpolargl\":[{\"marker\":{\"colorbar\":{\"outlinewidth\":0,\"ticks\":\"\"}},\"type\":\"scatterpolargl\"}],\"scatterternary\":[{\"marker\":{\"colorbar\":{\"outlinewidth\":0,\"ticks\":\"\"}},\"type\":\"scatterternary\"}],\"surface\":[{\"colorbar\":{\"outlinewidth\":0,\"ticks\":\"\"},\"colorscale\":[[0.0,\"#0d0887\"],[0.1111111111111111,\"#46039f\"],[0.2222222222222222,\"#7201a8\"],[0.3333333333333333,\"#9c179e\"],[0.4444444444444444,\"#bd3786\"],[0.5555555555555556,\"#d8576b\"],[0.6666666666666666,\"#ed7953\"],[0.7777777777777778,\"#fb9f3a\"],[0.8888888888888888,\"#fdca26\"],[1.0,\"#f0f921\"]],\"type\":\"surface\"}],\"table\":[{\"cells\":{\"fill\":{\"color\":\"#EBF0F8\"},\"line\":{\"color\":\"white\"}},\"header\":{\"fill\":{\"color\":\"#C8D4E3\"},\"line\":{\"color\":\"white\"}},\"type\":\"table\"}]},\"layout\":{\"annotationdefaults\":{\"arrowcolor\":\"#2a3f5f\",\"arrowhead\":0,\"arrowwidth\":1},\"autotypenumbers\":\"strict\",\"coloraxis\":{\"colorbar\":{\"outlinewidth\":0,\"ticks\":\"\"}},\"colorscale\":{\"diverging\":[[0,\"#8e0152\"],[0.1,\"#c51b7d\"],[0.2,\"#de77ae\"],[0.3,\"#f1b6da\"],[0.4,\"#fde0ef\"],[0.5,\"#f7f7f7\"],[0.6,\"#e6f5d0\"],[0.7,\"#b8e186\"],[0.8,\"#7fbc41\"],[0.9,\"#4d9221\"],[1,\"#276419\"]],\"sequential\":[[0.0,\"#0d0887\"],[0.1111111111111111,\"#46039f\"],[0.2222222222222222,\"#7201a8\"],[0.3333333333333333,\"#9c179e\"],[0.4444444444444444,\"#bd3786\"],[0.5555555555555556,\"#d8576b\"],[0.6666666666666666,\"#ed7953\"],[0.7777777777777778,\"#fb9f3a\"],[0.8888888888888888,\"#fdca26\"],[1.0,\"#f0f921\"]],\"sequentialminus\":[[0.0,\"#0d0887\"],[0.1111111111111111,\"#46039f\"],[0.2222222222222222,\"#7201a8\"],[0.3333333333333333,\"#9c179e\"],[0.4444444444444444,\"#bd3786\"],[0.5555555555555556,\"#d8576b\"],[0.6666666666666666,\"#ed7953\"],[0.7777777777777778,\"#fb9f3a\"],[0.8888888888888888,\"#fdca26\"],[1.0,\"#f0f921\"]]},\"colorway\":[\"#636efa\",\"#EF553B\",\"#00cc96\",\"#ab63fa\",\"#FFA15A\",\"#19d3f3\",\"#FF6692\",\"#B6E880\",\"#FF97FF\",\"#FECB52\"],\"font\":{\"color\":\"#2a3f5f\"},\"geo\":{\"bgcolor\":\"white\",\"lakecolor\":\"white\",\"landcolor\":\"#E5ECF6\",\"showlakes\":true,\"showland\":true,\"subunitcolor\":\"white\"},\"hoverlabel\":{\"align\":\"left\"},\"hovermode\":\"closest\",\"mapbox\":{\"style\":\"light\"},\"paper_bgcolor\":\"white\",\"plot_bgcolor\":\"#E5ECF6\",\"polar\":{\"angularaxis\":{\"gridcolor\":\"white\",\"linecolor\":\"white\",\"ticks\":\"\"},\"bgcolor\":\"#E5ECF6\",\"radialaxis\":{\"gridcolor\":\"white\",\"linecolor\":\"white\",\"ticks\":\"\"}},\"scene\":{\"xaxis\":{\"backgroundcolor\":\"#E5ECF6\",\"gridcolor\":\"white\",\"gridwidth\":2,\"linecolor\":\"white\",\"showbackground\":true,\"ticks\":\"\",\"zerolinecolor\":\"white\"},\"yaxis\":{\"backgroundcolor\":\"#E5ECF6\",\"gridcolor\":\"white\",\"gridwidth\":2,\"linecolor\":\"white\",\"showbackground\":true,\"ticks\":\"\",\"zerolinecolor\":\"white\"},\"zaxis\":{\"backgroundcolor\":\"#E5ECF6\",\"gridcolor\":\"white\",\"gridwidth\":2,\"linecolor\":\"white\",\"showbackground\":true,\"ticks\":\"\",\"zerolinecolor\":\"white\"}},\"shapedefaults\":{\"line\":{\"color\":\"#2a3f5f\"}},\"ternary\":{\"aaxis\":{\"gridcolor\":\"white\",\"linecolor\":\"white\",\"ticks\":\"\"},\"baxis\":{\"gridcolor\":\"white\",\"linecolor\":\"white\",\"ticks\":\"\"},\"bgcolor\":\"#E5ECF6\",\"caxis\":{\"gridcolor\":\"white\",\"linecolor\":\"white\",\"ticks\":\"\"}},\"title\":{\"x\":0.05},\"xaxis\":{\"automargin\":true,\"gridcolor\":\"white\",\"linecolor\":\"white\",\"ticks\":\"\",\"title\":{\"standoff\":15},\"zerolinecolor\":\"white\",\"zerolinewidth\":2},\"yaxis\":{\"automargin\":true,\"gridcolor\":\"white\",\"linecolor\":\"white\",\"ticks\":\"\",\"title\":{\"standoff\":15},\"zerolinecolor\":\"white\",\"zerolinewidth\":2}}},\"title\":{\"font\":{\"size\":20},\"text\":\"Recency Distribution of the Customers\",\"x\":0.5},\"xaxis\":{\"anchor\":\"y\",\"domain\":[0.0,1.0],\"title\":{\"text\":\"Recency\"}},\"xaxis2\":{\"anchor\":\"y2\",\"domain\":[0.0,1.0],\"matches\":\"x\",\"showgrid\":true,\"showticklabels\":false},\"yaxis\":{\"anchor\":\"x\",\"domain\":[0.0,0.8316],\"title\":{\"text\":\"count\"}},\"yaxis2\":{\"anchor\":\"x2\",\"domain\":[0.8416,1.0],\"matches\":\"y2\",\"showgrid\":false,\"showline\":false,\"showticklabels\":false,\"ticks\":\"\"}},                        {\"responsive\": true}                    ).then(function(){\n",
       "                            \n",
       "var gd = document.getElementById('243bfb4c-0316-4a6a-a950-40cf3b29f82e');\n",
       "var x = new MutationObserver(function (mutations, observer) {{\n",
       "        var display = window.getComputedStyle(gd).display;\n",
       "        if (!display || display === 'none') {{\n",
       "            console.log([gd, 'removed!']);\n",
       "            Plotly.purge(gd);\n",
       "            observer.disconnect();\n",
       "        }}\n",
       "}});\n",
       "\n",
       "// Listen for the removal of the full notebook cells\n",
       "var notebookContainer = gd.closest('#notebook-container');\n",
       "if (notebookContainer) {{\n",
       "    x.observe(notebookContainer, {childList: true});\n",
       "}}\n",
       "\n",
       "// Listen for the clearing of the current output cell\n",
       "var outputEl = gd.closest('.output');\n",
       "if (outputEl) {{\n",
       "    x.observe(outputEl, {childList: true});\n",
       "}}\n",
       "\n",
       "                        })                };                });            </script>        </div>"
      ]
     },
     "metadata": {},
     "output_type": "display_data"
    }
   ],
   "source": [
    "fig = px.histogram(Recency, x='Recency', opacity=0.85, marginal='box')\n",
    "fig.update_traces(marker=dict(line=dict(color='#000000', width=1)))\n",
    "fig.update_layout(title_text='Recency Distribution of the Customers',\n",
    "                  title_x=0.5, title_font=dict(size=20))\n",
    "fig.show()"
   ]
  },
  {
   "cell_type": "markdown",
   "metadata": {
    "papermill": {
     "duration": 0.06414,
     "end_time": "2022-02-17T21:27:35.203780",
     "exception": false,
     "start_time": "2022-02-17T21:27:35.139640",
     "status": "completed"
    },
    "tags": []
   },
   "source": [
    "**According to Recency Historgram of the Customers, we can see that most of the customers are distributed between 57th-280th day of thier last purchase.**"
   ]
  },
  {
   "cell_type": "markdown",
   "metadata": {
    "papermill": {
     "duration": 0.063495,
     "end_time": "2022-02-17T21:27:35.332082",
     "exception": false,
     "start_time": "2022-02-17T21:27:35.268587",
     "status": "completed"
    },
    "tags": []
   },
   "source": [
    "# Visit Frequency"
   ]
  },
  {
   "cell_type": "code",
   "execution_count": 25,
   "metadata": {
    "_kg_hide-input": false,
    "execution": {
     "iopub.execute_input": "2022-02-17T21:27:35.471331Z",
     "iopub.status.busy": "2022-02-17T21:27:35.470634Z",
     "iopub.status.idle": "2022-02-17T21:27:35.494430Z",
     "shell.execute_reply": "2022-02-17T21:27:35.493860Z",
     "shell.execute_reply.started": "2022-02-17T21:24:11.973179Z"
    },
    "papermill": {
     "duration": 0.097624,
     "end_time": "2022-02-17T21:27:35.494605",
     "exception": false,
     "start_time": "2022-02-17T21:27:35.396981",
     "status": "completed"
    },
    "tags": []
   },
   "outputs": [
    {
     "data": {
      "text/html": [
       "<div>\n",
       "<style scoped>\n",
       "    .dataframe tbody tr th:only-of-type {\n",
       "        vertical-align: middle;\n",
       "    }\n",
       "\n",
       "    .dataframe tbody tr th {\n",
       "        vertical-align: top;\n",
       "    }\n",
       "\n",
       "    .dataframe thead th {\n",
       "        text-align: right;\n",
       "    }\n",
       "</style>\n",
       "<table border=\"1\" class=\"dataframe\">\n",
       "  <thead>\n",
       "    <tr style=\"text-align: right;\">\n",
       "      <th></th>\n",
       "      <th>memberID</th>\n",
       "      <th>Visit_Frequency</th>\n",
       "    </tr>\n",
       "  </thead>\n",
       "  <tbody>\n",
       "    <tr>\n",
       "      <th>0</th>\n",
       "      <td>1000</td>\n",
       "      <td>5</td>\n",
       "    </tr>\n",
       "    <tr>\n",
       "      <th>1</th>\n",
       "      <td>1001</td>\n",
       "      <td>5</td>\n",
       "    </tr>\n",
       "    <tr>\n",
       "      <th>2</th>\n",
       "      <td>1002</td>\n",
       "      <td>4</td>\n",
       "    </tr>\n",
       "    <tr>\n",
       "      <th>3</th>\n",
       "      <td>1003</td>\n",
       "      <td>4</td>\n",
       "    </tr>\n",
       "    <tr>\n",
       "      <th>4</th>\n",
       "      <td>1004</td>\n",
       "      <td>8</td>\n",
       "    </tr>\n",
       "  </tbody>\n",
       "</table>\n",
       "</div>"
      ],
      "text/plain": [
       "  memberID  Visit_Frequency\n",
       "0     1000                5\n",
       "1     1001                5\n",
       "2     1002                4\n",
       "3     1003                4\n",
       "4     1004                8"
      ]
     },
     "execution_count": 25,
     "metadata": {},
     "output_type": "execute_result"
    }
   ],
   "source": [
    "# Frequency of the customer visits\n",
    "Frequency = data.drop_duplicates(['Date', 'memberID']).groupby(by=['memberID'])['Date'].count().reset_index()\n",
    "Frequency.columns = ['memberID', 'Visit_Frequency']\n",
    "Frequency.head()"
   ]
  },
  {
   "cell_type": "markdown",
   "metadata": {
    "papermill": {
     "duration": 0.064349,
     "end_time": "2022-02-17T21:27:35.624460",
     "exception": false,
     "start_time": "2022-02-17T21:27:35.560111",
     "status": "completed"
    },
    "tags": []
   },
   "source": [
    "# Visit Frequency Distribution of the Customers\n"
   ]
  },
  {
   "cell_type": "code",
   "execution_count": 26,
   "metadata": {
    "_kg_hide-input": true,
    "execution": {
     "iopub.execute_input": "2022-02-17T21:27:35.777670Z",
     "iopub.status.busy": "2022-02-17T21:27:35.774431Z",
     "iopub.status.idle": "2022-02-17T21:27:35.870827Z",
     "shell.execute_reply": "2022-02-17T21:27:35.870199Z",
     "shell.execute_reply.started": "2022-02-17T21:24:12.00577Z"
    },
    "papermill": {
     "duration": 0.181826,
     "end_time": "2022-02-17T21:27:35.871024",
     "exception": false,
     "start_time": "2022-02-17T21:27:35.689198",
     "status": "completed"
    },
    "tags": []
   },
   "outputs": [
    {
     "data": {
      "text/html": [
       "<div>                            <div id=\"9630608b-6b5f-49f6-ae83-9d03c2616eda\" class=\"plotly-graph-div\" style=\"height:525px; width:100%;\"></div>            <script type=\"text/javascript\">                require([\"plotly\"], function(Plotly) {                    window.PLOTLYENV=window.PLOTLYENV || {};                                    if (document.getElementById(\"9630608b-6b5f-49f6-ae83-9d03c2616eda\")) {                    Plotly.newPlot(                        \"9630608b-6b5f-49f6-ae83-9d03c2616eda\",                        [{\"alignmentgroup\":\"True\",\"bingroup\":\"x\",\"hovertemplate\":\"Visit_Frequency=%{x}<br>count=%{y}<extra></extra>\",\"legendgroup\":\"\",\"marker\":{\"color\":\"#636efa\",\"line\":{\"color\":\"#000000\",\"width\":1},\"opacity\":0.85,\"pattern\":{\"shape\":\"\"}},\"name\":\"\",\"offsetgroup\":\"\",\"orientation\":\"v\",\"showlegend\":false,\"type\":\"histogram\",\"x\":[5,5,4,4,8,2,4,2,4,5,3,4,8,4,3,4,5,4,1,3,3,3,6,1,3,5,4,5,1,3,5,5,3,5,1,3,6,1,4,4,3,3,2,3,2,3,2,4,6,6,10,6,4,2,3,3,4,2,5,5,2,3,6,3,3,2,4,2,1,2,4,5,4,4,6,2,2,2,5,2,3,1,3,5,9,3,1,3,5,1,8,3,1,6,7,3,3,3,4,4,4,2,8,4,5,7,4,1,4,6,4,8,1,6,1,6,1,3,4,2,5,3,4,4,5,4,3,5,3,3,9,2,3,4,2,4,4,5,7,3,7,3,6,2,4,2,4,6,3,3,1,2,4,3,6,2,5,3,2,4,2,2,3,9,7,5,4,5,5,6,1,4,2,2,3,6,3,2,4,4,3,3,2,8,2,2,2,3,3,3,6,3,4,3,2,4,7,3,3,3,5,4,6,4,3,2,3,4,3,7,2,5,1,2,4,2,7,2,1,1,3,6,7,3,6,4,8,2,7,1,7,3,4,6,1,3,7,4,2,8,2,1,1,3,2,2,1,5,2,2,6,2,2,2,2,6,7,1,1,4,5,3,1,2,3,10,5,5,4,6,4,3,5,7,2,5,7,5,2,4,3,4,2,4,5,3,6,4,3,3,1,3,4,5,3,3,3,5,4,5,2,3,6,1,1,3,3,3,2,3,4,2,4,3,5,3,3,8,3,5,4,4,5,6,2,4,3,2,2,5,6,4,5,4,2,3,3,4,2,4,2,2,1,6,5,5,4,3,4,1,5,7,2,5,4,6,6,2,1,3,3,3,3,3,4,1,3,3,2,11,5,5,3,3,7,5,3,2,3,3,3,6,3,3,2,8,2,1,2,4,1,2,1,4,5,2,2,6,3,3,10,2,4,3,1,2,6,5,3,5,4,4,7,2,3,4,5,6,5,2,6,4,4,1,3,5,1,2,6,1,6,6,4,6,3,3,1,2,4,6,2,6,2,4,1,6,6,3,1,3,3,2,3,2,7,9,2,6,1,1,2,6,4,5,4,6,6,4,4,6,2,6,8,3,2,6,2,4,5,2,5,5,6,6,3,1,4,4,5,6,4,2,3,5,2,2,5,4,6,7,2,4,3,5,6,2,4,3,1,3,2,7,3,4,2,5,5,4,3,2,2,2,3,4,4,3,2,3,2,4,6,4,3,3,3,3,3,3,6,1,6,5,1,1,2,1,2,1,7,3,2,4,6,9,4,2,3,2,2,7,3,10,5,1,4,1,7,3,3,6,5,4,2,5,3,2,3,4,1,3,3,7,4,4,3,5,3,7,5,4,5,4,2,6,6,2,3,6,7,2,4,6,4,7,4,5,5,4,5,3,7,1,3,6,3,2,2,6,2,6,3,6,2,3,2,5,1,2,2,2,7,3,4,7,2,7,5,6,9,4,4,3,5,7,3,6,2,4,3,3,2,1,4,1,3,3,1,4,4,5,4,4,3,2,7,2,3,4,3,5,1,2,6,6,4,2,1,6,6,3,4,2,1,5,3,4,4,2,4,2,3,8,2,2,6,3,3,3,5,2,2,6,4,4,3,5,2,3,6,4,6,3,4,6,2,5,6,4,2,7,6,4,4,2,1,5,5,5,3,5,4,5,7,5,2,4,4,3,3,3,7,2,3,5,3,2,6,7,2,5,3,4,4,5,1,6,7,3,3,5,3,6,6,3,7,3,3,7,5,2,3,3,10,2,2,6,5,8,4,4,5,4,3,3,2,3,4,2,4,7,1,1,6,5,4,5,4,5,5,3,4,3,4,4,1,9,3,4,2,3,6,4,3,4,3,4,4,5,2,2,3,4,6,3,5,4,4,3,4,4,4,4,3,4,4,2,2,5,2,2,5,4,4,6,7,4,3,4,8,1,3,3,4,2,1,4,9,4,2,5,3,5,2,4,2,7,6,8,4,2,6,4,4,6,4,4,1,5,4,3,3,4,3,9,2,10,2,5,2,3,5,3,2,3,5,2,2,2,7,9,6,6,1,3,2,3,7,6,6,9,1,5,4,2,5,4,5,5,2,2,5,2,5,6,3,6,6,5,3,2,1,3,4,1,2,2,7,1,6,3,1,4,2,7,6,4,5,4,3,2,1,1,2,1,1,3,8,5,2,3,7,3,3,2,1,3,9,3,3,3,5,4,6,9,4,2,7,1,2,5,4,2,2,3,3,4,8,2,3,8,2,2,7,5,7,3,1,6,3,2,3,2,2,6,5,3,4,2,4,3,3,3,3,5,2,6,7,6,5,4,7,2,5,6,4,2,8,3,3,7,6,2,4,4,2,4,3,6,3,6,4,4,5,5,9,4,5,4,4,3,4,4,2,5,2,3,4,4,2,4,6,4,2,7,4,5,6,3,2,1,3,2,6,4,5,1,4,2,5,6,3,4,3,4,2,3,3,3,2,3,2,3,7,2,4,1,2,1,5,5,6,6,5,7,3,2,1,2,7,5,3,4,5,3,5,2,3,4,5,4,5,5,2,5,4,4,4,2,3,6,2,3,9,6,6,4,3,5,3,6,2,2,3,6,5,3,5,1,2,3,3,8,4,6,3,4,2,4,2,11,5,4,5,1,1,2,3,4,6,1,5,2,3,4,1,5,5,4,5,1,1,7,1,3,6,3,2,3,7,4,6,2,2,8,4,6,5,4,6,6,4,4,4,3,5,4,4,4,6,4,2,3,1,2,2,5,6,3,5,5,4,4,3,3,3,6,4,1,3,3,2,6,3,6,11,6,7,5,2,3,3,3,3,2,1,1,2,4,2,3,4,4,7,4,5,1,8,9,4,1,1,8,3,4,4,1,3,1,3,5,4,2,4,4,6,4,2,5,7,3,2,2,5,4,2,2,3,6,3,4,2,2,2,6,6,2,2,4,6,3,4,7,5,2,4,6,4,5,2,6,7,2,3,3,4,2,5,5,7,3,5,3,4,5,4,4,5,4,1,4,7,3,2,1,5,5,3,2,1,3,6,7,5,2,4,1,4,6,5,6,2,3,10,2,5,2,3,5,4,5,3,4,5,7,3,7,3,3,2,6,1,4,3,1,3,3,7,2,2,3,2,7,3,6,1,3,5,7,7,3,5,4,5,2,4,9,6,1,7,3,4,4,7,6,4,3,3,3,6,7,2,1,3,2,3,4,2,2,3,4,2,4,6,2,4,4,3,4,2,1,6,5,3,2,5,5,2,1,4,5,3,2,2,2,4,3,7,2,4,4,4,1,5,3,2,3,1,5,4,4,4,4,4,4,8,6,4,3,5,2,9,4,6,3,3,3,5,10,5,2,2,3,4,2,3,3,6,5,3,3,3,2,6,3,3,4,4,6,2,5,4,7,7,3,5,6,7,4,3,1,3,6,4,4,4,4,4,1,1,7,3,5,3,1,5,4,2,2,4,7,3,5,5,2,2,8,4,2,5,2,7,5,2,6,3,4,5,7,1,4,7,6,6,1,5,2,3,2,4,2,3,3,7,6,1,2,4,7,5,3,4,2,3,3,2,10,2,3,1,5,3,3,9,6,1,2,2,2,2,3,1,5,3,5,3,8,3,5,4,4,2,3,5,6,2,5,2,2,5,2,4,3,9,3,2,7,2,1,4,2,4,5,4,3,3,5,2,4,3,4,3,5,3,1,5,2,4,5,4,7,5,3,4,6,3,5,2,3,5,4,5,4,4,2,3,8,7,2,4,2,3,5,5,1,6,7,1,8,5,1,2,2,4,2,2,4,5,2,7,4,2,4,3,1,1,7,2,7,2,2,4,3,7,3,6,7,6,1,3,3,5,1,3,3,6,4,3,9,1,9,6,4,4,6,5,3,1,2,5,2,3,7,1,3,4,2,4,4,6,2,6,3,1,5,5,3,6,4,8,3,1,4,7,5,5,2,4,8,5,4,4,5,4,4,4,4,3,2,6,6,2,5,7,4,8,3,3,1,2,2,3,5,1,2,1,3,4,4,5,1,4,7,5,5,3,3,6,1,2,4,1,2,3,6,2,5,4,9,1,2,4,8,2,6,1,2,6,5,3,3,4,3,1,5,8,4,5,4,3,6,4,3,5,2,2,5,3,2,4,4,4,5,2,2,4,1,2,1,2,5,1,1,3,3,4,4,4,3,3,4,2,5,7,3,5,5,2,5,2,4,2,4,2,8,2,5,3,3,2,4,7,3,5,4,2,4,1,4,2,4,4,2,7,3,3,4,6,3,4,4,2,8,3,4,2,6,3,5,1,3,6,5,7,5,9,6,4,2,5,2,2,3,1,4,2,3,2,5,4,5,2,4,5,4,3,4,5,2,4,2,5,1,1,4,9,5,1,6,2,2,6,5,2,3,1,2,5,3,2,5,3,2,2,6,5,5,3,5,5,4,3,3,3,2,3,4,4,3,2,4,5,4,6,3,4,5,2,3,5,6,3,2,5,4,1,5,7,1,7,4,6,2,6,2,9,4,2,3,7,1,2,2,3,4,3,4,4,5,2,3,6,5,3,2,4,5,2,2,3,2,6,2,4,1,5,10,4,7,2,4,3,3,5,9,3,1,8,6,3,1,2,5,5,6,4,2,6,1,3,7,1,4,2,6,4,5,7,5,4,3,6,10,9,4,1,2,1,4,4,3,3,2,4,4,1,3,1,8,4,7,6,7,5,2,4,4,2,2,4,1,3,3,1,6,5,1,3,3,4,3,5,4,1,2,6,5,6,3,5,2,3,1,3,1,2,6,6,2,5,1,10,6,5,3,7,4,5,3,7,4,2,4,6,3,2,1,2,1,4,6,3,5,5,5,6,4,5,5,3,2,2,3,4,4,2,3,2,3,5,9,4,1,4,7,4,5,1,3,1,2,7,1,1,3,4,4,2,1,2,3,3,1,3,5,8,7,10,2,2,7,5,2,4,6,4,2,6,4,3,4,3,5,2,7,4,7,2,1,3,2,3,3,4,3,2,3,3,3,5,4,7,2,2,4,3,10,1,2,3,3,6,3,5,5,4,4,4,1,3,3,3,3,7,4,9,7,4,3,4,3,1,5,3,3,2,2,3,5,6,4,5,5,2,6,4,5,2,2,2,2,4,1,1,5,4,3,2,4,5,5,1,3,5,6,3,2,2,3,6,6,2,6,3,5,2,3,9,1,6,5,6,2,1,3,5,4,1,2,2,3,1,1,4,2,6,2,3,3,5,4,4,3,5,5,1,6,3,2,5,3,4,4,3,3,9,3,2,4,3,4,2,4,7,4,1,5,4,2,5,2,2,3,3,4,1,4,3,3,4,4,3,6,4,1,2,3,1,5,1,6,6,5,1,2,5,4,2,3,4,1,3,7,4,4,2,1,3,5,2,5,4,4,2,9,4,2,9,2,6,4,5,3,4,3,3,7,4,6,1,1,4,5,4,3,6,10,3,5,6,3,5,1,7,4,3,8,4,5,4,8,5,2,5,1,4,6,7,7,4,1,7,2,2,2,5,3,8,6,3,4,4,2,7,5,2,5,3,3,7,3,5,3,1,3,5,1,6,3,6,3,2,2,6,5,4,3,3,7,8,3,3,5,3,4,1,4,4,4,5,7,4,5,4,3,1,2,2,4,3,4,6,2,4,6,5,1,3,2,5,2,7,6,7,7,2,3,5,4,6,6,3,5,10,2,7,5,3,2,5,6,4,2,4,6,1,1,1,4,5,2,2,6,4,5,4,3,5,2,5,4,7,5,2,1,1,2,1,1,6,2,1,2,5,2,7,3,3,2,4,3,3,3,5,3,4,4,2,1,7,2,6,2,4,2,2,3,8,2,4,4,4,4,8,3,2,5,4,6,4,4,3,3,4,4,5,2,5,3,6,4,4,6,5,6,3,4,5,3,4,2,5,5,3,5,4,2,4,5,3,1,4,4,5,4,1,2,3,5,3,2,3,4,2,3,4,4,6,6,3,5,3,1,3,2,2,5,6,2,4,4,7,2,2,4,4,11,4,3,1,4,2,6,3,6,5,2,4,4,3,3,6,2,2,3,5,7,6,4,5,8,5,5,6,3,3,4,7,4,1,1,4,3,4,5,6,1,5,6,1,3,7,7,3,4,5,3,1,4,6,2,1,8,4,3,1,6,2,3,3,3,2,6,4,3,2,2,5,4,2,7,8,2,3,4,4,5,5,2,2,4,5,1,1,1,1,6,4,3,9,4,5,2,7,2,2,3,3,5,6,4,4,7,1,5,5,5,5,4,4,3,1,3,8,6,5,1,2,2,3,6,6,7,5,3,2,3,2,3,10,1,3,6,5,7,5,5,2,2,2,3,1,2,2,4,5,2,5,4,3,4,5,4,5,5,2,3,6,3,7,2,3,2,6,4,6,3,4,3,10,3,5,6,4,4,4,5,3,3,2,6,3,3,4,2,5,1,2,4,3,2,5,7,2,2,1,8,1,1,3,5,5,5,1,5,4,4,2,2,6,7,3,6,7,4,5,5,2,4,5,7,2,2,1,5,6,6,3,2,6,2,2,2,3,2,7,2,2,5,5,4,3,1,1,2,1,1,1,3,4,6,5,3,6,4,2,1,4,4,4,4,2,1,3,4,4,7,2,4,7,8,2,3,3,1,6,4,2,4,1,5,3,2,3,3,4,5,4,3,4,4,3,6,1,4,4,4,2,3,3,3,2,2,1,2,1,6,3,3,3,3,1,2,3,6,4,3,4,3,3,4,1,5,4,4,5,6,6,3,4,3,5,1,5,4,5,2,4,3,3,6,4,2,4,3,4,6,4,2,3,4,6,4,7,4,5,4,5,6,6,5,6,4,4,3,6,1,4,5,6,4,2,7,5,3,4,7,6,4,4,6,6,2,3,9,5,2,3,1,1,2,4,3,6,4,5,4,4,1,5,7,4,6,4,2,2,3,6,2,4,6,4,8,4,3,2,6,5,3,3,2,2,1,3,3,7,3,6,1,6,6,3,2,1,8,1,2,9,6,5,4,6,3,5,6,2,4,1,6,6,4,2,7,4,1,2,2,5,5,3,6,4,5,10,4,4,5,4,4,7,6,2,4,3,5,3,4,2,4,4,6,7,4,1,3,2,5,2,3,6,5,4,3,1,1,5,2,6,3,3,5,3,6,5,5,4,5,7,4,5,5,6,5,3,3,2,9,4,6,5,7,2,1,5,5,2,3,3,4,4,2,5,3,3,6,7,7,6,3,4,8,3,6,3,4,7,9,3,6,4,1,6,2,3,2,5,4,7,2,8,2,3,6,5,6,5,5,4,4,5,2,3,3,6,3,2,1,5,7,6,3,11,3,6,3,5,2,3,3,2,5,4,4,4,6,2,4,3,3,3,3,3,4,6,3,9,2,1,5,4,4,3,4,4,3,2,5,10,2,2,2,4,3,2,2,4,2,1,8,4,7,2,6,5,2,4,3,2,4,5,3,4,2,5,3,2,8,3,4,2,4,2,6,3,3,4,7,4,4,1,3,2,1,3,1,7,5,3,1,5,5,5,5,6,4,1,9,3,6,6,5,3,5,6,1,5,3,3,1,2,8,1,8,5,2,2,5,3,4,4,4,8,2,3,4,4,3,5,4,1,4,4,2,2,3,4,2,2,3,2,3,4,6,7,3,3,1,1,4,4,9,7,1,2,5,6,4,5,4,5,5,5,1,2,6,6,7,3,6,2,1,7,2,1,2,2,3,1,3,6,8,6,9,5,2,4,2,7,3,3,2,3,4,6,4,3,5,4,3,3,5,4,2,7,6,2,3,2,4,5,4,4,3,4,2,4,2,5,6,1,6,6,3,2,3,5,7,6,4,4,3,4,5,2,2,4,2,5,5,3,1,5,5,1,3,6,4,7,2,5,3,5,2,3,7,1,4,2,3,5,3,4,2,4,2,2,4,5,2,6,3,5,2,3,1,4,7,7,2,3,2,7,4,1,1,5,4,3,4,4,5,4,1,3,5,2,6,2,8,6,2,4,5,5,3,4,2,3,4,9,5,3,4,3,7,5,3,3,4,6,8,3,5,3,8,3,3,3,4,3,3,3,7,4,4,3,9,4,6,6,4,5,3,4,3,4,7,8,9,3,5,3,6,6,1,2,1,4,5,3,2,5,3,4,4,5,2,2,5,2,5,3,7,6,8,5,3,2,4,4,4,4,3,2,1,1,4,3,5,4,1,3,2,4,7,4,5,5,7,6,5,5,4,4,3,3,6,1,6,3,4,2,4,4,6,3,3,3,4,1,5,3,3,4,7,2,1,4,5,7,7,3,5,7,2,5,3,6,5,5,3,2,2,5,4,1,5,5,3,7,5,2,1,3,6,2,4,6,3,6,2,3,4,3,6,1,1,5,3,5,7,4,6,4,1,6,6,4,7,1,4,7,5,3,1,6,5,4,3,4,4,4,5,3,1,3,2,4,3,3,2,5,8,5,3,4,3,2,3,4,6,3,5,2,10,2,3,5,5,3,3,3,4,3,2,8,3,6,3,4,2,3,2,5,1,1,4,3,2,1,5,5,3,4,3,4,3,4,3,4,2,3,3,2,1,1,4,2,3,2,3,3,3,4,7,5,3,1,2,2,5,5,6,4,1,2,1,4,1,5,6,9,4,3,2,7,6,5,3,9,4,3,4,1,5,5,2,1,3,6,7,4,4,3,3,3,5,5,4,1,5,4,2,2,2,5,3,5,3,3,6,1,2,5,2,2,1,3,1,2,1,3,3,4,4,3,5,3,3,5,4,5,1,2,3,2,1,6,3],\"xaxis\":\"x\",\"yaxis\":\"y\"},{\"alignmentgroup\":\"True\",\"hovertemplate\":\"Visit_Frequency=%{x}<extra></extra>\",\"legendgroup\":\"\",\"marker\":{\"color\":\"#636efa\",\"line\":{\"color\":\"#000000\",\"width\":1}},\"name\":\"\",\"notched\":true,\"offsetgroup\":\"\",\"showlegend\":false,\"type\":\"box\",\"x\":[5,5,4,4,8,2,4,2,4,5,3,4,8,4,3,4,5,4,1,3,3,3,6,1,3,5,4,5,1,3,5,5,3,5,1,3,6,1,4,4,3,3,2,3,2,3,2,4,6,6,10,6,4,2,3,3,4,2,5,5,2,3,6,3,3,2,4,2,1,2,4,5,4,4,6,2,2,2,5,2,3,1,3,5,9,3,1,3,5,1,8,3,1,6,7,3,3,3,4,4,4,2,8,4,5,7,4,1,4,6,4,8,1,6,1,6,1,3,4,2,5,3,4,4,5,4,3,5,3,3,9,2,3,4,2,4,4,5,7,3,7,3,6,2,4,2,4,6,3,3,1,2,4,3,6,2,5,3,2,4,2,2,3,9,7,5,4,5,5,6,1,4,2,2,3,6,3,2,4,4,3,3,2,8,2,2,2,3,3,3,6,3,4,3,2,4,7,3,3,3,5,4,6,4,3,2,3,4,3,7,2,5,1,2,4,2,7,2,1,1,3,6,7,3,6,4,8,2,7,1,7,3,4,6,1,3,7,4,2,8,2,1,1,3,2,2,1,5,2,2,6,2,2,2,2,6,7,1,1,4,5,3,1,2,3,10,5,5,4,6,4,3,5,7,2,5,7,5,2,4,3,4,2,4,5,3,6,4,3,3,1,3,4,5,3,3,3,5,4,5,2,3,6,1,1,3,3,3,2,3,4,2,4,3,5,3,3,8,3,5,4,4,5,6,2,4,3,2,2,5,6,4,5,4,2,3,3,4,2,4,2,2,1,6,5,5,4,3,4,1,5,7,2,5,4,6,6,2,1,3,3,3,3,3,4,1,3,3,2,11,5,5,3,3,7,5,3,2,3,3,3,6,3,3,2,8,2,1,2,4,1,2,1,4,5,2,2,6,3,3,10,2,4,3,1,2,6,5,3,5,4,4,7,2,3,4,5,6,5,2,6,4,4,1,3,5,1,2,6,1,6,6,4,6,3,3,1,2,4,6,2,6,2,4,1,6,6,3,1,3,3,2,3,2,7,9,2,6,1,1,2,6,4,5,4,6,6,4,4,6,2,6,8,3,2,6,2,4,5,2,5,5,6,6,3,1,4,4,5,6,4,2,3,5,2,2,5,4,6,7,2,4,3,5,6,2,4,3,1,3,2,7,3,4,2,5,5,4,3,2,2,2,3,4,4,3,2,3,2,4,6,4,3,3,3,3,3,3,6,1,6,5,1,1,2,1,2,1,7,3,2,4,6,9,4,2,3,2,2,7,3,10,5,1,4,1,7,3,3,6,5,4,2,5,3,2,3,4,1,3,3,7,4,4,3,5,3,7,5,4,5,4,2,6,6,2,3,6,7,2,4,6,4,7,4,5,5,4,5,3,7,1,3,6,3,2,2,6,2,6,3,6,2,3,2,5,1,2,2,2,7,3,4,7,2,7,5,6,9,4,4,3,5,7,3,6,2,4,3,3,2,1,4,1,3,3,1,4,4,5,4,4,3,2,7,2,3,4,3,5,1,2,6,6,4,2,1,6,6,3,4,2,1,5,3,4,4,2,4,2,3,8,2,2,6,3,3,3,5,2,2,6,4,4,3,5,2,3,6,4,6,3,4,6,2,5,6,4,2,7,6,4,4,2,1,5,5,5,3,5,4,5,7,5,2,4,4,3,3,3,7,2,3,5,3,2,6,7,2,5,3,4,4,5,1,6,7,3,3,5,3,6,6,3,7,3,3,7,5,2,3,3,10,2,2,6,5,8,4,4,5,4,3,3,2,3,4,2,4,7,1,1,6,5,4,5,4,5,5,3,4,3,4,4,1,9,3,4,2,3,6,4,3,4,3,4,4,5,2,2,3,4,6,3,5,4,4,3,4,4,4,4,3,4,4,2,2,5,2,2,5,4,4,6,7,4,3,4,8,1,3,3,4,2,1,4,9,4,2,5,3,5,2,4,2,7,6,8,4,2,6,4,4,6,4,4,1,5,4,3,3,4,3,9,2,10,2,5,2,3,5,3,2,3,5,2,2,2,7,9,6,6,1,3,2,3,7,6,6,9,1,5,4,2,5,4,5,5,2,2,5,2,5,6,3,6,6,5,3,2,1,3,4,1,2,2,7,1,6,3,1,4,2,7,6,4,5,4,3,2,1,1,2,1,1,3,8,5,2,3,7,3,3,2,1,3,9,3,3,3,5,4,6,9,4,2,7,1,2,5,4,2,2,3,3,4,8,2,3,8,2,2,7,5,7,3,1,6,3,2,3,2,2,6,5,3,4,2,4,3,3,3,3,5,2,6,7,6,5,4,7,2,5,6,4,2,8,3,3,7,6,2,4,4,2,4,3,6,3,6,4,4,5,5,9,4,5,4,4,3,4,4,2,5,2,3,4,4,2,4,6,4,2,7,4,5,6,3,2,1,3,2,6,4,5,1,4,2,5,6,3,4,3,4,2,3,3,3,2,3,2,3,7,2,4,1,2,1,5,5,6,6,5,7,3,2,1,2,7,5,3,4,5,3,5,2,3,4,5,4,5,5,2,5,4,4,4,2,3,6,2,3,9,6,6,4,3,5,3,6,2,2,3,6,5,3,5,1,2,3,3,8,4,6,3,4,2,4,2,11,5,4,5,1,1,2,3,4,6,1,5,2,3,4,1,5,5,4,5,1,1,7,1,3,6,3,2,3,7,4,6,2,2,8,4,6,5,4,6,6,4,4,4,3,5,4,4,4,6,4,2,3,1,2,2,5,6,3,5,5,4,4,3,3,3,6,4,1,3,3,2,6,3,6,11,6,7,5,2,3,3,3,3,2,1,1,2,4,2,3,4,4,7,4,5,1,8,9,4,1,1,8,3,4,4,1,3,1,3,5,4,2,4,4,6,4,2,5,7,3,2,2,5,4,2,2,3,6,3,4,2,2,2,6,6,2,2,4,6,3,4,7,5,2,4,6,4,5,2,6,7,2,3,3,4,2,5,5,7,3,5,3,4,5,4,4,5,4,1,4,7,3,2,1,5,5,3,2,1,3,6,7,5,2,4,1,4,6,5,6,2,3,10,2,5,2,3,5,4,5,3,4,5,7,3,7,3,3,2,6,1,4,3,1,3,3,7,2,2,3,2,7,3,6,1,3,5,7,7,3,5,4,5,2,4,9,6,1,7,3,4,4,7,6,4,3,3,3,6,7,2,1,3,2,3,4,2,2,3,4,2,4,6,2,4,4,3,4,2,1,6,5,3,2,5,5,2,1,4,5,3,2,2,2,4,3,7,2,4,4,4,1,5,3,2,3,1,5,4,4,4,4,4,4,8,6,4,3,5,2,9,4,6,3,3,3,5,10,5,2,2,3,4,2,3,3,6,5,3,3,3,2,6,3,3,4,4,6,2,5,4,7,7,3,5,6,7,4,3,1,3,6,4,4,4,4,4,1,1,7,3,5,3,1,5,4,2,2,4,7,3,5,5,2,2,8,4,2,5,2,7,5,2,6,3,4,5,7,1,4,7,6,6,1,5,2,3,2,4,2,3,3,7,6,1,2,4,7,5,3,4,2,3,3,2,10,2,3,1,5,3,3,9,6,1,2,2,2,2,3,1,5,3,5,3,8,3,5,4,4,2,3,5,6,2,5,2,2,5,2,4,3,9,3,2,7,2,1,4,2,4,5,4,3,3,5,2,4,3,4,3,5,3,1,5,2,4,5,4,7,5,3,4,6,3,5,2,3,5,4,5,4,4,2,3,8,7,2,4,2,3,5,5,1,6,7,1,8,5,1,2,2,4,2,2,4,5,2,7,4,2,4,3,1,1,7,2,7,2,2,4,3,7,3,6,7,6,1,3,3,5,1,3,3,6,4,3,9,1,9,6,4,4,6,5,3,1,2,5,2,3,7,1,3,4,2,4,4,6,2,6,3,1,5,5,3,6,4,8,3,1,4,7,5,5,2,4,8,5,4,4,5,4,4,4,4,3,2,6,6,2,5,7,4,8,3,3,1,2,2,3,5,1,2,1,3,4,4,5,1,4,7,5,5,3,3,6,1,2,4,1,2,3,6,2,5,4,9,1,2,4,8,2,6,1,2,6,5,3,3,4,3,1,5,8,4,5,4,3,6,4,3,5,2,2,5,3,2,4,4,4,5,2,2,4,1,2,1,2,5,1,1,3,3,4,4,4,3,3,4,2,5,7,3,5,5,2,5,2,4,2,4,2,8,2,5,3,3,2,4,7,3,5,4,2,4,1,4,2,4,4,2,7,3,3,4,6,3,4,4,2,8,3,4,2,6,3,5,1,3,6,5,7,5,9,6,4,2,5,2,2,3,1,4,2,3,2,5,4,5,2,4,5,4,3,4,5,2,4,2,5,1,1,4,9,5,1,6,2,2,6,5,2,3,1,2,5,3,2,5,3,2,2,6,5,5,3,5,5,4,3,3,3,2,3,4,4,3,2,4,5,4,6,3,4,5,2,3,5,6,3,2,5,4,1,5,7,1,7,4,6,2,6,2,9,4,2,3,7,1,2,2,3,4,3,4,4,5,2,3,6,5,3,2,4,5,2,2,3,2,6,2,4,1,5,10,4,7,2,4,3,3,5,9,3,1,8,6,3,1,2,5,5,6,4,2,6,1,3,7,1,4,2,6,4,5,7,5,4,3,6,10,9,4,1,2,1,4,4,3,3,2,4,4,1,3,1,8,4,7,6,7,5,2,4,4,2,2,4,1,3,3,1,6,5,1,3,3,4,3,5,4,1,2,6,5,6,3,5,2,3,1,3,1,2,6,6,2,5,1,10,6,5,3,7,4,5,3,7,4,2,4,6,3,2,1,2,1,4,6,3,5,5,5,6,4,5,5,3,2,2,3,4,4,2,3,2,3,5,9,4,1,4,7,4,5,1,3,1,2,7,1,1,3,4,4,2,1,2,3,3,1,3,5,8,7,10,2,2,7,5,2,4,6,4,2,6,4,3,4,3,5,2,7,4,7,2,1,3,2,3,3,4,3,2,3,3,3,5,4,7,2,2,4,3,10,1,2,3,3,6,3,5,5,4,4,4,1,3,3,3,3,7,4,9,7,4,3,4,3,1,5,3,3,2,2,3,5,6,4,5,5,2,6,4,5,2,2,2,2,4,1,1,5,4,3,2,4,5,5,1,3,5,6,3,2,2,3,6,6,2,6,3,5,2,3,9,1,6,5,6,2,1,3,5,4,1,2,2,3,1,1,4,2,6,2,3,3,5,4,4,3,5,5,1,6,3,2,5,3,4,4,3,3,9,3,2,4,3,4,2,4,7,4,1,5,4,2,5,2,2,3,3,4,1,4,3,3,4,4,3,6,4,1,2,3,1,5,1,6,6,5,1,2,5,4,2,3,4,1,3,7,4,4,2,1,3,5,2,5,4,4,2,9,4,2,9,2,6,4,5,3,4,3,3,7,4,6,1,1,4,5,4,3,6,10,3,5,6,3,5,1,7,4,3,8,4,5,4,8,5,2,5,1,4,6,7,7,4,1,7,2,2,2,5,3,8,6,3,4,4,2,7,5,2,5,3,3,7,3,5,3,1,3,5,1,6,3,6,3,2,2,6,5,4,3,3,7,8,3,3,5,3,4,1,4,4,4,5,7,4,5,4,3,1,2,2,4,3,4,6,2,4,6,5,1,3,2,5,2,7,6,7,7,2,3,5,4,6,6,3,5,10,2,7,5,3,2,5,6,4,2,4,6,1,1,1,4,5,2,2,6,4,5,4,3,5,2,5,4,7,5,2,1,1,2,1,1,6,2,1,2,5,2,7,3,3,2,4,3,3,3,5,3,4,4,2,1,7,2,6,2,4,2,2,3,8,2,4,4,4,4,8,3,2,5,4,6,4,4,3,3,4,4,5,2,5,3,6,4,4,6,5,6,3,4,5,3,4,2,5,5,3,5,4,2,4,5,3,1,4,4,5,4,1,2,3,5,3,2,3,4,2,3,4,4,6,6,3,5,3,1,3,2,2,5,6,2,4,4,7,2,2,4,4,11,4,3,1,4,2,6,3,6,5,2,4,4,3,3,6,2,2,3,5,7,6,4,5,8,5,5,6,3,3,4,7,4,1,1,4,3,4,5,6,1,5,6,1,3,7,7,3,4,5,3,1,4,6,2,1,8,4,3,1,6,2,3,3,3,2,6,4,3,2,2,5,4,2,7,8,2,3,4,4,5,5,2,2,4,5,1,1,1,1,6,4,3,9,4,5,2,7,2,2,3,3,5,6,4,4,7,1,5,5,5,5,4,4,3,1,3,8,6,5,1,2,2,3,6,6,7,5,3,2,3,2,3,10,1,3,6,5,7,5,5,2,2,2,3,1,2,2,4,5,2,5,4,3,4,5,4,5,5,2,3,6,3,7,2,3,2,6,4,6,3,4,3,10,3,5,6,4,4,4,5,3,3,2,6,3,3,4,2,5,1,2,4,3,2,5,7,2,2,1,8,1,1,3,5,5,5,1,5,4,4,2,2,6,7,3,6,7,4,5,5,2,4,5,7,2,2,1,5,6,6,3,2,6,2,2,2,3,2,7,2,2,5,5,4,3,1,1,2,1,1,1,3,4,6,5,3,6,4,2,1,4,4,4,4,2,1,3,4,4,7,2,4,7,8,2,3,3,1,6,4,2,4,1,5,3,2,3,3,4,5,4,3,4,4,3,6,1,4,4,4,2,3,3,3,2,2,1,2,1,6,3,3,3,3,1,2,3,6,4,3,4,3,3,4,1,5,4,4,5,6,6,3,4,3,5,1,5,4,5,2,4,3,3,6,4,2,4,3,4,6,4,2,3,4,6,4,7,4,5,4,5,6,6,5,6,4,4,3,6,1,4,5,6,4,2,7,5,3,4,7,6,4,4,6,6,2,3,9,5,2,3,1,1,2,4,3,6,4,5,4,4,1,5,7,4,6,4,2,2,3,6,2,4,6,4,8,4,3,2,6,5,3,3,2,2,1,3,3,7,3,6,1,6,6,3,2,1,8,1,2,9,6,5,4,6,3,5,6,2,4,1,6,6,4,2,7,4,1,2,2,5,5,3,6,4,5,10,4,4,5,4,4,7,6,2,4,3,5,3,4,2,4,4,6,7,4,1,3,2,5,2,3,6,5,4,3,1,1,5,2,6,3,3,5,3,6,5,5,4,5,7,4,5,5,6,5,3,3,2,9,4,6,5,7,2,1,5,5,2,3,3,4,4,2,5,3,3,6,7,7,6,3,4,8,3,6,3,4,7,9,3,6,4,1,6,2,3,2,5,4,7,2,8,2,3,6,5,6,5,5,4,4,5,2,3,3,6,3,2,1,5,7,6,3,11,3,6,3,5,2,3,3,2,5,4,4,4,6,2,4,3,3,3,3,3,4,6,3,9,2,1,5,4,4,3,4,4,3,2,5,10,2,2,2,4,3,2,2,4,2,1,8,4,7,2,6,5,2,4,3,2,4,5,3,4,2,5,3,2,8,3,4,2,4,2,6,3,3,4,7,4,4,1,3,2,1,3,1,7,5,3,1,5,5,5,5,6,4,1,9,3,6,6,5,3,5,6,1,5,3,3,1,2,8,1,8,5,2,2,5,3,4,4,4,8,2,3,4,4,3,5,4,1,4,4,2,2,3,4,2,2,3,2,3,4,6,7,3,3,1,1,4,4,9,7,1,2,5,6,4,5,4,5,5,5,1,2,6,6,7,3,6,2,1,7,2,1,2,2,3,1,3,6,8,6,9,5,2,4,2,7,3,3,2,3,4,6,4,3,5,4,3,3,5,4,2,7,6,2,3,2,4,5,4,4,3,4,2,4,2,5,6,1,6,6,3,2,3,5,7,6,4,4,3,4,5,2,2,4,2,5,5,3,1,5,5,1,3,6,4,7,2,5,3,5,2,3,7,1,4,2,3,5,3,4,2,4,2,2,4,5,2,6,3,5,2,3,1,4,7,7,2,3,2,7,4,1,1,5,4,3,4,4,5,4,1,3,5,2,6,2,8,6,2,4,5,5,3,4,2,3,4,9,5,3,4,3,7,5,3,3,4,6,8,3,5,3,8,3,3,3,4,3,3,3,7,4,4,3,9,4,6,6,4,5,3,4,3,4,7,8,9,3,5,3,6,6,1,2,1,4,5,3,2,5,3,4,4,5,2,2,5,2,5,3,7,6,8,5,3,2,4,4,4,4,3,2,1,1,4,3,5,4,1,3,2,4,7,4,5,5,7,6,5,5,4,4,3,3,6,1,6,3,4,2,4,4,6,3,3,3,4,1,5,3,3,4,7,2,1,4,5,7,7,3,5,7,2,5,3,6,5,5,3,2,2,5,4,1,5,5,3,7,5,2,1,3,6,2,4,6,3,6,2,3,4,3,6,1,1,5,3,5,7,4,6,4,1,6,6,4,7,1,4,7,5,3,1,6,5,4,3,4,4,4,5,3,1,3,2,4,3,3,2,5,8,5,3,4,3,2,3,4,6,3,5,2,10,2,3,5,5,3,3,3,4,3,2,8,3,6,3,4,2,3,2,5,1,1,4,3,2,1,5,5,3,4,3,4,3,4,3,4,2,3,3,2,1,1,4,2,3,2,3,3,3,4,7,5,3,1,2,2,5,5,6,4,1,2,1,4,1,5,6,9,4,3,2,7,6,5,3,9,4,3,4,1,5,5,2,1,3,6,7,4,4,3,3,3,5,5,4,1,5,4,2,2,2,5,3,5,3,3,6,1,2,5,2,2,1,3,1,2,1,3,3,4,4,3,5,3,3,5,4,5,1,2,3,2,1,6,3],\"xaxis\":\"x2\",\"yaxis\":\"y2\"}],                        {\"barmode\":\"relative\",\"legend\":{\"tracegroupgap\":0},\"margin\":{\"t\":60},\"template\":{\"data\":{\"bar\":[{\"error_x\":{\"color\":\"#2a3f5f\"},\"error_y\":{\"color\":\"#2a3f5f\"},\"marker\":{\"line\":{\"color\":\"#E5ECF6\",\"width\":0.5},\"pattern\":{\"fillmode\":\"overlay\",\"size\":10,\"solidity\":0.2}},\"type\":\"bar\"}],\"barpolar\":[{\"marker\":{\"line\":{\"color\":\"#E5ECF6\",\"width\":0.5},\"pattern\":{\"fillmode\":\"overlay\",\"size\":10,\"solidity\":0.2}},\"type\":\"barpolar\"}],\"carpet\":[{\"aaxis\":{\"endlinecolor\":\"#2a3f5f\",\"gridcolor\":\"white\",\"linecolor\":\"white\",\"minorgridcolor\":\"white\",\"startlinecolor\":\"#2a3f5f\"},\"baxis\":{\"endlinecolor\":\"#2a3f5f\",\"gridcolor\":\"white\",\"linecolor\":\"white\",\"minorgridcolor\":\"white\",\"startlinecolor\":\"#2a3f5f\"},\"type\":\"carpet\"}],\"choropleth\":[{\"colorbar\":{\"outlinewidth\":0,\"ticks\":\"\"},\"type\":\"choropleth\"}],\"contour\":[{\"colorbar\":{\"outlinewidth\":0,\"ticks\":\"\"},\"colorscale\":[[0.0,\"#0d0887\"],[0.1111111111111111,\"#46039f\"],[0.2222222222222222,\"#7201a8\"],[0.3333333333333333,\"#9c179e\"],[0.4444444444444444,\"#bd3786\"],[0.5555555555555556,\"#d8576b\"],[0.6666666666666666,\"#ed7953\"],[0.7777777777777778,\"#fb9f3a\"],[0.8888888888888888,\"#fdca26\"],[1.0,\"#f0f921\"]],\"type\":\"contour\"}],\"contourcarpet\":[{\"colorbar\":{\"outlinewidth\":0,\"ticks\":\"\"},\"type\":\"contourcarpet\"}],\"heatmap\":[{\"colorbar\":{\"outlinewidth\":0,\"ticks\":\"\"},\"colorscale\":[[0.0,\"#0d0887\"],[0.1111111111111111,\"#46039f\"],[0.2222222222222222,\"#7201a8\"],[0.3333333333333333,\"#9c179e\"],[0.4444444444444444,\"#bd3786\"],[0.5555555555555556,\"#d8576b\"],[0.6666666666666666,\"#ed7953\"],[0.7777777777777778,\"#fb9f3a\"],[0.8888888888888888,\"#fdca26\"],[1.0,\"#f0f921\"]],\"type\":\"heatmap\"}],\"heatmapgl\":[{\"colorbar\":{\"outlinewidth\":0,\"ticks\":\"\"},\"colorscale\":[[0.0,\"#0d0887\"],[0.1111111111111111,\"#46039f\"],[0.2222222222222222,\"#7201a8\"],[0.3333333333333333,\"#9c179e\"],[0.4444444444444444,\"#bd3786\"],[0.5555555555555556,\"#d8576b\"],[0.6666666666666666,\"#ed7953\"],[0.7777777777777778,\"#fb9f3a\"],[0.8888888888888888,\"#fdca26\"],[1.0,\"#f0f921\"]],\"type\":\"heatmapgl\"}],\"histogram\":[{\"marker\":{\"pattern\":{\"fillmode\":\"overlay\",\"size\":10,\"solidity\":0.2}},\"type\":\"histogram\"}],\"histogram2d\":[{\"colorbar\":{\"outlinewidth\":0,\"ticks\":\"\"},\"colorscale\":[[0.0,\"#0d0887\"],[0.1111111111111111,\"#46039f\"],[0.2222222222222222,\"#7201a8\"],[0.3333333333333333,\"#9c179e\"],[0.4444444444444444,\"#bd3786\"],[0.5555555555555556,\"#d8576b\"],[0.6666666666666666,\"#ed7953\"],[0.7777777777777778,\"#fb9f3a\"],[0.8888888888888888,\"#fdca26\"],[1.0,\"#f0f921\"]],\"type\":\"histogram2d\"}],\"histogram2dcontour\":[{\"colorbar\":{\"outlinewidth\":0,\"ticks\":\"\"},\"colorscale\":[[0.0,\"#0d0887\"],[0.1111111111111111,\"#46039f\"],[0.2222222222222222,\"#7201a8\"],[0.3333333333333333,\"#9c179e\"],[0.4444444444444444,\"#bd3786\"],[0.5555555555555556,\"#d8576b\"],[0.6666666666666666,\"#ed7953\"],[0.7777777777777778,\"#fb9f3a\"],[0.8888888888888888,\"#fdca26\"],[1.0,\"#f0f921\"]],\"type\":\"histogram2dcontour\"}],\"mesh3d\":[{\"colorbar\":{\"outlinewidth\":0,\"ticks\":\"\"},\"type\":\"mesh3d\"}],\"parcoords\":[{\"line\":{\"colorbar\":{\"outlinewidth\":0,\"ticks\":\"\"}},\"type\":\"parcoords\"}],\"pie\":[{\"automargin\":true,\"type\":\"pie\"}],\"scatter\":[{\"marker\":{\"colorbar\":{\"outlinewidth\":0,\"ticks\":\"\"}},\"type\":\"scatter\"}],\"scatter3d\":[{\"line\":{\"colorbar\":{\"outlinewidth\":0,\"ticks\":\"\"}},\"marker\":{\"colorbar\":{\"outlinewidth\":0,\"ticks\":\"\"}},\"type\":\"scatter3d\"}],\"scattercarpet\":[{\"marker\":{\"colorbar\":{\"outlinewidth\":0,\"ticks\":\"\"}},\"type\":\"scattercarpet\"}],\"scattergeo\":[{\"marker\":{\"colorbar\":{\"outlinewidth\":0,\"ticks\":\"\"}},\"type\":\"scattergeo\"}],\"scattergl\":[{\"marker\":{\"colorbar\":{\"outlinewidth\":0,\"ticks\":\"\"}},\"type\":\"scattergl\"}],\"scattermapbox\":[{\"marker\":{\"colorbar\":{\"outlinewidth\":0,\"ticks\":\"\"}},\"type\":\"scattermapbox\"}],\"scatterpolar\":[{\"marker\":{\"colorbar\":{\"outlinewidth\":0,\"ticks\":\"\"}},\"type\":\"scatterpolar\"}],\"scatterpolargl\":[{\"marker\":{\"colorbar\":{\"outlinewidth\":0,\"ticks\":\"\"}},\"type\":\"scatterpolargl\"}],\"scatterternary\":[{\"marker\":{\"colorbar\":{\"outlinewidth\":0,\"ticks\":\"\"}},\"type\":\"scatterternary\"}],\"surface\":[{\"colorbar\":{\"outlinewidth\":0,\"ticks\":\"\"},\"colorscale\":[[0.0,\"#0d0887\"],[0.1111111111111111,\"#46039f\"],[0.2222222222222222,\"#7201a8\"],[0.3333333333333333,\"#9c179e\"],[0.4444444444444444,\"#bd3786\"],[0.5555555555555556,\"#d8576b\"],[0.6666666666666666,\"#ed7953\"],[0.7777777777777778,\"#fb9f3a\"],[0.8888888888888888,\"#fdca26\"],[1.0,\"#f0f921\"]],\"type\":\"surface\"}],\"table\":[{\"cells\":{\"fill\":{\"color\":\"#EBF0F8\"},\"line\":{\"color\":\"white\"}},\"header\":{\"fill\":{\"color\":\"#C8D4E3\"},\"line\":{\"color\":\"white\"}},\"type\":\"table\"}]},\"layout\":{\"annotationdefaults\":{\"arrowcolor\":\"#2a3f5f\",\"arrowhead\":0,\"arrowwidth\":1},\"autotypenumbers\":\"strict\",\"coloraxis\":{\"colorbar\":{\"outlinewidth\":0,\"ticks\":\"\"}},\"colorscale\":{\"diverging\":[[0,\"#8e0152\"],[0.1,\"#c51b7d\"],[0.2,\"#de77ae\"],[0.3,\"#f1b6da\"],[0.4,\"#fde0ef\"],[0.5,\"#f7f7f7\"],[0.6,\"#e6f5d0\"],[0.7,\"#b8e186\"],[0.8,\"#7fbc41\"],[0.9,\"#4d9221\"],[1,\"#276419\"]],\"sequential\":[[0.0,\"#0d0887\"],[0.1111111111111111,\"#46039f\"],[0.2222222222222222,\"#7201a8\"],[0.3333333333333333,\"#9c179e\"],[0.4444444444444444,\"#bd3786\"],[0.5555555555555556,\"#d8576b\"],[0.6666666666666666,\"#ed7953\"],[0.7777777777777778,\"#fb9f3a\"],[0.8888888888888888,\"#fdca26\"],[1.0,\"#f0f921\"]],\"sequentialminus\":[[0.0,\"#0d0887\"],[0.1111111111111111,\"#46039f\"],[0.2222222222222222,\"#7201a8\"],[0.3333333333333333,\"#9c179e\"],[0.4444444444444444,\"#bd3786\"],[0.5555555555555556,\"#d8576b\"],[0.6666666666666666,\"#ed7953\"],[0.7777777777777778,\"#fb9f3a\"],[0.8888888888888888,\"#fdca26\"],[1.0,\"#f0f921\"]]},\"colorway\":[\"#636efa\",\"#EF553B\",\"#00cc96\",\"#ab63fa\",\"#FFA15A\",\"#19d3f3\",\"#FF6692\",\"#B6E880\",\"#FF97FF\",\"#FECB52\"],\"font\":{\"color\":\"#2a3f5f\"},\"geo\":{\"bgcolor\":\"white\",\"lakecolor\":\"white\",\"landcolor\":\"#E5ECF6\",\"showlakes\":true,\"showland\":true,\"subunitcolor\":\"white\"},\"hoverlabel\":{\"align\":\"left\"},\"hovermode\":\"closest\",\"mapbox\":{\"style\":\"light\"},\"paper_bgcolor\":\"white\",\"plot_bgcolor\":\"#E5ECF6\",\"polar\":{\"angularaxis\":{\"gridcolor\":\"white\",\"linecolor\":\"white\",\"ticks\":\"\"},\"bgcolor\":\"#E5ECF6\",\"radialaxis\":{\"gridcolor\":\"white\",\"linecolor\":\"white\",\"ticks\":\"\"}},\"scene\":{\"xaxis\":{\"backgroundcolor\":\"#E5ECF6\",\"gridcolor\":\"white\",\"gridwidth\":2,\"linecolor\":\"white\",\"showbackground\":true,\"ticks\":\"\",\"zerolinecolor\":\"white\"},\"yaxis\":{\"backgroundcolor\":\"#E5ECF6\",\"gridcolor\":\"white\",\"gridwidth\":2,\"linecolor\":\"white\",\"showbackground\":true,\"ticks\":\"\",\"zerolinecolor\":\"white\"},\"zaxis\":{\"backgroundcolor\":\"#E5ECF6\",\"gridcolor\":\"white\",\"gridwidth\":2,\"linecolor\":\"white\",\"showbackground\":true,\"ticks\":\"\",\"zerolinecolor\":\"white\"}},\"shapedefaults\":{\"line\":{\"color\":\"#2a3f5f\"}},\"ternary\":{\"aaxis\":{\"gridcolor\":\"white\",\"linecolor\":\"white\",\"ticks\":\"\"},\"baxis\":{\"gridcolor\":\"white\",\"linecolor\":\"white\",\"ticks\":\"\"},\"bgcolor\":\"#E5ECF6\",\"caxis\":{\"gridcolor\":\"white\",\"linecolor\":\"white\",\"ticks\":\"\"}},\"title\":{\"x\":0.05},\"xaxis\":{\"automargin\":true,\"gridcolor\":\"white\",\"linecolor\":\"white\",\"ticks\":\"\",\"title\":{\"standoff\":15},\"zerolinecolor\":\"white\",\"zerolinewidth\":2},\"yaxis\":{\"automargin\":true,\"gridcolor\":\"white\",\"linecolor\":\"white\",\"ticks\":\"\",\"title\":{\"standoff\":15},\"zerolinecolor\":\"white\",\"zerolinewidth\":2}}},\"title\":{\"font\":{\"size\":20},\"text\":\"Visit Frequency Distribution of the Customers\",\"x\":0.5},\"xaxis\":{\"anchor\":\"y\",\"domain\":[0.0,1.0],\"title\":{\"text\":\"Visit_Frequency\"}},\"xaxis2\":{\"anchor\":\"y2\",\"domain\":[0.0,1.0],\"matches\":\"x\",\"showgrid\":true,\"showticklabels\":false},\"yaxis\":{\"anchor\":\"x\",\"domain\":[0.0,0.8316],\"title\":{\"text\":\"count\"}},\"yaxis2\":{\"anchor\":\"x2\",\"domain\":[0.8416,1.0],\"matches\":\"y2\",\"showgrid\":false,\"showline\":false,\"showticklabels\":false,\"ticks\":\"\"}},                        {\"responsive\": true}                    ).then(function(){\n",
       "                            \n",
       "var gd = document.getElementById('9630608b-6b5f-49f6-ae83-9d03c2616eda');\n",
       "var x = new MutationObserver(function (mutations, observer) {{\n",
       "        var display = window.getComputedStyle(gd).display;\n",
       "        if (!display || display === 'none') {{\n",
       "            console.log([gd, 'removed!']);\n",
       "            Plotly.purge(gd);\n",
       "            observer.disconnect();\n",
       "        }}\n",
       "}});\n",
       "\n",
       "// Listen for the removal of the full notebook cells\n",
       "var notebookContainer = gd.closest('#notebook-container');\n",
       "if (notebookContainer) {{\n",
       "    x.observe(notebookContainer, {childList: true});\n",
       "}}\n",
       "\n",
       "// Listen for the clearing of the current output cell\n",
       "var outputEl = gd.closest('.output');\n",
       "if (outputEl) {{\n",
       "    x.observe(outputEl, {childList: true});\n",
       "}}\n",
       "\n",
       "                        })                };                });            </script>        </div>"
      ]
     },
     "metadata": {},
     "output_type": "display_data"
    }
   ],
   "source": [
    "fig = px.histogram(Frequency, x='Visit_Frequency', opacity=0.85, marginal='box')\n",
    "fig.update_traces(marker=dict(line=dict(color='#000000', width=1)))\n",
    "fig.update_layout(title_text='Visit Frequency Distribution of the Customers',\n",
    "                  title_x=0.5, title_font=dict(size=20))\n",
    "fig.show()"
   ]
  },
  {
   "cell_type": "markdown",
   "metadata": {
    "papermill": {
     "duration": 0.06786,
     "end_time": "2022-02-17T21:27:36.006098",
     "exception": false,
     "start_time": "2022-02-17T21:27:35.938238",
     "status": "completed"
    },
    "tags": []
   },
   "source": [
    "**According to Frequency Historgram of the Customers, we can see that most of the customers are distributed between their 2nd-5th visit to the Groceries Store.**"
   ]
  },
  {
   "cell_type": "markdown",
   "metadata": {
    "papermill": {
     "duration": 0.067116,
     "end_time": "2022-02-17T21:27:36.141472",
     "exception": false,
     "start_time": "2022-02-17T21:27:36.074356",
     "status": "completed"
    },
    "tags": []
   },
   "source": [
    "# Monetary\n",
    "\n",
    "**Due to our dataset, we have no data regarding the price of the products. Therefore I will consider the number of item bought per user as the Monetary value.**"
   ]
  },
  {
   "cell_type": "code",
   "execution_count": 27,
   "metadata": {
    "execution": {
     "iopub.execute_input": "2022-02-17T21:27:36.286307Z",
     "iopub.status.busy": "2022-02-17T21:27:36.285269Z",
     "iopub.status.idle": "2022-02-17T21:27:36.306966Z",
     "shell.execute_reply": "2022-02-17T21:27:36.306319Z",
     "shell.execute_reply.started": "2022-02-17T21:24:12.12279Z"
    },
    "papermill": {
     "duration": 0.098523,
     "end_time": "2022-02-17T21:27:36.307108",
     "exception": false,
     "start_time": "2022-02-17T21:27:36.208585",
     "status": "completed"
    },
    "tags": []
   },
   "outputs": [
    {
     "data": {
      "text/html": [
       "<div>\n",
       "<style scoped>\n",
       "    .dataframe tbody tr th:only-of-type {\n",
       "        vertical-align: middle;\n",
       "    }\n",
       "\n",
       "    .dataframe tbody tr th {\n",
       "        vertical-align: top;\n",
       "    }\n",
       "\n",
       "    .dataframe thead th {\n",
       "        text-align: right;\n",
       "    }\n",
       "</style>\n",
       "<table border=\"1\" class=\"dataframe\">\n",
       "  <thead>\n",
       "    <tr style=\"text-align: right;\">\n",
       "      <th></th>\n",
       "      <th>memberID</th>\n",
       "      <th>Monetary</th>\n",
       "    </tr>\n",
       "  </thead>\n",
       "  <tbody>\n",
       "    <tr>\n",
       "      <th>0</th>\n",
       "      <td>1000</td>\n",
       "      <td>13</td>\n",
       "    </tr>\n",
       "    <tr>\n",
       "      <th>1</th>\n",
       "      <td>1001</td>\n",
       "      <td>12</td>\n",
       "    </tr>\n",
       "    <tr>\n",
       "      <th>2</th>\n",
       "      <td>1002</td>\n",
       "      <td>8</td>\n",
       "    </tr>\n",
       "    <tr>\n",
       "      <th>3</th>\n",
       "      <td>1003</td>\n",
       "      <td>8</td>\n",
       "    </tr>\n",
       "    <tr>\n",
       "      <th>4</th>\n",
       "      <td>1004</td>\n",
       "      <td>21</td>\n",
       "    </tr>\n",
       "  </tbody>\n",
       "</table>\n",
       "</div>"
      ],
      "text/plain": [
       "  memberID  Monetary\n",
       "0     1000        13\n",
       "1     1001        12\n",
       "2     1002         8\n",
       "3     1003         8\n",
       "4     1004        21"
      ]
     },
     "execution_count": 27,
     "metadata": {},
     "output_type": "execute_result"
    }
   ],
   "source": [
    "Monetary = data.groupby(by=\"memberID\")['itemName'].count().reset_index()\n",
    "Monetary.columns = ['memberID', 'Monetary']\n",
    "Monetary.head()"
   ]
  },
  {
   "cell_type": "code",
   "execution_count": 28,
   "metadata": {
    "execution": {
     "iopub.execute_input": "2022-02-17T21:27:36.451809Z",
     "iopub.status.busy": "2022-02-17T21:27:36.451054Z",
     "iopub.status.idle": "2022-02-17T21:27:36.455234Z",
     "shell.execute_reply": "2022-02-17T21:27:36.454585Z",
     "shell.execute_reply.started": "2022-02-17T21:24:12.15336Z"
    },
    "papermill": {
     "duration": 0.081023,
     "end_time": "2022-02-17T21:27:36.455398",
     "exception": false,
     "start_time": "2022-02-17T21:27:36.374375",
     "status": "completed"
    },
    "tags": []
   },
   "outputs": [
    {
     "data": {
      "text/html": [
       "<div>\n",
       "<style scoped>\n",
       "    .dataframe tbody tr th:only-of-type {\n",
       "        vertical-align: middle;\n",
       "    }\n",
       "\n",
       "    .dataframe tbody tr th {\n",
       "        vertical-align: top;\n",
       "    }\n",
       "\n",
       "    .dataframe thead th {\n",
       "        text-align: right;\n",
       "    }\n",
       "</style>\n",
       "<table border=\"1\" class=\"dataframe\">\n",
       "  <thead>\n",
       "    <tr style=\"text-align: right;\">\n",
       "      <th></th>\n",
       "      <th>memberID</th>\n",
       "      <th>Monetary</th>\n",
       "    </tr>\n",
       "  </thead>\n",
       "  <tbody>\n",
       "    <tr>\n",
       "      <th>0</th>\n",
       "      <td>1000</td>\n",
       "      <td>130</td>\n",
       "    </tr>\n",
       "    <tr>\n",
       "      <th>1</th>\n",
       "      <td>1001</td>\n",
       "      <td>120</td>\n",
       "    </tr>\n",
       "    <tr>\n",
       "      <th>2</th>\n",
       "      <td>1002</td>\n",
       "      <td>80</td>\n",
       "    </tr>\n",
       "    <tr>\n",
       "      <th>3</th>\n",
       "      <td>1003</td>\n",
       "      <td>80</td>\n",
       "    </tr>\n",
       "    <tr>\n",
       "      <th>4</th>\n",
       "      <td>1004</td>\n",
       "      <td>210</td>\n",
       "    </tr>\n",
       "  </tbody>\n",
       "</table>\n",
       "</div>"
      ],
      "text/plain": [
       "  memberID  Monetary\n",
       "0     1000       130\n",
       "1     1001       120\n",
       "2     1002        80\n",
       "3     1003        80\n",
       "4     1004       210"
      ]
     },
     "execution_count": 28,
     "metadata": {},
     "output_type": "execute_result"
    }
   ],
   "source": [
    "# I assumed each item has equal price and price is 10\n",
    "Monetary['Monetary'] = Monetary['Monetary'] * 10\n",
    "Monetary.head()"
   ]
  },
  {
   "cell_type": "markdown",
   "metadata": {
    "papermill": {
     "duration": 0.068666,
     "end_time": "2022-02-17T21:27:36.592197",
     "exception": false,
     "start_time": "2022-02-17T21:27:36.523531",
     "status": "completed"
    },
    "tags": []
   },
   "source": [
    "# Monetary Distribution of the Customers"
   ]
  },
  {
   "cell_type": "code",
   "execution_count": 29,
   "metadata": {
    "_kg_hide-input": true,
    "execution": {
     "iopub.execute_input": "2022-02-17T21:27:36.752868Z",
     "iopub.status.busy": "2022-02-17T21:27:36.751768Z",
     "iopub.status.idle": "2022-02-17T21:27:36.845550Z",
     "shell.execute_reply": "2022-02-17T21:27:36.844970Z",
     "shell.execute_reply.started": "2022-02-17T21:24:12.165432Z"
    },
    "papermill": {
     "duration": 0.184197,
     "end_time": "2022-02-17T21:27:36.845709",
     "exception": false,
     "start_time": "2022-02-17T21:27:36.661512",
     "status": "completed"
    },
    "tags": []
   },
   "outputs": [
    {
     "data": {
      "text/html": [
       "<div>                            <div id=\"cca0f29a-172b-4d48-b07b-b12458421e95\" class=\"plotly-graph-div\" style=\"height:525px; width:100%;\"></div>            <script type=\"text/javascript\">                require([\"plotly\"], function(Plotly) {                    window.PLOTLYENV=window.PLOTLYENV || {};                                    if (document.getElementById(\"cca0f29a-172b-4d48-b07b-b12458421e95\")) {                    Plotly.newPlot(                        \"cca0f29a-172b-4d48-b07b-b12458421e95\",                        [{\"alignmentgroup\":\"True\",\"bingroup\":\"x\",\"hovertemplate\":\"Monetary=%{x}<br>count=%{y}<extra></extra>\",\"legendgroup\":\"\",\"marker\":{\"color\":\"#636efa\",\"line\":{\"color\":\"#000000\",\"width\":1},\"opacity\":0.85,\"pattern\":{\"shape\":\"\"}},\"name\":\"\",\"offsetgroup\":\"\",\"orientation\":\"v\",\"showlegend\":false,\"type\":\"histogram\",\"x\":[130,120,80,80,210,40,150,120,90,120,130,110,190,100,70,110,110,80,20,100,80,60,170,40,60,170,90,130,20,70,160,120,90,140,20,100,190,20,110,100,60,80,40,90,40,60,60,80,140,200,270,120,90,60,60,80,80,50,140,160,40,70,140,60,80,40,100,40,30,40,120,100,110,130,140,70,60,50,160,50,70,20,70,140,210,90,20,120,200,20,200,80,20,170,240,60,100,70,100,100,100,60,200,120,120,180,110,40,110,160,80,240,30,180,20,170,20,60,110,40,110,90,120,100,130,110,100,130,70,100,190,60,60,90,80,90,80,120,160,60,200,60,190,70,100,50,80,170,90,80,20,70,110,60,150,70,120,90,50,90,40,40,90,210,200,100,90,110,190,140,40,110,50,40,80,160,160,50,100,90,70,80,40,170,60,50,40,90,60,80,180,70,130,80,40,100,160,100,140,80,110,90,160,80,130,60,90,140,80,210,40,170,20,40,100,40,210,100,20,30,80,140,160,70,190,100,190,50,200,20,160,130,110,170,20,80,200,80,40,160,50,20,30,100,60,50,20,120,40,60,140,40,80,60,40,170,250,20,20,90,140,60,20,40,70,240,130,150,150,170,80,90,100,170,40,140,160,170,70,110,130,120,40,110,120,80,170,90,70,80,20,70,100,140,70,120,90,120,80,110,40,80,140,20,20,60,60,60,50,90,100,50,150,80,140,90,110,180,100,160,110,90,150,180,50,120,90,40,50,130,140,120,130,100,60,100,70,140,60,110,60,60,20,210,130,130,100,60,120,40,160,170,50,130,80,120,250,50,20,80,130,60,100,140,110,20,70,110,40,280,110,150,60,60,150,150,60,60,70,80,120,130,60,70,40,230,80,20,80,90,20,40,40,100,180,60,120,230,70,60,270,40,120,70,20,40,140,100,70,150,110,110,190,60,60,100,100,160,130,50,160,90,110,40,80,150,20,40,170,30,120,130,110,200,60,80,30,40,90,160,60,150,40,110,20,180,120,70,40,100,80,40,60,50,170,230,50,150,20,20,40,160,100,120,100,130,170,80,140,130,40,200,200,80,40,170,70,80,130,40,110,110,150,160,90,20,90,80,100,160,100,70,90,110,80,50,160,80,180,180,40,100,100,100,130,40,100,70,20,60,60,190,100,100,50,110,140,80,70,50,40,60,60,180,80,80,50,60,50,120,130,90,70,90,70,60,90,70,130,20,140,150,20,20,40,20,70,20,200,60,50,80,190,210,170,40,80,50,80,200,60,230,100,20,80,20,160,60,60,210,160,80,60,130,80,40,60,100,20,70,60,220,100,80,70,140,60,140,150,80,110,80,60,180,150,60,100,160,150,40,120,130,90,160,110,110,140,100,120,90,180,20,90,150,60,40,50,140,60,190,60,120,80,70,40,120,20,40,50,50,170,70,100,180,60,160,120,180,230,90,120,60,120,150,70,170,50,130,100,60,40,20,110,90,90,60,20,120,100,110,80,110,60,60,200,50,80,80,70,110,20,50,160,150,120,60,20,130,150,90,100,40,20,130,140,80,140,40,160,40,60,190,50,50,170,80,80,70,130,70,60,140,100,110,60,130,60,70,150,80,120,70,170,170,50,120,210,80,40,160,130,90,140,40,20,100,110,190,80,120,100,100,170,140,40,90,150,140,120,80,180,40,70,110,80,50,120,200,50,100,60,80,90,120,20,140,200,60,90,210,60,130,180,70,200,60,130,160,100,40,80,130,250,50,40,140,110,170,90,120,110,90,90,70,110,60,100,60,120,180,40,30,120,110,100,120,100,170,100,80,130,110,90,130,20,230,90,90,40,70,160,100,70,100,60,120,100,110,50,40,60,90,150,70,120,90,80,80,80,100,100,90,60,130,80,50,50,110,40,50,150,140,80,140,180,110,70,110,250,20,100,60,90,50,20,110,210,80,40,110,60,100,120,110,40,220,140,180,80,60,150,80,140,130,120,80,20,120,100,120,70,100,60,260,50,200,70,100,70,60,160,70,40,70,110,40,40,60,140,190,120,140,20,60,60,90,210,130,160,200,20,190,110,60,130,100,140,110,50,40,200,40,140,120,90,220,150,100,60,100,40,110,80,20,40,70,190,40,120,100,20,100,40,160,150,110,140,90,80,50,20,50,40,30,30,60,170,100,40,70,160,80,90,60,20,60,230,80,90,140,170,100,210,270,160,70,200,70,60,130,130,40,60,60,60,120,180,40,70,190,40,40,160,130,180,90,20,230,70,40,80,40,50,130,110,70,140,70,110,60,110,60,80,100,40,150,150,140,160,90,150,50,120,120,90,40,330,80,120,170,180,50,120,90,50,110,80,130,80,140,120,90,120,100,240,100,130,90,110,60,80,150,60,140,50,100,100,120,40,80,200,100,50,160,110,170,160,60,60,20,110,70,150,110,120,20,90,50,120,190,70,100,80,80,40,80,60,70,40,130,50,80,140,40,100,30,60,20,120,110,160,120,110,160,70,80,20,40,180,120,60,90,190,70,100,50,60,90,100,90,110,120,40,110,80,90,110,110,80,120,40,100,250,120,150,90,70,110,100,180,50,40,70,130,130,60,110,40,50,70,70,240,110,200,60,100,60,100,50,270,150,80,140,20,20,40,100,140,130,20,120,80,70,80,80,140,190,130,120,20,40,140,20,80,130,60,60,60,190,100,130,50,40,220,180,150,140,90,210,130,140,90,130,120,120,90,120,100,150,80,50,110,20,40,80,160,210,60,120,120,90,80,70,70,80,130,100,20,80,140,90,150,60,220,310,130,140,110,40,70,70,60,80,40,20,30,70,130,40,60,80,120,160,110,120,20,190,230,100,20,20,200,80,100,90,20,60,20,70,130,110,60,120,160,180,90,50,100,140,60,60,70,100,130,40,60,60,150,90,100,70,40,40,130,130,50,50,110,130,110,100,180,100,40,90,250,100,150,40,180,160,40,60,60,90,60,120,140,200,90,130,60,100,140,110,150,170,130,80,80,190,60,60,20,140,110,80,50,40,60,160,190,120,60,120,20,80,160,140,150,70,140,290,50,110,60,70,110,120,100,100,130,110,170,100,210,110,60,70,140,20,140,90,20,90,100,210,110,40,60,40,170,90,170,40,120,130,140,310,70,120,110,150,40,100,250,150,20,210,80,80,90,210,170,80,60,70,110,150,200,40,20,60,60,130,90,50,50,60,80,110,90,120,80,130,110,90,80,60,20,140,100,70,50,100,130,60,30,80,140,70,50,40,70,100,60,210,50,170,110,80,20,150,90,40,140,20,110,110,80,130,90,80,140,210,260,120,110,120,80,270,120,140,60,100,80,150,280,110,40,50,70,110,40,120,70,140,130,70,80,70,40,170,60,80,100,90,120,50,120,100,160,160,60,130,140,160,100,60,20,60,240,90,100,140,100,120,30,20,190,70,110,80,20,160,110,40,40,80,180,60,120,120,120,50,200,100,50,130,50,190,100,40,160,60,80,170,150,30,150,190,190,170,40,140,60,80,40,80,50,70,70,180,170,20,40,80,160,160,70,80,40,120,90,40,310,70,80,20,190,70,70,240,160,50,60,100,40,50,80,20,120,70,120,70,190,70,130,90,160,40,130,120,190,50,100,60,70,160,40,80,60,270,80,40,160,50,20,110,60,80,120,80,60,70,140,60,110,60,80,60,110,80,30,120,40,160,130,150,170,100,100,110,190,80,110,40,80,100,90,110,90,90,60,60,230,170,60,110,40,140,130,100,20,150,160,20,200,140,20,60,40,100,60,40,80,100,50,180,110,40,100,60,30,20,230,60,210,40,40,120,90,170,80,150,150,120,20,70,80,120,20,80,100,150,100,100,200,20,230,150,90,100,130,120,70,50,70,120,50,70,160,20,70,100,40,100,90,220,60,130,90,20,130,100,70,160,90,230,80,20,150,180,120,120,50,80,210,130,80,80,110,90,110,100,110,60,60,170,200,40,160,170,80,240,100,60,20,40,50,90,100,20,80,20,100,110,90,110,40,100,190,120,110,70,80,150,20,40,90,20,40,60,130,40,110,90,290,20,50,110,230,40,150,30,40,140,120,60,70,100,80,20,150,210,140,130,80,80,160,160,70,120,60,40,130,80,40,110,100,80,140,40,40,90,20,60,50,50,110,20,30,60,70,110,120,80,70,120,100,60,110,170,80,110,150,40,110,40,90,40,150,60,210,40,110,90,60,50,110,160,70,100,90,40,140,30,170,80,90,100,50,170,70,80,110,120,120,80,140,50,180,70,100,50,150,70,150,30,70,150,110,190,100,260,200,90,40,120,60,60,60,20,80,70,70,100,120,90,130,50,120,190,100,70,90,120,40,110,60,170,20,20,120,240,120,30,150,60,50,140,160,50,80,20,40,170,60,40,110,70,40,50,140,110,110,60,130,170,100,70,60,60,50,80,100,90,90,50,110,150,90,150,60,100,150,40,80,100,130,170,50,120,100,40,140,220,20,190,110,230,50,190,40,330,150,50,90,180,70,40,50,80,90,70,80,110,100,40,70,120,100,70,60,150,170,50,50,60,40,170,50,90,20,150,260,100,140,40,120,60,80,110,220,60,20,170,160,70,20,40,120,120,140,80,40,180,20,80,140,40,90,60,160,80,120,160,140,120,70,170,240,240,90,30,40,20,100,170,60,60,40,100,80,20,60,20,190,130,160,120,170,110,60,130,80,40,50,110,30,60,60,40,160,110,20,60,70,90,70,100,90,20,40,210,180,140,70,120,60,120,30,70,20,40,140,130,40,120,20,360,140,140,70,140,110,100,60,170,120,50,130,140,60,50,30,50,20,80,170,70,120,110,130,120,150,140,110,80,40,40,70,150,100,40,60,50,70,120,230,100,30,100,180,80,150,80,120,20,50,160,20,20,70,100,130,80,20,40,90,80,20,60,180,220,240,210,40,50,210,120,40,100,170,90,110,130,90,80,160,70,100,70,220,90,160,50,20,70,40,90,80,150,70,40,70,60,60,110,90,160,70,40,130,60,290,20,40,60,70,130,100,140,120,100,110,110,20,60,80,100,60,160,110,280,160,110,80,90,60,20,130,70,70,40,50,60,140,160,110,110,130,40,140,110,130,50,80,50,40,90,40,20,160,90,90,50,80,100,120,20,60,140,140,80,40,60,70,190,150,60,160,90,180,50,110,220,20,130,120,150,40,20,60,150,110,20,40,50,70,30,20,90,50,180,40,100,60,100,110,80,70,130,110,20,200,70,40,130,60,110,150,120,100,210,70,40,180,60,90,60,130,140,80,40,100,130,60,140,80,40,100,60,110,20,80,110,60,80,90,80,180,160,20,40,70,50,100,20,140,160,110,60,60,130,80,80,60,130,20,80,170,80,80,40,20,80,130,60,100,90,160,60,250,80,40,220,70,130,110,160,90,100,120,60,160,100,150,30,20,80,120,160,70,150,230,60,120,120,70,150,20,140,80,70,220,100,230,80,180,170,40,110,20,190,150,180,170,140,20,140,40,70,40,120,70,220,160,130,110,80,100,160,120,90,100,120,120,150,60,170,60,20,60,150,30,130,60,140,70,40,40,220,100,110,80,190,150,200,80,90,130,60,80,30,100,110,170,120,170,80,180,80,80,30,40,50,80,60,110,140,40,90,140,110,20,70,60,130,40,200,190,150,140,40,80,110,130,130,140,80,140,230,40,170,120,60,40,110,150,80,50,120,150,30,20,20,140,100,40,70,140,120,100,100,70,110,40,100,150,180,100,40,20,20,40,40,60,130,40,20,40,160,50,210,80,130,40,90,80,60,120,150,70,110,90,50,30,170,60,210,40,110,50,50,90,200,90,80,100,120,80,190,80,80,120,90,130,120,90,100,130,80,110,110,60,130,60,210,90,100,190,140,130,100,90,190,150,100,120,230,120,80,110,80,50,110,110,90,30,120,120,120,110,20,40,70,210,80,40,80,80,40,70,90,100,180,190,80,100,60,20,60,40,60,130,130,80,80,90,210,40,50,90,120,330,100,70,20,160,40,170,120,130,130,50,110,90,60,90,270,60,60,60,100,180,140,90,150,210,110,130,120,90,90,90,160,110,30,20,80,80,120,150,170,20,120,150,20,70,180,230,90,90,130,90,20,110,130,40,40,180,110,80,20,150,60,60,60,90,40,190,90,60,70,60,100,90,60,210,200,50,130,90,90,140,150,100,60,170,190,20,20,20,20,170,90,90,230,120,150,50,210,60,50,60,90,100,170,90,90,160,20,120,110,140,120,80,80,70,60,80,180,130,140,20,40,70,90,210,140,150,100,80,50,80,60,70,300,20,60,160,160,180,140,120,40,50,50,100,30,40,50,90,130,50,110,120,100,110,130,90,160,140,40,70,190,80,160,40,90,40,160,140,160,70,120,60,310,60,130,130,100,110,80,180,80,140,80,180,90,100,90,80,130,20,40,110,80,40,100,160,50,40,30,230,20,30,60,130,100,150,20,150,90,90,70,60,160,240,60,140,230,100,140,140,50,80,110,160,50,50,20,150,140,160,60,40,130,60,50,40,110,40,150,110,60,150,120,110,60,20,20,40,30,20,40,60,100,170,130,80,140,90,100,40,120,120,90,110,60,20,140,90,80,170,60,80,170,170,50,60,80,20,140,120,40,100,20,200,70,40,60,60,130,120,100,140,120,110,110,160,20,100,110,90,40,90,120,90,60,50,60,50,30,160,70,90,70,60,20,90,60,130,80,60,120,110,60,90,20,140,90,80,120,140,160,60,80,60,110,20,110,100,130,50,100,60,60,140,100,40,100,60,100,140,110,50,80,80,190,90,160,100,130,120,140,130,160,180,120,100,110,80,150,20,90,110,150,90,40,170,110,70,110,170,160,110,90,130,140,40,60,260,120,60,60,30,20,40,80,60,150,120,120,90,120,20,160,220,80,170,130,60,40,60,130,50,140,150,100,200,140,60,40,150,150,80,90,40,40,70,70,100,200,90,130,30,140,170,80,60,30,210,20,60,210,130,150,80,140,100,100,170,50,110,30,120,130,100,40,150,150,20,40,40,120,110,80,130,180,110,250,120,80,160,80,130,170,120,60,90,70,130,80,90,50,120,110,200,190,140,20,80,40,150,60,70,160,100,90,80,20,20,110,40,220,90,60,110,60,130,130,120,120,120,170,90,100,190,140,120,100,60,50,270,80,120,150,230,40,20,150,130,40,70,100,80,130,60,120,90,70,160,200,220,140,110,100,230,90,150,80,150,200,250,80,150,120,20,190,40,70,50,170,100,170,70,200,40,60,140,150,180,110,120,140,90,120,50,120,70,180,60,40,20,150,170,150,90,280,60,130,70,100,70,90,60,40,120,80,130,130,170,40,90,90,90,60,90,60,80,150,60,220,40,20,120,80,100,80,90,160,70,40,120,260,110,40,40,110,60,40,40,140,50,20,170,140,170,50,140,130,50,90,80,40,110,100,60,90,50,120,70,100,170,60,90,70,110,60,130,70,70,80,160,150,80,20,60,60,20,80,20,150,120,60,30,140,140,100,170,150,80,20,230,80,120,160,140,70,150,150,20,120,100,70,20,40,180,30,160,170,100,60,120,80,90,120,100,170,40,100,110,170,70,140,90,20,140,110,50,70,90,90,50,40,110,40,60,120,260,190,60,80,40,20,90,100,210,230,20,40,110,150,100,130,90,110,140,130,20,60,130,200,170,70,150,50,20,190,70,20,50,50,60,20,80,120,220,150,200,110,40,100,40,170,60,60,40,70,110,130,80,90,120,100,60,60,120,110,70,150,160,40,80,70,90,140,90,80,60,100,40,90,40,120,170,20,130,120,120,60,60,180,160,210,80,140,60,90,160,80,60,90,100,100,210,70,20,210,160,20,90,160,100,180,40,100,60,180,40,110,150,30,100,40,60,130,80,120,40,120,50,40,120,100,50,130,90,120,50,90,20,80,140,220,50,70,40,200,100,20,20,100,140,90,80,170,110,80,20,90,100,40,160,60,200,120,40,90,110,110,80,130,40,70,100,210,200,80,80,80,170,160,60,80,80,200,170,60,100,70,220,70,70,60,100,130,70,120,220,90,140,60,210,100,150,130,100,160,70,90,80,150,180,200,260,70,120,80,180,160,80,70,20,110,100,60,40,140,60,90,80,100,60,40,120,40,150,130,160,130,190,100,60,40,100,80,100,100,60,40,60,20,90,110,120,110,20,60,40,100,170,150,130,150,170,140,160,120,90,110,60,80,230,30,140,130,90,120,180,120,130,80,80,80,170,40,120,70,70,100,180,40,30,170,150,160,200,60,100,210,50,120,70,120,130,110,110,40,40,100,110,20,140,110,80,190,150,50,20,60,170,40,110,130,110,120,40,70,150,70,150,20,20,120,80,120,180,140,120,80,20,140,130,140,240,50,80,280,130,70,20,140,190,100,80,80,100,110,120,110,20,80,50,90,60,70,40,140,200,120,80,100,80,40,60,80,140,60,120,40,250,50,60,110,130,100,60,70,120,80,50,290,80,210,70,90,60,80,40,100,20,20,100,60,60,30,120,130,120,80,80,110,80,80,60,100,40,80,60,80,20,20,110,50,70,60,60,100,70,100,160,130,60,50,80,40,100,130,140,110,20,50,30,140,30,140,140,210,80,80,40,160,160,170,80,260,100,60,90,20,180,140,40,20,90,130,150,160,80,60,80,60,130,120,90,20,110,80,40,40,60,120,70,130,70,60,130,30,40,130,70,90,20,70,20,100,30,60,70,80,120,70,180,100,80,100,110,100,20,40,100,60,20,160,70],\"xaxis\":\"x\",\"yaxis\":\"y\"},{\"alignmentgroup\":\"True\",\"hovertemplate\":\"Monetary=%{x}<extra></extra>\",\"legendgroup\":\"\",\"marker\":{\"color\":\"#636efa\",\"line\":{\"color\":\"#000000\",\"width\":1}},\"name\":\"\",\"notched\":true,\"offsetgroup\":\"\",\"showlegend\":false,\"type\":\"box\",\"x\":[130,120,80,80,210,40,150,120,90,120,130,110,190,100,70,110,110,80,20,100,80,60,170,40,60,170,90,130,20,70,160,120,90,140,20,100,190,20,110,100,60,80,40,90,40,60,60,80,140,200,270,120,90,60,60,80,80,50,140,160,40,70,140,60,80,40,100,40,30,40,120,100,110,130,140,70,60,50,160,50,70,20,70,140,210,90,20,120,200,20,200,80,20,170,240,60,100,70,100,100,100,60,200,120,120,180,110,40,110,160,80,240,30,180,20,170,20,60,110,40,110,90,120,100,130,110,100,130,70,100,190,60,60,90,80,90,80,120,160,60,200,60,190,70,100,50,80,170,90,80,20,70,110,60,150,70,120,90,50,90,40,40,90,210,200,100,90,110,190,140,40,110,50,40,80,160,160,50,100,90,70,80,40,170,60,50,40,90,60,80,180,70,130,80,40,100,160,100,140,80,110,90,160,80,130,60,90,140,80,210,40,170,20,40,100,40,210,100,20,30,80,140,160,70,190,100,190,50,200,20,160,130,110,170,20,80,200,80,40,160,50,20,30,100,60,50,20,120,40,60,140,40,80,60,40,170,250,20,20,90,140,60,20,40,70,240,130,150,150,170,80,90,100,170,40,140,160,170,70,110,130,120,40,110,120,80,170,90,70,80,20,70,100,140,70,120,90,120,80,110,40,80,140,20,20,60,60,60,50,90,100,50,150,80,140,90,110,180,100,160,110,90,150,180,50,120,90,40,50,130,140,120,130,100,60,100,70,140,60,110,60,60,20,210,130,130,100,60,120,40,160,170,50,130,80,120,250,50,20,80,130,60,100,140,110,20,70,110,40,280,110,150,60,60,150,150,60,60,70,80,120,130,60,70,40,230,80,20,80,90,20,40,40,100,180,60,120,230,70,60,270,40,120,70,20,40,140,100,70,150,110,110,190,60,60,100,100,160,130,50,160,90,110,40,80,150,20,40,170,30,120,130,110,200,60,80,30,40,90,160,60,150,40,110,20,180,120,70,40,100,80,40,60,50,170,230,50,150,20,20,40,160,100,120,100,130,170,80,140,130,40,200,200,80,40,170,70,80,130,40,110,110,150,160,90,20,90,80,100,160,100,70,90,110,80,50,160,80,180,180,40,100,100,100,130,40,100,70,20,60,60,190,100,100,50,110,140,80,70,50,40,60,60,180,80,80,50,60,50,120,130,90,70,90,70,60,90,70,130,20,140,150,20,20,40,20,70,20,200,60,50,80,190,210,170,40,80,50,80,200,60,230,100,20,80,20,160,60,60,210,160,80,60,130,80,40,60,100,20,70,60,220,100,80,70,140,60,140,150,80,110,80,60,180,150,60,100,160,150,40,120,130,90,160,110,110,140,100,120,90,180,20,90,150,60,40,50,140,60,190,60,120,80,70,40,120,20,40,50,50,170,70,100,180,60,160,120,180,230,90,120,60,120,150,70,170,50,130,100,60,40,20,110,90,90,60,20,120,100,110,80,110,60,60,200,50,80,80,70,110,20,50,160,150,120,60,20,130,150,90,100,40,20,130,140,80,140,40,160,40,60,190,50,50,170,80,80,70,130,70,60,140,100,110,60,130,60,70,150,80,120,70,170,170,50,120,210,80,40,160,130,90,140,40,20,100,110,190,80,120,100,100,170,140,40,90,150,140,120,80,180,40,70,110,80,50,120,200,50,100,60,80,90,120,20,140,200,60,90,210,60,130,180,70,200,60,130,160,100,40,80,130,250,50,40,140,110,170,90,120,110,90,90,70,110,60,100,60,120,180,40,30,120,110,100,120,100,170,100,80,130,110,90,130,20,230,90,90,40,70,160,100,70,100,60,120,100,110,50,40,60,90,150,70,120,90,80,80,80,100,100,90,60,130,80,50,50,110,40,50,150,140,80,140,180,110,70,110,250,20,100,60,90,50,20,110,210,80,40,110,60,100,120,110,40,220,140,180,80,60,150,80,140,130,120,80,20,120,100,120,70,100,60,260,50,200,70,100,70,60,160,70,40,70,110,40,40,60,140,190,120,140,20,60,60,90,210,130,160,200,20,190,110,60,130,100,140,110,50,40,200,40,140,120,90,220,150,100,60,100,40,110,80,20,40,70,190,40,120,100,20,100,40,160,150,110,140,90,80,50,20,50,40,30,30,60,170,100,40,70,160,80,90,60,20,60,230,80,90,140,170,100,210,270,160,70,200,70,60,130,130,40,60,60,60,120,180,40,70,190,40,40,160,130,180,90,20,230,70,40,80,40,50,130,110,70,140,70,110,60,110,60,80,100,40,150,150,140,160,90,150,50,120,120,90,40,330,80,120,170,180,50,120,90,50,110,80,130,80,140,120,90,120,100,240,100,130,90,110,60,80,150,60,140,50,100,100,120,40,80,200,100,50,160,110,170,160,60,60,20,110,70,150,110,120,20,90,50,120,190,70,100,80,80,40,80,60,70,40,130,50,80,140,40,100,30,60,20,120,110,160,120,110,160,70,80,20,40,180,120,60,90,190,70,100,50,60,90,100,90,110,120,40,110,80,90,110,110,80,120,40,100,250,120,150,90,70,110,100,180,50,40,70,130,130,60,110,40,50,70,70,240,110,200,60,100,60,100,50,270,150,80,140,20,20,40,100,140,130,20,120,80,70,80,80,140,190,130,120,20,40,140,20,80,130,60,60,60,190,100,130,50,40,220,180,150,140,90,210,130,140,90,130,120,120,90,120,100,150,80,50,110,20,40,80,160,210,60,120,120,90,80,70,70,80,130,100,20,80,140,90,150,60,220,310,130,140,110,40,70,70,60,80,40,20,30,70,130,40,60,80,120,160,110,120,20,190,230,100,20,20,200,80,100,90,20,60,20,70,130,110,60,120,160,180,90,50,100,140,60,60,70,100,130,40,60,60,150,90,100,70,40,40,130,130,50,50,110,130,110,100,180,100,40,90,250,100,150,40,180,160,40,60,60,90,60,120,140,200,90,130,60,100,140,110,150,170,130,80,80,190,60,60,20,140,110,80,50,40,60,160,190,120,60,120,20,80,160,140,150,70,140,290,50,110,60,70,110,120,100,100,130,110,170,100,210,110,60,70,140,20,140,90,20,90,100,210,110,40,60,40,170,90,170,40,120,130,140,310,70,120,110,150,40,100,250,150,20,210,80,80,90,210,170,80,60,70,110,150,200,40,20,60,60,130,90,50,50,60,80,110,90,120,80,130,110,90,80,60,20,140,100,70,50,100,130,60,30,80,140,70,50,40,70,100,60,210,50,170,110,80,20,150,90,40,140,20,110,110,80,130,90,80,140,210,260,120,110,120,80,270,120,140,60,100,80,150,280,110,40,50,70,110,40,120,70,140,130,70,80,70,40,170,60,80,100,90,120,50,120,100,160,160,60,130,140,160,100,60,20,60,240,90,100,140,100,120,30,20,190,70,110,80,20,160,110,40,40,80,180,60,120,120,120,50,200,100,50,130,50,190,100,40,160,60,80,170,150,30,150,190,190,170,40,140,60,80,40,80,50,70,70,180,170,20,40,80,160,160,70,80,40,120,90,40,310,70,80,20,190,70,70,240,160,50,60,100,40,50,80,20,120,70,120,70,190,70,130,90,160,40,130,120,190,50,100,60,70,160,40,80,60,270,80,40,160,50,20,110,60,80,120,80,60,70,140,60,110,60,80,60,110,80,30,120,40,160,130,150,170,100,100,110,190,80,110,40,80,100,90,110,90,90,60,60,230,170,60,110,40,140,130,100,20,150,160,20,200,140,20,60,40,100,60,40,80,100,50,180,110,40,100,60,30,20,230,60,210,40,40,120,90,170,80,150,150,120,20,70,80,120,20,80,100,150,100,100,200,20,230,150,90,100,130,120,70,50,70,120,50,70,160,20,70,100,40,100,90,220,60,130,90,20,130,100,70,160,90,230,80,20,150,180,120,120,50,80,210,130,80,80,110,90,110,100,110,60,60,170,200,40,160,170,80,240,100,60,20,40,50,90,100,20,80,20,100,110,90,110,40,100,190,120,110,70,80,150,20,40,90,20,40,60,130,40,110,90,290,20,50,110,230,40,150,30,40,140,120,60,70,100,80,20,150,210,140,130,80,80,160,160,70,120,60,40,130,80,40,110,100,80,140,40,40,90,20,60,50,50,110,20,30,60,70,110,120,80,70,120,100,60,110,170,80,110,150,40,110,40,90,40,150,60,210,40,110,90,60,50,110,160,70,100,90,40,140,30,170,80,90,100,50,170,70,80,110,120,120,80,140,50,180,70,100,50,150,70,150,30,70,150,110,190,100,260,200,90,40,120,60,60,60,20,80,70,70,100,120,90,130,50,120,190,100,70,90,120,40,110,60,170,20,20,120,240,120,30,150,60,50,140,160,50,80,20,40,170,60,40,110,70,40,50,140,110,110,60,130,170,100,70,60,60,50,80,100,90,90,50,110,150,90,150,60,100,150,40,80,100,130,170,50,120,100,40,140,220,20,190,110,230,50,190,40,330,150,50,90,180,70,40,50,80,90,70,80,110,100,40,70,120,100,70,60,150,170,50,50,60,40,170,50,90,20,150,260,100,140,40,120,60,80,110,220,60,20,170,160,70,20,40,120,120,140,80,40,180,20,80,140,40,90,60,160,80,120,160,140,120,70,170,240,240,90,30,40,20,100,170,60,60,40,100,80,20,60,20,190,130,160,120,170,110,60,130,80,40,50,110,30,60,60,40,160,110,20,60,70,90,70,100,90,20,40,210,180,140,70,120,60,120,30,70,20,40,140,130,40,120,20,360,140,140,70,140,110,100,60,170,120,50,130,140,60,50,30,50,20,80,170,70,120,110,130,120,150,140,110,80,40,40,70,150,100,40,60,50,70,120,230,100,30,100,180,80,150,80,120,20,50,160,20,20,70,100,130,80,20,40,90,80,20,60,180,220,240,210,40,50,210,120,40,100,170,90,110,130,90,80,160,70,100,70,220,90,160,50,20,70,40,90,80,150,70,40,70,60,60,110,90,160,70,40,130,60,290,20,40,60,70,130,100,140,120,100,110,110,20,60,80,100,60,160,110,280,160,110,80,90,60,20,130,70,70,40,50,60,140,160,110,110,130,40,140,110,130,50,80,50,40,90,40,20,160,90,90,50,80,100,120,20,60,140,140,80,40,60,70,190,150,60,160,90,180,50,110,220,20,130,120,150,40,20,60,150,110,20,40,50,70,30,20,90,50,180,40,100,60,100,110,80,70,130,110,20,200,70,40,130,60,110,150,120,100,210,70,40,180,60,90,60,130,140,80,40,100,130,60,140,80,40,100,60,110,20,80,110,60,80,90,80,180,160,20,40,70,50,100,20,140,160,110,60,60,130,80,80,60,130,20,80,170,80,80,40,20,80,130,60,100,90,160,60,250,80,40,220,70,130,110,160,90,100,120,60,160,100,150,30,20,80,120,160,70,150,230,60,120,120,70,150,20,140,80,70,220,100,230,80,180,170,40,110,20,190,150,180,170,140,20,140,40,70,40,120,70,220,160,130,110,80,100,160,120,90,100,120,120,150,60,170,60,20,60,150,30,130,60,140,70,40,40,220,100,110,80,190,150,200,80,90,130,60,80,30,100,110,170,120,170,80,180,80,80,30,40,50,80,60,110,140,40,90,140,110,20,70,60,130,40,200,190,150,140,40,80,110,130,130,140,80,140,230,40,170,120,60,40,110,150,80,50,120,150,30,20,20,140,100,40,70,140,120,100,100,70,110,40,100,150,180,100,40,20,20,40,40,60,130,40,20,40,160,50,210,80,130,40,90,80,60,120,150,70,110,90,50,30,170,60,210,40,110,50,50,90,200,90,80,100,120,80,190,80,80,120,90,130,120,90,100,130,80,110,110,60,130,60,210,90,100,190,140,130,100,90,190,150,100,120,230,120,80,110,80,50,110,110,90,30,120,120,120,110,20,40,70,210,80,40,80,80,40,70,90,100,180,190,80,100,60,20,60,40,60,130,130,80,80,90,210,40,50,90,120,330,100,70,20,160,40,170,120,130,130,50,110,90,60,90,270,60,60,60,100,180,140,90,150,210,110,130,120,90,90,90,160,110,30,20,80,80,120,150,170,20,120,150,20,70,180,230,90,90,130,90,20,110,130,40,40,180,110,80,20,150,60,60,60,90,40,190,90,60,70,60,100,90,60,210,200,50,130,90,90,140,150,100,60,170,190,20,20,20,20,170,90,90,230,120,150,50,210,60,50,60,90,100,170,90,90,160,20,120,110,140,120,80,80,70,60,80,180,130,140,20,40,70,90,210,140,150,100,80,50,80,60,70,300,20,60,160,160,180,140,120,40,50,50,100,30,40,50,90,130,50,110,120,100,110,130,90,160,140,40,70,190,80,160,40,90,40,160,140,160,70,120,60,310,60,130,130,100,110,80,180,80,140,80,180,90,100,90,80,130,20,40,110,80,40,100,160,50,40,30,230,20,30,60,130,100,150,20,150,90,90,70,60,160,240,60,140,230,100,140,140,50,80,110,160,50,50,20,150,140,160,60,40,130,60,50,40,110,40,150,110,60,150,120,110,60,20,20,40,30,20,40,60,100,170,130,80,140,90,100,40,120,120,90,110,60,20,140,90,80,170,60,80,170,170,50,60,80,20,140,120,40,100,20,200,70,40,60,60,130,120,100,140,120,110,110,160,20,100,110,90,40,90,120,90,60,50,60,50,30,160,70,90,70,60,20,90,60,130,80,60,120,110,60,90,20,140,90,80,120,140,160,60,80,60,110,20,110,100,130,50,100,60,60,140,100,40,100,60,100,140,110,50,80,80,190,90,160,100,130,120,140,130,160,180,120,100,110,80,150,20,90,110,150,90,40,170,110,70,110,170,160,110,90,130,140,40,60,260,120,60,60,30,20,40,80,60,150,120,120,90,120,20,160,220,80,170,130,60,40,60,130,50,140,150,100,200,140,60,40,150,150,80,90,40,40,70,70,100,200,90,130,30,140,170,80,60,30,210,20,60,210,130,150,80,140,100,100,170,50,110,30,120,130,100,40,150,150,20,40,40,120,110,80,130,180,110,250,120,80,160,80,130,170,120,60,90,70,130,80,90,50,120,110,200,190,140,20,80,40,150,60,70,160,100,90,80,20,20,110,40,220,90,60,110,60,130,130,120,120,120,170,90,100,190,140,120,100,60,50,270,80,120,150,230,40,20,150,130,40,70,100,80,130,60,120,90,70,160,200,220,140,110,100,230,90,150,80,150,200,250,80,150,120,20,190,40,70,50,170,100,170,70,200,40,60,140,150,180,110,120,140,90,120,50,120,70,180,60,40,20,150,170,150,90,280,60,130,70,100,70,90,60,40,120,80,130,130,170,40,90,90,90,60,90,60,80,150,60,220,40,20,120,80,100,80,90,160,70,40,120,260,110,40,40,110,60,40,40,140,50,20,170,140,170,50,140,130,50,90,80,40,110,100,60,90,50,120,70,100,170,60,90,70,110,60,130,70,70,80,160,150,80,20,60,60,20,80,20,150,120,60,30,140,140,100,170,150,80,20,230,80,120,160,140,70,150,150,20,120,100,70,20,40,180,30,160,170,100,60,120,80,90,120,100,170,40,100,110,170,70,140,90,20,140,110,50,70,90,90,50,40,110,40,60,120,260,190,60,80,40,20,90,100,210,230,20,40,110,150,100,130,90,110,140,130,20,60,130,200,170,70,150,50,20,190,70,20,50,50,60,20,80,120,220,150,200,110,40,100,40,170,60,60,40,70,110,130,80,90,120,100,60,60,120,110,70,150,160,40,80,70,90,140,90,80,60,100,40,90,40,120,170,20,130,120,120,60,60,180,160,210,80,140,60,90,160,80,60,90,100,100,210,70,20,210,160,20,90,160,100,180,40,100,60,180,40,110,150,30,100,40,60,130,80,120,40,120,50,40,120,100,50,130,90,120,50,90,20,80,140,220,50,70,40,200,100,20,20,100,140,90,80,170,110,80,20,90,100,40,160,60,200,120,40,90,110,110,80,130,40,70,100,210,200,80,80,80,170,160,60,80,80,200,170,60,100,70,220,70,70,60,100,130,70,120,220,90,140,60,210,100,150,130,100,160,70,90,80,150,180,200,260,70,120,80,180,160,80,70,20,110,100,60,40,140,60,90,80,100,60,40,120,40,150,130,160,130,190,100,60,40,100,80,100,100,60,40,60,20,90,110,120,110,20,60,40,100,170,150,130,150,170,140,160,120,90,110,60,80,230,30,140,130,90,120,180,120,130,80,80,80,170,40,120,70,70,100,180,40,30,170,150,160,200,60,100,210,50,120,70,120,130,110,110,40,40,100,110,20,140,110,80,190,150,50,20,60,170,40,110,130,110,120,40,70,150,70,150,20,20,120,80,120,180,140,120,80,20,140,130,140,240,50,80,280,130,70,20,140,190,100,80,80,100,110,120,110,20,80,50,90,60,70,40,140,200,120,80,100,80,40,60,80,140,60,120,40,250,50,60,110,130,100,60,70,120,80,50,290,80,210,70,90,60,80,40,100,20,20,100,60,60,30,120,130,120,80,80,110,80,80,60,100,40,80,60,80,20,20,110,50,70,60,60,100,70,100,160,130,60,50,80,40,100,130,140,110,20,50,30,140,30,140,140,210,80,80,40,160,160,170,80,260,100,60,90,20,180,140,40,20,90,130,150,160,80,60,80,60,130,120,90,20,110,80,40,40,60,120,70,130,70,60,130,30,40,130,70,90,20,70,20,100,30,60,70,80,120,70,180,100,80,100,110,100,20,40,100,60,20,160,70],\"xaxis\":\"x2\",\"yaxis\":\"y2\"}],                        {\"barmode\":\"relative\",\"legend\":{\"tracegroupgap\":0},\"margin\":{\"t\":60},\"template\":{\"data\":{\"bar\":[{\"error_x\":{\"color\":\"#2a3f5f\"},\"error_y\":{\"color\":\"#2a3f5f\"},\"marker\":{\"line\":{\"color\":\"#E5ECF6\",\"width\":0.5},\"pattern\":{\"fillmode\":\"overlay\",\"size\":10,\"solidity\":0.2}},\"type\":\"bar\"}],\"barpolar\":[{\"marker\":{\"line\":{\"color\":\"#E5ECF6\",\"width\":0.5},\"pattern\":{\"fillmode\":\"overlay\",\"size\":10,\"solidity\":0.2}},\"type\":\"barpolar\"}],\"carpet\":[{\"aaxis\":{\"endlinecolor\":\"#2a3f5f\",\"gridcolor\":\"white\",\"linecolor\":\"white\",\"minorgridcolor\":\"white\",\"startlinecolor\":\"#2a3f5f\"},\"baxis\":{\"endlinecolor\":\"#2a3f5f\",\"gridcolor\":\"white\",\"linecolor\":\"white\",\"minorgridcolor\":\"white\",\"startlinecolor\":\"#2a3f5f\"},\"type\":\"carpet\"}],\"choropleth\":[{\"colorbar\":{\"outlinewidth\":0,\"ticks\":\"\"},\"type\":\"choropleth\"}],\"contour\":[{\"colorbar\":{\"outlinewidth\":0,\"ticks\":\"\"},\"colorscale\":[[0.0,\"#0d0887\"],[0.1111111111111111,\"#46039f\"],[0.2222222222222222,\"#7201a8\"],[0.3333333333333333,\"#9c179e\"],[0.4444444444444444,\"#bd3786\"],[0.5555555555555556,\"#d8576b\"],[0.6666666666666666,\"#ed7953\"],[0.7777777777777778,\"#fb9f3a\"],[0.8888888888888888,\"#fdca26\"],[1.0,\"#f0f921\"]],\"type\":\"contour\"}],\"contourcarpet\":[{\"colorbar\":{\"outlinewidth\":0,\"ticks\":\"\"},\"type\":\"contourcarpet\"}],\"heatmap\":[{\"colorbar\":{\"outlinewidth\":0,\"ticks\":\"\"},\"colorscale\":[[0.0,\"#0d0887\"],[0.1111111111111111,\"#46039f\"],[0.2222222222222222,\"#7201a8\"],[0.3333333333333333,\"#9c179e\"],[0.4444444444444444,\"#bd3786\"],[0.5555555555555556,\"#d8576b\"],[0.6666666666666666,\"#ed7953\"],[0.7777777777777778,\"#fb9f3a\"],[0.8888888888888888,\"#fdca26\"],[1.0,\"#f0f921\"]],\"type\":\"heatmap\"}],\"heatmapgl\":[{\"colorbar\":{\"outlinewidth\":0,\"ticks\":\"\"},\"colorscale\":[[0.0,\"#0d0887\"],[0.1111111111111111,\"#46039f\"],[0.2222222222222222,\"#7201a8\"],[0.3333333333333333,\"#9c179e\"],[0.4444444444444444,\"#bd3786\"],[0.5555555555555556,\"#d8576b\"],[0.6666666666666666,\"#ed7953\"],[0.7777777777777778,\"#fb9f3a\"],[0.8888888888888888,\"#fdca26\"],[1.0,\"#f0f921\"]],\"type\":\"heatmapgl\"}],\"histogram\":[{\"marker\":{\"pattern\":{\"fillmode\":\"overlay\",\"size\":10,\"solidity\":0.2}},\"type\":\"histogram\"}],\"histogram2d\":[{\"colorbar\":{\"outlinewidth\":0,\"ticks\":\"\"},\"colorscale\":[[0.0,\"#0d0887\"],[0.1111111111111111,\"#46039f\"],[0.2222222222222222,\"#7201a8\"],[0.3333333333333333,\"#9c179e\"],[0.4444444444444444,\"#bd3786\"],[0.5555555555555556,\"#d8576b\"],[0.6666666666666666,\"#ed7953\"],[0.7777777777777778,\"#fb9f3a\"],[0.8888888888888888,\"#fdca26\"],[1.0,\"#f0f921\"]],\"type\":\"histogram2d\"}],\"histogram2dcontour\":[{\"colorbar\":{\"outlinewidth\":0,\"ticks\":\"\"},\"colorscale\":[[0.0,\"#0d0887\"],[0.1111111111111111,\"#46039f\"],[0.2222222222222222,\"#7201a8\"],[0.3333333333333333,\"#9c179e\"],[0.4444444444444444,\"#bd3786\"],[0.5555555555555556,\"#d8576b\"],[0.6666666666666666,\"#ed7953\"],[0.7777777777777778,\"#fb9f3a\"],[0.8888888888888888,\"#fdca26\"],[1.0,\"#f0f921\"]],\"type\":\"histogram2dcontour\"}],\"mesh3d\":[{\"colorbar\":{\"outlinewidth\":0,\"ticks\":\"\"},\"type\":\"mesh3d\"}],\"parcoords\":[{\"line\":{\"colorbar\":{\"outlinewidth\":0,\"ticks\":\"\"}},\"type\":\"parcoords\"}],\"pie\":[{\"automargin\":true,\"type\":\"pie\"}],\"scatter\":[{\"marker\":{\"colorbar\":{\"outlinewidth\":0,\"ticks\":\"\"}},\"type\":\"scatter\"}],\"scatter3d\":[{\"line\":{\"colorbar\":{\"outlinewidth\":0,\"ticks\":\"\"}},\"marker\":{\"colorbar\":{\"outlinewidth\":0,\"ticks\":\"\"}},\"type\":\"scatter3d\"}],\"scattercarpet\":[{\"marker\":{\"colorbar\":{\"outlinewidth\":0,\"ticks\":\"\"}},\"type\":\"scattercarpet\"}],\"scattergeo\":[{\"marker\":{\"colorbar\":{\"outlinewidth\":0,\"ticks\":\"\"}},\"type\":\"scattergeo\"}],\"scattergl\":[{\"marker\":{\"colorbar\":{\"outlinewidth\":0,\"ticks\":\"\"}},\"type\":\"scattergl\"}],\"scattermapbox\":[{\"marker\":{\"colorbar\":{\"outlinewidth\":0,\"ticks\":\"\"}},\"type\":\"scattermapbox\"}],\"scatterpolar\":[{\"marker\":{\"colorbar\":{\"outlinewidth\":0,\"ticks\":\"\"}},\"type\":\"scatterpolar\"}],\"scatterpolargl\":[{\"marker\":{\"colorbar\":{\"outlinewidth\":0,\"ticks\":\"\"}},\"type\":\"scatterpolargl\"}],\"scatterternary\":[{\"marker\":{\"colorbar\":{\"outlinewidth\":0,\"ticks\":\"\"}},\"type\":\"scatterternary\"}],\"surface\":[{\"colorbar\":{\"outlinewidth\":0,\"ticks\":\"\"},\"colorscale\":[[0.0,\"#0d0887\"],[0.1111111111111111,\"#46039f\"],[0.2222222222222222,\"#7201a8\"],[0.3333333333333333,\"#9c179e\"],[0.4444444444444444,\"#bd3786\"],[0.5555555555555556,\"#d8576b\"],[0.6666666666666666,\"#ed7953\"],[0.7777777777777778,\"#fb9f3a\"],[0.8888888888888888,\"#fdca26\"],[1.0,\"#f0f921\"]],\"type\":\"surface\"}],\"table\":[{\"cells\":{\"fill\":{\"color\":\"#EBF0F8\"},\"line\":{\"color\":\"white\"}},\"header\":{\"fill\":{\"color\":\"#C8D4E3\"},\"line\":{\"color\":\"white\"}},\"type\":\"table\"}]},\"layout\":{\"annotationdefaults\":{\"arrowcolor\":\"#2a3f5f\",\"arrowhead\":0,\"arrowwidth\":1},\"autotypenumbers\":\"strict\",\"coloraxis\":{\"colorbar\":{\"outlinewidth\":0,\"ticks\":\"\"}},\"colorscale\":{\"diverging\":[[0,\"#8e0152\"],[0.1,\"#c51b7d\"],[0.2,\"#de77ae\"],[0.3,\"#f1b6da\"],[0.4,\"#fde0ef\"],[0.5,\"#f7f7f7\"],[0.6,\"#e6f5d0\"],[0.7,\"#b8e186\"],[0.8,\"#7fbc41\"],[0.9,\"#4d9221\"],[1,\"#276419\"]],\"sequential\":[[0.0,\"#0d0887\"],[0.1111111111111111,\"#46039f\"],[0.2222222222222222,\"#7201a8\"],[0.3333333333333333,\"#9c179e\"],[0.4444444444444444,\"#bd3786\"],[0.5555555555555556,\"#d8576b\"],[0.6666666666666666,\"#ed7953\"],[0.7777777777777778,\"#fb9f3a\"],[0.8888888888888888,\"#fdca26\"],[1.0,\"#f0f921\"]],\"sequentialminus\":[[0.0,\"#0d0887\"],[0.1111111111111111,\"#46039f\"],[0.2222222222222222,\"#7201a8\"],[0.3333333333333333,\"#9c179e\"],[0.4444444444444444,\"#bd3786\"],[0.5555555555555556,\"#d8576b\"],[0.6666666666666666,\"#ed7953\"],[0.7777777777777778,\"#fb9f3a\"],[0.8888888888888888,\"#fdca26\"],[1.0,\"#f0f921\"]]},\"colorway\":[\"#636efa\",\"#EF553B\",\"#00cc96\",\"#ab63fa\",\"#FFA15A\",\"#19d3f3\",\"#FF6692\",\"#B6E880\",\"#FF97FF\",\"#FECB52\"],\"font\":{\"color\":\"#2a3f5f\"},\"geo\":{\"bgcolor\":\"white\",\"lakecolor\":\"white\",\"landcolor\":\"#E5ECF6\",\"showlakes\":true,\"showland\":true,\"subunitcolor\":\"white\"},\"hoverlabel\":{\"align\":\"left\"},\"hovermode\":\"closest\",\"mapbox\":{\"style\":\"light\"},\"paper_bgcolor\":\"white\",\"plot_bgcolor\":\"#E5ECF6\",\"polar\":{\"angularaxis\":{\"gridcolor\":\"white\",\"linecolor\":\"white\",\"ticks\":\"\"},\"bgcolor\":\"#E5ECF6\",\"radialaxis\":{\"gridcolor\":\"white\",\"linecolor\":\"white\",\"ticks\":\"\"}},\"scene\":{\"xaxis\":{\"backgroundcolor\":\"#E5ECF6\",\"gridcolor\":\"white\",\"gridwidth\":2,\"linecolor\":\"white\",\"showbackground\":true,\"ticks\":\"\",\"zerolinecolor\":\"white\"},\"yaxis\":{\"backgroundcolor\":\"#E5ECF6\",\"gridcolor\":\"white\",\"gridwidth\":2,\"linecolor\":\"white\",\"showbackground\":true,\"ticks\":\"\",\"zerolinecolor\":\"white\"},\"zaxis\":{\"backgroundcolor\":\"#E5ECF6\",\"gridcolor\":\"white\",\"gridwidth\":2,\"linecolor\":\"white\",\"showbackground\":true,\"ticks\":\"\",\"zerolinecolor\":\"white\"}},\"shapedefaults\":{\"line\":{\"color\":\"#2a3f5f\"}},\"ternary\":{\"aaxis\":{\"gridcolor\":\"white\",\"linecolor\":\"white\",\"ticks\":\"\"},\"baxis\":{\"gridcolor\":\"white\",\"linecolor\":\"white\",\"ticks\":\"\"},\"bgcolor\":\"#E5ECF6\",\"caxis\":{\"gridcolor\":\"white\",\"linecolor\":\"white\",\"ticks\":\"\"}},\"title\":{\"x\":0.05},\"xaxis\":{\"automargin\":true,\"gridcolor\":\"white\",\"linecolor\":\"white\",\"ticks\":\"\",\"title\":{\"standoff\":15},\"zerolinecolor\":\"white\",\"zerolinewidth\":2},\"yaxis\":{\"automargin\":true,\"gridcolor\":\"white\",\"linecolor\":\"white\",\"ticks\":\"\",\"title\":{\"standoff\":15},\"zerolinecolor\":\"white\",\"zerolinewidth\":2}}},\"title\":{\"font\":{\"size\":20},\"text\":\"Monetary Distribution of the Customers\",\"x\":0.5},\"xaxis\":{\"anchor\":\"y\",\"domain\":[0.0,1.0],\"title\":{\"text\":\"Monetary\"}},\"xaxis2\":{\"anchor\":\"y2\",\"domain\":[0.0,1.0],\"matches\":\"x\",\"showgrid\":true,\"showticklabels\":false},\"yaxis\":{\"anchor\":\"x\",\"domain\":[0.0,0.8316],\"title\":{\"text\":\"count\"}},\"yaxis2\":{\"anchor\":\"x2\",\"domain\":[0.8416,1.0],\"matches\":\"y2\",\"showgrid\":false,\"showline\":false,\"showticklabels\":false,\"ticks\":\"\"}},                        {\"responsive\": true}                    ).then(function(){\n",
       "                            \n",
       "var gd = document.getElementById('cca0f29a-172b-4d48-b07b-b12458421e95');\n",
       "var x = new MutationObserver(function (mutations, observer) {{\n",
       "        var display = window.getComputedStyle(gd).display;\n",
       "        if (!display || display === 'none') {{\n",
       "            console.log([gd, 'removed!']);\n",
       "            Plotly.purge(gd);\n",
       "            observer.disconnect();\n",
       "        }}\n",
       "}});\n",
       "\n",
       "// Listen for the removal of the full notebook cells\n",
       "var notebookContainer = gd.closest('#notebook-container');\n",
       "if (notebookContainer) {{\n",
       "    x.observe(notebookContainer, {childList: true});\n",
       "}}\n",
       "\n",
       "// Listen for the clearing of the current output cell\n",
       "var outputEl = gd.closest('.output');\n",
       "if (outputEl) {{\n",
       "    x.observe(outputEl, {childList: true});\n",
       "}}\n",
       "\n",
       "                        })                };                });            </script>        </div>"
      ]
     },
     "metadata": {},
     "output_type": "display_data"
    }
   ],
   "source": [
    "fig = px.histogram(Monetary, x='Monetary', opacity=0.85, marginal='box',\n",
    "                   labels={'itemName': 'Monetary'})\n",
    "fig.update_traces(marker=dict(line=dict(color='#000000', width=1)))\n",
    "fig.update_layout(title_text='Monetary Distribution of the Customers',\n",
    "                  title_x=0.5, title_font=dict(size=20))\n",
    "fig.show()"
   ]
  },
  {
   "cell_type": "code",
   "execution_count": 30,
   "metadata": {
    "execution": {
     "iopub.execute_input": "2022-02-17T21:27:36.990891Z",
     "iopub.status.busy": "2022-02-17T21:27:36.990142Z",
     "iopub.status.idle": "2022-02-17T21:27:36.999182Z",
     "shell.execute_reply": "2022-02-17T21:27:36.999807Z",
     "shell.execute_reply.started": "2022-02-17T21:24:12.281906Z"
    },
    "papermill": {
     "duration": 0.084175,
     "end_time": "2022-02-17T21:27:36.999989",
     "exception": false,
     "start_time": "2022-02-17T21:27:36.915814",
     "status": "completed"
    },
    "tags": []
   },
   "outputs": [
    {
     "data": {
      "text/html": [
       "<div>\n",
       "<style scoped>\n",
       "    .dataframe tbody tr th:only-of-type {\n",
       "        vertical-align: middle;\n",
       "    }\n",
       "\n",
       "    .dataframe tbody tr th {\n",
       "        vertical-align: top;\n",
       "    }\n",
       "\n",
       "    .dataframe thead th {\n",
       "        text-align: right;\n",
       "    }\n",
       "</style>\n",
       "<table border=\"1\" class=\"dataframe\">\n",
       "  <thead>\n",
       "    <tr style=\"text-align: right;\">\n",
       "      <th></th>\n",
       "      <th>memberID</th>\n",
       "      <th>Recency</th>\n",
       "      <th>Visit_Frequency</th>\n",
       "      <th>Monetary</th>\n",
       "    </tr>\n",
       "  </thead>\n",
       "  <tbody>\n",
       "    <tr>\n",
       "      <th>0</th>\n",
       "      <td>1000</td>\n",
       "      <td>35</td>\n",
       "      <td>5</td>\n",
       "      <td>130</td>\n",
       "    </tr>\n",
       "    <tr>\n",
       "      <th>1</th>\n",
       "      <td>1001</td>\n",
       "      <td>260</td>\n",
       "      <td>5</td>\n",
       "      <td>120</td>\n",
       "    </tr>\n",
       "    <tr>\n",
       "      <th>2</th>\n",
       "      <td>1002</td>\n",
       "      <td>122</td>\n",
       "      <td>4</td>\n",
       "      <td>80</td>\n",
       "    </tr>\n",
       "    <tr>\n",
       "      <th>3</th>\n",
       "      <td>1003</td>\n",
       "      <td>89</td>\n",
       "      <td>4</td>\n",
       "      <td>80</td>\n",
       "    </tr>\n",
       "    <tr>\n",
       "      <th>4</th>\n",
       "      <td>1004</td>\n",
       "      <td>321</td>\n",
       "      <td>8</td>\n",
       "      <td>210</td>\n",
       "    </tr>\n",
       "  </tbody>\n",
       "</table>\n",
       "</div>"
      ],
      "text/plain": [
       "  memberID  Recency  Visit_Frequency  Monetary\n",
       "0     1000       35                5       130\n",
       "1     1001      260                5       120\n",
       "2     1002      122                4        80\n",
       "3     1003       89                4        80\n",
       "4     1004      321                8       210"
      ]
     },
     "execution_count": 30,
     "metadata": {},
     "output_type": "execute_result"
    }
   ],
   "source": [
    "# Combining all scores into one DataFrame\n",
    "RFM = pd.concat([Recency['memberID'], Recency['Recency'], Frequency['Visit_Frequency'], Monetary['Monetary']], axis=1)\n",
    "RFM.head()"
   ]
  },
  {
   "cell_type": "markdown",
   "metadata": {
    "papermill": {
     "duration": 0.069012,
     "end_time": "2022-02-17T21:27:37.139176",
     "exception": false,
     "start_time": "2022-02-17T21:27:37.070164",
     "status": "completed"
    },
    "tags": []
   },
   "source": [
    "# RFM Scores"
   ]
  },
  {
   "cell_type": "code",
   "execution_count": 31,
   "metadata": {
    "execution": {
     "iopub.execute_input": "2022-02-17T21:27:37.286738Z",
     "iopub.status.busy": "2022-02-17T21:27:37.285610Z",
     "iopub.status.idle": "2022-02-17T21:27:37.304647Z",
     "shell.execute_reply": "2022-02-17T21:27:37.305182Z",
     "shell.execute_reply.started": "2022-02-17T21:24:12.298011Z"
    },
    "papermill": {
     "duration": 0.097384,
     "end_time": "2022-02-17T21:27:37.305388",
     "exception": false,
     "start_time": "2022-02-17T21:27:37.208004",
     "status": "completed"
    },
    "tags": []
   },
   "outputs": [
    {
     "data": {
      "text/html": [
       "<div>\n",
       "<style scoped>\n",
       "    .dataframe tbody tr th:only-of-type {\n",
       "        vertical-align: middle;\n",
       "    }\n",
       "\n",
       "    .dataframe tbody tr th {\n",
       "        vertical-align: top;\n",
       "    }\n",
       "\n",
       "    .dataframe thead th {\n",
       "        text-align: right;\n",
       "    }\n",
       "</style>\n",
       "<table border=\"1\" class=\"dataframe\">\n",
       "  <thead>\n",
       "    <tr style=\"text-align: right;\">\n",
       "      <th></th>\n",
       "      <th>memberID</th>\n",
       "      <th>Recency</th>\n",
       "      <th>Visit_Frequency</th>\n",
       "      <th>Monetary</th>\n",
       "      <th>Recency_quartile</th>\n",
       "      <th>Frequency_quartile</th>\n",
       "      <th>RF_Score</th>\n",
       "    </tr>\n",
       "  </thead>\n",
       "  <tbody>\n",
       "    <tr>\n",
       "      <th>0</th>\n",
       "      <td>1000</td>\n",
       "      <td>35</td>\n",
       "      <td>5</td>\n",
       "      <td>130</td>\n",
       "      <td>5</td>\n",
       "      <td>4</td>\n",
       "      <td>54</td>\n",
       "    </tr>\n",
       "    <tr>\n",
       "      <th>1</th>\n",
       "      <td>1001</td>\n",
       "      <td>260</td>\n",
       "      <td>5</td>\n",
       "      <td>120</td>\n",
       "      <td>2</td>\n",
       "      <td>4</td>\n",
       "      <td>24</td>\n",
       "    </tr>\n",
       "    <tr>\n",
       "      <th>2</th>\n",
       "      <td>1002</td>\n",
       "      <td>122</td>\n",
       "      <td>4</td>\n",
       "      <td>80</td>\n",
       "      <td>3</td>\n",
       "      <td>3</td>\n",
       "      <td>33</td>\n",
       "    </tr>\n",
       "    <tr>\n",
       "      <th>3</th>\n",
       "      <td>1003</td>\n",
       "      <td>89</td>\n",
       "      <td>4</td>\n",
       "      <td>80</td>\n",
       "      <td>4</td>\n",
       "      <td>3</td>\n",
       "      <td>43</td>\n",
       "    </tr>\n",
       "    <tr>\n",
       "      <th>4</th>\n",
       "      <td>1004</td>\n",
       "      <td>321</td>\n",
       "      <td>8</td>\n",
       "      <td>210</td>\n",
       "      <td>2</td>\n",
       "      <td>5</td>\n",
       "      <td>25</td>\n",
       "    </tr>\n",
       "  </tbody>\n",
       "</table>\n",
       "</div>"
      ],
      "text/plain": [
       "  memberID  Recency  Visit_Frequency  Monetary Recency_quartile  \\\n",
       "0     1000       35                5       130                5   \n",
       "1     1001      260                5       120                2   \n",
       "2     1002      122                4        80                3   \n",
       "3     1003       89                4        80                4   \n",
       "4     1004      321                8       210                2   \n",
       "\n",
       "  Frequency_quartile RF_Score  \n",
       "0                  4       54  \n",
       "1                  4       24  \n",
       "2                  3       33  \n",
       "3                  3       43  \n",
       "4                  5       25  "
      ]
     },
     "execution_count": 31,
     "metadata": {},
     "output_type": "execute_result"
    }
   ],
   "source": [
    "# 5-5 score = the best customers\n",
    "RFM['Recency_quartile'] = pd.qcut(RFM['Recency'], 5, [5, 4, 3, 2, 1])\n",
    "RFM['Frequency_quartile'] = pd.qcut(RFM['Visit_Frequency'], 5, [1, 2, 3, 4, 5])\n",
    "\n",
    "RFM['RF_Score'] = RFM['Recency_quartile'].astype(str) + RFM['Frequency_quartile'].astype(str)\n",
    "RFM.head()"
   ]
  },
  {
   "cell_type": "code",
   "execution_count": 32,
   "metadata": {
    "execution": {
     "iopub.execute_input": "2022-02-17T21:27:37.453611Z",
     "iopub.status.busy": "2022-02-17T21:27:37.452593Z",
     "iopub.status.idle": "2022-02-17T21:27:37.543534Z",
     "shell.execute_reply": "2022-02-17T21:27:37.544004Z",
     "shell.execute_reply.started": "2022-02-17T21:24:12.32767Z"
    },
    "papermill": {
     "duration": 0.168451,
     "end_time": "2022-02-17T21:27:37.544181",
     "exception": false,
     "start_time": "2022-02-17T21:27:37.375730",
     "status": "completed"
    },
    "tags": []
   },
   "outputs": [
    {
     "data": {
      "text/html": [
       "<div>\n",
       "<style scoped>\n",
       "    .dataframe tbody tr th:only-of-type {\n",
       "        vertical-align: middle;\n",
       "    }\n",
       "\n",
       "    .dataframe tbody tr th {\n",
       "        vertical-align: top;\n",
       "    }\n",
       "\n",
       "    .dataframe thead th {\n",
       "        text-align: right;\n",
       "    }\n",
       "</style>\n",
       "<table border=\"1\" class=\"dataframe\">\n",
       "  <thead>\n",
       "    <tr style=\"text-align: right;\">\n",
       "      <th></th>\n",
       "      <th>memberID</th>\n",
       "      <th>Recency</th>\n",
       "      <th>Visit_Frequency</th>\n",
       "      <th>Monetary</th>\n",
       "      <th>Recency_quartile</th>\n",
       "      <th>Frequency_quartile</th>\n",
       "      <th>RF_Score</th>\n",
       "      <th>RF_Segment</th>\n",
       "    </tr>\n",
       "  </thead>\n",
       "  <tbody>\n",
       "    <tr>\n",
       "      <th>0</th>\n",
       "      <td>1000</td>\n",
       "      <td>35</td>\n",
       "      <td>5</td>\n",
       "      <td>130</td>\n",
       "      <td>5</td>\n",
       "      <td>4</td>\n",
       "      <td>54</td>\n",
       "      <td>champions</td>\n",
       "    </tr>\n",
       "    <tr>\n",
       "      <th>1</th>\n",
       "      <td>1001</td>\n",
       "      <td>260</td>\n",
       "      <td>5</td>\n",
       "      <td>120</td>\n",
       "      <td>2</td>\n",
       "      <td>4</td>\n",
       "      <td>24</td>\n",
       "      <td>at risk</td>\n",
       "    </tr>\n",
       "    <tr>\n",
       "      <th>2</th>\n",
       "      <td>1002</td>\n",
       "      <td>122</td>\n",
       "      <td>4</td>\n",
       "      <td>80</td>\n",
       "      <td>3</td>\n",
       "      <td>3</td>\n",
       "      <td>33</td>\n",
       "      <td>need attention</td>\n",
       "    </tr>\n",
       "    <tr>\n",
       "      <th>3</th>\n",
       "      <td>1003</td>\n",
       "      <td>89</td>\n",
       "      <td>4</td>\n",
       "      <td>80</td>\n",
       "      <td>4</td>\n",
       "      <td>3</td>\n",
       "      <td>43</td>\n",
       "      <td>potential loyalists</td>\n",
       "    </tr>\n",
       "    <tr>\n",
       "      <th>4</th>\n",
       "      <td>1004</td>\n",
       "      <td>321</td>\n",
       "      <td>8</td>\n",
       "      <td>210</td>\n",
       "      <td>2</td>\n",
       "      <td>5</td>\n",
       "      <td>25</td>\n",
       "      <td>can't loose</td>\n",
       "    </tr>\n",
       "  </tbody>\n",
       "</table>\n",
       "</div>"
      ],
      "text/plain": [
       "  memberID  Recency  Visit_Frequency  Monetary Recency_quartile  \\\n",
       "0     1000       35                5       130                5   \n",
       "1     1001      260                5       120                2   \n",
       "2     1002      122                4        80                3   \n",
       "3     1003       89                4        80                4   \n",
       "4     1004      321                8       210                2   \n",
       "\n",
       "  Frequency_quartile RF_Score           RF_Segment  \n",
       "0                  4       54            champions  \n",
       "1                  4       24              at risk  \n",
       "2                  3       33       need attention  \n",
       "3                  3       43  potential loyalists  \n",
       "4                  5       25          can't loose  "
      ]
     },
     "execution_count": 32,
     "metadata": {},
     "output_type": "execute_result"
    }
   ],
   "source": [
    "\n",
    "segt_map = {  # Segmentation Map [Ref]\n",
    "    r'[1-2][1-2]': 'hibernating',\n",
    "    r'[1-2][3-4]': 'at risk',\n",
    "    r'[1-2]5': 'can\\'t loose',\n",
    "    r'3[1-2]': 'about to sleep',\n",
    "    r'33': 'need attention',\n",
    "    r'[3-4][4-5]': 'loyal customers',\n",
    "    r'41': 'promising',\n",
    "    r'51': 'new customers',\n",
    "    r'[4-5][2-3]': 'potential loyalists',\n",
    "    r'5[4-5]': 'champions'\n",
    "}\n",
    "\n",
    "RFM['RF_Segment'] = RFM['RF_Score'].replace(segt_map, regex=True)\n",
    "RFM.head()"
   ]
  },
  {
   "cell_type": "markdown",
   "metadata": {
    "papermill": {
     "duration": 0.069125,
     "end_time": "2022-02-17T21:27:37.684008",
     "exception": false,
     "start_time": "2022-02-17T21:27:37.614883",
     "status": "completed"
    },
    "tags": []
   },
   "source": [
    "# Distribution of the RFM Segments\n"
   ]
  },
  {
   "cell_type": "code",
   "execution_count": 33,
   "metadata": {
    "_kg_hide-input": true,
    "execution": {
     "iopub.execute_input": "2022-02-17T21:27:37.835734Z",
     "iopub.status.busy": "2022-02-17T21:27:37.834992Z",
     "iopub.status.idle": "2022-02-17T21:27:37.900461Z",
     "shell.execute_reply": "2022-02-17T21:27:37.900967Z",
     "shell.execute_reply.started": "2022-02-17T21:24:12.427593Z"
    },
    "papermill": {
     "duration": 0.148017,
     "end_time": "2022-02-17T21:27:37.901177",
     "exception": false,
     "start_time": "2022-02-17T21:27:37.753160",
     "status": "completed"
    },
    "tags": []
   },
   "outputs": [
    {
     "data": {
      "text/html": [
       "<div>                            <div id=\"17049ff5-ded0-45f2-a251-34a1397febfb\" class=\"plotly-graph-div\" style=\"height:525px; width:100%;\"></div>            <script type=\"text/javascript\">                require([\"plotly\"], function(Plotly) {                    window.PLOTLYENV=window.PLOTLYENV || {};                                    if (document.getElementById(\"17049ff5-ded0-45f2-a251-34a1397febfb\")) {                    Plotly.newPlot(                        \"17049ff5-ded0-45f2-a251-34a1397febfb\",                        [{\"branchvalues\":\"total\",\"domain\":{\"x\":[0.0,1.0],\"y\":[0.0,1.0]},\"hovertemplate\":\"labels=%{label}<br>value=%{value}<br>parent=%{parent}<br>id=%{id}<extra></extra>\",\"ids\":[\"about to sleep\",\"at risk\",\"can't loose\",\"champions\",\"hibernating\",\"loyal customers\",\"need attention\",\"new customers\",\"potential loyalists\",\"promising\"],\"labels\":[\"about to sleep\",\"at risk\",\"can't loose\",\"champions\",\"hibernating\",\"loyal customers\",\"need attention\",\"new customers\",\"potential loyalists\",\"promising\"],\"name\":\"\",\"parents\":[\"\",\"\",\"\",\"\",\"\",\"\",\"\",\"\",\"\",\"\"],\"textinfo\":\"label+value+percent root\",\"type\":\"treemap\",\"values\":[335,434,116,390,1005,617,154,106,621,120]}],                        {\"legend\":{\"tracegroupgap\":0},\"margin\":{\"t\":60},\"template\":{\"data\":{\"bar\":[{\"error_x\":{\"color\":\"#2a3f5f\"},\"error_y\":{\"color\":\"#2a3f5f\"},\"marker\":{\"line\":{\"color\":\"#E5ECF6\",\"width\":0.5},\"pattern\":{\"fillmode\":\"overlay\",\"size\":10,\"solidity\":0.2}},\"type\":\"bar\"}],\"barpolar\":[{\"marker\":{\"line\":{\"color\":\"#E5ECF6\",\"width\":0.5},\"pattern\":{\"fillmode\":\"overlay\",\"size\":10,\"solidity\":0.2}},\"type\":\"barpolar\"}],\"carpet\":[{\"aaxis\":{\"endlinecolor\":\"#2a3f5f\",\"gridcolor\":\"white\",\"linecolor\":\"white\",\"minorgridcolor\":\"white\",\"startlinecolor\":\"#2a3f5f\"},\"baxis\":{\"endlinecolor\":\"#2a3f5f\",\"gridcolor\":\"white\",\"linecolor\":\"white\",\"minorgridcolor\":\"white\",\"startlinecolor\":\"#2a3f5f\"},\"type\":\"carpet\"}],\"choropleth\":[{\"colorbar\":{\"outlinewidth\":0,\"ticks\":\"\"},\"type\":\"choropleth\"}],\"contour\":[{\"colorbar\":{\"outlinewidth\":0,\"ticks\":\"\"},\"colorscale\":[[0.0,\"#0d0887\"],[0.1111111111111111,\"#46039f\"],[0.2222222222222222,\"#7201a8\"],[0.3333333333333333,\"#9c179e\"],[0.4444444444444444,\"#bd3786\"],[0.5555555555555556,\"#d8576b\"],[0.6666666666666666,\"#ed7953\"],[0.7777777777777778,\"#fb9f3a\"],[0.8888888888888888,\"#fdca26\"],[1.0,\"#f0f921\"]],\"type\":\"contour\"}],\"contourcarpet\":[{\"colorbar\":{\"outlinewidth\":0,\"ticks\":\"\"},\"type\":\"contourcarpet\"}],\"heatmap\":[{\"colorbar\":{\"outlinewidth\":0,\"ticks\":\"\"},\"colorscale\":[[0.0,\"#0d0887\"],[0.1111111111111111,\"#46039f\"],[0.2222222222222222,\"#7201a8\"],[0.3333333333333333,\"#9c179e\"],[0.4444444444444444,\"#bd3786\"],[0.5555555555555556,\"#d8576b\"],[0.6666666666666666,\"#ed7953\"],[0.7777777777777778,\"#fb9f3a\"],[0.8888888888888888,\"#fdca26\"],[1.0,\"#f0f921\"]],\"type\":\"heatmap\"}],\"heatmapgl\":[{\"colorbar\":{\"outlinewidth\":0,\"ticks\":\"\"},\"colorscale\":[[0.0,\"#0d0887\"],[0.1111111111111111,\"#46039f\"],[0.2222222222222222,\"#7201a8\"],[0.3333333333333333,\"#9c179e\"],[0.4444444444444444,\"#bd3786\"],[0.5555555555555556,\"#d8576b\"],[0.6666666666666666,\"#ed7953\"],[0.7777777777777778,\"#fb9f3a\"],[0.8888888888888888,\"#fdca26\"],[1.0,\"#f0f921\"]],\"type\":\"heatmapgl\"}],\"histogram\":[{\"marker\":{\"pattern\":{\"fillmode\":\"overlay\",\"size\":10,\"solidity\":0.2}},\"type\":\"histogram\"}],\"histogram2d\":[{\"colorbar\":{\"outlinewidth\":0,\"ticks\":\"\"},\"colorscale\":[[0.0,\"#0d0887\"],[0.1111111111111111,\"#46039f\"],[0.2222222222222222,\"#7201a8\"],[0.3333333333333333,\"#9c179e\"],[0.4444444444444444,\"#bd3786\"],[0.5555555555555556,\"#d8576b\"],[0.6666666666666666,\"#ed7953\"],[0.7777777777777778,\"#fb9f3a\"],[0.8888888888888888,\"#fdca26\"],[1.0,\"#f0f921\"]],\"type\":\"histogram2d\"}],\"histogram2dcontour\":[{\"colorbar\":{\"outlinewidth\":0,\"ticks\":\"\"},\"colorscale\":[[0.0,\"#0d0887\"],[0.1111111111111111,\"#46039f\"],[0.2222222222222222,\"#7201a8\"],[0.3333333333333333,\"#9c179e\"],[0.4444444444444444,\"#bd3786\"],[0.5555555555555556,\"#d8576b\"],[0.6666666666666666,\"#ed7953\"],[0.7777777777777778,\"#fb9f3a\"],[0.8888888888888888,\"#fdca26\"],[1.0,\"#f0f921\"]],\"type\":\"histogram2dcontour\"}],\"mesh3d\":[{\"colorbar\":{\"outlinewidth\":0,\"ticks\":\"\"},\"type\":\"mesh3d\"}],\"parcoords\":[{\"line\":{\"colorbar\":{\"outlinewidth\":0,\"ticks\":\"\"}},\"type\":\"parcoords\"}],\"pie\":[{\"automargin\":true,\"type\":\"pie\"}],\"scatter\":[{\"marker\":{\"colorbar\":{\"outlinewidth\":0,\"ticks\":\"\"}},\"type\":\"scatter\"}],\"scatter3d\":[{\"line\":{\"colorbar\":{\"outlinewidth\":0,\"ticks\":\"\"}},\"marker\":{\"colorbar\":{\"outlinewidth\":0,\"ticks\":\"\"}},\"type\":\"scatter3d\"}],\"scattercarpet\":[{\"marker\":{\"colorbar\":{\"outlinewidth\":0,\"ticks\":\"\"}},\"type\":\"scattercarpet\"}],\"scattergeo\":[{\"marker\":{\"colorbar\":{\"outlinewidth\":0,\"ticks\":\"\"}},\"type\":\"scattergeo\"}],\"scattergl\":[{\"marker\":{\"colorbar\":{\"outlinewidth\":0,\"ticks\":\"\"}},\"type\":\"scattergl\"}],\"scattermapbox\":[{\"marker\":{\"colorbar\":{\"outlinewidth\":0,\"ticks\":\"\"}},\"type\":\"scattermapbox\"}],\"scatterpolar\":[{\"marker\":{\"colorbar\":{\"outlinewidth\":0,\"ticks\":\"\"}},\"type\":\"scatterpolar\"}],\"scatterpolargl\":[{\"marker\":{\"colorbar\":{\"outlinewidth\":0,\"ticks\":\"\"}},\"type\":\"scatterpolargl\"}],\"scatterternary\":[{\"marker\":{\"colorbar\":{\"outlinewidth\":0,\"ticks\":\"\"}},\"type\":\"scatterternary\"}],\"surface\":[{\"colorbar\":{\"outlinewidth\":0,\"ticks\":\"\"},\"colorscale\":[[0.0,\"#0d0887\"],[0.1111111111111111,\"#46039f\"],[0.2222222222222222,\"#7201a8\"],[0.3333333333333333,\"#9c179e\"],[0.4444444444444444,\"#bd3786\"],[0.5555555555555556,\"#d8576b\"],[0.6666666666666666,\"#ed7953\"],[0.7777777777777778,\"#fb9f3a\"],[0.8888888888888888,\"#fdca26\"],[1.0,\"#f0f921\"]],\"type\":\"surface\"}],\"table\":[{\"cells\":{\"fill\":{\"color\":\"#EBF0F8\"},\"line\":{\"color\":\"white\"}},\"header\":{\"fill\":{\"color\":\"#C8D4E3\"},\"line\":{\"color\":\"white\"}},\"type\":\"table\"}]},\"layout\":{\"annotationdefaults\":{\"arrowcolor\":\"#2a3f5f\",\"arrowhead\":0,\"arrowwidth\":1},\"autotypenumbers\":\"strict\",\"coloraxis\":{\"colorbar\":{\"outlinewidth\":0,\"ticks\":\"\"}},\"colorscale\":{\"diverging\":[[0,\"#8e0152\"],[0.1,\"#c51b7d\"],[0.2,\"#de77ae\"],[0.3,\"#f1b6da\"],[0.4,\"#fde0ef\"],[0.5,\"#f7f7f7\"],[0.6,\"#e6f5d0\"],[0.7,\"#b8e186\"],[0.8,\"#7fbc41\"],[0.9,\"#4d9221\"],[1,\"#276419\"]],\"sequential\":[[0.0,\"#0d0887\"],[0.1111111111111111,\"#46039f\"],[0.2222222222222222,\"#7201a8\"],[0.3333333333333333,\"#9c179e\"],[0.4444444444444444,\"#bd3786\"],[0.5555555555555556,\"#d8576b\"],[0.6666666666666666,\"#ed7953\"],[0.7777777777777778,\"#fb9f3a\"],[0.8888888888888888,\"#fdca26\"],[1.0,\"#f0f921\"]],\"sequentialminus\":[[0.0,\"#0d0887\"],[0.1111111111111111,\"#46039f\"],[0.2222222222222222,\"#7201a8\"],[0.3333333333333333,\"#9c179e\"],[0.4444444444444444,\"#bd3786\"],[0.5555555555555556,\"#d8576b\"],[0.6666666666666666,\"#ed7953\"],[0.7777777777777778,\"#fb9f3a\"],[0.8888888888888888,\"#fdca26\"],[1.0,\"#f0f921\"]]},\"colorway\":[\"#636efa\",\"#EF553B\",\"#00cc96\",\"#ab63fa\",\"#FFA15A\",\"#19d3f3\",\"#FF6692\",\"#B6E880\",\"#FF97FF\",\"#FECB52\"],\"font\":{\"color\":\"#2a3f5f\"},\"geo\":{\"bgcolor\":\"white\",\"lakecolor\":\"white\",\"landcolor\":\"#E5ECF6\",\"showlakes\":true,\"showland\":true,\"subunitcolor\":\"white\"},\"hoverlabel\":{\"align\":\"left\"},\"hovermode\":\"closest\",\"mapbox\":{\"style\":\"light\"},\"paper_bgcolor\":\"white\",\"plot_bgcolor\":\"#E5ECF6\",\"polar\":{\"angularaxis\":{\"gridcolor\":\"white\",\"linecolor\":\"white\",\"ticks\":\"\"},\"bgcolor\":\"#E5ECF6\",\"radialaxis\":{\"gridcolor\":\"white\",\"linecolor\":\"white\",\"ticks\":\"\"}},\"scene\":{\"xaxis\":{\"backgroundcolor\":\"#E5ECF6\",\"gridcolor\":\"white\",\"gridwidth\":2,\"linecolor\":\"white\",\"showbackground\":true,\"ticks\":\"\",\"zerolinecolor\":\"white\"},\"yaxis\":{\"backgroundcolor\":\"#E5ECF6\",\"gridcolor\":\"white\",\"gridwidth\":2,\"linecolor\":\"white\",\"showbackground\":true,\"ticks\":\"\",\"zerolinecolor\":\"white\"},\"zaxis\":{\"backgroundcolor\":\"#E5ECF6\",\"gridcolor\":\"white\",\"gridwidth\":2,\"linecolor\":\"white\",\"showbackground\":true,\"ticks\":\"\",\"zerolinecolor\":\"white\"}},\"shapedefaults\":{\"line\":{\"color\":\"#2a3f5f\"}},\"ternary\":{\"aaxis\":{\"gridcolor\":\"white\",\"linecolor\":\"white\",\"ticks\":\"\"},\"baxis\":{\"gridcolor\":\"white\",\"linecolor\":\"white\",\"ticks\":\"\"},\"bgcolor\":\"#E5ECF6\",\"caxis\":{\"gridcolor\":\"white\",\"linecolor\":\"white\",\"ticks\":\"\"}},\"title\":{\"x\":0.05},\"xaxis\":{\"automargin\":true,\"gridcolor\":\"white\",\"linecolor\":\"white\",\"ticks\":\"\",\"title\":{\"standoff\":15},\"zerolinecolor\":\"white\",\"zerolinewidth\":2},\"yaxis\":{\"automargin\":true,\"gridcolor\":\"white\",\"linecolor\":\"white\",\"ticks\":\"\",\"title\":{\"standoff\":15},\"zerolinecolor\":\"white\",\"zerolinewidth\":2}}},\"title\":{\"font\":{\"size\":20},\"text\":\"Distribution of the RFM Segments\",\"x\":0.5}},                        {\"responsive\": true}                    ).then(function(){\n",
       "                            \n",
       "var gd = document.getElementById('17049ff5-ded0-45f2-a251-34a1397febfb');\n",
       "var x = new MutationObserver(function (mutations, observer) {{\n",
       "        var display = window.getComputedStyle(gd).display;\n",
       "        if (!display || display === 'none') {{\n",
       "            console.log([gd, 'removed!']);\n",
       "            Plotly.purge(gd);\n",
       "            observer.disconnect();\n",
       "        }}\n",
       "}});\n",
       "\n",
       "// Listen for the removal of the full notebook cells\n",
       "var notebookContainer = gd.closest('#notebook-container');\n",
       "if (notebookContainer) {{\n",
       "    x.observe(notebookContainer, {childList: true});\n",
       "}}\n",
       "\n",
       "// Listen for the clearing of the current output cell\n",
       "var outputEl = gd.closest('.output');\n",
       "if (outputEl) {{\n",
       "    x.observe(outputEl, {childList: true});\n",
       "}}\n",
       "\n",
       "                        })                };                });            </script>        </div>"
      ]
     },
     "metadata": {},
     "output_type": "display_data"
    }
   ],
   "source": [
    "x = RFM.RF_Segment.value_counts()\n",
    "fig = px.treemap(x, path=[x.index], values=x)\n",
    "fig.update_layout(title_text='Distribution of the RFM Segments', title_x=0.5,\n",
    "                  title_font=dict(size=20))\n",
    "fig.update_traces(textinfo=\"label+value+percent root\")\n",
    "fig.show()"
   ]
  },
  {
   "cell_type": "markdown",
   "metadata": {
    "papermill": {
     "duration": 0.069242,
     "end_time": "2022-02-17T21:27:38.041072",
     "exception": false,
     "start_time": "2022-02-17T21:27:37.971830",
     "status": "completed"
    },
    "tags": []
   },
   "source": [
    "**According to our RFM analysis, most of the customers are segmented into hibernating group which is they are not visiting our store often and it passed pretty much time after their last visit. You can find detailed information about these segments in the references part of this notebook.**"
   ]
  },
  {
   "cell_type": "markdown",
   "metadata": {
    "papermill": {
     "duration": 0.069364,
     "end_time": "2022-02-17T21:27:38.181612",
     "exception": false,
     "start_time": "2022-02-17T21:27:38.112248",
     "status": "completed"
    },
    "tags": []
   },
   "source": [
    "# Relationship between Visit_Frequency and Recency\n"
   ]
  },
  {
   "cell_type": "code",
   "execution_count": 34,
   "metadata": {
    "_kg_hide-input": true,
    "execution": {
     "iopub.execute_input": "2022-02-17T21:27:38.343964Z",
     "iopub.status.busy": "2022-02-17T21:27:38.339643Z",
     "iopub.status.idle": "2022-02-17T21:27:38.465428Z",
     "shell.execute_reply": "2022-02-17T21:27:38.464732Z",
     "shell.execute_reply.started": "2022-02-17T21:24:12.506876Z"
    },
    "papermill": {
     "duration": 0.214237,
     "end_time": "2022-02-17T21:27:38.465583",
     "exception": false,
     "start_time": "2022-02-17T21:27:38.251346",
     "status": "completed"
    },
    "tags": []
   },
   "outputs": [
    {
     "data": {
      "text/html": [
       "<div>                            <div id=\"8f809f75-fde1-4e18-a02a-03e4bd0a37bc\" class=\"plotly-graph-div\" style=\"height:525px; width:100%;\"></div>            <script type=\"text/javascript\">                require([\"plotly\"], function(Plotly) {                    window.PLOTLYENV=window.PLOTLYENV || {};                                    if (document.getElementById(\"8f809f75-fde1-4e18-a02a-03e4bd0a37bc\")) {                    Plotly.newPlot(                        \"8f809f75-fde1-4e18-a02a-03e4bd0a37bc\",                        [{\"hovertemplate\":\"RF_Segment=champions<br>Visit_Frequency=%{x}<br>Recency=%{y}<extra></extra>\",\"legendgroup\":\"champions\",\"marker\":{\"color\":\"#636efa\",\"symbol\":\"circle\"},\"mode\":\"markers\",\"name\":\"champions\",\"showlegend\":true,\"type\":\"scattergl\",\"x\":[5,6,6,6,5,7,7,6,8,6,5,7,6,7,6,6,5,7,5,6,6,8,6,6,5,5,5,7,6,5,5,6,5,5,7,6,5,7,5,8,6,6,6,6,6,6,6,6,6,6,6,5,5,6,6,5,5,6,9,10,6,6,7,6,6,7,7,7,6,8,5,6,6,6,5,5,5,7,7,5,6,5,6,5,5,9,6,6,6,9,5,7,6,8,5,6,8,6,6,5,6,6,6,9,5,6,5,6,5,9,6,5,7,7,8,6,5,11,7,8,5,7,6,6,7,6,5,7,6,10,5,5,6,7,7,7,5,7,7,6,6,5,5,9,5,5,6,5,7,7,6,7,5,5,7,5,7,5,10,6,6,5,7,5,5,6,5,8,7,8,5,7,9,9,6,5,6,5,7,5,8,6,5,5,5,6,6,5,6,5,5,5,5,5,5,7,9,6,5,9,5,5,5,6,7,6,9,5,6,5,7,6,7,6,10,7,5,5,6,6,5,7,5,7,6,5,5,7,5,7,7,7,10,7,5,5,5,6,6,6,5,5,5,6,5,7,9,6,6,10,5,5,8,5,7,7,6,8,5,5,7,7,5,7,5,6,5,5,5,7,8,5,6,5,6,6,5,5,5,6,6,6,7,11,5,6,5,5,6,7,10,5,5,5,5,5,5,6,7,5,5,6,5,7,5,6,6,6,6,7,5,6,6,9,5,6,6,6,9,5,10,5,7,6,5,7,9,5,6,5,5,7,6,6,9,5,10,7,5,6,7,5,9,5,8,5,5,7,5,6,6,8,6,7,6,5,7,5,7,7,5,6,8,9,5,8,6,8,7,6,5,7,5,6,5,5,6,6,5,6,7,5,8,5,6,6,5,6,5,6],\"xaxis\":\"x\",\"y\":[35,16,20,21,2,19,40,27,31,5,25,21,40,19,31,38,14,1,1,41,16,15,33,20,21,37,42,22,37,3,32,42,31,14,23,31,39,11,34,20,34,13,32,1,44,35,40,40,39,38,16,0,30,0,32,34,0,16,41,28,37,13,33,41,15,31,13,30,43,38,4,15,40,10,45,41,23,9,10,24,40,12,43,31,26,33,40,43,45,25,42,17,15,39,24,2,7,10,41,10,14,36,33,11,32,24,36,33,41,36,27,10,34,2,8,6,12,40,33,11,35,10,32,15,23,13,37,21,28,38,28,11,17,38,18,3,45,29,2,1,9,22,38,18,28,44,42,36,7,7,34,34,43,16,28,14,14,28,42,33,35,14,16,23,38,36,32,28,24,24,15,4,41,23,2,30,3,23,21,27,22,0,44,1,1,28,37,36,10,27,7,2,41,18,35,26,11,44,35,22,0,23,12,31,3,42,15,2,30,33,22,13,44,7,7,44,33,14,37,17,27,40,35,37,33,40,2,18,30,12,4,41,4,1,21,5,31,31,29,1,1,31,45,3,20,6,45,6,38,39,7,42,42,36,22,45,23,28,0,0,5,13,16,13,39,34,18,2,1,17,40,26,12,30,7,20,8,28,13,23,13,19,31,18,38,7,13,42,42,18,37,38,6,10,41,41,25,26,37,0,42,16,44,43,8,13,24,2,32,24,25,32,32,4,24,22,36,25,3,14,12,39,11,9,18,35,5,16,21,13,20,20,5,24,6,45,38,13,32,10,7,44,31,32,4,12,7,14,11,31,9,4,10,7,30,42,15,14,33,31,31,27,1,5,43,29,19,42,2,28,14,6,15,22,36,6,3,28,10,45,26,10,25,13,40,36,42,36,10,4],\"yaxis\":\"y\"},{\"hovertemplate\":\"RF_Segment=at risk<br>Visit_Frequency=%{x}<br>Recency=%{y}<extra></extra>\",\"legendgroup\":\"at risk\",\"marker\":{\"color\":\"#EF553B\",\"symbol\":\"circle\"},\"mode\":\"markers\",\"name\":\"at risk\",\"showlegend\":true,\"type\":\"scattergl\",\"x\":[5,4,4,4,5,4,5,4,4,5,5,4,4,5,4,4,4,5,5,4,4,4,5,4,5,5,4,4,4,4,4,4,5,4,5,4,5,4,5,5,4,5,4,4,5,5,4,5,4,4,4,5,5,4,4,4,4,5,5,4,5,4,4,5,4,5,5,5,4,5,5,4,5,5,4,4,5,4,5,4,5,4,4,4,4,4,4,4,4,4,4,4,5,4,4,4,4,5,4,4,4,5,4,5,4,4,4,4,4,5,4,4,4,4,4,4,5,4,5,5,5,5,4,5,4,4,4,5,4,4,4,5,5,4,4,5,4,4,4,5,4,5,4,4,5,4,4,5,4,4,4,4,5,4,4,5,4,5,4,4,5,4,5,5,4,5,5,4,4,5,4,4,4,5,4,4,5,4,4,4,4,4,5,4,4,4,5,4,5,4,4,4,4,4,5,5,4,5,5,4,4,5,5,4,5,4,4,4,4,5,4,4,5,4,4,5,5,4,4,4,5,4,5,4,4,4,4,4,4,4,5,4,5,4,4,4,4,4,5,4,4,5,5,5,4,4,4,5,4,4,4,4,4,4,5,4,4,4,4,4,4,5,5,5,5,5,5,4,4,4,5,4,4,5,5,4,4,4,4,4,4,5,4,4,4,4,4,5,5,4,5,4,4,5,4,4,5,4,4,5,5,5,4,5,5,4,4,4,5,5,4,4,4,4,5,4,4,4,5,4,5,4,5,5,5,4,4,4,5,4,5,4,4,4,5,4,4,4,5,5,4,4,5,4,4,4,5,5,5,4,5,4,5,4,4,4,5,4,4,4,4,4,4,4,4,4,5,5,5,4,5,4,4,4,4,5,5,4,4,5,4,4,5,4,4,5,4,5,5,4,4,4,5,4,4,5,5,5,5,4,4,5,5,4,4,4,4,5,5,4,4,4,5,4,4,4,4,5,5,4,4,4,4,5,4,5,4,5,5,4,5,4,5,4],\"xaxis\":\"x\",\"y\":[260,199,273,221,216,227,198,329,235,235,210,186,388,209,236,342,237,374,279,345,380,200,249,219,205,239,248,414,222,366,437,210,373,382,191,291,360,345,221,244,353,210,444,228,300,346,266,250,217,323,229,335,191,356,205,298,308,223,273,190,357,285,242,195,293,313,322,190,306,288,198,262,439,350,190,448,378,280,209,322,411,443,485,302,353,194,191,280,257,186,508,213,235,276,228,456,502,218,217,379,339,205,489,242,320,487,419,307,319,227,268,539,223,195,262,252,202,308,376,258,188,243,221,290,414,222,216,208,303,238,229,190,340,229,263,243,213,281,229,505,589,373,214,295,234,232,406,391,211,427,230,347,351,298,335,243,411,304,291,223,341,228,201,361,359,185,392,395,329,303,320,481,296,192,446,380,430,346,574,298,191,212,322,278,292,449,336,200,303,282,285,193,362,194,321,199,248,382,188,309,212,317,191,334,340,381,279,382,200,463,467,270,210,262,225,195,389,380,435,255,393,573,208,330,333,236,291,431,185,318,240,346,191,326,331,218,305,185,312,288,191,360,238,276,351,185,303,230,261,280,194,327,246,258,452,229,236,281,264,331,274,388,253,395,305,197,326,367,324,301,254,334,234,246,257,195,396,192,442,382,378,267,295,247,197,333,214,267,225,499,186,207,306,292,388,192,366,304,198,336,279,380,296,263,259,284,560,278,200,198,365,225,287,247,218,301,366,540,320,243,222,298,346,294,410,275,244,215,247,222,199,276,466,202,195,326,297,461,470,246,273,201,256,188,197,268,189,317,249,199,201,243,287,291,235,192,234,294,285,412,186,476,254,337,226,264,333,311,219,428,212,320,198,305,199,265,257,256,560,186,387,343,229,227,389,230,415,447,381,274,369,307,188,404,375,222,207,381,401,321,204,360,267,318,410,311,376,246,267,217,470,372,293,321,238,303,359,229,328,432,338,361,400,307,377,269,204,263,276,366,218,336,373,193],\"yaxis\":\"y\"},{\"hovertemplate\":\"RF_Segment=need attention<br>Visit_Frequency=%{x}<br>Recency=%{y}<extra></extra>\",\"legendgroup\":\"need attention\",\"marker\":{\"color\":\"#00cc96\",\"symbol\":\"circle\"},\"mode\":\"markers\",\"name\":\"need attention\",\"showlegend\":true,\"type\":\"scattergl\",\"x\":[4,4,4,4,4,4,4,4,4,4,4,4,4,4,4,4,4,4,4,4,4,4,4,4,4,4,4,4,4,4,4,4,4,4,4,4,4,4,4,4,4,4,4,4,4,4,4,4,4,4,4,4,4,4,4,4,4,4,4,4,4,4,4,4,4,4,4,4,4,4,4,4,4,4,4,4,4,4,4,4,4,4,4,4,4,4,4,4,4,4,4,4,4,4,4,4,4,4,4,4,4,4,4,4,4,4,4,4,4,4,4,4,4,4,4,4,4,4,4,4,4,4,4,4,4,4,4,4,4,4,4,4,4,4,4,4,4,4,4,4,4,4,4,4,4,4,4,4,4,4,4,4,4,4],\"xaxis\":\"x\",\"y\":[122,132,146,153,103,164,128,161,152,127,109,141,106,143,152,140,175,163,111,135,106,182,169,131,140,134,138,140,112,152,162,114,110,116,147,128,173,178,172,117,179,149,175,148,119,118,106,148,140,173,181,134,144,143,145,164,155,184,168,122,139,124,133,156,107,135,148,132,178,182,179,130,122,150,112,104,120,113,106,146,184,122,136,118,162,117,153,183,158,149,135,121,110,166,160,163,139,144,163,139,123,154,114,174,156,118,143,150,106,119,153,133,169,145,126,184,120,157,175,105,182,126,157,122,124,183,126,155,131,127,153,177,137,174,158,146,108,117,125,104,164,135,107,148,125,131,116,104,145,118,162,143,156,133],\"yaxis\":\"y\"},{\"hovertemplate\":\"RF_Segment=potential loyalists<br>Visit_Frequency=%{x}<br>Recency=%{y}<extra></extra>\",\"legendgroup\":\"potential loyalists\",\"marker\":{\"color\":\"#ab63fa\",\"symbol\":\"circle\"},\"mode\":\"markers\",\"name\":\"potential loyalists\",\"showlegend\":true,\"type\":\"scattergl\",\"x\":[4,4,4,4,3,3,3,3,4,3,3,3,4,4,4,4,3,3,3,3,4,4,3,4,4,3,3,3,4,3,4,3,4,4,3,3,3,3,3,4,3,3,4,4,3,4,3,3,4,4,3,3,3,4,4,4,4,3,4,4,3,4,3,3,4,3,4,4,4,3,3,4,4,4,4,4,3,4,4,3,3,4,3,4,3,3,4,4,3,4,4,4,4,4,3,3,3,3,3,4,4,4,3,3,4,4,4,4,4,4,3,4,4,4,4,4,3,3,3,4,3,3,3,3,4,4,3,3,4,3,4,4,3,4,3,4,4,4,4,4,3,4,3,4,4,4,3,3,4,3,3,3,4,3,3,3,3,4,4,3,3,4,3,3,3,4,3,3,4,3,4,4,4,4,4,4,4,3,4,3,3,3,3,3,4,4,4,3,3,4,4,4,4,3,3,4,3,4,4,3,4,4,3,3,3,3,3,3,4,3,4,4,4,3,4,4,3,4,4,3,4,3,4,4,4,3,4,3,3,3,4,4,3,3,3,4,3,4,4,4,4,3,4,4,4,4,4,4,4,3,3,3,3,4,3,3,4,4,4,4,4,4,4,3,4,3,3,3,3,3,4,4,3,3,4,4,3,4,4,3,4,4,4,3,4,4,3,4,3,4,3,3,4,4,3,3,3,4,3,3,4,3,4,4,3,3,4,4,4,4,4,4,3,4,3,4,3,4,4,4,3,4,4,4,4,3,3,4,3,4,4,3,4,4,3,4,3,4,3,4,3,4,4,4,3,4,4,4,3,4,3,4,3,3,3,4,4,3,3,3,3,3,4,4,4,3,3,4,3,3,4,4,3,3,4,4,4,4,4,4,3,3,4,4,4,4,4,3,4,4,4,3,3,3,3,4,3,3,3,4,4,4,4,3,4,3,3,4,4,3,3,4,4,3,4,4,3,4,4,4,3,3,3,3,3,4,3,4,4,4,4,4,3,3,4,3,4,3,3,4,4,3,4,3,4,3,4,4,4,3,4,4,4,4,3,3,3,4,4,3,3,4,4,3,4,4,4,4,4,4,4,3,3,4,4,4,3,4,3,3,3,3,4,4,4,3,3,4,4,4,3,4,4,4,4,3,3,3,4,3,4,4,4,4,4,4,4,3,3,4,4,3,4,4,3,4,4,4,3,3,4,4,3,3,3,4,3,3,4,3,4,3,3,3,4,3,4,4,3,3,3,4,4,4,3,4,3,3,4,4,4,4,4,4,3,3,3,4,3,3,4,4,4,3,3,3,4,3,3,4,4,3,4,3,3,3,4,3,4,4,4,3,3,3,3,3,4,4,3,4,3,4,3,3,4,4,3,4,4,3,3,4,3,3,4,3,4,3,4,4,3,4,4,4,4,4,3,4,3,3,3],\"xaxis\":\"x\",\"y\":[89,98,41,91,78,69,76,14,34,28,90,35,70,80,41,24,30,70,61,27,64,40,9,19,76,99,84,3,74,16,1,58,69,45,44,24,18,93,33,39,95,46,30,40,57,22,58,99,65,92,40,28,90,72,84,31,73,88,61,17,87,1,55,86,88,92,44,97,69,9,6,13,28,32,81,63,25,45,101,19,48,84,30,34,74,55,68,56,78,49,49,89,62,28,8,56,35,81,10,40,61,49,31,38,50,46,3,96,20,2,57,5,18,47,98,7,95,3,57,74,63,95,89,60,94,25,27,12,82,33,39,23,38,33,58,57,53,65,58,94,102,89,96,5,59,97,31,70,88,44,75,69,90,16,34,76,57,86,99,70,50,11,41,50,7,14,100,15,3,99,22,77,10,37,72,10,71,52,63,42,54,95,0,28,19,62,73,35,89,50,32,66,84,57,74,31,12,27,87,17,73,56,61,29,96,101,59,83,57,39,14,29,2,80,102,6,93,27,1,31,13,15,66,55,74,52,32,88,39,94,26,60,25,52,99,12,4,81,29,63,8,12,85,30,3,0,3,92,15,16,72,77,36,5,70,68,1,25,93,48,66,38,102,70,16,81,60,94,19,49,32,38,4,101,97,79,82,32,52,52,59,45,100,44,80,51,81,37,14,12,63,0,67,82,8,38,11,4,80,60,16,98,79,10,102,27,24,20,2,10,36,56,24,30,4,41,62,58,55,73,8,93,4,44,55,3,101,24,93,45,72,23,32,31,5,89,76,88,6,91,1,22,5,44,96,24,39,58,46,34,7,8,2,101,40,72,54,3,95,65,66,30,6,19,21,55,46,19,86,17,57,23,93,68,48,68,25,66,68,33,31,42,36,97,46,20,16,9,99,99,56,17,17,92,49,30,38,32,86,91,102,35,52,25,15,55,17,10,20,8,3,18,21,57,33,89,50,22,36,77,68,44,18,10,55,80,34,32,33,0,39,78,93,24,94,33,13,98,97,20,34,68,12,84,77,16,77,74,86,42,59,17,82,56,31,55,66,12,86,62,95,61,90,64,6,20,7,12,7,45,50,73,47,29,1,3,75,8,0,48,89,75,41,76,82,101,71,92,98,91,1,45,28,68,19,52,56,2,8,15,1,75,59,75,3,11,35,18,87,44,55,77,1,21,65,10,2,77,82,65,1,39,81,54,97,20,22,91,99,48,20,50,75,23,38,73,79,89,30,33,41,62,38,86,31,32,68,74,90,72,25,79,47,28,28,68,15,35,57,6,44,75,87,96,84,50,60,76,13,51,98,20,64,66,37,24,39,23,84,45,100,41,58,29,63,94,92,66,38,64,39,36,59,59,32,33,88,11,13,20,77,86,45,100,20,7,83,67,27,91,35,26,60,37,81,85,47,4,16,36,89],\"yaxis\":\"y\"},{\"hovertemplate\":\"RF_Segment=can't loose<br>Visit_Frequency=%{x}<br>Recency=%{y}<extra></extra>\",\"legendgroup\":\"can't loose\",\"marker\":{\"color\":\"#FFA15A\",\"symbol\":\"circle\"},\"mode\":\"markers\",\"name\":\"can't loose\",\"showlegend\":true,\"type\":\"scattergl\",\"x\":[8,8,6,6,8,9,7,8,6,6,9,8,6,7,6,7,7,6,6,7,7,6,8,6,6,7,9,8,6,7,6,6,6,6,6,6,6,7,6,7,6,6,6,6,6,8,7,7,8,7,6,7,8,6,7,6,6,8,6,7,6,7,6,6,6,7,10,6,6,6,6,6,6,8,6,6,6,6,7,6,7,6,7,6,6,7,6,7,6,6,7,6,6,6,6,6,6,7,6,9,7,6,8,7,6,9,7,7,6,8,6,6,6,9,9,6],\"xaxis\":\"x\",\"y\":[321,323,185,269,208,380,224,215,224,201,255,186,222,371,202,325,188,264,223,404,218,259,363,402,201,433,226,190,342,271,203,196,210,319,326,276,228,204,258,227,186,213,251,214,241,249,213,222,186,215,211,262,211,256,376,207,239,185,226,427,185,253,246,219,300,351,194,224,244,232,331,185,431,269,340,196,234,226,192,208,189,210,303,210,200,188,203,194,191,376,229,266,353,202,214,349,315,398,201,207,245,279,217,207,224,205,240,190,186,198,198,411,193,306,319,211],\"yaxis\":\"y\"},{\"hovertemplate\":\"RF_Segment=hibernating<br>Visit_Frequency=%{x}<br>Recency=%{y}<extra></extra>\",\"legendgroup\":\"hibernating\",\"marker\":{\"color\":\"#19d3f3\",\"symbol\":\"circle\"},\"mode\":\"markers\",\"name\":\"hibernating\",\"showlegend\":true,\"type\":\"scattergl\",\"x\":[2,3,1,3,1,3,1,1,2,2,3,2,2,3,2,2,1,2,2,3,1,1,1,3,2,1,1,1,2,3,3,3,2,3,3,2,3,2,2,2,2,2,2,2,2,3,3,2,3,3,3,3,2,1,2,1,1,3,3,1,3,1,3,2,2,1,2,2,1,2,2,2,2,2,2,1,1,3,1,2,3,2,2,3,1,3,2,1,3,3,2,3,3,3,2,2,2,2,1,1,2,2,3,3,3,3,3,2,3,3,3,3,3,2,2,1,2,1,2,2,3,1,2,3,2,1,3,1,3,3,1,2,2,2,1,3,2,1,1,2,2,2,2,1,2,2,2,1,3,2,3,2,3,2,2,2,3,2,3,3,3,3,3,1,1,1,2,1,2,1,2,2,3,2,2,3,1,1,2,2,1,3,3,2,2,3,1,2,2,1,2,2,2,2,3,3,2,1,3,2,3,3,2,2,1,1,3,2,3,2,2,3,2,3,2,2,1,3,2,3,3,2,2,3,3,3,2,3,2,2,2,1,3,1,3,2,2,3,3,2,2,3,1,1,2,2,1,3,2,3,1,2,1,2,3,3,1,2,2,2,2,1,3,3,2,2,3,2,2,3,3,3,2,3,2,3,3,1,3,2,2,2,3,2,1,2,1,2,2,3,2,2,2,3,2,3,3,1,2,3,3,1,1,2,1,1,1,3,3,2,3,1,2,3,3,1,2,3,3,2,1,1,1,1,3,1,2,2,2,2,2,2,2,2,2,2,2,3,3,2,3,2,1,3,2,1,2,1,3,2,2,3,3,2,1,3,1,2,3,2,3,2,1,3,2,1,3,2,2,2,3,2,1,3,1,3,3,3,3,2,3,3,3,1,1,1,2,2,2,2,3,1,2,3,2,3,1,2,3,2,2,1,3,1,2,2,1,3,3,2,2,2,2,3,2,2,1,2,3,3,3,2,2,3,2,1,1,1,2,2,2,1,1,2,2,3,1,3,3,1,2,1,2,1,3,1,3,2,1,2,1,1,1,2,2,1,3,3,1,2,3,2,2,2,1,2,1,2,1,3,3,3,2,2,2,3,2,2,1,2,3,3,3,2,1,3,2,2,2,3,3,2,2,3,2,1,2,2,3,1,3,2,2,3,3,2,3,2,3,2,1,1,2,2,2,3,2,3,3,2,2,2,1,3,3,1,2,2,1,3,1,2,2,1,3,3,2,1,2,2,1,3,1,3,3,3,1,2,2,3,1,3,2,1,3,2,1,2,3,3,2,3,1,1,1,2,1,2,2,3,1,2,2,2,3,1,2,3,2,3,3,1,2,1,3,3,3,3,1,3,2,2,2,1,1,3,2,2,1,2,1,1,3,1,1,2,2,3,3,3,3,3,2,1,2,2,3,1,3,3,1,2,1,2,3,1,2,2,2,2,3,3,1,1,3,3,1,2,2,3,3,1,1,3,3,2,3,1,3,1,2,3,1,2,3,2,2,1,1,1,2,2,3,2,1,1,2,1,1,1,2,3,2,3,3,2,1,2,3,3,3,2,2,1,1,2,3,2,3,3,1,2,2,2,2,3,1,2,3,3,2,2,1,1,1,1,3,1,2,1,3,1,2,3,3,2,2,1,1,1,2,2,3,3,1,3,1,2,3,2,1,3,2,1,2,3,2,2,3,3,3,2,1,2,3,2,1,1,1,3,1,2,2,1,3,2,2,2,3,1,1,2,1,1,1,3,1,1,3,2,3,1,1,3,1,2,3,3,2,2,1,2,1,1,3,1,3,3,2,2,3,3,3,2,3,2,1,2,3,2,3,2,1,3,3,3,1,2,1,3,2,1,2,1,2,1,2,3,1,1,2,3,3,2,2,1,2,3,2,3,3,3,1,3,2,2,2,3,2,3,1,3,3,3,3,2,3,3,3,2,3,2,2,2,2,2,2,2,3,3,2,3,3,2,1,3,1,3,1,2,2,2,1,2,2,3,2,2,3,1,1,1,2,1,1,2,3,3,3,2,3,3,2,2,3,2,2,3,3,2,2,3,1,1,3,2,2,2,3,2,1,1,1,3,1,2,2,3,2,3,3,3,3,3,3,3,3,3,1,1,3,2,2,3,2,1,1,2,2,3,1,3,3,1,3,2,2,1,3,3,1,1,1,1,3,3,1,2,3,3,3,3,2,3,3,3,3,2,1,3,2,1,2,3,3,1,2,3,3,3,1,2,1,1,3,2,1,2,3,3,3,3,1,2,3,1,2,1,3,1,1,3,3,3,2],\"xaxis\":\"x\",\"y\":[485,269,444,542,291,596,709,213,189,219,511,419,341,389,357,452,460,230,596,211,621,597,277,367,222,220,272,655,494,227,420,309,187,409,209,629,199,291,275,664,317,416,493,197,632,231,333,401,291,229,346,315,663,410,466,512,310,285,343,361,260,516,400,511,415,507,193,255,460,470,478,479,223,388,420,490,594,249,521,269,449,552,458,299,630,220,403,600,279,522,261,244,218,281,417,265,661,307,667,580,203,236,515,185,188,211,310,578,301,315,330,254,491,220,259,415,215,442,305,313,381,220,367,548,443,464,397,361,626,543,603,286,337,404,287,189,462,489,419,496,268,482,264,613,370,283,336,428,307,369,277,431,196,415,345,193,243,362,304,256,634,287,230,485,278,578,266,209,295,593,422,483,483,285,220,343,289,563,422,424,397,341,330,385,218,270,315,222,514,458,246,535,599,551,390,360,259,513,444,571,304,391,467,521,272,227,312,252,223,391,325,417,232,429,570,213,648,273,633,307,341,343,343,282,373,207,242,601,301,206,429,717,223,376,281,348,367,310,188,249,522,651,381,197,321,602,414,256,327,268,664,229,435,441,532,205,716,333,298,266,327,300,210,356,276,527,412,411,476,265,490,255,185,344,253,342,543,339,354,436,343,572,202,617,572,188,612,339,614,193,381,356,462,194,330,468,498,258,377,190,366,571,448,692,186,492,345,321,257,214,213,288,215,437,562,326,225,346,400,346,280,389,361,700,389,357,447,315,348,683,368,311,507,668,376,337,579,212,239,497,315,296,495,216,258,259,332,422,257,408,190,204,547,292,633,233,659,393,458,313,344,313,674,458,273,655,382,264,292,357,268,673,708,226,570,201,322,201,509,485,372,386,429,333,526,217,292,370,279,444,443,550,487,338,405,366,188,580,371,459,478,686,318,252,468,446,252,360,588,416,243,223,416,597,261,197,717,245,590,379,309,375,541,340,316,290,697,552,412,244,608,275,358,369,326,225,694,191,328,337,363,579,595,274,280,404,239,489,401,439,630,727,223,354,408,493,392,230,623,565,194,575,383,347,344,248,326,405,291,337,450,290,267,519,582,398,422,434,602,209,188,297,362,645,273,238,582,542,399,211,337,223,327,247,215,623,388,315,257,495,512,686,479,352,186,372,213,238,461,310,415,243,242,267,532,237,332,367,194,347,261,355,683,368,244,292,265,444,391,420,645,525,599,686,522,315,658,611,220,546,704,417,464,325,449,333,207,366,199,293,439,361,438,284,201,239,726,256,376,285,419,266,570,338,350,274,430,576,363,221,697,373,193,320,531,229,192,425,396,399,248,215,325,249,222,339,189,328,504,391,244,333,311,600,279,388,586,523,578,376,671,673,212,547,488,343,426,412,393,313,271,623,233,338,217,292,306,521,380,289,517,270,278,513,244,460,475,187,545,474,264,211,531,329,518,267,332,382,319,560,218,495,635,361,241,652,377,442,186,624,264,448,594,228,220,259,429,240,414,676,470,320,419,526,390,439,419,571,721,386,419,230,207,309,323,302,327,317,214,216,541,223,605,255,408,187,296,542,216,602,291,466,218,586,235,205,590,309,227,363,367,332,351,374,672,674,199,317,280,518,347,207,265,445,468,346,451,444,702,612,591,201,473,360,267,286,278,239,356,284,529,295,234,462,372,564,395,197,212,264,337,280,543,388,326,551,445,666,304,264,360,422,241,687,194,306,258,303,438,593,663,391,315,686,187,192,596,489,228,253,425,343,429,207,343,210,356,206,336,253,283,208,645,398,300,502,264,307,508,337,252,359,438,420,678,545,322,273,204,463,299,438,335,239,198,210,539,348,497,269,287,555,311,668,519,589,464,200,697,476,431,481,360,376,589,702,190,419,205,548,270,319,602,306,555,248,643,478,248,433,357,405,393,208,336,348,352,310,357,313,393,467,310,269,354,664,344,476,446,314,349,341,308,437,673,437,359,275,402,296,649,366,415,301,318,262,389,417,379,708,468,341,263,531,430,294,423,226,223,441,232,346,346,200,240,298,567,240,263,301,310,460,586,498,200,616,244,427,401,197,642,549,673,229,403,293,316,192,475,472,621,218,362,233,444,578,349,227,244,436,483,336,361,222,399,270,658,627,313,237,292,594,369,641,395,637,266,448,365,266,705,559,294,247,333,231,310,428,227,372,304,318,408,211,548,247,312,416,699,384,320,303,634,319,258,566,253,224,356,579,337,312,405,504,329,290,325,586,252,435,405,590,687,339,227,581,530,711,250,492,356,382,248,194,654],\"yaxis\":\"y\"},{\"hovertemplate\":\"RF_Segment=about to sleep<br>Visit_Frequency=%{x}<br>Recency=%{y}<extra></extra>\",\"legendgroup\":\"about to sleep\",\"marker\":{\"color\":\"#FF6692\",\"symbol\":\"circle\"},\"mode\":\"markers\",\"name\":\"about to sleep\",\"showlegend\":true,\"type\":\"scattergl\",\"x\":[2,3,3,3,3,3,3,2,3,1,3,1,3,2,1,3,2,2,3,3,3,3,3,3,3,2,3,3,2,1,3,3,2,3,3,3,2,2,1,3,1,2,2,3,3,3,3,3,3,3,3,3,2,2,3,1,3,2,3,2,3,2,3,3,3,2,3,3,3,3,3,2,2,2,3,2,2,2,3,2,2,2,1,1,3,3,2,1,3,3,2,2,3,2,3,2,2,2,3,2,2,3,3,2,3,2,3,3,2,1,2,2,2,3,3,3,2,2,3,3,3,3,3,1,3,3,2,2,3,1,2,2,2,2,3,1,2,3,3,3,2,3,3,3,2,3,2,3,3,3,3,3,3,1,3,2,3,3,3,1,2,1,2,3,1,3,2,2,2,2,3,1,2,3,3,2,1,2,3,2,2,3,1,1,3,3,1,2,3,3,2,3,1,3,2,2,3,3,3,3,3,3,3,2,2,3,3,3,3,2,2,2,3,3,3,3,3,1,2,2,3,3,2,2,2,2,3,2,2,3,3,2,2,3,3,3,2,2,3,3,3,2,3,2,2,3,3,2,2,2,3,2,3,3,3,3,3,3,3,1,2,3,2,3,2,3,3,3,3,3,3,3,2,3,2,1,1,3,2,2,3,1,3,3,3,2,2,2,3,2,2,1,3,2,3,2,2,3,1,2,2,2,2,2,3,3,3,2,2,3,3,2,3,2,1,3,2,1,2,2,3,3,3,3,3,2,3,1,3,3,1,3,2,3,1],\"xaxis\":\"x\",\"y\":[162,109,133,113,108,158,148,112,137,155,139,117,173,104,108,120,144,120,107,160,156,182,135,126,110,177,162,147,104,168,183,152,161,160,155,111,181,137,139,128,165,180,132,125,120,172,139,145,137,144,109,146,138,113,157,133,173,132,161,115,110,165,137,118,137,104,115,120,143,157,128,154,106,164,130,175,134,119,104,137,105,121,118,120,146,103,143,112,124,145,129,140,122,137,121,155,131,157,131,137,119,154,136,123,172,165,166,136,180,153,182,177,123,162,146,134,168,160,140,122,151,130,151,184,103,152,129,151,139,119,114,133,175,112,181,150,152,151,172,156,178,167,166,148,126,166,134,111,182,108,161,107,143,156,133,168,126,115,171,138,154,146,131,144,138,144,169,183,146,164,167,110,169,125,155,174,134,137,156,117,140,130,117,177,157,132,158,119,175,145,147,175,136,145,109,173,170,108,116,155,148,182,184,157,158,140,141,146,118,125,133,171,132,136,130,179,161,114,156,123,134,159,114,162,178,159,142,166,103,126,130,145,130,140,141,150,124,178,162,176,174,133,152,179,163,151,109,118,160,105,105,112,121,152,145,147,178,116,156,138,126,142,175,129,147,132,132,109,138,150,142,158,106,123,180,139,143,146,161,161,129,162,131,153,132,137,177,137,184,171,163,106,118,155,156,130,175,170,126,109,172,125,179,127,169,174,134,141,122,148,137,167,137,163,153,132,137,152,168,155,108,131,155,120,157,140,182,134,131,155,134,144,132,182,150],\"yaxis\":\"y\"},{\"hovertemplate\":\"RF_Segment=loyal customers<br>Visit_Frequency=%{x}<br>Recency=%{y}<extra></extra>\",\"legendgroup\":\"loyal customers\",\"marker\":{\"color\":\"#B6E880\",\"symbol\":\"circle\"},\"mode\":\"markers\",\"name\":\"loyal customers\",\"showlegend\":true,\"type\":\"scattergl\",\"x\":[5,5,5,5,5,10,6,5,6,5,9,5,8,6,6,9,7,6,6,5,5,6,8,7,6,7,6,7,7,7,5,7,10,5,6,7,5,5,5,6,8,6,5,6,5,5,11,6,6,10,6,5,5,7,5,6,6,7,6,6,5,6,5,6,5,6,7,5,6,6,6,7,7,7,5,7,5,7,5,6,7,6,5,6,6,7,6,9,6,5,6,6,5,6,6,5,6,5,5,5,7,5,7,6,5,7,6,6,5,10,6,7,5,5,5,9,5,6,6,7,8,5,7,6,8,5,9,10,5,5,5,7,9,7,6,5,5,5,6,6,6,5,6,5,5,7,9,7,5,7,5,7,6,5,6,7,5,7,8,7,5,5,5,6,7,6,5,7,5,6,6,7,5,5,5,5,6,5,8,11,5,5,6,5,5,5,5,6,6,6,5,6,6,6,6,5,9,8,5,6,6,5,6,7,5,5,7,5,5,5,5,6,5,5,7,7,7,6,5,5,9,7,6,6,5,5,7,5,8,5,10,6,5,7,6,7,5,5,6,7,6,6,6,5,9,5,5,5,5,9,5,5,7,5,5,5,5,6,7,5,7,7,7,6,6,6,5,6,5,6,5,6,7,8,7,5,9,8,8,5,6,5,5,5,5,8,5,7,7,6,8,6,5,5,5,6,5,6,5,5,5,6,5,5,5,7,6,7,5,6,10,5,9,6,5,9,8,6,6,5,6,5,10,5,5,5,6,5,9,5,8,5,6,7,7,6,5,5,9,7,6,5,5,5,6,9,5,6,6,5,5,6,9,7,5,6,5,5,5,9,5,7,5,7,5,6,7,8,6,7,5,7,5,6,5,7,7,6,6,5,7,5,6,10,6,5,7,6,5,6,8,5,6,5,5,5,5,6,5,6,5,8,5,6,7,5,6,6,7,5,6,8,6,5,7,8,5,6,9,5,7,5,6,7,8,5,6,5,5,5,5,6,6,10,5,5,6,5,7,8,7,5,5,5,6,6,6,7,5,6,7,8,6,6,6,6,5,6,6,6,5,7,7,6,6,5,7,6,8,5,7,6,8,6,6,5,6,6,5,6,7,6,5,6,5,5,5,6,5,7,5,6,6,5,5,5,6,7,7,6,8,6,7,6,6,8,6,5,5,5,6,6,11,5,6,8,5,5,5,6,6,6,5,8,5,8,6,7,5,6,5,6,7,6,6,9,5,7,5,5,7,6,5,6,6,6,5,5,5,5,5,5,6,5,5,6,7,5,6,5,7,6,8,7,9,6,5,7,9,5,6,5,7,5,6,5,6,6,6,5,7,5,7,7,5,7,5,5,5,7,6,6,5,7,6,7,6,5,5,8,5,10,5,5,5,5,7,5,6,7,5,7,5,5,5,5,5],\"xaxis\":\"x\",\"y\":[152,91,53,129,143,64,114,103,47,75,138,111,143,96,54,62,76,94,65,58,85,135,54,56,88,64,139,117,121,97,123,92,56,68,82,47,162,124,143,119,113,99,182,119,102,77,170,131,154,141,130,103,179,131,145,121,120,110,111,58,154,126,180,92,110,149,66,59,175,52,162,158,100,175,57,56,78,123,91,47,127,140,132,119,102,124,171,93,141,109,131,147,82,125,146,123,116,77,149,150,131,104,113,67,175,53,81,176,54,69,137,98,122,131,179,178,111,47,73,141,112,76,110,87,119,67,73,85,61,134,154,49,99,84,111,74,61,91,140,127,56,49,64,58,76,113,69,112,131,68,127,46,161,145,173,97,180,136,46,141,177,89,164,118,60,78,86,173,58,52,125,53,164,92,160,70,155,144,55,91,59,111,93,94,163,96,63,118,74,66,101,142,56,49,52,87,86,136,111,183,86,104,48,166,159,121,98,117,54,146,109,47,131,76,67,112,126,131,64,92,146,80,115,80,153,101,55,138,145,161,70,113,74,128,163,99,128,178,96,137,69,48,56,107,98,141,84,171,140,70,137,164,71,111,116,51,134,151,82,87,97,56,83,148,122,59,152,59,47,116,74,58,55,50,111,102,105,112,120,66,168,61,145,147,155,48,50,48,152,95,173,81,52,67,59,95,139,138,138,131,49,115,178,59,84,92,79,117,146,121,87,74,94,78,165,60,128,58,142,87,91,69,72,175,147,48,52,77,184,55,125,130,151,66,170,87,135,150,68,63,50,128,85,86,138,161,107,66,49,135,46,172,56,62,98,86,127,82,139,153,86,127,178,54,162,50,137,48,65,110,126,108,123,50,88,54,92,48,147,147,98,146,120,82,94,179,117,59,101,75,92,85,139,73,122,93,65,126,110,131,53,95,132,80,173,64,165,80,149,55,63,175,83,134,55,47,96,91,73,166,55,155,164,104,118,176,59,155,179,72,129,119,129,51,108,124,132,149,152,80,70,101,104,59,146,85,101,92,68,124,90,124,57,55,46,68,127,128,139,52,48,112,99,156,119,117,156,97,89,53,47,49,63,86,55,114,65,77,179,115,163,166,63,130,60,108,137,131,48,51,152,58,91,51,73,47,109,65,91,151,64,138,149,159,179,59,65,48,46,56,148,81,50,56,53,89,110,101,96,100,56,110,161,129,144,70,68,84,58,62,147,173,59,63,55,128,73,75,71,182,153,110,114,145,88,82,62,62,66,93,141,84,140,148,67,136,145,91,152,137,86,72,168,80,98,125,147,134,78,51,150,87,96,63,73,128,141,103,61,101,60,128,67,102,136,69,108,51,85,119,148,93,101,160,89,50,63,47,140,131,104,46,62,90,107,120,103,98,54,87,77,69,53,183,98,147,119],\"yaxis\":\"y\"},{\"hovertemplate\":\"RF_Segment=promising<br>Visit_Frequency=%{x}<br>Recency=%{y}<extra></extra>\",\"legendgroup\":\"promising\",\"marker\":{\"color\":\"#FF97FF\",\"symbol\":\"circle\"},\"mode\":\"markers\",\"name\":\"promising\",\"showlegend\":true,\"type\":\"scattergl\",\"x\":[1,2,2,2,2,2,1,2,2,2,2,2,1,2,2,2,2,1,2,2,2,1,1,2,2,2,2,2,1,2,1,2,1,2,2,2,2,1,1,2,2,2,2,2,2,1,1,2,1,2,2,2,2,1,2,2,2,1,2,2,2,2,1,2,2,2,2,2,2,1,2,1,2,2,1,2,1,2,2,1,2,2,2,2,2,2,2,2,2,1,2,2,2,2,2,2,2,2,2,2,1,2,2,2,2,1,1,2,2,1,2,2,2,1,2,2,2,2,2,1],\"xaxis\":\"x\",\"y\":[83,66,73,68,63,95,77,90,97,55,67,95,50,60,64,94,70,80,61,76,93,50,77,86,82,48,90,92,67,95,77,60,71,99,47,75,92,57,89,52,50,89,76,91,59,64,55,86,49,75,52,46,65,49,54,51,75,59,77,83,56,102,81,50,87,60,58,87,69,74,51,77,89,53,83,91,91,77,73,85,98,53,51,79,95,98,67,76,65,102,91,76,84,89,89,86,56,83,97,55,66,51,59,58,47,74,52,78,58,102,51,78,60,75,65,72,50,53,90,77],\"yaxis\":\"y\"},{\"hovertemplate\":\"RF_Segment=new customers<br>Visit_Frequency=%{x}<br>Recency=%{y}<extra></extra>\",\"legendgroup\":\"new customers\",\"marker\":{\"color\":\"#FECB52\",\"symbol\":\"circle\"},\"mode\":\"markers\",\"name\":\"new customers\",\"showlegend\":true,\"type\":\"scattergl\",\"x\":[2,2,2,1,1,2,2,1,2,2,2,2,1,2,2,2,1,1,2,2,2,1,2,1,2,2,2,2,2,2,2,1,2,2,2,2,2,2,1,2,2,2,2,2,1,2,1,2,1,2,2,2,2,2,2,2,1,2,1,2,2,1,1,2,2,2,2,2,2,1,2,2,2,2,2,2,2,2,2,1,2,2,1,1,2,2,2,2,2,2,1,1,2,1,2,1,2,2,2,1,2,2,1,2,2,2],\"xaxis\":\"x\",\"y\":[18,19,19,34,5,5,20,9,2,23,27,24,29,0,22,37,0,29,37,37,25,29,18,43,14,15,22,3,36,35,45,22,2,7,42,32,21,12,10,45,0,6,11,6,36,0,6,28,33,26,23,7,29,43,15,6,9,15,9,26,14,13,31,43,16,36,14,31,26,28,25,17,23,37,19,5,1,25,19,6,16,34,19,43,4,36,9,43,36,24,7,7,37,7,21,0,31,12,28,3,0,7,35,27,30,3],\"yaxis\":\"y\"}],                        {\"legend\":{\"title\":{\"text\":\"RF_Segment\"},\"tracegroupgap\":0},\"margin\":{\"t\":60},\"template\":{\"data\":{\"bar\":[{\"error_x\":{\"color\":\"#2a3f5f\"},\"error_y\":{\"color\":\"#2a3f5f\"},\"marker\":{\"line\":{\"color\":\"#E5ECF6\",\"width\":0.5},\"pattern\":{\"fillmode\":\"overlay\",\"size\":10,\"solidity\":0.2}},\"type\":\"bar\"}],\"barpolar\":[{\"marker\":{\"line\":{\"color\":\"#E5ECF6\",\"width\":0.5},\"pattern\":{\"fillmode\":\"overlay\",\"size\":10,\"solidity\":0.2}},\"type\":\"barpolar\"}],\"carpet\":[{\"aaxis\":{\"endlinecolor\":\"#2a3f5f\",\"gridcolor\":\"white\",\"linecolor\":\"white\",\"minorgridcolor\":\"white\",\"startlinecolor\":\"#2a3f5f\"},\"baxis\":{\"endlinecolor\":\"#2a3f5f\",\"gridcolor\":\"white\",\"linecolor\":\"white\",\"minorgridcolor\":\"white\",\"startlinecolor\":\"#2a3f5f\"},\"type\":\"carpet\"}],\"choropleth\":[{\"colorbar\":{\"outlinewidth\":0,\"ticks\":\"\"},\"type\":\"choropleth\"}],\"contour\":[{\"colorbar\":{\"outlinewidth\":0,\"ticks\":\"\"},\"colorscale\":[[0.0,\"#0d0887\"],[0.1111111111111111,\"#46039f\"],[0.2222222222222222,\"#7201a8\"],[0.3333333333333333,\"#9c179e\"],[0.4444444444444444,\"#bd3786\"],[0.5555555555555556,\"#d8576b\"],[0.6666666666666666,\"#ed7953\"],[0.7777777777777778,\"#fb9f3a\"],[0.8888888888888888,\"#fdca26\"],[1.0,\"#f0f921\"]],\"type\":\"contour\"}],\"contourcarpet\":[{\"colorbar\":{\"outlinewidth\":0,\"ticks\":\"\"},\"type\":\"contourcarpet\"}],\"heatmap\":[{\"colorbar\":{\"outlinewidth\":0,\"ticks\":\"\"},\"colorscale\":[[0.0,\"#0d0887\"],[0.1111111111111111,\"#46039f\"],[0.2222222222222222,\"#7201a8\"],[0.3333333333333333,\"#9c179e\"],[0.4444444444444444,\"#bd3786\"],[0.5555555555555556,\"#d8576b\"],[0.6666666666666666,\"#ed7953\"],[0.7777777777777778,\"#fb9f3a\"],[0.8888888888888888,\"#fdca26\"],[1.0,\"#f0f921\"]],\"type\":\"heatmap\"}],\"heatmapgl\":[{\"colorbar\":{\"outlinewidth\":0,\"ticks\":\"\"},\"colorscale\":[[0.0,\"#0d0887\"],[0.1111111111111111,\"#46039f\"],[0.2222222222222222,\"#7201a8\"],[0.3333333333333333,\"#9c179e\"],[0.4444444444444444,\"#bd3786\"],[0.5555555555555556,\"#d8576b\"],[0.6666666666666666,\"#ed7953\"],[0.7777777777777778,\"#fb9f3a\"],[0.8888888888888888,\"#fdca26\"],[1.0,\"#f0f921\"]],\"type\":\"heatmapgl\"}],\"histogram\":[{\"marker\":{\"pattern\":{\"fillmode\":\"overlay\",\"size\":10,\"solidity\":0.2}},\"type\":\"histogram\"}],\"histogram2d\":[{\"colorbar\":{\"outlinewidth\":0,\"ticks\":\"\"},\"colorscale\":[[0.0,\"#0d0887\"],[0.1111111111111111,\"#46039f\"],[0.2222222222222222,\"#7201a8\"],[0.3333333333333333,\"#9c179e\"],[0.4444444444444444,\"#bd3786\"],[0.5555555555555556,\"#d8576b\"],[0.6666666666666666,\"#ed7953\"],[0.7777777777777778,\"#fb9f3a\"],[0.8888888888888888,\"#fdca26\"],[1.0,\"#f0f921\"]],\"type\":\"histogram2d\"}],\"histogram2dcontour\":[{\"colorbar\":{\"outlinewidth\":0,\"ticks\":\"\"},\"colorscale\":[[0.0,\"#0d0887\"],[0.1111111111111111,\"#46039f\"],[0.2222222222222222,\"#7201a8\"],[0.3333333333333333,\"#9c179e\"],[0.4444444444444444,\"#bd3786\"],[0.5555555555555556,\"#d8576b\"],[0.6666666666666666,\"#ed7953\"],[0.7777777777777778,\"#fb9f3a\"],[0.8888888888888888,\"#fdca26\"],[1.0,\"#f0f921\"]],\"type\":\"histogram2dcontour\"}],\"mesh3d\":[{\"colorbar\":{\"outlinewidth\":0,\"ticks\":\"\"},\"type\":\"mesh3d\"}],\"parcoords\":[{\"line\":{\"colorbar\":{\"outlinewidth\":0,\"ticks\":\"\"}},\"type\":\"parcoords\"}],\"pie\":[{\"automargin\":true,\"type\":\"pie\"}],\"scatter\":[{\"marker\":{\"colorbar\":{\"outlinewidth\":0,\"ticks\":\"\"}},\"type\":\"scatter\"}],\"scatter3d\":[{\"line\":{\"colorbar\":{\"outlinewidth\":0,\"ticks\":\"\"}},\"marker\":{\"colorbar\":{\"outlinewidth\":0,\"ticks\":\"\"}},\"type\":\"scatter3d\"}],\"scattercarpet\":[{\"marker\":{\"colorbar\":{\"outlinewidth\":0,\"ticks\":\"\"}},\"type\":\"scattercarpet\"}],\"scattergeo\":[{\"marker\":{\"colorbar\":{\"outlinewidth\":0,\"ticks\":\"\"}},\"type\":\"scattergeo\"}],\"scattergl\":[{\"marker\":{\"colorbar\":{\"outlinewidth\":0,\"ticks\":\"\"}},\"type\":\"scattergl\"}],\"scattermapbox\":[{\"marker\":{\"colorbar\":{\"outlinewidth\":0,\"ticks\":\"\"}},\"type\":\"scattermapbox\"}],\"scatterpolar\":[{\"marker\":{\"colorbar\":{\"outlinewidth\":0,\"ticks\":\"\"}},\"type\":\"scatterpolar\"}],\"scatterpolargl\":[{\"marker\":{\"colorbar\":{\"outlinewidth\":0,\"ticks\":\"\"}},\"type\":\"scatterpolargl\"}],\"scatterternary\":[{\"marker\":{\"colorbar\":{\"outlinewidth\":0,\"ticks\":\"\"}},\"type\":\"scatterternary\"}],\"surface\":[{\"colorbar\":{\"outlinewidth\":0,\"ticks\":\"\"},\"colorscale\":[[0.0,\"#0d0887\"],[0.1111111111111111,\"#46039f\"],[0.2222222222222222,\"#7201a8\"],[0.3333333333333333,\"#9c179e\"],[0.4444444444444444,\"#bd3786\"],[0.5555555555555556,\"#d8576b\"],[0.6666666666666666,\"#ed7953\"],[0.7777777777777778,\"#fb9f3a\"],[0.8888888888888888,\"#fdca26\"],[1.0,\"#f0f921\"]],\"type\":\"surface\"}],\"table\":[{\"cells\":{\"fill\":{\"color\":\"#EBF0F8\"},\"line\":{\"color\":\"white\"}},\"header\":{\"fill\":{\"color\":\"#C8D4E3\"},\"line\":{\"color\":\"white\"}},\"type\":\"table\"}]},\"layout\":{\"annotationdefaults\":{\"arrowcolor\":\"#2a3f5f\",\"arrowhead\":0,\"arrowwidth\":1},\"autotypenumbers\":\"strict\",\"coloraxis\":{\"colorbar\":{\"outlinewidth\":0,\"ticks\":\"\"}},\"colorscale\":{\"diverging\":[[0,\"#8e0152\"],[0.1,\"#c51b7d\"],[0.2,\"#de77ae\"],[0.3,\"#f1b6da\"],[0.4,\"#fde0ef\"],[0.5,\"#f7f7f7\"],[0.6,\"#e6f5d0\"],[0.7,\"#b8e186\"],[0.8,\"#7fbc41\"],[0.9,\"#4d9221\"],[1,\"#276419\"]],\"sequential\":[[0.0,\"#0d0887\"],[0.1111111111111111,\"#46039f\"],[0.2222222222222222,\"#7201a8\"],[0.3333333333333333,\"#9c179e\"],[0.4444444444444444,\"#bd3786\"],[0.5555555555555556,\"#d8576b\"],[0.6666666666666666,\"#ed7953\"],[0.7777777777777778,\"#fb9f3a\"],[0.8888888888888888,\"#fdca26\"],[1.0,\"#f0f921\"]],\"sequentialminus\":[[0.0,\"#0d0887\"],[0.1111111111111111,\"#46039f\"],[0.2222222222222222,\"#7201a8\"],[0.3333333333333333,\"#9c179e\"],[0.4444444444444444,\"#bd3786\"],[0.5555555555555556,\"#d8576b\"],[0.6666666666666666,\"#ed7953\"],[0.7777777777777778,\"#fb9f3a\"],[0.8888888888888888,\"#fdca26\"],[1.0,\"#f0f921\"]]},\"colorway\":[\"#636efa\",\"#EF553B\",\"#00cc96\",\"#ab63fa\",\"#FFA15A\",\"#19d3f3\",\"#FF6692\",\"#B6E880\",\"#FF97FF\",\"#FECB52\"],\"font\":{\"color\":\"#2a3f5f\"},\"geo\":{\"bgcolor\":\"white\",\"lakecolor\":\"white\",\"landcolor\":\"#E5ECF6\",\"showlakes\":true,\"showland\":true,\"subunitcolor\":\"white\"},\"hoverlabel\":{\"align\":\"left\"},\"hovermode\":\"closest\",\"mapbox\":{\"style\":\"light\"},\"paper_bgcolor\":\"white\",\"plot_bgcolor\":\"#E5ECF6\",\"polar\":{\"angularaxis\":{\"gridcolor\":\"white\",\"linecolor\":\"white\",\"ticks\":\"\"},\"bgcolor\":\"#E5ECF6\",\"radialaxis\":{\"gridcolor\":\"white\",\"linecolor\":\"white\",\"ticks\":\"\"}},\"scene\":{\"xaxis\":{\"backgroundcolor\":\"#E5ECF6\",\"gridcolor\":\"white\",\"gridwidth\":2,\"linecolor\":\"white\",\"showbackground\":true,\"ticks\":\"\",\"zerolinecolor\":\"white\"},\"yaxis\":{\"backgroundcolor\":\"#E5ECF6\",\"gridcolor\":\"white\",\"gridwidth\":2,\"linecolor\":\"white\",\"showbackground\":true,\"ticks\":\"\",\"zerolinecolor\":\"white\"},\"zaxis\":{\"backgroundcolor\":\"#E5ECF6\",\"gridcolor\":\"white\",\"gridwidth\":2,\"linecolor\":\"white\",\"showbackground\":true,\"ticks\":\"\",\"zerolinecolor\":\"white\"}},\"shapedefaults\":{\"line\":{\"color\":\"#2a3f5f\"}},\"ternary\":{\"aaxis\":{\"gridcolor\":\"white\",\"linecolor\":\"white\",\"ticks\":\"\"},\"baxis\":{\"gridcolor\":\"white\",\"linecolor\":\"white\",\"ticks\":\"\"},\"bgcolor\":\"#E5ECF6\",\"caxis\":{\"gridcolor\":\"white\",\"linecolor\":\"white\",\"ticks\":\"\"}},\"title\":{\"x\":0.05},\"xaxis\":{\"automargin\":true,\"gridcolor\":\"white\",\"linecolor\":\"white\",\"ticks\":\"\",\"title\":{\"standoff\":15},\"zerolinecolor\":\"white\",\"zerolinewidth\":2},\"yaxis\":{\"automargin\":true,\"gridcolor\":\"white\",\"linecolor\":\"white\",\"ticks\":\"\",\"title\":{\"standoff\":15},\"zerolinecolor\":\"white\",\"zerolinewidth\":2}}},\"title\":{\"font\":{\"size\":20},\"text\":\"Relationship between Visit_Frequency and Recency\",\"x\":0.5},\"xaxis\":{\"anchor\":\"y\",\"domain\":[0.0,1.0],\"title\":{\"text\":\"Visit_Frequency\"}},\"yaxis\":{\"anchor\":\"x\",\"domain\":[0.0,1.0],\"title\":{\"text\":\"Recency\"}}},                        {\"responsive\": true}                    ).then(function(){\n",
       "                            \n",
       "var gd = document.getElementById('8f809f75-fde1-4e18-a02a-03e4bd0a37bc');\n",
       "var x = new MutationObserver(function (mutations, observer) {{\n",
       "        var display = window.getComputedStyle(gd).display;\n",
       "        if (!display || display === 'none') {{\n",
       "            console.log([gd, 'removed!']);\n",
       "            Plotly.purge(gd);\n",
       "            observer.disconnect();\n",
       "        }}\n",
       "}});\n",
       "\n",
       "// Listen for the removal of the full notebook cells\n",
       "var notebookContainer = gd.closest('#notebook-container');\n",
       "if (notebookContainer) {{\n",
       "    x.observe(notebookContainer, {childList: true});\n",
       "}}\n",
       "\n",
       "// Listen for the clearing of the current output cell\n",
       "var outputEl = gd.closest('.output');\n",
       "if (outputEl) {{\n",
       "    x.observe(outputEl, {childList: true});\n",
       "}}\n",
       "\n",
       "                        })                };                });            </script>        </div>"
      ]
     },
     "metadata": {},
     "output_type": "display_data"
    }
   ],
   "source": [
    "fig = px.scatter(RFM, x=\"Visit_Frequency\", y=\"Recency\", color='RF_Segment',\n",
    "                 labels={\"math score\": \"Math Score\",\n",
    "                         \"writing score\": \"Writing Score\"})\n",
    "fig.update_layout(title_text='Relationship between Visit_Frequency and Recency',\n",
    "                  title_x=0.5, title_font=dict(size=20))\n",
    "fig.show()"
   ]
  },
  {
   "cell_type": "markdown",
   "metadata": {
    "papermill": {
     "duration": 0.070736,
     "end_time": "2022-02-17T21:27:38.607615",
     "exception": false,
     "start_time": "2022-02-17T21:27:38.536879",
     "status": "completed"
    },
    "tags": []
   },
   "source": [
    "**As you can see the graph above, when the visit frequency is low and the recency is high, customers are most likely to segmented into hibernating segment. In contrast, when they are visiting our store frequently, and their recency is low, they are most likely to segmented into champions segment which is the best segment for all of the customer segments.**"
   ]
  },
  {
   "cell_type": "markdown",
   "metadata": {
    "papermill": {
     "duration": 0.070769,
     "end_time": "2022-02-17T21:27:38.749949",
     "exception": false,
     "start_time": "2022-02-17T21:27:38.679180",
     "status": "completed"
    },
    "tags": []
   },
   "source": [
    "# References"
   ]
  },
  {
   "cell_type": "markdown",
   "metadata": {
    "papermill": {
     "duration": 0.070784,
     "end_time": "2022-02-17T21:27:38.891673",
     "exception": false,
     "start_time": "2022-02-17T21:27:38.820889",
     "status": "completed"
    },
    "tags": []
   },
   "source": [
    "[1] https://www.datacamp.com/community/tutorials/introduction-customer-segmentation-python\n",
    "\n",
    "[2] https://guillaume-martin.github.io/rfm-segmentation-with-python.html\n",
    "\n",
    "[3] https://towardsdatascience.com/association-rules-2-aa9a77241654"
   ]
  }
 ],
 "metadata": {
  "kernelspec": {
   "display_name": "Python 3",
   "language": "python",
   "name": "python3"
  },
  "language_info": {
   "codemirror_mode": {
    "name": "ipython",
    "version": 3
   },
   "file_extension": ".py",
   "mimetype": "text/x-python",
   "name": "python",
   "nbconvert_exporter": "python",
   "pygments_lexer": "ipython3",
   "version": "3.8.3"
  },
  "papermill": {
   "default_parameters": {},
   "duration": 41.380455,
   "end_time": "2022-02-17T21:27:39.779369",
   "environment_variables": {},
   "exception": null,
   "input_path": "__notebook__.ipynb",
   "output_path": "__notebook__.ipynb",
   "parameters": {},
   "start_time": "2022-02-17T21:26:58.398914",
   "version": "2.3.3"
  }
 },
 "nbformat": 4,
 "nbformat_minor": 5
}
